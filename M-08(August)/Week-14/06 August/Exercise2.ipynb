{
  "nbformat": 4,
  "nbformat_minor": 0,
  "metadata": {
    "colab": {
      "provenance": []
    },
    "kernelspec": {
      "name": "python3",
      "display_name": "Python 3"
    },
    "language_info": {
      "name": "python"
    }
  },
  "cells": [
    {
      "cell_type": "code",
      "execution_count": 1,
      "metadata": {
        "colab": {
          "base_uri": "https://localhost:8080/",
          "height": 951
        },
        "id": "BMITAxFrZAti",
        "outputId": "fdfd7b24-60f1-47ef-f093-bfb3eae62a30"
      },
      "outputs": [
        {
          "output_type": "stream",
          "name": "stdout",
          "text": [
            "\u001b[33m\r0% [Working]\u001b[0m\r            \rGet:1 http://security.ubuntu.com/ubuntu jammy-security InRelease [129 kB]\n",
            "\u001b[33m\r0% [Connecting to archive.ubuntu.com (91.189.91.83)] [1 InRelease 14.2 kB/129 k\u001b[0m\r                                                                               \rGet:2 https://cloud.r-project.org/bin/linux/ubuntu jammy-cran40/ InRelease [3,626 B]\n",
            "\u001b[33m\r0% [Connecting to archive.ubuntu.com (91.189.91.83)] [1 InRelease 14.2 kB/129 k\u001b[0m\u001b[33m\r0% [Connecting to archive.ubuntu.com (91.189.91.83)] [1 InRelease 41.7 kB/129 k\u001b[0m\r                                                                               \rGet:3 https://developer.download.nvidia.com/compute/cuda/repos/ubuntu2204/x86_64  InRelease [1,581 B]\n",
            "Hit:4 http://archive.ubuntu.com/ubuntu jammy InRelease\n",
            "Get:5 http://archive.ubuntu.com/ubuntu jammy-updates InRelease [128 kB]\n",
            "Ign:6 https://r2u.stat.illinois.edu/ubuntu jammy InRelease\n",
            "Get:7 https://r2u.stat.illinois.edu/ubuntu jammy Release [5,713 B]\n",
            "Get:8 https://r2u.stat.illinois.edu/ubuntu jammy Release.gpg [793 B]\n",
            "Hit:9 http://archive.ubuntu.com/ubuntu jammy-backports InRelease\n",
            "Hit:10 https://ppa.launchpadcontent.net/deadsnakes/ppa/ubuntu jammy InRelease\n",
            "Hit:11 https://ppa.launchpadcontent.net/graphics-drivers/ppa/ubuntu jammy InRelease\n",
            "Hit:12 https://ppa.launchpadcontent.net/ubuntugis/ppa/ubuntu jammy InRelease\n",
            "Get:13 https://developer.download.nvidia.com/compute/cuda/repos/ubuntu2204/x86_64  Packages [920 kB]\n",
            "Get:14 http://security.ubuntu.com/ubuntu jammy-security/universe amd64 Packages [1,132 kB]\n",
            "Get:15 https://r2u.stat.illinois.edu/ubuntu jammy/main amd64 Packages [2,552 kB]\n",
            "Get:16 http://security.ubuntu.com/ubuntu jammy-security/main amd64 Packages [2,119 kB]\n",
            "Get:17 http://archive.ubuntu.com/ubuntu jammy-updates/multiverse amd64 Packages [51.8 kB]\n",
            "Get:18 https://r2u.stat.illinois.edu/ubuntu jammy/main all Packages [8,218 kB]\n",
            "Get:19 http://archive.ubuntu.com/ubuntu jammy-updates/universe amd64 Packages [1,422 kB]\n",
            "Get:20 http://archive.ubuntu.com/ubuntu jammy-updates/main amd64 Packages [2,396 kB]\n",
            "Fetched 19.1 MB in 5s (4,085 kB/s)\n",
            "Reading package lists... Done\n",
            "Building dependency tree... Done\n",
            "Reading state information... Done\n",
            "49 packages can be upgraded. Run 'apt list --upgradable' to see them.\n",
            "\u001b[1;33mW: \u001b[0mSkipping acquire of configured file 'main/source/Sources' as repository 'https://r2u.stat.illinois.edu/ubuntu jammy InRelease' does not seem to provide it (sources.list entry misspelt?)\u001b[0m\n",
            "tar: spark-3.2.1-bin-hadoop3.2.tgz: Cannot open: No such file or directory\n",
            "tar: Error is not recoverable: exiting now\n",
            "Collecting pyspark\n",
            "  Downloading pyspark-3.5.1.tar.gz (317.0 MB)\n",
            "\u001b[2K     \u001b[90m━━━━━━━━━━━━━━━━━━━━━━━━━━━━━━━━━━━━━━━━\u001b[0m \u001b[32m317.0/317.0 MB\u001b[0m \u001b[31m4.0 MB/s\u001b[0m eta \u001b[36m0:00:00\u001b[0m\n",
            "\u001b[?25h  Preparing metadata (setup.py) ... \u001b[?25l\u001b[?25hdone\n",
            "Requirement already satisfied: py4j==0.10.9.7 in /usr/local/lib/python3.10/dist-packages (from pyspark) (0.10.9.7)\n",
            "Building wheels for collected packages: pyspark\n",
            "  Building wheel for pyspark (setup.py) ... \u001b[?25l\u001b[?25hdone\n",
            "  Created wheel for pyspark: filename=pyspark-3.5.1-py2.py3-none-any.whl size=317488490 sha256=f52d1eb344eec3dcdc23763db92c83be85a05050f52c12097b4242ebbdbb416e\n",
            "  Stored in directory: /root/.cache/pip/wheels/80/1d/60/2c256ed38dddce2fdd93be545214a63e02fbd8d74fb0b7f3a6\n",
            "Successfully built pyspark\n",
            "Installing collected packages: pyspark\n",
            "Successfully installed pyspark-3.5.1\n",
            "Requirement already satisfied: py4j in /usr/local/lib/python3.10/dist-packages (0.10.9.7)\n"
          ]
        },
        {
          "output_type": "execute_result",
          "data": {
            "text/plain": [
              "<pyspark.sql.session.SparkSession at 0x78c394757cd0>"
            ],
            "text/html": [
              "\n",
              "            <div>\n",
              "                <p><b>SparkSession - in-memory</b></p>\n",
              "                \n",
              "        <div>\n",
              "            <p><b>SparkContext</b></p>\n",
              "\n",
              "            <p><a href=\"http://068fe00164b1:4040\">Spark UI</a></p>\n",
              "\n",
              "            <dl>\n",
              "              <dt>Version</dt>\n",
              "                <dd><code>v3.5.1</code></dd>\n",
              "              <dt>Master</dt>\n",
              "                <dd><code>local[*]</code></dd>\n",
              "              <dt>AppName</dt>\n",
              "                <dd><code>Our First Spark Example</code></dd>\n",
              "            </dl>\n",
              "        </div>\n",
              "        \n",
              "            </div>\n",
              "        "
            ]
          },
          "metadata": {},
          "execution_count": 1
        }
      ],
      "source": [
        "!sudo apt update\n",
        "!apt-get install openjdk-8-jdk-headless -qq > /dev/null\n",
        "#Check this site for the latest download link https://www.apache.org/dyn/closer.lua/spark/spark-3.2.1/spark-3.2.1-bin-hadoop3.2.tgz\n",
        "!wget -q https://dlcdn.apache.org/spark/spark-3.2.1/spark-3.2.1-bin-hadoop3.2.tgz\n",
        "!tar xf spark-3.2.1-bin-hadoop3.2.tgz\n",
        "!pip install -q findspark\n",
        "!pip install pyspark\n",
        "!pip install py4j\n",
        "\n",
        "import os\n",
        "import sys\n",
        "# os.environ[\"JAVA_HOME\"] = \"/usr/lib/jvm/java-8-openjdk-amd64\"\n",
        "# os.environ[\"SPARK_HOME\"] = \"/content/spark-3.2.1-bin-hadoop3.2\"\n",
        "\n",
        "\n",
        "import findspark\n",
        "findspark.init()\n",
        "findspark.find()\n",
        "\n",
        "import pyspark\n",
        "\n",
        "from pyspark.sql import DataFrame, SparkSession\n",
        "from typing import List\n",
        "import pyspark.sql.types as T\n",
        "import pyspark.sql.functions as F\n",
        "\n",
        "spark= SparkSession \\\n",
        "       .builder \\\n",
        "       .appName(\"Our First Spark Example\") \\\n",
        "       .getOrCreate()\n",
        "\n",
        "spark"
      ]
    },
    {
      "cell_type": "code",
      "source": [
        "from pyspark import SparkFiles\n",
        "from pyspark.sql import SparkSession\n",
        "import pyspark.sql.types as T\n",
        "import pyspark.sql.functions as F\n",
        "\n",
        "# Initialize SparkSession\n",
        "spark = SparkSession.builder.appName(\"Load and Separate Columns\").getOrCreate()\n",
        "\n",
        "# Define the URL of the data\n",
        "url = \"https://raw.githubusercontent.com/justmarkham/DAT8/master/data/u.user\"  # Replace with the actual URL\n",
        "\n",
        "# Add the file to SparkFiles\n",
        "spark.sparkContext.addFile(url)\n",
        "\n",
        "# Read the data from SparkFiles as a single column\n",
        "user = spark.read.text(\"file://\" + SparkFiles.get(\"u.user\"))  # Replace with the actual filename\n",
        "\n",
        "# Split the column into separate columns\n",
        "split_col = F.split(user['value'], '\\|')\n",
        "user = user.withColumn('user_id', split_col.getItem(0)) \\\n",
        "    .withColumn('age', split_col.getItem(1)) \\\n",
        "    .withColumn('gender', split_col.getItem(2)) \\\n",
        "    .withColumn('occupation', split_col.getItem(3)) \\\n",
        "    .withColumn('zip_code', split_col.getItem(4)) \\\n",
        "    .drop('value')"
      ],
      "metadata": {
        "id": "kdX8CuIpZkRF"
      },
      "execution_count": 28,
      "outputs": []
    },
    {
      "cell_type": "markdown",
      "source": [
        "1. See the first 25 entries"
      ],
      "metadata": {
        "id": "iuWjpUCJeMvE"
      }
    },
    {
      "cell_type": "code",
      "source": [
        "user.show(25)"
      ],
      "metadata": {
        "colab": {
          "base_uri": "https://localhost:8080/"
        },
        "id": "fLNpFHhrefYu",
        "outputId": "576f099e-031b-4986-f04e-4a0fac996aef"
      },
      "execution_count": 29,
      "outputs": [
        {
          "output_type": "stream",
          "name": "stdout",
          "text": [
            "+-------+---+------+-------------+--------+\n",
            "|user_id|age|gender|   occupation|zip_code|\n",
            "+-------+---+------+-------------+--------+\n",
            "|user_id|age|gender|   occupation|zip_code|\n",
            "|      1| 24|     M|   technician|   85711|\n",
            "|      2| 53|     F|        other|   94043|\n",
            "|      3| 23|     M|       writer|   32067|\n",
            "|      4| 24|     M|   technician|   43537|\n",
            "|      5| 33|     F|        other|   15213|\n",
            "|      6| 42|     M|    executive|   98101|\n",
            "|      7| 57|     M|administrator|   91344|\n",
            "|      8| 36|     M|administrator|   05201|\n",
            "|      9| 29|     M|      student|   01002|\n",
            "|     10| 53|     M|       lawyer|   90703|\n",
            "|     11| 39|     F|        other|   30329|\n",
            "|     12| 28|     F|        other|   06405|\n",
            "|     13| 47|     M|     educator|   29206|\n",
            "|     14| 45|     M|    scientist|   55106|\n",
            "|     15| 49|     F|     educator|   97301|\n",
            "|     16| 21|     M|entertainment|   10309|\n",
            "|     17| 30|     M|   programmer|   06355|\n",
            "|     18| 35|     F|        other|   37212|\n",
            "|     19| 40|     M|    librarian|   02138|\n",
            "|     20| 42|     F|    homemaker|   95660|\n",
            "|     21| 26|     M|       writer|   30068|\n",
            "|     22| 25|     M|       writer|   40206|\n",
            "|     23| 30|     F|       artist|   48197|\n",
            "|     24| 21|     F|       artist|   94533|\n",
            "+-------+---+------+-------------+--------+\n",
            "only showing top 25 rows\n",
            "\n"
          ]
        }
      ]
    },
    {
      "cell_type": "markdown",
      "source": [
        "2. See the last 10 entries"
      ],
      "metadata": {
        "id": "ScmV6Kb9fHth"
      }
    },
    {
      "cell_type": "code",
      "source": [
        "user.tail(10)"
      ],
      "metadata": {
        "colab": {
          "base_uri": "https://localhost:8080/"
        },
        "id": "dPIX40BqfLaI",
        "outputId": "32f7f84e-697b-40e0-c9ea-115c7c61571a"
      },
      "execution_count": 30,
      "outputs": [
        {
          "output_type": "execute_result",
          "data": {
            "text/plain": [
              "[Row(user_id='934', age='61', gender='M', occupation='engineer', zip_code='22902'),\n",
              " Row(user_id='935', age='42', gender='M', occupation='doctor', zip_code='66221'),\n",
              " Row(user_id='936', age='24', gender='M', occupation='other', zip_code='32789'),\n",
              " Row(user_id='937', age='48', gender='M', occupation='educator', zip_code='98072'),\n",
              " Row(user_id='938', age='38', gender='F', occupation='technician', zip_code='55038'),\n",
              " Row(user_id='939', age='26', gender='F', occupation='student', zip_code='33319'),\n",
              " Row(user_id='940', age='32', gender='M', occupation='administrator', zip_code='02215'),\n",
              " Row(user_id='941', age='20', gender='M', occupation='student', zip_code='97229'),\n",
              " Row(user_id='942', age='48', gender='F', occupation='librarian', zip_code='78209'),\n",
              " Row(user_id='943', age='22', gender='M', occupation='student', zip_code='77841')]"
            ]
          },
          "metadata": {},
          "execution_count": 30
        }
      ]
    },
    {
      "cell_type": "markdown",
      "source": [
        "3. What is the number of observations in the dataset?"
      ],
      "metadata": {
        "id": "-OskJDD4fVf9"
      }
    },
    {
      "cell_type": "code",
      "source": [
        "user.printSchema()"
      ],
      "metadata": {
        "colab": {
          "base_uri": "https://localhost:8080/"
        },
        "id": "jjZVOBOHfYqj",
        "outputId": "730ca265-0dd9-4073-f319-cb794e09fe63"
      },
      "execution_count": 31,
      "outputs": [
        {
          "output_type": "stream",
          "name": "stdout",
          "text": [
            "root\n",
            " |-- user_id: string (nullable = true)\n",
            " |-- age: string (nullable = true)\n",
            " |-- gender: string (nullable = true)\n",
            " |-- occupation: string (nullable = true)\n",
            " |-- zip_code: string (nullable = true)\n",
            "\n"
          ]
        }
      ]
    },
    {
      "cell_type": "code",
      "source": [
        "user.count()"
      ],
      "metadata": {
        "colab": {
          "base_uri": "https://localhost:8080/"
        },
        "id": "eBPT8RdYfjSA",
        "outputId": "cea339b2-ee2d-472e-f2d9-30d6e78db3d5"
      },
      "execution_count": 32,
      "outputs": [
        {
          "output_type": "execute_result",
          "data": {
            "text/plain": [
              "944"
            ]
          },
          "metadata": {},
          "execution_count": 32
        }
      ]
    },
    {
      "cell_type": "markdown",
      "source": [
        "4. What is the number of columns in the dataset?"
      ],
      "metadata": {
        "id": "BvGdMUtYfnxa"
      }
    },
    {
      "cell_type": "code",
      "source": [
        "len(user.columns)"
      ],
      "metadata": {
        "colab": {
          "base_uri": "https://localhost:8080/"
        },
        "id": "Euh-PEmHfq-E",
        "outputId": "9f75f99a-ef25-4f52-f8ac-1ac6e70772c8"
      },
      "execution_count": 33,
      "outputs": [
        {
          "output_type": "execute_result",
          "data": {
            "text/plain": [
              "5"
            ]
          },
          "metadata": {},
          "execution_count": 33
        }
      ]
    },
    {
      "cell_type": "markdown",
      "source": [
        "5. Print the name of all the columns."
      ],
      "metadata": {
        "id": "FBMxP7dof5Cc"
      }
    },
    {
      "cell_type": "code",
      "source": [
        "user.columns"
      ],
      "metadata": {
        "colab": {
          "base_uri": "https://localhost:8080/"
        },
        "id": "Zj70cqA6f6LW",
        "outputId": "b68193b1-0005-4357-816d-8bf8d7e2f14a"
      },
      "execution_count": 34,
      "outputs": [
        {
          "output_type": "execute_result",
          "data": {
            "text/plain": [
              "['user_id', 'age', 'gender', 'occupation', 'zip_code']"
            ]
          },
          "metadata": {},
          "execution_count": 34
        }
      ]
    },
    {
      "cell_type": "markdown",
      "source": [
        "6. How is the dataset indexed?"
      ],
      "metadata": {
        "id": "A8Hf8ErKgXpy"
      }
    },
    {
      "cell_type": "code",
      "source": [
        "# By default, Spark DataFrames are not indexed in the same way as Pandas DataFrames.\n",
        "# Spark DataFrames are distributed collections of data, and they don't have an explicit index.\n",
        "\n",
        "from pyspark.sql.functions import monotonically_increasing_id\n",
        "df = user.withColumn(\"id\", monotonically_increasing_id())\n",
        "df.show(5)"
      ],
      "metadata": {
        "colab": {
          "base_uri": "https://localhost:8080/"
        },
        "id": "eHY06SBGgZN0",
        "outputId": "d7c9636d-446f-49c7-e9c6-c117e77ab048"
      },
      "execution_count": 35,
      "outputs": [
        {
          "output_type": "stream",
          "name": "stdout",
          "text": [
            "+-------+---+------+----------+--------+---+\n",
            "|user_id|age|gender|occupation|zip_code| id|\n",
            "+-------+---+------+----------+--------+---+\n",
            "|user_id|age|gender|occupation|zip_code|  0|\n",
            "|      1| 24|     M|technician|   85711|  1|\n",
            "|      2| 53|     F|     other|   94043|  2|\n",
            "|      3| 23|     M|    writer|   32067|  3|\n",
            "|      4| 24|     M|technician|   43537|  4|\n",
            "+-------+---+------+----------+--------+---+\n",
            "only showing top 5 rows\n",
            "\n"
          ]
        }
      ]
    },
    {
      "cell_type": "markdown",
      "source": [
        "7. What is the data type of each column?"
      ],
      "metadata": {
        "id": "TTgOwkBFgy74"
      }
    },
    {
      "cell_type": "code",
      "source": [
        "user.printSchema()"
      ],
      "metadata": {
        "colab": {
          "base_uri": "https://localhost:8080/"
        },
        "id": "_Jc9Kj7Lg2iV",
        "outputId": "0a6c762d-9881-4e5c-f8ee-950593b15443"
      },
      "execution_count": 36,
      "outputs": [
        {
          "output_type": "stream",
          "name": "stdout",
          "text": [
            "root\n",
            " |-- user_id: string (nullable = true)\n",
            " |-- age: string (nullable = true)\n",
            " |-- gender: string (nullable = true)\n",
            " |-- occupation: string (nullable = true)\n",
            " |-- zip_code: string (nullable = true)\n",
            "\n"
          ]
        }
      ]
    },
    {
      "cell_type": "markdown",
      "source": [
        "8.  Print only the occupation column"
      ],
      "metadata": {
        "id": "DfpqN3hhg9l8"
      }
    },
    {
      "cell_type": "code",
      "source": [
        "user.select(\"occupation\").show()"
      ],
      "metadata": {
        "colab": {
          "base_uri": "https://localhost:8080/"
        },
        "id": "KSxW5Cefq7w_",
        "outputId": "b519b5a6-e932-46bb-a67f-e6a2f42f72c4"
      },
      "execution_count": 37,
      "outputs": [
        {
          "output_type": "stream",
          "name": "stdout",
          "text": [
            "+-------------+\n",
            "|   occupation|\n",
            "+-------------+\n",
            "|   occupation|\n",
            "|   technician|\n",
            "|        other|\n",
            "|       writer|\n",
            "|   technician|\n",
            "|        other|\n",
            "|    executive|\n",
            "|administrator|\n",
            "|administrator|\n",
            "|      student|\n",
            "|       lawyer|\n",
            "|        other|\n",
            "|        other|\n",
            "|     educator|\n",
            "|    scientist|\n",
            "|     educator|\n",
            "|entertainment|\n",
            "|   programmer|\n",
            "|        other|\n",
            "|    librarian|\n",
            "+-------------+\n",
            "only showing top 20 rows\n",
            "\n"
          ]
        }
      ]
    },
    {
      "cell_type": "markdown",
      "source": [
        "9. How many different occupations are in this dataset?"
      ],
      "metadata": {
        "id": "Q_Ka1D9_rG8N"
      }
    },
    {
      "cell_type": "code",
      "source": [
        "user.select(\"occupation\").distinct().count()"
      ],
      "metadata": {
        "colab": {
          "base_uri": "https://localhost:8080/"
        },
        "id": "TCkXDQWdrSBs",
        "outputId": "ae48e832-153e-48e8-880d-5d6ccd6b11fd"
      },
      "execution_count": 39,
      "outputs": [
        {
          "output_type": "execute_result",
          "data": {
            "text/plain": [
              "22"
            ]
          },
          "metadata": {},
          "execution_count": 39
        }
      ]
    },
    {
      "cell_type": "markdown",
      "source": [
        "10. What is the most frequent occupation?"
      ],
      "metadata": {
        "id": "X7XlaEO8rjDn"
      }
    },
    {
      "cell_type": "code",
      "source": [
        "user.groupBy(\"occupation\").count().orderBy(\"count\", ascending =False).show(1)"
      ],
      "metadata": {
        "colab": {
          "base_uri": "https://localhost:8080/"
        },
        "id": "4_JsuGhdrmz5",
        "outputId": "7d7fbc07-2c93-47dd-fd10-af4b3b76e16f"
      },
      "execution_count": 40,
      "outputs": [
        {
          "output_type": "stream",
          "name": "stdout",
          "text": [
            "+----------+-----+\n",
            "|occupation|count|\n",
            "+----------+-----+\n",
            "|   student|  196|\n",
            "+----------+-----+\n",
            "only showing top 1 row\n",
            "\n"
          ]
        }
      ]
    },
    {
      "cell_type": "markdown",
      "source": [
        "11. Summarize the DataFrame."
      ],
      "metadata": {
        "id": "71ANp-pXr8g0"
      }
    },
    {
      "cell_type": "code",
      "source": [
        "user.describe().show()"
      ],
      "metadata": {
        "colab": {
          "base_uri": "https://localhost:8080/"
        },
        "id": "0723N2SWsAkA",
        "outputId": "22c79e58-d184-4a71-b630-16dffca8d09b"
      },
      "execution_count": 41,
      "outputs": [
        {
          "output_type": "stream",
          "name": "stdout",
          "text": [
            "+-------+-----------------+-----------------+------+-------------+------------------+\n",
            "|summary|          user_id|              age|gender|   occupation|          zip_code|\n",
            "+-------+-----------------+-----------------+------+-------------+------------------+\n",
            "|  count|              944|              944|   944|          944|               944|\n",
            "|   mean|            472.0|34.05196182396607|  NULL|         NULL| 50868.78810810811|\n",
            "| stddev|272.3649512449549|12.19273973305903|  NULL|         NULL|30891.373254138176|\n",
            "|    min|                1|               10|     F|administrator|             00000|\n",
            "|    max|          user_id|              age|gender|       writer|          zip_code|\n",
            "+-------+-----------------+-----------------+------+-------------+------------------+\n",
            "\n"
          ]
        }
      ]
    },
    {
      "cell_type": "markdown",
      "source": [
        "12 Summarize all the columns"
      ],
      "metadata": {
        "id": "K_WrEzo9sDNO"
      }
    },
    {
      "cell_type": "code",
      "source": [
        "user.select(\"user_id\",\"age\",\"gender\",\"occupation\",\"zip_code\").describe().show()"
      ],
      "metadata": {
        "colab": {
          "base_uri": "https://localhost:8080/"
        },
        "id": "tvCZI7VrsIK9",
        "outputId": "2c5959c9-739d-408c-eebb-5da086103ed9"
      },
      "execution_count": 42,
      "outputs": [
        {
          "output_type": "stream",
          "name": "stdout",
          "text": [
            "+-------+-----------------+-----------------+------+-------------+------------------+\n",
            "|summary|          user_id|              age|gender|   occupation|          zip_code|\n",
            "+-------+-----------------+-----------------+------+-------------+------------------+\n",
            "|  count|              944|              944|   944|          944|               944|\n",
            "|   mean|            472.0|34.05196182396607|  NULL|         NULL| 50868.78810810811|\n",
            "| stddev|272.3649512449549|12.19273973305903|  NULL|         NULL|30891.373254138176|\n",
            "|    min|                1|               10|     F|administrator|             00000|\n",
            "|    max|          user_id|              age|gender|       writer|          zip_code|\n",
            "+-------+-----------------+-----------------+------+-------------+------------------+\n",
            "\n"
          ]
        }
      ]
    },
    {
      "cell_type": "markdown",
      "source": [
        "13 Summarize only the occupation column"
      ],
      "metadata": {
        "id": "iI8DqWkGsMHH"
      }
    },
    {
      "cell_type": "code",
      "source": [
        "user.select(\"occupation\").describe().show()"
      ],
      "metadata": {
        "colab": {
          "base_uri": "https://localhost:8080/"
        },
        "id": "xFss_D1csPAM",
        "outputId": "175c5d22-86b3-467c-e0ab-3560c367f0c6"
      },
      "execution_count": 43,
      "outputs": [
        {
          "output_type": "stream",
          "name": "stdout",
          "text": [
            "+-------+-------------+\n",
            "|summary|   occupation|\n",
            "+-------+-------------+\n",
            "|  count|          944|\n",
            "|   mean|         NULL|\n",
            "| stddev|         NULL|\n",
            "|    min|administrator|\n",
            "|    max|       writer|\n",
            "+-------+-------------+\n",
            "\n"
          ]
        }
      ]
    },
    {
      "cell_type": "markdown",
      "source": [
        "14. What is the mean age of users?"
      ],
      "metadata": {
        "id": "VOEo-IEOsThd"
      }
    },
    {
      "cell_type": "code",
      "source": [
        "user.select(\"age\").describe().show()"
      ],
      "metadata": {
        "colab": {
          "base_uri": "https://localhost:8080/"
        },
        "id": "1Rq8fkGvtPmE",
        "outputId": "c3fccfaf-7a1a-4ce3-bf4b-0256a06a350d"
      },
      "execution_count": 44,
      "outputs": [
        {
          "output_type": "stream",
          "name": "stdout",
          "text": [
            "+-------+-----------------+\n",
            "|summary|              age|\n",
            "+-------+-----------------+\n",
            "|  count|              944|\n",
            "|   mean|34.05196182396607|\n",
            "| stddev|12.19273973305903|\n",
            "|    min|               10|\n",
            "|    max|              age|\n",
            "+-------+-----------------+\n",
            "\n"
          ]
        }
      ]
    },
    {
      "cell_type": "markdown",
      "source": [
        "15. What is the age with least occurrence?"
      ],
      "metadata": {
        "id": "OFgcB6_ytsk3"
      }
    },
    {
      "cell_type": "code",
      "source": [
        "user.groupBy(\"age\").count().orderBy(\"count\", ascending =True).show(1)"
      ],
      "metadata": {
        "colab": {
          "base_uri": "https://localhost:8080/"
        },
        "id": "cA857TJ_txNk",
        "outputId": "f10a9846-f506-4d94-9ce0-9d4437281d5f"
      },
      "execution_count": 45,
      "outputs": [
        {
          "output_type": "stream",
          "name": "stdout",
          "text": [
            "+---+-----+\n",
            "|age|count|\n",
            "+---+-----+\n",
            "| 11|    1|\n",
            "+---+-----+\n",
            "only showing top 1 row\n",
            "\n"
          ]
        }
      ]
    }
  ]
}