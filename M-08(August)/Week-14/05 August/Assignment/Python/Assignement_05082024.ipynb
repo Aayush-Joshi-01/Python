{
  "cells": [
    {
      "cell_type": "markdown",
      "metadata": {
        "id": "NMwmk6QwO-f5"
      },
      "source": [
        "# Assignment in python string​\n",
        "\n",
        " Calculate the sum and average of the digits present in a string​\n",
        "\n",
        " input : PYnative29@8#496\n",
        "\n",
        " output :  sum is 38 and average is  6.33333"
      ]
    },
    {
      "cell_type": "code",
      "execution_count": 1,
      "metadata": {
        "id": "vcp90Cz7OyrR"
      },
      "outputs": [],
      "source": [
        "input_str = 'PYnative29@8#496'"
      ]
    },
    {
      "cell_type": "code",
      "execution_count": 2,
      "metadata": {
        "id": "H1yldYugPE8n"
      },
      "outputs": [],
      "source": [
        "def calculate_sum_and_average(input_str):\n",
        "  sum = 0\n",
        "  count = 0\n",
        "  for char in input_str:\n",
        "    if char.isdigit():\n",
        "      sum += int(char)\n",
        "      count += 1\n",
        "  return sum, sum/count"
      ]
    },
    {
      "cell_type": "code",
      "execution_count": 3,
      "metadata": {
        "colab": {
          "base_uri": "https://localhost:8080/"
        },
        "id": "1ztSxaYcPc4j",
        "outputId": "afa4f53c-6552-418f-b96c-cd1d692deb48"
      },
      "outputs": [
        {
          "data": {
            "text/plain": [
              "(38, 6.333333333333333)"
            ]
          },
          "execution_count": 3,
          "metadata": {},
          "output_type": "execute_result"
        }
      ],
      "source": [
        "calculate_sum_and_average(input_str)"
      ]
    },
    {
      "cell_type": "markdown",
      "metadata": {
        "id": "XCUWEHNQPw4f"
      },
      "source": [
        "# Assignment in python Array\n",
        "\n",
        "Program to find the minimum and maximum element of an array\n",
        "\n",
        " input : array =[12100,423,342,900,1011]\n",
        "\n",
        " output :  342,12100"
      ]
    },
    {
      "cell_type": "code",
      "execution_count": 4,
      "metadata": {
        "id": "Poz_RiXsPgkS"
      },
      "outputs": [],
      "source": [
        "input_arr = [12100,423,342,900,1011]"
      ]
    },
    {
      "cell_type": "code",
      "execution_count": 5,
      "metadata": {
        "id": "nkF4hXwOP6Aj"
      },
      "outputs": [],
      "source": [
        "def get_min_max(arr):\n",
        "  return min(arr), max(arr)"
      ]
    },
    {
      "cell_type": "code",
      "execution_count": 6,
      "metadata": {
        "colab": {
          "base_uri": "https://localhost:8080/"
        },
        "id": "21lkRIcXP8jK",
        "outputId": "f0adeb1e-de70-4436-a526-80ab4f328804"
      },
      "outputs": [
        {
          "data": {
            "text/plain": [
              "(342, 12100)"
            ]
          },
          "execution_count": 6,
          "metadata": {},
          "output_type": "execute_result"
        }
      ],
      "source": [
        "get_min_max(input_arr)"
      ]
    },
    {
      "cell_type": "markdown",
      "metadata": {
        "id": "2URBMimjQC94"
      },
      "source": [
        "# Assignment in python Function\n",
        "\n",
        "Write a function in python to return count of  word in sentence as well position\n",
        "\n",
        "Sentence =\"hello Hi Hello\"\n",
        "\n",
        "Word =\"hello\"\n",
        "\n",
        "Output :\n",
        "\n",
        "Hello count is 2 and occurred at position at 0,2"
      ]
    },
    {
      "cell_type": "code",
      "execution_count": 7,
      "metadata": {
        "id": "jiYkl68sP96G"
      },
      "outputs": [],
      "source": [
        "sentence = \"hello Hi Hello\"\n",
        "word = \"hello\""
      ]
    },
    {
      "cell_type": "code",
      "execution_count": 8,
      "metadata": {
        "id": "Z57f1lusQcsn"
      },
      "outputs": [],
      "source": [
        "def count_word(sentence, word):\n",
        "  count = 0\n",
        "  positions = []\n",
        "  words = sentence.lower().split()\n",
        "  for i, w in enumerate(words):\n",
        "    if w == word.lower():\n",
        "      count += 1\n",
        "      positions.append(i)\n",
        "  return count, positions"
      ]
    },
    {
      "cell_type": "code",
      "execution_count": 9,
      "metadata": {
        "colab": {
          "base_uri": "https://localhost:8080/"
        },
        "id": "-mPqpcW6RCO8",
        "outputId": "0b40e39f-637a-4230-aba7-065aacfbc9c2"
      },
      "outputs": [
        {
          "data": {
            "text/plain": [
              "(2, [0, 2])"
            ]
          },
          "execution_count": 9,
          "metadata": {},
          "output_type": "execute_result"
        }
      ],
      "source": [
        "count_word(sentence, word)"
      ]
    },
    {
      "cell_type": "markdown",
      "metadata": {
        "id": "ZKfQxsLIRPEA"
      },
      "source": [
        "Assignment: File Handling and Exception Handling in Python\n",
        "\n",
        "Write a Python function named read_file that takes one parameter, filename. The function should attempt to open the file with the given filename and read its contents. If the file does not exist, it should return \"File not found\". If the file exists but an error occurs while reading the file, it should return \"Error reading file\".\n",
        "\n",
        "\n",
        "\n",
        "\n",
        "\n",
        "Tasks:\n",
        "\n",
        "Complete the read_file function.\n",
        "\n",
        "Test the function with different filenames, including a case where the file does not exist and a case where the file exists but cannot be read (e.g., a binary file).\n",
        "\n",
        "\n",
        "\n",
        "Remember, the goal of this assignment is to practice handling exceptions using try and except blocks in Python, with a focus on file handling."
      ]
    },
    {
      "cell_type": "code",
      "execution_count": 10,
      "metadata": {
        "colab": {
          "base_uri": "https://localhost:8080/"
        },
        "id": "_jl9-oHGRK6P",
        "outputId": "0e14f448-f539-4651-e69c-da330442c56e"
      },
      "outputs": [
        {
          "name": "stdout",
          "output_type": "stream",
          "text": [
            "Hello World\n",
            "Hi!\n",
            "File not found\n",
            "Error reading file\n"
          ]
        }
      ],
      "source": [
        "def read_file(filename):\n",
        "  try:\n",
        "    with open(filename, 'r') as f:\n",
        "      contents = f.read()\n",
        "    return contents\n",
        "  except FileNotFoundError:\n",
        "    return \"File not found\"\n",
        "  except:\n",
        "    return \"Error reading file\"\n",
        "\n",
        "print(read_file(\"existing_file.txt\"))\n",
        "print(read_file(\"non_existent_file.txt\"))\n",
        "print(read_file(\"binary_file.exe\"))\n"
      ]
    },
    {
      "cell_type": "markdown",
      "metadata": {
        "id": "8E1quKyzSJ_6"
      },
      "source": [
        "Construct a sample DataFrame using a CSV file and execute the following tasks:\n",
        "\n",
        "1. Verify if the DataFrame is empty.\n",
        "\n",
        "2. Divide a column of strings into two separate columns.\n",
        "\n",
        "3. iterate through the DataFrame.\n"
      ]
    },
    {
      "cell_type": "code",
      "execution_count": 11,
      "metadata": {
        "colab": {
          "base_uri": "https://localhost:8080/"
        },
        "id": "7vfrqeMESWsK",
        "outputId": "d73cff95-d050-40f0-ec83-5426dbf8a11a"
      },
      "outputs": [
        {
          "name": "stdout",
          "output_type": "stream",
          "text": [
            "DataFrame is not empty\n",
            "Row 0: Alice, Smith, New York\n",
            "Row 1: Bob, Johnson, Los Angeles\n",
            "Row 2: Charlie, Brown, Chicago\n"
          ]
        }
      ],
      "source": [
        "import pandas as pd\n",
        "\n",
        "data = {'Name': ['Alice Smith', 'Bob Johnson', 'Charlie Brown'],\n",
        "        'City': ['New York', 'Los Angeles', 'Chicago']}\n",
        "df = pd.DataFrame(data)\n",
        "\n",
        "if df.empty:\n",
        "  print(\"DataFrame is empty\")\n",
        "else:\n",
        "  print(\"DataFrame is not empty\")\n",
        "\n",
        "df[['First Name', 'Last Name']] = df['Name'].str.split(' ', expand=True)\n",
        "\n",
        "for index, row in df.iterrows():\n",
        "  print(f\"Row {index}: {row['First Name']}, {row['Last Name']}, {row['City']}\")\n"
      ]
    }
  ],
  "metadata": {
    "colab": {
      "provenance": []
    },
    "kernelspec": {
      "display_name": "Python 3",
      "name": "python3"
    },
    "language_info": {
      "codemirror_mode": {
        "name": "ipython",
        "version": 3
      },
      "file_extension": ".py",
      "mimetype": "text/x-python",
      "name": "python",
      "nbconvert_exporter": "python",
      "pygments_lexer": "ipython3",
      "version": "3.12.3"
    }
  },
  "nbformat": 4,
  "nbformat_minor": 0
}
