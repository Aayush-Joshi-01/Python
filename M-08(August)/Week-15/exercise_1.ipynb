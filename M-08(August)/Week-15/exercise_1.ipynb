{
  "cells": [
    {
      "cell_type": "code",
      "execution_count": null,
      "metadata": {
        "colab": {
          "base_uri": "https://localhost:8080/",
          "height": 933
        },
        "id": "rE_1gkpuBMQj",
        "outputId": "061a224b-6ae0-4fc3-da42-340b2f19f974"
      },
      "outputs": [],
      "source": [
        "!sudo apt update\n",
        "!apt-get install openjdk-8-jdk-headless -qq > /dev/null\n",
        "#Check this site for the latest download link https://www.apache.org/dyn/closer.lua/spark/spark-3.2.1/spark-3.2.1-bin-hadoop3.2.tgz\n",
        "!wget -q https://dlcdn.apache.org/spark/spark-3.2.1/spark-3.2.1-bin-hadoop3.2.tgz\n",
        "!tar xf spark-3.2.1-bin-hadoop3.2.tgz\n",
        "!pip install -q findspark\n",
        "!pip install pyspark\n",
        "!pip install py4j\n",
        "\n",
        "import os\n",
        "import sys\n",
        "# os.environ[\"JAVA_HOME\"] = \"/usr/lib/jvm/java-8-openjdk-amd64\"\n",
        "# os.environ[\"SPARK_HOME\"] = \"/content/spark-3.2.1-bin-hadoop3.2\"\n",
        "\n",
        "\n",
        "import findspark\n",
        "findspark.init()\n",
        "findspark.find()\n",
        "\n",
        "import pyspark\n",
        "\n",
        "from pyspark.sql import DataFrame, SparkSession\n",
        "from typing import List\n",
        "\n",
        "import pyspark.sql.types as T\n",
        "import pyspark.sql.functions as F\n",
        "\n",
        "spark= SparkSession \\\n",
        "       .builder \\\n",
        "       .appName(\"Our First Spark Example\") \\\n",
        "       .getOrCreate()\n",
        "\n",
        "spark"
      ]
    },
    {
      "cell_type": "markdown",
      "metadata": {
        "id": "qlT9gzQOA1dM"
      },
      "source": [
        "# Ex - GroupBy"
      ]
    },
    {
      "cell_type": "markdown",
      "metadata": {
        "id": "xxjj9-eFA1dP"
      },
      "source": [
        "### Introduction:\n",
        "\n",
        "GroupBy can be summarized as Split-Apply-Combine.\n",
        "\n",
        "Special thanks to: https://github.com/justmarkham for sharing the dataset and materials.\n",
        "\n",
        "Check out this [Diagram](http://i.imgur.com/yjNkiwL.png)  \n",
        "### Step 1. Import the necessary libraries"
      ]
    },
    {
      "cell_type": "code",
      "execution_count": null,
      "metadata": {
        "id": "pK0SV3VTA1dQ"
      },
      "outputs": [],
      "source": [
        "from pyspark import SparkFiles\n",
        "url =\"https://raw.githubusercontent.com/justmarkham/DAT8/master/data/drinks.csv\"\n",
        "spark.sparkContext.addFile(url)"
      ]
    },
    {
      "cell_type": "markdown",
      "metadata": {
        "id": "V20_OsClA1dQ"
      },
      "source": [
        "### Step 2. Import the dataset from this [address](https://raw.githubusercontent.com/justmarkham/DAT8/master/data/drinks.csv)."
      ]
    },
    {
      "cell_type": "markdown",
      "metadata": {
        "id": "PzLBKFCzA1dR"
      },
      "source": [
        "### Step 3. Assign it to a variable called drinks."
      ]
    },
    {
      "cell_type": "code",
      "execution_count": null,
      "metadata": {
        "colab": {
          "base_uri": "https://localhost:8080/"
        },
        "id": "hXnGPM19A1dR",
        "outputId": "3e312066-12c0-43d1-b532-9802c31733a7"
      },
      "outputs": [],
      "source": [
        "drinks = spark.read.csv(SparkFiles.get(\"drinks.csv\"), header=True, inferSchema=True)\n",
        "drinks.show()"
      ]
    },
    {
      "cell_type": "markdown",
      "metadata": {
        "id": "VOtc9qAwA1dR"
      },
      "source": [
        "### Step 4. Which continent drinks more beer on average?"
      ]
    },
    {
      "cell_type": "code",
      "execution_count": null,
      "metadata": {
        "colab": {
          "base_uri": "https://localhost:8080/"
        },
        "id": "LVKbbPvTA1dS",
        "outputId": "86db18dd-f2f3-463c-e2c1-7a89b9343d0d"
      },
      "outputs": [],
      "source": [
        "drinks.groupBy(\"continent\").agg(F.avg(\"beer_servings\").alias(\"avg_beer\")).orderBy(F.desc(\"avg_beer\")).show(1)"
      ]
    },
    {
      "cell_type": "markdown",
      "metadata": {
        "id": "WDvrABA4A1dS"
      },
      "source": [
        "### Step 5. For each continent print the statistics for wine consumption."
      ]
    },
    {
      "cell_type": "code",
      "execution_count": null,
      "metadata": {
        "colab": {
          "base_uri": "https://localhost:8080/"
        },
        "id": "7g4TTYOyfvHQ",
        "outputId": "cf92ee5b-6408-4110-ffc9-d024e3caed61"
      },
      "outputs": [],
      "source": [
        "drinks.select(\"wine_servings\").describe().show()"
      ]
    },
    {
      "cell_type": "code",
      "execution_count": null,
      "metadata": {
        "colab": {
          "base_uri": "https://localhost:8080/"
        },
        "id": "VZowSRMHA1dS",
        "outputId": "99338dcc-4239-466b-aeec-e5cf8f8074d4"
      },
      "outputs": [],
      "source": [
        "drinks.groupBy(\"continent\").agg(F.min(\"wine_servings\"), F.max(\"wine_servings\"), F.mean(\"wine_servings\")).show()"
      ]
    },
    {
      "cell_type": "markdown",
      "metadata": {
        "id": "dyA5agY8A1dS"
      },
      "source": [
        "### Step 6. Print the mean alcohol consumption per continent for every column"
      ]
    },
    {
      "cell_type": "code",
      "execution_count": null,
      "metadata": {
        "colab": {
          "base_uri": "https://localhost:8080/"
        },
        "id": "M2gALHEFA1dS",
        "outputId": "ad093ca6-0939-4a97-9591-94edcd5ca9fb"
      },
      "outputs": [],
      "source": [
        "drinks.groupBy(\"continent\").agg(F.mean(\"total_litres_of_pure_alcohol\")).show()"
      ]
    },
    {
      "cell_type": "markdown",
      "metadata": {
        "id": "MZPh0EgzA1dS"
      },
      "source": [
        "### Step 7. Print the median alcohol consumption per continent for every column"
      ]
    },
    {
      "cell_type": "code",
      "execution_count": null,
      "metadata": {
        "colab": {
          "base_uri": "https://localhost:8080/"
        },
        "id": "xN9OI3OAA1dT",
        "outputId": "50e0f897-daac-4f64-d61b-3188ad719a6c"
      },
      "outputs": [],
      "source": [
        "drinks.groupBy(\"continent\").agg(F.median(\"total_litres_of_pure_alcohol\")).show()"
      ]
    },
    {
      "cell_type": "markdown",
      "metadata": {
        "id": "2YCBg0xeA1dT"
      },
      "source": [
        "### Step 8. Print the mean, min and max values for spirit consumption.\n",
        "#### This time output a DataFrame"
      ]
    },
    {
      "cell_type": "code",
      "execution_count": null,
      "metadata": {
        "colab": {
          "base_uri": "https://localhost:8080/"
        },
        "id": "6Uj9KUZEA1dT",
        "outputId": "bb35acc7-2dd5-4a19-c661-75acd4daf538"
      },
      "outputs": [],
      "source": [
        "result_df = drinks.agg(F.mean(\"spirit_servings\").alias(\"mean\"),\n",
        "                       F.min(\"spirit_servings\").alias(\"min\"),\n",
        "                       F.max(\"spirit_servings\").alias(\"max\"))\n",
        "result_df.show()"
      ]
    }
  ],
  "metadata": {
    "colab": {
      "provenance": []
    },
    "kernelspec": {
      "display_name": "Python 2",
      "language": "python",
      "name": "python2"
    },
    "language_info": {
      "codemirror_mode": {
        "name": "ipython",
        "version": 2
      },
      "file_extension": ".py",
      "mimetype": "text/x-python",
      "name": "python",
      "nbconvert_exporter": "python",
      "pygments_lexer": "ipython2",
      "version": "2.7.16"
    }
  },
  "nbformat": 4,
  "nbformat_minor": 0
}
