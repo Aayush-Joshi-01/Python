{
  "cells": [
    {
      "cell_type": "code",
      "execution_count": null,
      "metadata": {
        "colab": {
          "base_uri": "https://localhost:8080/"
        },
        "id": "G46gEXdxzKli",
        "outputId": "d317fde0-2836-48a8-afe3-033243b1c982"
      },
      "outputs": [],
      "source": [
        "! pip install pyspark"
      ]
    },
    {
      "cell_type": "code",
      "execution_count": null,
      "metadata": {
        "id": "GD_W-vCh-xZ1"
      },
      "outputs": [],
      "source": [
        "import time"
      ]
    },
    {
      "cell_type": "code",
      "execution_count": null,
      "metadata": {
        "id": "OuSvkpXey7kS"
      },
      "outputs": [],
      "source": [
        "from pyspark.sql import SparkSession"
      ]
    },
    {
      "cell_type": "code",
      "execution_count": null,
      "metadata": {
        "id": "bEb0t7OuzGsA"
      },
      "outputs": [],
      "source": [
        "spark=SparkSession.builder.getOrCreate()"
      ]
    },
    {
      "cell_type": "code",
      "execution_count": null,
      "metadata": {
        "id": "1g_3kbtZzbSN"
      },
      "outputs": [],
      "source": [
        "df=spark.read.csv('Cost_of_Living_Index_by_Country_2024.csv',header=True,inferSchema=True,sep=',')"
      ]
    },
    {
      "cell_type": "code",
      "execution_count": null,
      "metadata": {
        "id": "mrwokfF0zftg"
      },
      "outputs": [],
      "source": [
        "new_df=df.repartition(4)"
      ]
    },
    {
      "cell_type": "code",
      "execution_count": null,
      "metadata": {
        "id": "cVUFNyQszkgv"
      },
      "outputs": [],
      "source": [
        "new_df.write.option('header',True).mode('overwrite').csv('partition_1.csv')"
      ]
    },
    {
      "cell_type": "code",
      "execution_count": null,
      "metadata": {
        "id": "bGtPpX_4zotH"
      },
      "outputs": [],
      "source": [
        "partiton_on_columns=df.repartition(4,'country')"
      ]
    },
    {
      "cell_type": "code",
      "execution_count": null,
      "metadata": {
        "id": "kJmpKKmDz9iV"
      },
      "outputs": [],
      "source": [
        "country_df=partiton_on_columns.write.option('header',True).mode('overwrite').csv('partition_2.csv')"
      ]
    },
    {
      "cell_type": "code",
      "execution_count": null,
      "metadata": {
        "id": "QY_wwLeA0OZE"
      },
      "outputs": [],
      "source": [
        "repartitioned_df = df.coalesce(1)"
      ]
    },
    {
      "cell_type": "markdown",
      "metadata": {
        "id": "1tvh5Pvt9sqy"
      },
      "source": [
        "# Electric Vehicle data"
      ]
    },
    {
      "cell_type": "code",
      "execution_count": null,
      "metadata": {
        "id": "VCg6EMeU9viI"
      },
      "outputs": [],
      "source": [
        "E_df=spark.read.csv('/content/Electric_Vehicle_Data.csv',header=True,inferSchema=True,sep=',')"
      ]
    },
    {
      "cell_type": "code",
      "execution_count": null,
      "metadata": {
        "colab": {
          "base_uri": "https://localhost:8080/"
        },
        "id": "riZ84PUO974o",
        "outputId": "9abcc620-0b3d-44af-a584-7e3fd7b5856e"
      },
      "outputs": [],
      "source": [
        "E_df.show()"
      ]
    },
    {
      "cell_type": "code",
      "execution_count": null,
      "metadata": {
        "colab": {
          "base_uri": "https://localhost:8080/"
        },
        "id": "Bsq0PYuV-kJU",
        "outputId": "0f4f0b05-6e34-468d-8529-3c6acda3b922"
      },
      "outputs": [],
      "source": [
        "E_df.rdd.getNumPartitions()"
      ]
    },
    {
      "cell_type": "code",
      "execution_count": null,
      "metadata": {
        "colab": {
          "base_uri": "https://localhost:8080/"
        },
        "id": "07veETcO9-Dx",
        "outputId": "5792cb55-ebb4-48ef-b622-582434266ab2"
      },
      "outputs": [],
      "source": [
        "start_time=time.time()\n",
        "without_partation=E_df.filter(E_df['County']=='King')\n",
        "without_partation.show()\n",
        "end_time=time.time()\n",
        "process_time=end_time-start_time\n",
        "print(process_time)"
      ]
    },
    {
      "cell_type": "code",
      "execution_count": null,
      "metadata": {
        "colab": {
          "base_uri": "https://localhost:8080/"
        },
        "id": "_LBvKFwr-WXB",
        "outputId": "88c417b0-4335-4351-e9ab-f33b8253d6f3"
      },
      "outputs": [],
      "source": [
        "E_df.repartition(8)"
      ]
    },
    {
      "cell_type": "code",
      "execution_count": null,
      "metadata": {
        "colab": {
          "base_uri": "https://localhost:8080/"
        },
        "id": "KkqFM8qy_UKv",
        "outputId": "03d1571a-c427-4e0d-8e80-47cfff91a737"
      },
      "outputs": [],
      "source": [
        "start_time=time.time()\n",
        "with_partation=E_df.filter(E_df['County']=='King')\n",
        "with_partation.show()\n",
        "end_time=time.time()\n",
        "process_time=end_time-start_time\n",
        "print(process_time)"
      ]
    },
    {
      "cell_type": "code",
      "execution_count": null,
      "metadata": {
        "colab": {
          "base_uri": "https://localhost:8080/"
        },
        "id": "Kph3GVKBUvfx",
        "outputId": "95c0bae0-f3cc-4681-e84b-e641118b81b3"
      },
      "outputs": [],
      "source": [
        "E_df.rdd.getNumPartitions()"
      ]
    },
    {
      "cell_type": "code",
      "execution_count": null,
      "metadata": {
        "id": "SzEeCGPk_i6P"
      },
      "outputs": [],
      "source": [
        "E_df.write.option('header',True).mode('overwrite') \\\n",
        "    .csv('partition_3.csv')"
      ]
    },
    {
      "cell_type": "code",
      "execution_count": null,
      "metadata": {
        "id": "YP_NGBl7_wJK"
      },
      "outputs": [],
      "source": [
        "coalesce_df=E_df.coalesce(1)"
      ]
    },
    {
      "cell_type": "code",
      "execution_count": null,
      "metadata": {
        "colab": {
          "base_uri": "https://localhost:8080/"
        },
        "id": "YTb2xS6k_zJn",
        "outputId": "a1a5d0e8-61a9-4f77-bb11-f80757fb4ebc"
      },
      "outputs": [],
      "source": [
        "coalesce_df.rdd.getNumPartitions()"
      ]
    },
    {
      "cell_type": "code",
      "execution_count": null,
      "metadata": {
        "id": "8U5LQZRaAOTq"
      },
      "outputs": [],
      "source": []
    }
  ],
  "metadata": {
    "colab": {
      "provenance": []
    },
    "kernelspec": {
      "display_name": "Python 3",
      "name": "python3"
    },
    "language_info": {
      "codemirror_mode": {
        "name": "ipython",
        "version": 3
      },
      "file_extension": ".py",
      "mimetype": "text/x-python",
      "name": "python",
      "nbconvert_exporter": "python",
      "pygments_lexer": "ipython3",
      "version": "3.12.3"
    }
  },
  "nbformat": 4,
  "nbformat_minor": 0
}
