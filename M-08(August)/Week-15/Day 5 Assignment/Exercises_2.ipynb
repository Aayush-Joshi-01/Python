{
  "cells": [
    {
      "cell_type": "markdown",
      "metadata": {
        "id": "GtsFt54p1j7t"
      },
      "source": [
        "# United States - Crime Rates - 1960 - 2014"
      ]
    },
    {
      "cell_type": "markdown",
      "metadata": {
        "id": "uwwWSyX31j7w"
      },
      "source": [
        "### Introduction:\n",
        "\n",
        "This time you will create a data\n",
        "\n",
        "Special thanks to: https://github.com/justmarkham for sharing the dataset and materials.\n",
        "\n",
        "### Step 1. Import the necessary libraries"
      ]
    },
    {
      "cell_type": "code",
      "execution_count": 1,
      "metadata": {
        "colab": {
          "base_uri": "https://localhost:8080/",
          "height": 933
        },
        "id": "Xsf2Cytd1j7x",
        "outputId": "ffe92b3f-865b-40cf-d0c4-059941cfb2bd"
      },
      "outputs": [
        {
          "output_type": "stream",
          "name": "stdout",
          "text": [
            "\u001b[33m\r0% [Working]\u001b[0m\r            \rGet:1 https://cloud.r-project.org/bin/linux/ubuntu jammy-cran40/ InRelease [3,626 B]\n",
            "\u001b[33m\r0% [Connecting to archive.ubuntu.com (91.189.91.81)] [Connecting to security.ub\u001b[0m\u001b[33m\r0% [Connecting to archive.ubuntu.com (91.189.91.81)] [Waiting for headers] [Con\u001b[0m\r                                                                               \rHit:2 https://developer.download.nvidia.com/compute/cuda/repos/ubuntu2204/x86_64  InRelease\n",
            "Get:3 http://security.ubuntu.com/ubuntu jammy-security InRelease [129 kB]\n",
            "Hit:4 http://archive.ubuntu.com/ubuntu jammy InRelease\n",
            "Ign:5 https://r2u.stat.illinois.edu/ubuntu jammy InRelease\n",
            "Get:6 http://archive.ubuntu.com/ubuntu jammy-updates InRelease [128 kB]\n",
            "Get:7 https://r2u.stat.illinois.edu/ubuntu jammy Release [5,713 B]\n",
            "Get:8 https://r2u.stat.illinois.edu/ubuntu jammy Release.gpg [793 B]\n",
            "Hit:9 http://archive.ubuntu.com/ubuntu jammy-backports InRelease\n",
            "Get:10 https://r2u.stat.illinois.edu/ubuntu jammy/main amd64 Packages [2,556 kB]\n",
            "Get:11 https://ppa.launchpadcontent.net/deadsnakes/ppa/ubuntu jammy InRelease [18.1 kB]\n",
            "Get:12 http://security.ubuntu.com/ubuntu jammy-security/main amd64 Packages [2,173 kB]\n",
            "Hit:13 https://ppa.launchpadcontent.net/graphics-drivers/ppa/ubuntu jammy InRelease\n",
            "Get:14 http://archive.ubuntu.com/ubuntu jammy-updates/main amd64 Packages [2,449 kB]\n",
            "Hit:15 https://ppa.launchpadcontent.net/ubuntugis/ppa/ubuntu jammy InRelease\n",
            "Get:16 https://r2u.stat.illinois.edu/ubuntu jammy/main all Packages [8,227 kB]\n",
            "Get:17 http://security.ubuntu.com/ubuntu jammy-security/universe amd64 Packages [1,134 kB]\n",
            "Get:18 https://ppa.launchpadcontent.net/deadsnakes/ppa/ubuntu jammy/main amd64 Packages [27.8 kB]\n",
            "Get:19 http://archive.ubuntu.com/ubuntu jammy-updates/universe amd64 Packages [1,423 kB]\n",
            "Fetched 18.3 MB in 2s (7,479 kB/s)\n",
            "Reading package lists... Done\n",
            "Building dependency tree... Done\n",
            "Reading state information... Done\n",
            "49 packages can be upgraded. Run 'apt list --upgradable' to see them.\n",
            "\u001b[1;33mW: \u001b[0mSkipping acquire of configured file 'main/source/Sources' as repository 'https://r2u.stat.illinois.edu/ubuntu jammy InRelease' does not seem to provide it (sources.list entry misspelt?)\u001b[0m\n",
            "tar: spark-3.2.1-bin-hadoop3.2.tgz: Cannot open: No such file or directory\n",
            "tar: Error is not recoverable: exiting now\n",
            "Collecting pyspark\n",
            "  Downloading pyspark-3.5.2.tar.gz (317.3 MB)\n",
            "\u001b[2K     \u001b[90m━━━━━━━━━━━━━━━━━━━━━━━━━━━━━━━━━━━━━━━━\u001b[0m \u001b[32m317.3/317.3 MB\u001b[0m \u001b[31m4.6 MB/s\u001b[0m eta \u001b[36m0:00:00\u001b[0m\n",
            "\u001b[?25h  Preparing metadata (setup.py) ... \u001b[?25l\u001b[?25hdone\n",
            "Requirement already satisfied: py4j==0.10.9.7 in /usr/local/lib/python3.10/dist-packages (from pyspark) (0.10.9.7)\n",
            "Building wheels for collected packages: pyspark\n",
            "  Building wheel for pyspark (setup.py) ... \u001b[?25l\u001b[?25hdone\n",
            "  Created wheel for pyspark: filename=pyspark-3.5.2-py2.py3-none-any.whl size=317812365 sha256=953e6c16b64f600148deb5391a398f4310dff68c1a08c4694f678296c9c18cb5\n",
            "  Stored in directory: /root/.cache/pip/wheels/34/34/bd/03944534c44b677cd5859f248090daa9fb27b3c8f8e5f49574\n",
            "Successfully built pyspark\n",
            "Installing collected packages: pyspark\n",
            "Successfully installed pyspark-3.5.2\n",
            "Requirement already satisfied: py4j in /usr/local/lib/python3.10/dist-packages (0.10.9.7)\n"
          ]
        },
        {
          "output_type": "execute_result",
          "data": {
            "text/plain": [
              "<pyspark.sql.session.SparkSession at 0x786d0c153b50>"
            ],
            "text/html": [
              "\n",
              "            <div>\n",
              "                <p><b>SparkSession - in-memory</b></p>\n",
              "                \n",
              "        <div>\n",
              "            <p><b>SparkContext</b></p>\n",
              "\n",
              "            <p><a href=\"http://8a085eab31d5:4040\">Spark UI</a></p>\n",
              "\n",
              "            <dl>\n",
              "              <dt>Version</dt>\n",
              "                <dd><code>v3.5.2</code></dd>\n",
              "              <dt>Master</dt>\n",
              "                <dd><code>local[*]</code></dd>\n",
              "              <dt>AppName</dt>\n",
              "                <dd><code>Our First Spark Example</code></dd>\n",
              "            </dl>\n",
              "        </div>\n",
              "        \n",
              "            </div>\n",
              "        "
            ]
          },
          "metadata": {},
          "execution_count": 1
        }
      ],
      "source": [
        "! sudo apt update\n",
        "! apt-get install openjdk-8-jdk-headless -qq > /dev/null\n",
        "# Check this site for the latest download link https://www.apache.org/dyn/closer.lua/spark/spark-3.2.1/spark-3.2.1-bin-hadoop3.2.tgz\n",
        "! wget -q https://dlcdn.apache.org/spark/spark-3.2.1/spark-3.2.1-bin-hadoop3.2.tgz\n",
        "! tar xf spark-3.2.1-bin-hadoop3.2.tgz\n",
        "! pip install -q findspark\n",
        "! pip install pyspark\n",
        "! pip install py4j\n",
        "\n",
        "import os\n",
        "import sys\n",
        "# os.environ[\"JAVA_HOME\"] = \"/usr/lib/jvm/java-8-openjdk-amd64\"\n",
        "# os.environ[\"SPARK_HOME\"] = \"/content/spark-3.2.1-bin-hadoop3.2\"\n",
        "\n",
        "\n",
        "import findspark\n",
        "findspark.init()\n",
        "findspark.find()\n",
        "\n",
        "import pyspark\n",
        "\n",
        "from pyspark.sql import DataFrame, SparkSession\n",
        "from typing import List\n",
        "\n",
        "import pyspark.sql.types as T\n",
        "import pyspark.sql.functions as F\n",
        "\n",
        "spark= SparkSession \\\n",
        "       .builder \\\n",
        "       .appName(\"Our First Spark Example\") \\\n",
        "       .getOrCreate()\n",
        "\n",
        "spark"
      ]
    },
    {
      "cell_type": "markdown",
      "metadata": {
        "id": "WCm4k_hR1j7y"
      },
      "source": [
        "### Step 2. Import the dataset from this [address](https://raw.githubusercontent.com/guipsamora/pandas_exercises/master/04_Apply/US_Crime_Rates/US_Crime_Rates_1960_2014.csv)."
      ]
    },
    {
      "cell_type": "code",
      "source": [
        "df = spark.read.csv('US_Crime_Rates_1960_2014.csv', header=True, inferSchema=True)\n",
        "df.show()"
      ],
      "metadata": {
        "colab": {
          "base_uri": "https://localhost:8080/"
        },
        "id": "fMiC9G8912Cp",
        "outputId": "dd9beee2-7e76-41a6-e850-366cf5cbf1ea"
      },
      "execution_count": 2,
      "outputs": [
        {
          "output_type": "stream",
          "name": "stdout",
          "text": [
            "+----+----------+--------+-------+--------+------+-------------+-------+------------------+--------+-------------+-------------+\n",
            "|Year|Population|   Total|Violent|Property|Murder|Forcible_Rape|Robbery|Aggravated_assault|Burglary|Larceny_Theft|Vehicle_Theft|\n",
            "+----+----------+--------+-------+--------+------+-------------+-------+------------------+--------+-------------+-------------+\n",
            "|1960| 179323175| 3384200| 288460| 3095700|  9110|        17190| 107840|            154320|  912100|      1855400|       328200|\n",
            "|1961| 182992000| 3488000| 289390| 3198600|  8740|        17220| 106670|            156760|  949600|      1913000|       336000|\n",
            "|1962| 185771000| 3752200| 301510| 3450700|  8530|        17550| 110860|            164570|  994300|      2089600|       366800|\n",
            "|1963| 188483000| 4109500| 316970| 3792500|  8640|        17650| 116470|            174210| 1086400|      2297800|       408300|\n",
            "|1964| 191141000| 4564600| 364220| 4200400|  9360|        21420| 130390|            203050| 1213200|      2514400|       472800|\n",
            "|1965| 193526000| 4739400| 387390| 4352000|  9960|        23410| 138690|            215330| 1282500|      2572600|       496900|\n",
            "|1966| 195576000| 5223500| 430180| 4793300| 11040|        25820| 157990|            235330| 1410100|      2822000|       561200|\n",
            "|1967| 197457000| 5903400| 499930| 5403500| 12240|        27620| 202910|            257160| 1632100|      3111600|       659800|\n",
            "|1968| 199399000| 6720200| 595010| 6125200| 13800|        31670| 262840|            286700| 1858900|      3482700|       783600|\n",
            "|1969| 201385000| 7410900| 661870| 6749000| 14760|        37170| 298850|            311090| 1981900|      3888600|       878500|\n",
            "|1970| 203235298| 8098000| 738820| 7359200| 16000|        37990| 349860|            334970| 2205000|      4225800|       928400|\n",
            "|1971| 206212000| 8588200| 816500| 7771700| 17780|        42260| 387700|            368760| 2399300|      4424200|       948200|\n",
            "|1972| 208230000| 8248800| 834900| 7413900| 18670|        46850| 376290|            393090| 2375500|      4151200|       887200|\n",
            "|1973| 209851000| 8718100| 875910| 7842200| 19640|        51400| 384220|            420650| 2565500|      4347900|       928800|\n",
            "|1974| 211392000|10253400| 974720| 9278700| 20710|        55400| 442400|            456210| 3039200|      5262500|       977100|\n",
            "|1975| 213124000|11292400|1039710|10252700| 20510|        56090| 470500|            492620| 3265300|      5977700|      1009600|\n",
            "|1976| 214659000|11349700|1004210|10345500| 18780|        57080| 427810|            500530| 3108700|      6270800|       966000|\n",
            "|1977| 216332000|10984500|1029580| 9955000| 19120|        63500| 412610|            534350| 3071500|      5905700|       977700|\n",
            "|1978| 218059000|11209000|1085550|10123400| 19560|        67610| 426930|            571460| 3128300|      5991000|      1004100|\n",
            "|1979| 220099000|12249500|1208030|11041500| 21460|        76390| 480700|            629480| 3327700|      6601000|      1112800|\n",
            "+----+----------+--------+-------+--------+------+-------------+-------+------------------+--------+-------------+-------------+\n",
            "only showing top 20 rows\n",
            "\n"
          ]
        }
      ]
    },
    {
      "cell_type": "markdown",
      "metadata": {
        "id": "ghqcG9CX1j7z"
      },
      "source": [
        "### Step 4. What is the type of the columns?"
      ]
    },
    {
      "cell_type": "code",
      "execution_count": 3,
      "metadata": {
        "colab": {
          "base_uri": "https://localhost:8080/"
        },
        "id": "E7-vzoSe1j7z",
        "outputId": "65476103-b726-4e6e-fe58-925803c81954"
      },
      "outputs": [
        {
          "output_type": "stream",
          "name": "stdout",
          "text": [
            "root\n",
            " |-- Year: integer (nullable = true)\n",
            " |-- Population: integer (nullable = true)\n",
            " |-- Total: integer (nullable = true)\n",
            " |-- Violent: integer (nullable = true)\n",
            " |-- Property: integer (nullable = true)\n",
            " |-- Murder: integer (nullable = true)\n",
            " |-- Forcible_Rape: integer (nullable = true)\n",
            " |-- Robbery: integer (nullable = true)\n",
            " |-- Aggravated_assault: integer (nullable = true)\n",
            " |-- Burglary: integer (nullable = true)\n",
            " |-- Larceny_Theft: integer (nullable = true)\n",
            " |-- Vehicle_Theft: integer (nullable = true)\n",
            "\n"
          ]
        }
      ],
      "source": [
        "df.printSchema()"
      ]
    },
    {
      "cell_type": "markdown",
      "metadata": {
        "id": "waV5Bt7t1j7z"
      },
      "source": [
        "##### Have you noticed that the type of Year is int64. But pandas has a different type to work with Time Series. Let's see it now.\n",
        "\n",
        "### Step 5. Convert the type of the column Year to datetime64"
      ]
    },
    {
      "cell_type": "code",
      "execution_count": 4,
      "metadata": {
        "colab": {
          "base_uri": "https://localhost:8080/"
        },
        "id": "w0vTJXXi1j70",
        "outputId": "7d29fc48-a8e3-4b66-dcb9-42dbc3b6754a"
      },
      "outputs": [
        {
          "output_type": "stream",
          "name": "stdout",
          "text": [
            "+----+\n",
            "|Year|\n",
            "+----+\n",
            "|1960|\n",
            "|1961|\n",
            "|1962|\n",
            "|1963|\n",
            "|1964|\n",
            "|1965|\n",
            "|1966|\n",
            "|1967|\n",
            "|1968|\n",
            "|1969|\n",
            "|1970|\n",
            "|1971|\n",
            "|1972|\n",
            "|1973|\n",
            "|1974|\n",
            "|1975|\n",
            "|1976|\n",
            "|1977|\n",
            "|1978|\n",
            "|1979|\n",
            "+----+\n",
            "only showing top 20 rows\n",
            "\n"
          ]
        }
      ],
      "source": [
        "df.select(F.col('Year')).show()"
      ]
    },
    {
      "cell_type": "markdown",
      "metadata": {
        "id": "zX0NUoW61j70"
      },
      "source": [
        "### Step 6. Set the Year column as the index of the dataframe"
      ]
    },
    {
      "cell_type": "code",
      "execution_count": 4,
      "metadata": {
        "id": "0f7Q_frx1j70"
      },
      "outputs": [],
      "source": []
    },
    {
      "cell_type": "markdown",
      "metadata": {
        "id": "210XKFn31j70"
      },
      "source": [
        "### Step 7. Delete the Total column"
      ]
    },
    {
      "cell_type": "code",
      "execution_count": 5,
      "metadata": {
        "id": "o89ITwAd1j70",
        "colab": {
          "base_uri": "https://localhost:8080/"
        },
        "outputId": "9b04658b-1c0d-4a29-ef8a-30960982110a"
      },
      "outputs": [
        {
          "output_type": "stream",
          "name": "stdout",
          "text": [
            "+----+----------+-------+--------+------+-------------+-------+------------------+--------+-------------+-------------+\n",
            "|Year|Population|Violent|Property|Murder|Forcible_Rape|Robbery|Aggravated_assault|Burglary|Larceny_Theft|Vehicle_Theft|\n",
            "+----+----------+-------+--------+------+-------------+-------+------------------+--------+-------------+-------------+\n",
            "|1960| 179323175| 288460| 3095700|  9110|        17190| 107840|            154320|  912100|      1855400|       328200|\n",
            "|1961| 182992000| 289390| 3198600|  8740|        17220| 106670|            156760|  949600|      1913000|       336000|\n",
            "|1962| 185771000| 301510| 3450700|  8530|        17550| 110860|            164570|  994300|      2089600|       366800|\n",
            "|1963| 188483000| 316970| 3792500|  8640|        17650| 116470|            174210| 1086400|      2297800|       408300|\n",
            "|1964| 191141000| 364220| 4200400|  9360|        21420| 130390|            203050| 1213200|      2514400|       472800|\n",
            "|1965| 193526000| 387390| 4352000|  9960|        23410| 138690|            215330| 1282500|      2572600|       496900|\n",
            "|1966| 195576000| 430180| 4793300| 11040|        25820| 157990|            235330| 1410100|      2822000|       561200|\n",
            "|1967| 197457000| 499930| 5403500| 12240|        27620| 202910|            257160| 1632100|      3111600|       659800|\n",
            "|1968| 199399000| 595010| 6125200| 13800|        31670| 262840|            286700| 1858900|      3482700|       783600|\n",
            "|1969| 201385000| 661870| 6749000| 14760|        37170| 298850|            311090| 1981900|      3888600|       878500|\n",
            "|1970| 203235298| 738820| 7359200| 16000|        37990| 349860|            334970| 2205000|      4225800|       928400|\n",
            "|1971| 206212000| 816500| 7771700| 17780|        42260| 387700|            368760| 2399300|      4424200|       948200|\n",
            "|1972| 208230000| 834900| 7413900| 18670|        46850| 376290|            393090| 2375500|      4151200|       887200|\n",
            "|1973| 209851000| 875910| 7842200| 19640|        51400| 384220|            420650| 2565500|      4347900|       928800|\n",
            "|1974| 211392000| 974720| 9278700| 20710|        55400| 442400|            456210| 3039200|      5262500|       977100|\n",
            "|1975| 213124000|1039710|10252700| 20510|        56090| 470500|            492620| 3265300|      5977700|      1009600|\n",
            "|1976| 214659000|1004210|10345500| 18780|        57080| 427810|            500530| 3108700|      6270800|       966000|\n",
            "|1977| 216332000|1029580| 9955000| 19120|        63500| 412610|            534350| 3071500|      5905700|       977700|\n",
            "|1978| 218059000|1085550|10123400| 19560|        67610| 426930|            571460| 3128300|      5991000|      1004100|\n",
            "|1979| 220099000|1208030|11041500| 21460|        76390| 480700|            629480| 3327700|      6601000|      1112800|\n",
            "+----+----------+-------+--------+------+-------------+-------+------------------+--------+-------------+-------------+\n",
            "only showing top 20 rows\n",
            "\n"
          ]
        }
      ],
      "source": [
        "df.drop('Total').show()"
      ]
    },
    {
      "cell_type": "code",
      "source": [
        "from pyspark.sql.functions import udf\n",
        "from pyspark.sql.types import IntegerType\n",
        "\n",
        "def decade(year):\n",
        "  return (year // 10) * 10\n",
        "\n",
        "decade_udf = udf(decade, IntegerType())\n",
        "\n",
        "df_with_decade = df.withColumn(\"Decade\", decade_udf(df['Year']))\n",
        "df_with_decade.show()\n"
      ],
      "metadata": {
        "colab": {
          "base_uri": "https://localhost:8080/"
        },
        "id": "RL3etskysw-A",
        "outputId": "ed095daf-1333-4623-fe3d-2a398f60814d"
      },
      "execution_count": 9,
      "outputs": [
        {
          "output_type": "stream",
          "name": "stdout",
          "text": [
            "+----+----------+--------+-------+--------+------+-------------+-------+------------------+--------+-------------+-------------+------+\n",
            "|Year|Population|   Total|Violent|Property|Murder|Forcible_Rape|Robbery|Aggravated_assault|Burglary|Larceny_Theft|Vehicle_Theft|Decade|\n",
            "+----+----------+--------+-------+--------+------+-------------+-------+------------------+--------+-------------+-------------+------+\n",
            "|1960| 179323175| 3384200| 288460| 3095700|  9110|        17190| 107840|            154320|  912100|      1855400|       328200|  1960|\n",
            "|1961| 182992000| 3488000| 289390| 3198600|  8740|        17220| 106670|            156760|  949600|      1913000|       336000|  1960|\n",
            "|1962| 185771000| 3752200| 301510| 3450700|  8530|        17550| 110860|            164570|  994300|      2089600|       366800|  1960|\n",
            "|1963| 188483000| 4109500| 316970| 3792500|  8640|        17650| 116470|            174210| 1086400|      2297800|       408300|  1960|\n",
            "|1964| 191141000| 4564600| 364220| 4200400|  9360|        21420| 130390|            203050| 1213200|      2514400|       472800|  1960|\n",
            "|1965| 193526000| 4739400| 387390| 4352000|  9960|        23410| 138690|            215330| 1282500|      2572600|       496900|  1960|\n",
            "|1966| 195576000| 5223500| 430180| 4793300| 11040|        25820| 157990|            235330| 1410100|      2822000|       561200|  1960|\n",
            "|1967| 197457000| 5903400| 499930| 5403500| 12240|        27620| 202910|            257160| 1632100|      3111600|       659800|  1960|\n",
            "|1968| 199399000| 6720200| 595010| 6125200| 13800|        31670| 262840|            286700| 1858900|      3482700|       783600|  1960|\n",
            "|1969| 201385000| 7410900| 661870| 6749000| 14760|        37170| 298850|            311090| 1981900|      3888600|       878500|  1960|\n",
            "|1970| 203235298| 8098000| 738820| 7359200| 16000|        37990| 349860|            334970| 2205000|      4225800|       928400|  1970|\n",
            "|1971| 206212000| 8588200| 816500| 7771700| 17780|        42260| 387700|            368760| 2399300|      4424200|       948200|  1970|\n",
            "|1972| 208230000| 8248800| 834900| 7413900| 18670|        46850| 376290|            393090| 2375500|      4151200|       887200|  1970|\n",
            "|1973| 209851000| 8718100| 875910| 7842200| 19640|        51400| 384220|            420650| 2565500|      4347900|       928800|  1970|\n",
            "|1974| 211392000|10253400| 974720| 9278700| 20710|        55400| 442400|            456210| 3039200|      5262500|       977100|  1970|\n",
            "|1975| 213124000|11292400|1039710|10252700| 20510|        56090| 470500|            492620| 3265300|      5977700|      1009600|  1970|\n",
            "|1976| 214659000|11349700|1004210|10345500| 18780|        57080| 427810|            500530| 3108700|      6270800|       966000|  1970|\n",
            "|1977| 216332000|10984500|1029580| 9955000| 19120|        63500| 412610|            534350| 3071500|      5905700|       977700|  1970|\n",
            "|1978| 218059000|11209000|1085550|10123400| 19560|        67610| 426930|            571460| 3128300|      5991000|      1004100|  1970|\n",
            "|1979| 220099000|12249500|1208030|11041500| 21460|        76390| 480700|            629480| 3327700|      6601000|      1112800|  1970|\n",
            "+----+----------+--------+-------+--------+------+-------------+-------+------------------+--------+-------------+-------------+------+\n",
            "only showing top 20 rows\n",
            "\n"
          ]
        }
      ]
    },
    {
      "cell_type": "markdown",
      "metadata": {
        "id": "shNDkVrM1j70"
      },
      "source": [
        "### Step 8. Group the year by decades and sum the values\n",
        "\n",
        "#### Pay attention to the Population column number, summing this column is a mistake"
      ]
    },
    {
      "cell_type": "code",
      "source": [
        "decade_summary = df_with_decade.groupBy(\"Decade\").agg(\n",
        "    F.sum(\"Violent\").alias(\"Total_Violent\"),\n",
        "    F.sum(\"Property\").alias(\"Total_Property\"),\n",
        "    F.sum(\"Murder\").alias(\"Total_Murder\"),\n",
        "    F.sum(\"Forcible_Rape\").alias(\"Total_Forcible_Rape\"),\n",
        "    F.sum(\"Robbery\").alias(\"Total_Robbery\"),\n",
        "    F.sum(\"Aggravated_assault\").alias(\"Total_Aggravated_assault\"),\n",
        "    F.sum(\"Burglary\").alias(\"Total_Burglary\"),\n",
        "    F.sum(\"Larceny_Theft\").alias(\"Total_Larceny_Theft\"),\n",
        "    F.sum(\"Vehicle_Theft\").alias(\"Total_Vehicle_Theft\")\n",
        ")\n",
        "\n",
        "decade_summary.show()"
      ],
      "metadata": {
        "colab": {
          "base_uri": "https://localhost:8080/"
        },
        "id": "ErN9h-3UrPbB",
        "outputId": "278bf9fa-0389-4f72-a97c-6a42490c1d49"
      },
      "execution_count": 11,
      "outputs": [
        {
          "output_type": "stream",
          "name": "stdout",
          "text": [
            "+------+-------------+--------------+------------+-------------------+-------------+------------------------+--------------+-------------------+-------------------+\n",
            "|Decade|Total_Violent|Total_Property|Total_Murder|Total_Forcible_Rape|Total_Robbery|Total_Aggravated_assault|Total_Burglary|Total_Larceny_Theft|Total_Vehicle_Theft|\n",
            "+------+-------------+--------------+------------+-------------------+-------------+------------------------+--------------+-------------------+-------------------+\n",
            "|  1990|     17527048|     119053499|      211664|             998827|      5748930|                10568963|      26750015|           77679366|           14624418|\n",
            "|  1960|      4134930|      45160900|      106180|             236720|      1633510|                 2158520|      13321100|           26547700|            5292100|\n",
            "|  1970|      9607930|      91383800|      192230|             554570|      4159020|                 4702120|      28486000|           53157800|            9739900|\n",
            "|  1980|     14074328|     117048900|      206439|             865639|      5383109|                 7619130|      33073494|           72040253|           11935411|\n",
            "|  2000|     13968056|     100944369|      163068|             922499|      4230366|                 8652124|      21565176|           67970291|           11412834|\n",
            "|  2010|      6072017|      44095950|       72867|             421059|      1749809|                 3764142|      10125170|           30401698|            3569080|\n",
            "+------+-------------+--------------+------------+-------------------+-------------+------------------------+--------------+-------------------+-------------------+\n",
            "\n"
          ]
        }
      ]
    },
    {
      "cell_type": "markdown",
      "metadata": {
        "id": "C0u694BO1j71"
      },
      "source": [
        "### Step 9. What is the most dangerous decade to live in the US?"
      ]
    },
    {
      "cell_type": "code",
      "execution_count": 13,
      "metadata": {
        "id": "AKHgaNt-1j71",
        "colab": {
          "base_uri": "https://localhost:8080/"
        },
        "outputId": "2ade0c22-f39e-4d0e-c8b2-c2c2f75e442b"
      },
      "outputs": [
        {
          "output_type": "stream",
          "name": "stdout",
          "text": [
            "+------+-------------+--------------+------------+-------------------+-------------+------------------------+--------------+-------------------+-------------------+\n",
            "|Decade|Total_Violent|Total_Property|Total_Murder|Total_Forcible_Rape|Total_Robbery|Total_Aggravated_assault|Total_Burglary|Total_Larceny_Theft|Total_Vehicle_Theft|\n",
            "+------+-------------+--------------+------------+-------------------+-------------+------------------------+--------------+-------------------+-------------------+\n",
            "|  1990|     17527048|     119053499|      211664|             998827|      5748930|                10568963|      26750015|           77679366|           14624418|\n",
            "|  1980|     14074328|     117048900|      206439|             865639|      5383109|                 7619130|      33073494|           72040253|           11935411|\n",
            "|  2000|     13968056|     100944369|      163068|             922499|      4230366|                 8652124|      21565176|           67970291|           11412834|\n",
            "|  1970|      9607930|      91383800|      192230|             554570|      4159020|                 4702120|      28486000|           53157800|            9739900|\n",
            "|  2010|      6072017|      44095950|       72867|             421059|      1749809|                 3764142|      10125170|           30401698|            3569080|\n",
            "|  1960|      4134930|      45160900|      106180|             236720|      1633510|                 2158520|      13321100|           26547700|            5292100|\n",
            "+------+-------------+--------------+------------+-------------------+-------------+------------------------+--------------+-------------------+-------------------+\n",
            "\n"
          ]
        }
      ],
      "source": [
        "decade_summary.orderBy(F.desc(\"Total_Violent\")).show()"
      ]
    }
  ],
  "metadata": {
    "anaconda-cloud": {},
    "kernelspec": {
      "display_name": "Python [default]",
      "language": "python",
      "name": "python2"
    },
    "language_info": {
      "codemirror_mode": {
        "name": "ipython",
        "version": 2
      },
      "file_extension": ".py",
      "mimetype": "text/x-python",
      "name": "python",
      "nbconvert_exporter": "python",
      "pygments_lexer": "ipython2",
      "version": "2.7.12"
    },
    "colab": {
      "provenance": []
    }
  },
  "nbformat": 4,
  "nbformat_minor": 0
}