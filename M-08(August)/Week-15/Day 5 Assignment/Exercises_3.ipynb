{
  "cells": [
    {
      "cell_type": "markdown",
      "metadata": {
        "id": "1Tonp5KFqVWP"
      },
      "source": [
        "# MPG Cars"
      ]
    },
    {
      "cell_type": "markdown",
      "metadata": {
        "id": "cyPeqMyoqVWR"
      },
      "source": [
        "### Introduction:\n",
        "\n",
        "The following exercise utilizes data from [UC Irvine Machine Learning Repository](https://archive.ics.uci.edu/ml/datasets/Auto+MPG)\n",
        "\n",
        "### Step 1. Import the necessary libraries"
      ]
    },
    {
      "cell_type": "code",
      "execution_count": 1,
      "metadata": {
        "colab": {
          "base_uri": "https://localhost:8080/",
          "height": 933
        },
        "id": "q3SQg0fbqVWR",
        "outputId": "5669a08c-0c1d-4bae-daab-bdf0d71cb303"
      },
      "outputs": [
        {
          "output_type": "stream",
          "name": "stdout",
          "text": [
            "\u001b[33m\r0% [Working]\u001b[0m\r            \rGet:1 https://cloud.r-project.org/bin/linux/ubuntu jammy-cran40/ InRelease [3,626 B]\n",
            "\u001b[33m\r0% [Waiting for headers] [Waiting for headers] [1 InRelease 3,626 B/3,626 B 100\u001b[0m\u001b[33m\r0% [Waiting for headers] [Waiting for headers] [Connected to r2u.stat.illinois.\u001b[0m\r                                                                               \rHit:2 https://developer.download.nvidia.com/compute/cuda/repos/ubuntu2204/x86_64  InRelease\n",
            "\u001b[33m\r0% [Waiting for headers] [Waiting for headers] [Connected to r2u.stat.illinois.\u001b[0m\r                                                                               \rHit:3 http://archive.ubuntu.com/ubuntu jammy InRelease\n",
            "Get:4 http://security.ubuntu.com/ubuntu jammy-security InRelease [129 kB]\n",
            "Get:5 http://archive.ubuntu.com/ubuntu jammy-updates InRelease [128 kB]\n",
            "Ign:6 https://r2u.stat.illinois.edu/ubuntu jammy InRelease\n",
            "Get:7 https://r2u.stat.illinois.edu/ubuntu jammy Release [5,713 B]\n",
            "Get:8 https://r2u.stat.illinois.edu/ubuntu jammy Release.gpg [793 B]\n",
            "Hit:9 http://archive.ubuntu.com/ubuntu jammy-backports InRelease\n",
            "Get:10 http://security.ubuntu.com/ubuntu jammy-security/main amd64 Packages [2,173 kB]\n",
            "Get:11 https://r2u.stat.illinois.edu/ubuntu jammy/main all Packages [8,227 kB]\n",
            "Get:12 http://archive.ubuntu.com/ubuntu jammy-updates/universe amd64 Packages [1,423 kB]\n",
            "Get:13 http://security.ubuntu.com/ubuntu jammy-security/universe amd64 Packages [1,134 kB]\n",
            "Get:14 https://ppa.launchpadcontent.net/deadsnakes/ppa/ubuntu jammy InRelease [18.1 kB]\n",
            "Get:15 http://archive.ubuntu.com/ubuntu jammy-updates/main amd64 Packages [2,449 kB]\n",
            "Hit:16 https://ppa.launchpadcontent.net/graphics-drivers/ppa/ubuntu jammy InRelease\n",
            "Get:17 https://r2u.stat.illinois.edu/ubuntu jammy/main amd64 Packages [2,556 kB]\n",
            "Hit:18 https://ppa.launchpadcontent.net/ubuntugis/ppa/ubuntu jammy InRelease\n",
            "Get:19 https://ppa.launchpadcontent.net/deadsnakes/ppa/ubuntu jammy/main amd64 Packages [27.8 kB]\n",
            "Fetched 18.3 MB in 2s (7,407 kB/s)\n",
            "Reading package lists... Done\n",
            "Building dependency tree... Done\n",
            "Reading state information... Done\n",
            "49 packages can be upgraded. Run 'apt list --upgradable' to see them.\n",
            "\u001b[1;33mW: \u001b[0mSkipping acquire of configured file 'main/source/Sources' as repository 'https://r2u.stat.illinois.edu/ubuntu jammy InRelease' does not seem to provide it (sources.list entry misspelt?)\u001b[0m\n",
            "tar: spark-3.2.1-bin-hadoop3.2.tgz: Cannot open: No such file or directory\n",
            "tar: Error is not recoverable: exiting now\n",
            "Collecting pyspark\n",
            "  Downloading pyspark-3.5.2.tar.gz (317.3 MB)\n",
            "\u001b[2K     \u001b[90m━━━━━━━━━━━━━━━━━━━━━━━━━━━━━━━━━━━━━━━━\u001b[0m \u001b[32m317.3/317.3 MB\u001b[0m \u001b[31m4.0 MB/s\u001b[0m eta \u001b[36m0:00:00\u001b[0m\n",
            "\u001b[?25h  Preparing metadata (setup.py) ... \u001b[?25l\u001b[?25hdone\n",
            "Requirement already satisfied: py4j==0.10.9.7 in /usr/local/lib/python3.10/dist-packages (from pyspark) (0.10.9.7)\n",
            "Building wheels for collected packages: pyspark\n",
            "  Building wheel for pyspark (setup.py) ... \u001b[?25l\u001b[?25hdone\n",
            "  Created wheel for pyspark: filename=pyspark-3.5.2-py2.py3-none-any.whl size=317812365 sha256=c18538ef7fecaa33ac117bcdcca0cf2d2982847b228684b89e1871d9e9f985c7\n",
            "  Stored in directory: /root/.cache/pip/wheels/34/34/bd/03944534c44b677cd5859f248090daa9fb27b3c8f8e5f49574\n",
            "Successfully built pyspark\n",
            "Installing collected packages: pyspark\n",
            "Successfully installed pyspark-3.5.2\n",
            "Requirement already satisfied: py4j in /usr/local/lib/python3.10/dist-packages (0.10.9.7)\n"
          ]
        },
        {
          "output_type": "execute_result",
          "data": {
            "text/plain": [
              "<pyspark.sql.session.SparkSession at 0x787e92767af0>"
            ],
            "text/html": [
              "\n",
              "            <div>\n",
              "                <p><b>SparkSession - in-memory</b></p>\n",
              "                \n",
              "        <div>\n",
              "            <p><b>SparkContext</b></p>\n",
              "\n",
              "            <p><a href=\"http://5f80f8aa511c:4040\">Spark UI</a></p>\n",
              "\n",
              "            <dl>\n",
              "              <dt>Version</dt>\n",
              "                <dd><code>v3.5.2</code></dd>\n",
              "              <dt>Master</dt>\n",
              "                <dd><code>local[*]</code></dd>\n",
              "              <dt>AppName</dt>\n",
              "                <dd><code>Our First Spark Example</code></dd>\n",
              "            </dl>\n",
              "        </div>\n",
              "        \n",
              "            </div>\n",
              "        "
            ]
          },
          "metadata": {},
          "execution_count": 1
        }
      ],
      "source": [
        "! sudo apt update\n",
        "! apt-get install openjdk-8-jdk-headless -qq > /dev/null\n",
        "# Check this site for the latest download link https://www.apache.org/dyn/closer.lua/spark/spark-3.2.1/spark-3.2.1-bin-hadoop3.2.tgz\n",
        "! wget -q https://dlcdn.apache.org/spark/spark-3.2.1/spark-3.2.1-bin-hadoop3.2.tgz\n",
        "! tar xf spark-3.2.1-bin-hadoop3.2.tgz\n",
        "! pip install -q findspark\n",
        "! pip install pyspark\n",
        "! pip install py4j\n",
        "\n",
        "import os\n",
        "import sys\n",
        "# os.environ[\"JAVA_HOME\"] = \"/usr/lib/jvm/java-8-openjdk-amd64\"\n",
        "# os.environ[\"SPARK_HOME\"] = \"/content/spark-3.2.1-bin-hadoop3.2\"\n",
        "\n",
        "\n",
        "import findspark\n",
        "findspark.init()\n",
        "findspark.find()\n",
        "\n",
        "import pyspark\n",
        "\n",
        "from pyspark.sql import DataFrame, SparkSession\n",
        "from typing import List\n",
        "\n",
        "import pyspark.sql.types as T\n",
        "import pyspark.sql.functions as F\n",
        "\n",
        "spark= SparkSession \\\n",
        "       .builder \\\n",
        "       .appName(\"Our First Spark Example\") \\\n",
        "       .getOrCreate()\n",
        "\n",
        "spark"
      ]
    },
    {
      "cell_type": "markdown",
      "metadata": {
        "id": "dcs6uflaqVWR"
      },
      "source": [
        "### Step 2. Import the first dataset [cars1](https://raw.githubusercontent.com/guipsamora/pandas_exercises/master/05_Merge/Auto_MPG/cars1.csv) and [cars2](https://raw.githubusercontent.com/guipsamora/pandas_exercises/master/05_Merge/Auto_MPG/cars2.csv).  "
      ]
    },
    {
      "cell_type": "markdown",
      "metadata": {
        "id": "q86XGlNYqVWS"
      },
      "source": [
        "   ### Step 3. Assign each to a variable called cars1 and cars2"
      ]
    },
    {
      "cell_type": "code",
      "execution_count": 2,
      "metadata": {
        "id": "CV95YvQxqVWS"
      },
      "outputs": [],
      "source": [
        "cars1 = spark.read.csv(\"cars1.csv\", header=True, inferSchema=True)\n",
        "cars2 = spark.read.csv(\"cars2.csv\", header=True, inferSchema=True)"
      ]
    },
    {
      "cell_type": "code",
      "source": [
        "cars1.show()"
      ],
      "metadata": {
        "colab": {
          "base_uri": "https://localhost:8080/"
        },
        "id": "658HXwPjrRnH",
        "outputId": "e602c23f-33a0-4193-c2c0-c41ce7df51ae"
      },
      "execution_count": 3,
      "outputs": [
        {
          "output_type": "stream",
          "name": "stdout",
          "text": [
            "+----+---------+------------+----------+------+------------+-----+------+--------------------+----+----+----+----+----+\n",
            "| mpg|cylinders|displacement|horsepower|weight|acceleration|model|origin|                 car| _c9|_c10|_c11|_c12|_c13|\n",
            "+----+---------+------------+----------+------+------------+-----+------+--------------------+----+----+----+----+----+\n",
            "|18.0|        8|         307|       130|  3504|        12.0|   70|     1|chevrolet chevell...|NULL|NULL|NULL|NULL|NULL|\n",
            "|15.0|        8|         350|       165|  3693|        11.5|   70|     1|   buick skylark 320|NULL|NULL|NULL|NULL|NULL|\n",
            "|18.0|        8|         318|       150|  3436|        11.0|   70|     1|  plymouth satellite|NULL|NULL|NULL|NULL|NULL|\n",
            "|16.0|        8|         304|       150|  3433|        12.0|   70|     1|       amc rebel sst|NULL|NULL|NULL|NULL|NULL|\n",
            "|17.0|        8|         302|       140|  3449|        10.5|   70|     1|         ford torino|NULL|NULL|NULL|NULL|NULL|\n",
            "|15.0|        8|         429|       198|  4341|        10.0|   70|     1|    ford galaxie 500|NULL|NULL|NULL|NULL|NULL|\n",
            "|14.0|        8|         454|       220|  4354|         9.0|   70|     1|    chevrolet impala|NULL|NULL|NULL|NULL|NULL|\n",
            "|14.0|        8|         440|       215|  4312|         8.5|   70|     1|   plymouth fury iii|NULL|NULL|NULL|NULL|NULL|\n",
            "|14.0|        8|         455|       225|  4425|        10.0|   70|     1|    pontiac catalina|NULL|NULL|NULL|NULL|NULL|\n",
            "|15.0|        8|         390|       190|  3850|         8.5|   70|     1|  amc ambassador dpl|NULL|NULL|NULL|NULL|NULL|\n",
            "|15.0|        8|         383|       170|  3563|        10.0|   70|     1| dodge challenger se|NULL|NULL|NULL|NULL|NULL|\n",
            "|14.0|        8|         340|       160|  3609|         8.0|   70|     1|  plymouth 'cuda 340|NULL|NULL|NULL|NULL|NULL|\n",
            "|15.0|        8|         400|       150|  3761|         9.5|   70|     1|chevrolet monte c...|NULL|NULL|NULL|NULL|NULL|\n",
            "|14.0|        8|         455|       225|  3086|        10.0|   70|     1|buick estate wago...|NULL|NULL|NULL|NULL|NULL|\n",
            "|24.0|        4|         113|        95|  2372|        15.0|   70|     3|toyota corona mar...|NULL|NULL|NULL|NULL|NULL|\n",
            "|22.0|        6|         198|        95|  2833|        15.5|   70|     1|     plymouth duster|NULL|NULL|NULL|NULL|NULL|\n",
            "|18.0|        6|         199|        97|  2774|        15.5|   70|     1|          amc hornet|NULL|NULL|NULL|NULL|NULL|\n",
            "|21.0|        6|         200|        85|  2587|        16.0|   70|     1|       ford maverick|NULL|NULL|NULL|NULL|NULL|\n",
            "|27.0|        4|          97|        88|  2130|        14.5|   70|     3|        datsun pl510|NULL|NULL|NULL|NULL|NULL|\n",
            "|26.0|        4|          97|        46|  1835|        20.5|   70|     2|volkswagen 1131 d...|NULL|NULL|NULL|NULL|NULL|\n",
            "+----+---------+------------+----------+------+------------+-----+------+--------------------+----+----+----+----+----+\n",
            "only showing top 20 rows\n",
            "\n"
          ]
        }
      ]
    },
    {
      "cell_type": "code",
      "source": [
        "cars2.show()"
      ],
      "metadata": {
        "colab": {
          "base_uri": "https://localhost:8080/"
        },
        "id": "R48tcWhGrTTx",
        "outputId": "1e4da545-5c18-45a1-dbff-9e3b2248e0f9"
      },
      "execution_count": 4,
      "outputs": [
        {
          "output_type": "stream",
          "name": "stdout",
          "text": [
            "+----+---------+------------+----------+------+------------+-----+------+--------------------+\n",
            "| mpg|cylinders|displacement|horsepower|weight|acceleration|model|origin|                 car|\n",
            "+----+---------+------------+----------+------+------------+-----+------+--------------------+\n",
            "|33.0|        4|          91|        53|  1795|        17.4|   76|     3|         honda civic|\n",
            "|20.0|        6|         225|       100|  3651|        17.7|   76|     1|      dodge aspen se|\n",
            "|18.0|        6|         250|        78|  3574|        21.0|   76|     1|   ford granada ghia|\n",
            "|18.5|        6|         250|       110|  3645|        16.2|   76|     1|  pontiac ventura sj|\n",
            "|17.5|        6|         258|        95|  3193|        17.8|   76|     1|       amc pacer d/l|\n",
            "|29.5|        4|          97|        71|  1825|        12.2|   76|     2|   volkswagen rabbit|\n",
            "|32.0|        4|          85|        70|  1990|        17.0|   76|     3|        datsun b-210|\n",
            "|28.0|        4|          97|        75|  2155|        16.4|   76|     3|      toyota corolla|\n",
            "|26.5|        4|         140|        72|  2565|        13.6|   76|     1|          ford pinto|\n",
            "|20.0|        4|         130|       102|  3150|        15.7|   76|     2|           volvo 245|\n",
            "|13.0|        8|         318|       150|  3940|        13.2|   76|     1|plymouth volare p...|\n",
            "|19.0|        4|         120|        88|  3270|        21.9|   76|     2|         peugeot 504|\n",
            "|19.0|        6|         156|       108|  2930|        15.5|   76|     3|      toyota mark ii|\n",
            "|16.5|        6|         168|       120|  3820|        16.7|   76|     2|  mercedes-benz 280s|\n",
            "|16.5|        8|         350|       180|  4380|        12.1|   76|     1|    cadillac seville|\n",
            "|13.0|        8|         350|       145|  4055|        12.0|   76|     1|           chevy c10|\n",
            "|13.0|        8|         302|       130|  3870|        15.0|   76|     1|           ford f108|\n",
            "|13.0|        8|         318|       150|  3755|        14.0|   76|     1|          dodge d100|\n",
            "|31.5|        4|          98|        68|  2045|        18.5|   77|     3|   honda accord cvcc|\n",
            "|30.0|        4|         111|        80|  2155|        14.8|   77|     1|buick opel isuzu ...|\n",
            "+----+---------+------------+----------+------+------------+-----+------+--------------------+\n",
            "only showing top 20 rows\n",
            "\n"
          ]
        }
      ]
    },
    {
      "cell_type": "markdown",
      "metadata": {
        "id": "dxHGcywPqVWS"
      },
      "source": [
        "### Step 4. Oops, it seems our first dataset has some unnamed blank columns, fix cars1\n",
        "\n",
        "\n",
        "\n"
      ]
    },
    {
      "cell_type": "code",
      "execution_count": 8,
      "metadata": {
        "colab": {
          "base_uri": "https://localhost:8080/"
        },
        "id": "sc-ddqghqVWS",
        "outputId": "2e1d8117-fcb9-410f-91a5-bb41acc9c7ad"
      },
      "outputs": [
        {
          "output_type": "stream",
          "name": "stdout",
          "text": [
            "+----+---------+------------+----------+------+------------+-----+------+--------------------+\n",
            "| mpg|cylinders|displacement|horsepower|weight|acceleration|model|origin|                 car|\n",
            "+----+---------+------------+----------+------+------------+-----+------+--------------------+\n",
            "|18.0|        8|         307|       130|  3504|        12.0|   70|     1|chevrolet chevell...|\n",
            "|15.0|        8|         350|       165|  3693|        11.5|   70|     1|   buick skylark 320|\n",
            "|18.0|        8|         318|       150|  3436|        11.0|   70|     1|  plymouth satellite|\n",
            "|16.0|        8|         304|       150|  3433|        12.0|   70|     1|       amc rebel sst|\n",
            "|17.0|        8|         302|       140|  3449|        10.5|   70|     1|         ford torino|\n",
            "|15.0|        8|         429|       198|  4341|        10.0|   70|     1|    ford galaxie 500|\n",
            "|14.0|        8|         454|       220|  4354|         9.0|   70|     1|    chevrolet impala|\n",
            "|14.0|        8|         440|       215|  4312|         8.5|   70|     1|   plymouth fury iii|\n",
            "|14.0|        8|         455|       225|  4425|        10.0|   70|     1|    pontiac catalina|\n",
            "|15.0|        8|         390|       190|  3850|         8.5|   70|     1|  amc ambassador dpl|\n",
            "|15.0|        8|         383|       170|  3563|        10.0|   70|     1| dodge challenger se|\n",
            "|14.0|        8|         340|       160|  3609|         8.0|   70|     1|  plymouth 'cuda 340|\n",
            "|15.0|        8|         400|       150|  3761|         9.5|   70|     1|chevrolet monte c...|\n",
            "|14.0|        8|         455|       225|  3086|        10.0|   70|     1|buick estate wago...|\n",
            "|24.0|        4|         113|        95|  2372|        15.0|   70|     3|toyota corona mar...|\n",
            "|22.0|        6|         198|        95|  2833|        15.5|   70|     1|     plymouth duster|\n",
            "|18.0|        6|         199|        97|  2774|        15.5|   70|     1|          amc hornet|\n",
            "|21.0|        6|         200|        85|  2587|        16.0|   70|     1|       ford maverick|\n",
            "|27.0|        4|          97|        88|  2130|        14.5|   70|     3|        datsun pl510|\n",
            "|26.0|        4|          97|        46|  1835|        20.5|   70|     2|volkswagen 1131 d...|\n",
            "+----+---------+------------+----------+------+------------+-----+------+--------------------+\n",
            "only showing top 20 rows\n",
            "\n"
          ]
        }
      ],
      "source": [
        "\n",
        "cars1 = cars1.drop('_c9','_c10','_c11','_c12','_c13')\n",
        "cars1.show()\n"
      ]
    },
    {
      "cell_type": "markdown",
      "metadata": {
        "id": "FaHvbT0mqVWS"
      },
      "source": [
        "### Step 5. What is the number of observations in each dataset?"
      ]
    },
    {
      "cell_type": "code",
      "source": [
        "cars1.count()"
      ],
      "metadata": {
        "colab": {
          "base_uri": "https://localhost:8080/"
        },
        "id": "M1Ldv1C0r1IP",
        "outputId": "c0481945-0dee-42e3-f192-f56640d494d4"
      },
      "execution_count": 9,
      "outputs": [
        {
          "output_type": "execute_result",
          "data": {
            "text/plain": [
              "198"
            ]
          },
          "metadata": {},
          "execution_count": 9
        }
      ]
    },
    {
      "cell_type": "code",
      "execution_count": 11,
      "metadata": {
        "colab": {
          "base_uri": "https://localhost:8080/"
        },
        "id": "1qIebKaoqVWS",
        "outputId": "42965e28-b917-4a38-ae26-1d215f886b5a"
      },
      "outputs": [
        {
          "output_type": "execute_result",
          "data": {
            "text/plain": [
              "200"
            ]
          },
          "metadata": {},
          "execution_count": 11
        }
      ],
      "source": [
        "cars2.count()"
      ]
    },
    {
      "cell_type": "markdown",
      "metadata": {
        "id": "vWlzigh_qVWS"
      },
      "source": [
        "### Step 6. Join cars1 and cars2 into a single DataFrame called cars"
      ]
    },
    {
      "cell_type": "code",
      "execution_count": 12,
      "metadata": {
        "colab": {
          "base_uri": "https://localhost:8080/"
        },
        "id": "NSk_J7c-qVWS",
        "outputId": "0df9bd88-09ca-4be9-ac90-0dbdd4b8e9ff"
      },
      "outputs": [
        {
          "output_type": "stream",
          "name": "stdout",
          "text": [
            "+----+---------+------------+----------+------+------------+-----+------+--------------------+---------+------------+----------+------+------------+-----+------+-----------------+\n",
            "| mpg|cylinders|displacement|horsepower|weight|acceleration|model|origin|                 car|cylinders|displacement|horsepower|weight|acceleration|model|origin|              car|\n",
            "+----+---------+------------+----------+------+------------+-----+------+--------------------+---------+------------+----------+------+------------+-----+------+-----------------+\n",
            "|33.0|        4|          91|        53|  1795|        17.5|   75|     3|    honda civic cvcc|        4|          91|        53|  1795|        17.4|   76|     3|      honda civic|\n",
            "|20.0|        6|         232|       100|  2914|        16.0|   75|     1|         amc gremlin|        6|         225|       100|  3651|        17.7|   76|     1|   dodge aspen se|\n",
            "|20.0|        8|         262|       110|  3221|        13.5|   75|     1| chevrolet monza 2+2|        6|         225|       100|  3651|        17.7|   76|     1|   dodge aspen se|\n",
            "|20.0|        6|         198|        95|  3102|        16.5|   74|     1|     plymouth duster|        6|         225|       100|  3651|        17.7|   76|     1|   dodge aspen se|\n",
            "|20.0|        6|         156|       122|  2807|        13.5|   73|     3|      toyota mark ii|        6|         225|       100|  3651|        17.7|   76|     1|   dodge aspen se|\n",
            "|20.0|        4|         114|        91|  2582|        14.0|   73|     2|          audi 100ls|        6|         225|       100|  3651|        17.7|   76|     1|   dodge aspen se|\n",
            "|20.0|        4|          97|        88|  2279|        19.0|   73|     3|       toyota carina|        6|         225|       100|  3651|        17.7|   76|     1|   dodge aspen se|\n",
            "|20.0|        4|         140|        90|  2408|        19.5|   72|     1|      chevrolet vega|        6|         225|       100|  3651|        17.7|   76|     1|   dodge aspen se|\n",
            "|18.0|        6|         171|        97|  2984|        14.5|   75|     1|          ford pinto|        6|         250|        78|  3574|        21.0|   76|     1|ford granada ghia|\n",
            "|18.0|        6|         225|        95|  3785|        19.0|   75|     1|       plymouth fury|        6|         250|        78|  3574|        21.0|   76|     1|ford granada ghia|\n",
            "|18.0|        6|         250|       105|  3459|        16.0|   75|     1|      chevrolet nova|        6|         250|        78|  3574|        21.0|   76|     1|ford granada ghia|\n",
            "|18.0|        6|         225|       105|  3613|        16.5|   74|     1|plymouth satellit...|        6|         250|        78|  3574|        21.0|   76|     1|ford granada ghia|\n",
            "|18.0|        3|          70|        90|  2124|        13.5|   73|     3|           maxda rx3|        6|         250|        78|  3574|        21.0|   76|     1|ford granada ghia|\n",
            "|18.0|        6|         232|       100|  2789|        15.0|   73|     1|         amc gremlin|        6|         250|        78|  3574|        21.0|   76|     1|ford granada ghia|\n",
            "|18.0|        6|         250|        88|  3021|        16.5|   73|     1|       ford maverick|        6|         250|        78|  3574|        21.0|   76|     1|ford granada ghia|\n",
            "|18.0|        6|         232|       100|  2945|        16.0|   73|     1|          amc hornet|        6|         250|        78|  3574|        21.0|   76|     1|ford granada ghia|\n",
            "|18.0|        6|         225|       105|  3121|        16.5|   73|     1|    plymouth valiant|        6|         250|        78|  3574|        21.0|   76|     1|ford granada ghia|\n",
            "|18.0|        4|         121|       112|  2933|        14.5|   72|     2|     volvo 145e (sw)|        6|         250|        78|  3574|        21.0|   76|     1|ford granada ghia|\n",
            "|18.0|        6|         250|        88|  3139|        14.5|   71|     1|        ford mustang|        6|         250|        78|  3574|        21.0|   76|     1|ford granada ghia|\n",
            "|18.0|        6|         258|       110|  2962|        13.5|   71|     1|amc hornet sporta...|        6|         250|        78|  3574|        21.0|   76|     1|ford granada ghia|\n",
            "+----+---------+------------+----------+------+------------+-----+------+--------------------+---------+------------+----------+------+------------+-----+------+-----------------+\n",
            "only showing top 20 rows\n",
            "\n"
          ]
        }
      ],
      "source": [
        "cars1.join(cars2, on='mpg').show()"
      ]
    },
    {
      "cell_type": "markdown",
      "metadata": {
        "id": "XF5spM0sqVWS"
      },
      "source": [
        "### Step 7. Oops, there is a column missing, called owners. Create a random number Series from 15,000 to 73,000."
      ]
    },
    {
      "cell_type": "code",
      "execution_count": 13,
      "metadata": {
        "colab": {
          "base_uri": "https://localhost:8080/"
        },
        "id": "ex9ZXlxZqVWS",
        "outputId": "7e5af412-972c-4aee-b694-0d4bb28c08ba"
      },
      "outputs": [
        {
          "output_type": "stream",
          "name": "stdout",
          "text": [
            "+----+---------+------------+----------+------+------------+-----+------+--------------------+------+\n",
            "| mpg|cylinders|displacement|horsepower|weight|acceleration|model|origin|                 car|owners|\n",
            "+----+---------+------------+----------+------+------------+-----+------+--------------------+------+\n",
            "|18.0|        8|         307|       130|  3504|        12.0|   70|     1|chevrolet chevell...| 65290|\n",
            "|15.0|        8|         350|       165|  3693|        11.5|   70|     1|   buick skylark 320| 44675|\n",
            "|18.0|        8|         318|       150|  3436|        11.0|   70|     1|  plymouth satellite| 53556|\n",
            "|16.0|        8|         304|       150|  3433|        12.0|   70|     1|       amc rebel sst| 29219|\n",
            "|17.0|        8|         302|       140|  3449|        10.5|   70|     1|         ford torino| 50562|\n",
            "|15.0|        8|         429|       198|  4341|        10.0|   70|     1|    ford galaxie 500| 46259|\n",
            "|14.0|        8|         454|       220|  4354|         9.0|   70|     1|    chevrolet impala| 62566|\n",
            "|14.0|        8|         440|       215|  4312|         8.5|   70|     1|   plymouth fury iii| 22611|\n",
            "|14.0|        8|         455|       225|  4425|        10.0|   70|     1|    pontiac catalina| 66870|\n",
            "|15.0|        8|         390|       190|  3850|         8.5|   70|     1|  amc ambassador dpl| 24586|\n",
            "|15.0|        8|         383|       170|  3563|        10.0|   70|     1| dodge challenger se| 36505|\n",
            "|14.0|        8|         340|       160|  3609|         8.0|   70|     1|  plymouth 'cuda 340| 67045|\n",
            "|15.0|        8|         400|       150|  3761|         9.5|   70|     1|chevrolet monte c...| 28745|\n",
            "|14.0|        8|         455|       225|  3086|        10.0|   70|     1|buick estate wago...| 54771|\n",
            "|24.0|        4|         113|        95|  2372|        15.0|   70|     3|toyota corona mar...| 66997|\n",
            "|22.0|        6|         198|        95|  2833|        15.5|   70|     1|     plymouth duster| 32307|\n",
            "|18.0|        6|         199|        97|  2774|        15.5|   70|     1|          amc hornet| 30967|\n",
            "|21.0|        6|         200|        85|  2587|        16.0|   70|     1|       ford maverick| 45009|\n",
            "|27.0|        4|          97|        88|  2130|        14.5|   70|     3|        datsun pl510| 55190|\n",
            "|26.0|        4|          97|        46|  1835|        20.5|   70|     2|volkswagen 1131 d...| 22607|\n",
            "+----+---------+------------+----------+------+------------+-----+------+--------------------+------+\n",
            "only showing top 20 rows\n",
            "\n",
            "root\n",
            " |-- mpg: double (nullable = true)\n",
            " |-- cylinders: integer (nullable = true)\n",
            " |-- displacement: integer (nullable = true)\n",
            " |-- horsepower: string (nullable = true)\n",
            " |-- weight: integer (nullable = true)\n",
            " |-- acceleration: double (nullable = true)\n",
            " |-- model: integer (nullable = true)\n",
            " |-- origin: integer (nullable = true)\n",
            " |-- car: string (nullable = true)\n",
            " |-- owners: long (nullable = true)\n",
            "\n"
          ]
        }
      ],
      "source": [
        "cars1 = cars1.withColumn('owners', F.floor(F.rand() * (73000 - 15000 + 1)) + 15000)\n",
        "cars1.show()\n",
        "cars1.printSchema()"
      ]
    }
  ],
  "metadata": {
    "anaconda-cloud": {},
    "kernelspec": {
      "display_name": "Python [default]",
      "language": "python",
      "name": "python2"
    },
    "language_info": {
      "codemirror_mode": {
        "name": "ipython",
        "version": 2
      },
      "file_extension": ".py",
      "mimetype": "text/x-python",
      "name": "python",
      "nbconvert_exporter": "python",
      "pygments_lexer": "ipython2",
      "version": "2.7.12"
    },
    "colab": {
      "provenance": []
    }
  },
  "nbformat": 4,
  "nbformat_minor": 0
}