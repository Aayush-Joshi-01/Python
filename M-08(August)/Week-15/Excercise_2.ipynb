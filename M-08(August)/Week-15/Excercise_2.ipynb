{
  "nbformat": 4,
  "nbformat_minor": 0,
  "metadata": {
    "colab": {
      "provenance": []
    },
    "kernelspec": {
      "name": "python3",
      "display_name": "Python 3"
    },
    "language_info": {
      "name": "python"
    }
  },
  "cells": [
    {
      "cell_type": "code",
      "execution_count": 42,
      "metadata": {
        "colab": {
          "base_uri": "https://localhost:8080/",
          "height": 291
        },
        "id": "RJD6gKY_oJmZ",
        "outputId": "b425cc13-0966-4122-c66c-21a56fc25ebd"
      },
      "outputs": [
        {
          "output_type": "stream",
          "name": "stdout",
          "text": [
            "Requirement already satisfied: pyspark in /usr/local/lib/python3.10/dist-packages (3.5.2)\n",
            "Requirement already satisfied: py4j==0.10.9.7 in /usr/local/lib/python3.10/dist-packages (from pyspark) (0.10.9.7)\n",
            "Requirement already satisfied: py4j in /usr/local/lib/python3.10/dist-packages (0.10.9.7)\n"
          ]
        },
        {
          "output_type": "execute_result",
          "data": {
            "text/plain": [
              "<pyspark.sql.session.SparkSession at 0x7894f1f57370>"
            ],
            "text/html": [
              "\n",
              "            <div>\n",
              "                <p><b>SparkSession - in-memory</b></p>\n",
              "                \n",
              "        <div>\n",
              "            <p><b>SparkContext</b></p>\n",
              "\n",
              "            <p><a href=\"http://6ef625b25d2b:4040\">Spark UI</a></p>\n",
              "\n",
              "            <dl>\n",
              "              <dt>Version</dt>\n",
              "                <dd><code>v3.5.2</code></dd>\n",
              "              <dt>Master</dt>\n",
              "                <dd><code>local[*]</code></dd>\n",
              "              <dt>AppName</dt>\n",
              "                <dd><code>Github Data</code></dd>\n",
              "            </dl>\n",
              "        </div>\n",
              "        \n",
              "            </div>\n",
              "        "
            ]
          },
          "metadata": {},
          "execution_count": 42
        }
      ],
      "source": [
        "!pip install -q findspark\n",
        "!pip install pyspark\n",
        "!pip install py4j\n",
        "\n",
        "import findspark\n",
        "findspark.init()\n",
        "findspark.find()\n",
        "\n",
        "import pyspark\n",
        "\n",
        "from pyspark.sql import DataFrame, SparkSession\n",
        "from typing import List\n",
        "import pyspark.sql.types as T\n",
        "import pyspark.sql.functions as F\n",
        "\n",
        "spark= SparkSession \\\n",
        "       .builder \\\n",
        "       .appName(\"Github Data\") \\\n",
        "       .getOrCreate()\n",
        "\n",
        "spark"
      ]
    },
    {
      "cell_type": "code",
      "source": [
        "import pandas as pd"
      ],
      "metadata": {
        "id": "LkoHjlNgo3th"
      },
      "execution_count": 43,
      "outputs": []
    },
    {
      "cell_type": "code",
      "source": [
        "df1 = pd.read_csv('departments.csv')"
      ],
      "metadata": {
        "id": "heZ6mM_tpVcX"
      },
      "execution_count": 44,
      "outputs": []
    },
    {
      "cell_type": "code",
      "source": [
        "df1"
      ],
      "metadata": {
        "colab": {
          "base_uri": "https://localhost:8080/",
          "height": 896
        },
        "id": "SpYFNwYJpaTk",
        "outputId": "f4b70a43-cdc8-48dd-fe0c-fc74b3fbbb90"
      },
      "execution_count": 45,
      "outputs": [
        {
          "output_type": "execute_result",
          "data": {
            "text/plain": [
              "    DEPARTMENT_ID       DEPARTMENT_NAME MANAGER_ID  LOCATION_ID\n",
              "0              10        Administration        200         1700\n",
              "1              20             Marketing        201         1800\n",
              "2              30            Purchasing        114         1700\n",
              "3              40       Human Resources        203         2400\n",
              "4              50              Shipping        121         1500\n",
              "5              60                    IT        103         1400\n",
              "6              70      Public Relations        204         2700\n",
              "7              80                 Sales        145         2500\n",
              "8              90             Executive        100         1700\n",
              "9             100               Finance        108         1700\n",
              "10            110            Accounting        205         1700\n",
              "11            120              Treasury         -          1700\n",
              "12            130         Corporate Tax         -          1700\n",
              "13            140    Control And Credit         -          1700\n",
              "14            150  Shareholder Services         -          1700\n",
              "15            160              Benefits         -          1700\n",
              "16            170         Manufacturing         -          1700\n",
              "17            180          Construction         -          1700\n",
              "18            190           Contracting         -          1700\n",
              "19            200            Operations         -          1700\n",
              "20            210            IT Support         -          1700\n",
              "21            220                   NOC         -          1700\n",
              "22            230           IT Helpdesk         -          1700\n",
              "23            240      Government Sales         -          1700\n",
              "24            250          Retail Sales         -          1700\n",
              "25            260            Recruiting         -          1700\n",
              "26            270               Payroll         -          1700"
            ],
            "text/html": [
              "\n",
              "  <div id=\"df-caa46382-6a38-416d-9bde-04c65987238b\" class=\"colab-df-container\">\n",
              "    <div>\n",
              "<style scoped>\n",
              "    .dataframe tbody tr th:only-of-type {\n",
              "        vertical-align: middle;\n",
              "    }\n",
              "\n",
              "    .dataframe tbody tr th {\n",
              "        vertical-align: top;\n",
              "    }\n",
              "\n",
              "    .dataframe thead th {\n",
              "        text-align: right;\n",
              "    }\n",
              "</style>\n",
              "<table border=\"1\" class=\"dataframe\">\n",
              "  <thead>\n",
              "    <tr style=\"text-align: right;\">\n",
              "      <th></th>\n",
              "      <th>DEPARTMENT_ID</th>\n",
              "      <th>DEPARTMENT_NAME</th>\n",
              "      <th>MANAGER_ID</th>\n",
              "      <th>LOCATION_ID</th>\n",
              "    </tr>\n",
              "  </thead>\n",
              "  <tbody>\n",
              "    <tr>\n",
              "      <th>0</th>\n",
              "      <td>10</td>\n",
              "      <td>Administration</td>\n",
              "      <td>200</td>\n",
              "      <td>1700</td>\n",
              "    </tr>\n",
              "    <tr>\n",
              "      <th>1</th>\n",
              "      <td>20</td>\n",
              "      <td>Marketing</td>\n",
              "      <td>201</td>\n",
              "      <td>1800</td>\n",
              "    </tr>\n",
              "    <tr>\n",
              "      <th>2</th>\n",
              "      <td>30</td>\n",
              "      <td>Purchasing</td>\n",
              "      <td>114</td>\n",
              "      <td>1700</td>\n",
              "    </tr>\n",
              "    <tr>\n",
              "      <th>3</th>\n",
              "      <td>40</td>\n",
              "      <td>Human Resources</td>\n",
              "      <td>203</td>\n",
              "      <td>2400</td>\n",
              "    </tr>\n",
              "    <tr>\n",
              "      <th>4</th>\n",
              "      <td>50</td>\n",
              "      <td>Shipping</td>\n",
              "      <td>121</td>\n",
              "      <td>1500</td>\n",
              "    </tr>\n",
              "    <tr>\n",
              "      <th>5</th>\n",
              "      <td>60</td>\n",
              "      <td>IT</td>\n",
              "      <td>103</td>\n",
              "      <td>1400</td>\n",
              "    </tr>\n",
              "    <tr>\n",
              "      <th>6</th>\n",
              "      <td>70</td>\n",
              "      <td>Public Relations</td>\n",
              "      <td>204</td>\n",
              "      <td>2700</td>\n",
              "    </tr>\n",
              "    <tr>\n",
              "      <th>7</th>\n",
              "      <td>80</td>\n",
              "      <td>Sales</td>\n",
              "      <td>145</td>\n",
              "      <td>2500</td>\n",
              "    </tr>\n",
              "    <tr>\n",
              "      <th>8</th>\n",
              "      <td>90</td>\n",
              "      <td>Executive</td>\n",
              "      <td>100</td>\n",
              "      <td>1700</td>\n",
              "    </tr>\n",
              "    <tr>\n",
              "      <th>9</th>\n",
              "      <td>100</td>\n",
              "      <td>Finance</td>\n",
              "      <td>108</td>\n",
              "      <td>1700</td>\n",
              "    </tr>\n",
              "    <tr>\n",
              "      <th>10</th>\n",
              "      <td>110</td>\n",
              "      <td>Accounting</td>\n",
              "      <td>205</td>\n",
              "      <td>1700</td>\n",
              "    </tr>\n",
              "    <tr>\n",
              "      <th>11</th>\n",
              "      <td>120</td>\n",
              "      <td>Treasury</td>\n",
              "      <td>-</td>\n",
              "      <td>1700</td>\n",
              "    </tr>\n",
              "    <tr>\n",
              "      <th>12</th>\n",
              "      <td>130</td>\n",
              "      <td>Corporate Tax</td>\n",
              "      <td>-</td>\n",
              "      <td>1700</td>\n",
              "    </tr>\n",
              "    <tr>\n",
              "      <th>13</th>\n",
              "      <td>140</td>\n",
              "      <td>Control And Credit</td>\n",
              "      <td>-</td>\n",
              "      <td>1700</td>\n",
              "    </tr>\n",
              "    <tr>\n",
              "      <th>14</th>\n",
              "      <td>150</td>\n",
              "      <td>Shareholder Services</td>\n",
              "      <td>-</td>\n",
              "      <td>1700</td>\n",
              "    </tr>\n",
              "    <tr>\n",
              "      <th>15</th>\n",
              "      <td>160</td>\n",
              "      <td>Benefits</td>\n",
              "      <td>-</td>\n",
              "      <td>1700</td>\n",
              "    </tr>\n",
              "    <tr>\n",
              "      <th>16</th>\n",
              "      <td>170</td>\n",
              "      <td>Manufacturing</td>\n",
              "      <td>-</td>\n",
              "      <td>1700</td>\n",
              "    </tr>\n",
              "    <tr>\n",
              "      <th>17</th>\n",
              "      <td>180</td>\n",
              "      <td>Construction</td>\n",
              "      <td>-</td>\n",
              "      <td>1700</td>\n",
              "    </tr>\n",
              "    <tr>\n",
              "      <th>18</th>\n",
              "      <td>190</td>\n",
              "      <td>Contracting</td>\n",
              "      <td>-</td>\n",
              "      <td>1700</td>\n",
              "    </tr>\n",
              "    <tr>\n",
              "      <th>19</th>\n",
              "      <td>200</td>\n",
              "      <td>Operations</td>\n",
              "      <td>-</td>\n",
              "      <td>1700</td>\n",
              "    </tr>\n",
              "    <tr>\n",
              "      <th>20</th>\n",
              "      <td>210</td>\n",
              "      <td>IT Support</td>\n",
              "      <td>-</td>\n",
              "      <td>1700</td>\n",
              "    </tr>\n",
              "    <tr>\n",
              "      <th>21</th>\n",
              "      <td>220</td>\n",
              "      <td>NOC</td>\n",
              "      <td>-</td>\n",
              "      <td>1700</td>\n",
              "    </tr>\n",
              "    <tr>\n",
              "      <th>22</th>\n",
              "      <td>230</td>\n",
              "      <td>IT Helpdesk</td>\n",
              "      <td>-</td>\n",
              "      <td>1700</td>\n",
              "    </tr>\n",
              "    <tr>\n",
              "      <th>23</th>\n",
              "      <td>240</td>\n",
              "      <td>Government Sales</td>\n",
              "      <td>-</td>\n",
              "      <td>1700</td>\n",
              "    </tr>\n",
              "    <tr>\n",
              "      <th>24</th>\n",
              "      <td>250</td>\n",
              "      <td>Retail Sales</td>\n",
              "      <td>-</td>\n",
              "      <td>1700</td>\n",
              "    </tr>\n",
              "    <tr>\n",
              "      <th>25</th>\n",
              "      <td>260</td>\n",
              "      <td>Recruiting</td>\n",
              "      <td>-</td>\n",
              "      <td>1700</td>\n",
              "    </tr>\n",
              "    <tr>\n",
              "      <th>26</th>\n",
              "      <td>270</td>\n",
              "      <td>Payroll</td>\n",
              "      <td>-</td>\n",
              "      <td>1700</td>\n",
              "    </tr>\n",
              "  </tbody>\n",
              "</table>\n",
              "</div>\n",
              "    <div class=\"colab-df-buttons\">\n",
              "\n",
              "  <div class=\"colab-df-container\">\n",
              "    <button class=\"colab-df-convert\" onclick=\"convertToInteractive('df-caa46382-6a38-416d-9bde-04c65987238b')\"\n",
              "            title=\"Convert this dataframe to an interactive table.\"\n",
              "            style=\"display:none;\">\n",
              "\n",
              "  <svg xmlns=\"http://www.w3.org/2000/svg\" height=\"24px\" viewBox=\"0 -960 960 960\">\n",
              "    <path d=\"M120-120v-720h720v720H120Zm60-500h600v-160H180v160Zm220 220h160v-160H400v160Zm0 220h160v-160H400v160ZM180-400h160v-160H180v160Zm440 0h160v-160H620v160ZM180-180h160v-160H180v160Zm440 0h160v-160H620v160Z\"/>\n",
              "  </svg>\n",
              "    </button>\n",
              "\n",
              "  <style>\n",
              "    .colab-df-container {\n",
              "      display:flex;\n",
              "      gap: 12px;\n",
              "    }\n",
              "\n",
              "    .colab-df-convert {\n",
              "      background-color: #E8F0FE;\n",
              "      border: none;\n",
              "      border-radius: 50%;\n",
              "      cursor: pointer;\n",
              "      display: none;\n",
              "      fill: #1967D2;\n",
              "      height: 32px;\n",
              "      padding: 0 0 0 0;\n",
              "      width: 32px;\n",
              "    }\n",
              "\n",
              "    .colab-df-convert:hover {\n",
              "      background-color: #E2EBFA;\n",
              "      box-shadow: 0px 1px 2px rgba(60, 64, 67, 0.3), 0px 1px 3px 1px rgba(60, 64, 67, 0.15);\n",
              "      fill: #174EA6;\n",
              "    }\n",
              "\n",
              "    .colab-df-buttons div {\n",
              "      margin-bottom: 4px;\n",
              "    }\n",
              "\n",
              "    [theme=dark] .colab-df-convert {\n",
              "      background-color: #3B4455;\n",
              "      fill: #D2E3FC;\n",
              "    }\n",
              "\n",
              "    [theme=dark] .colab-df-convert:hover {\n",
              "      background-color: #434B5C;\n",
              "      box-shadow: 0px 1px 3px 1px rgba(0, 0, 0, 0.15);\n",
              "      filter: drop-shadow(0px 1px 2px rgba(0, 0, 0, 0.3));\n",
              "      fill: #FFFFFF;\n",
              "    }\n",
              "  </style>\n",
              "\n",
              "    <script>\n",
              "      const buttonEl =\n",
              "        document.querySelector('#df-caa46382-6a38-416d-9bde-04c65987238b button.colab-df-convert');\n",
              "      buttonEl.style.display =\n",
              "        google.colab.kernel.accessAllowed ? 'block' : 'none';\n",
              "\n",
              "      async function convertToInteractive(key) {\n",
              "        const element = document.querySelector('#df-caa46382-6a38-416d-9bde-04c65987238b');\n",
              "        const dataTable =\n",
              "          await google.colab.kernel.invokeFunction('convertToInteractive',\n",
              "                                                    [key], {});\n",
              "        if (!dataTable) return;\n",
              "\n",
              "        const docLinkHtml = 'Like what you see? Visit the ' +\n",
              "          '<a target=\"_blank\" href=https://colab.research.google.com/notebooks/data_table.ipynb>data table notebook</a>'\n",
              "          + ' to learn more about interactive tables.';\n",
              "        element.innerHTML = '';\n",
              "        dataTable['output_type'] = 'display_data';\n",
              "        await google.colab.output.renderOutput(dataTable, element);\n",
              "        const docLink = document.createElement('div');\n",
              "        docLink.innerHTML = docLinkHtml;\n",
              "        element.appendChild(docLink);\n",
              "      }\n",
              "    </script>\n",
              "  </div>\n",
              "\n",
              "\n",
              "<div id=\"df-ce20c2d1-3996-46c2-ab3e-40d1f782d651\">\n",
              "  <button class=\"colab-df-quickchart\" onclick=\"quickchart('df-ce20c2d1-3996-46c2-ab3e-40d1f782d651')\"\n",
              "            title=\"Suggest charts\"\n",
              "            style=\"display:none;\">\n",
              "\n",
              "<svg xmlns=\"http://www.w3.org/2000/svg\" height=\"24px\"viewBox=\"0 0 24 24\"\n",
              "     width=\"24px\">\n",
              "    <g>\n",
              "        <path d=\"M19 3H5c-1.1 0-2 .9-2 2v14c0 1.1.9 2 2 2h14c1.1 0 2-.9 2-2V5c0-1.1-.9-2-2-2zM9 17H7v-7h2v7zm4 0h-2V7h2v10zm4 0h-2v-4h2v4z\"/>\n",
              "    </g>\n",
              "</svg>\n",
              "  </button>\n",
              "\n",
              "<style>\n",
              "  .colab-df-quickchart {\n",
              "      --bg-color: #E8F0FE;\n",
              "      --fill-color: #1967D2;\n",
              "      --hover-bg-color: #E2EBFA;\n",
              "      --hover-fill-color: #174EA6;\n",
              "      --disabled-fill-color: #AAA;\n",
              "      --disabled-bg-color: #DDD;\n",
              "  }\n",
              "\n",
              "  [theme=dark] .colab-df-quickchart {\n",
              "      --bg-color: #3B4455;\n",
              "      --fill-color: #D2E3FC;\n",
              "      --hover-bg-color: #434B5C;\n",
              "      --hover-fill-color: #FFFFFF;\n",
              "      --disabled-bg-color: #3B4455;\n",
              "      --disabled-fill-color: #666;\n",
              "  }\n",
              "\n",
              "  .colab-df-quickchart {\n",
              "    background-color: var(--bg-color);\n",
              "    border: none;\n",
              "    border-radius: 50%;\n",
              "    cursor: pointer;\n",
              "    display: none;\n",
              "    fill: var(--fill-color);\n",
              "    height: 32px;\n",
              "    padding: 0;\n",
              "    width: 32px;\n",
              "  }\n",
              "\n",
              "  .colab-df-quickchart:hover {\n",
              "    background-color: var(--hover-bg-color);\n",
              "    box-shadow: 0 1px 2px rgba(60, 64, 67, 0.3), 0 1px 3px 1px rgba(60, 64, 67, 0.15);\n",
              "    fill: var(--button-hover-fill-color);\n",
              "  }\n",
              "\n",
              "  .colab-df-quickchart-complete:disabled,\n",
              "  .colab-df-quickchart-complete:disabled:hover {\n",
              "    background-color: var(--disabled-bg-color);\n",
              "    fill: var(--disabled-fill-color);\n",
              "    box-shadow: none;\n",
              "  }\n",
              "\n",
              "  .colab-df-spinner {\n",
              "    border: 2px solid var(--fill-color);\n",
              "    border-color: transparent;\n",
              "    border-bottom-color: var(--fill-color);\n",
              "    animation:\n",
              "      spin 1s steps(1) infinite;\n",
              "  }\n",
              "\n",
              "  @keyframes spin {\n",
              "    0% {\n",
              "      border-color: transparent;\n",
              "      border-bottom-color: var(--fill-color);\n",
              "      border-left-color: var(--fill-color);\n",
              "    }\n",
              "    20% {\n",
              "      border-color: transparent;\n",
              "      border-left-color: var(--fill-color);\n",
              "      border-top-color: var(--fill-color);\n",
              "    }\n",
              "    30% {\n",
              "      border-color: transparent;\n",
              "      border-left-color: var(--fill-color);\n",
              "      border-top-color: var(--fill-color);\n",
              "      border-right-color: var(--fill-color);\n",
              "    }\n",
              "    40% {\n",
              "      border-color: transparent;\n",
              "      border-right-color: var(--fill-color);\n",
              "      border-top-color: var(--fill-color);\n",
              "    }\n",
              "    60% {\n",
              "      border-color: transparent;\n",
              "      border-right-color: var(--fill-color);\n",
              "    }\n",
              "    80% {\n",
              "      border-color: transparent;\n",
              "      border-right-color: var(--fill-color);\n",
              "      border-bottom-color: var(--fill-color);\n",
              "    }\n",
              "    90% {\n",
              "      border-color: transparent;\n",
              "      border-bottom-color: var(--fill-color);\n",
              "    }\n",
              "  }\n",
              "</style>\n",
              "\n",
              "  <script>\n",
              "    async function quickchart(key) {\n",
              "      const quickchartButtonEl =\n",
              "        document.querySelector('#' + key + ' button');\n",
              "      quickchartButtonEl.disabled = true;  // To prevent multiple clicks.\n",
              "      quickchartButtonEl.classList.add('colab-df-spinner');\n",
              "      try {\n",
              "        const charts = await google.colab.kernel.invokeFunction(\n",
              "            'suggestCharts', [key], {});\n",
              "      } catch (error) {\n",
              "        console.error('Error during call to suggestCharts:', error);\n",
              "      }\n",
              "      quickchartButtonEl.classList.remove('colab-df-spinner');\n",
              "      quickchartButtonEl.classList.add('colab-df-quickchart-complete');\n",
              "    }\n",
              "    (() => {\n",
              "      let quickchartButtonEl =\n",
              "        document.querySelector('#df-ce20c2d1-3996-46c2-ab3e-40d1f782d651 button');\n",
              "      quickchartButtonEl.style.display =\n",
              "        google.colab.kernel.accessAllowed ? 'block' : 'none';\n",
              "    })();\n",
              "  </script>\n",
              "</div>\n",
              "\n",
              "  <div id=\"id_50f8280a-77d5-4b5c-9720-ca75484f36bf\">\n",
              "    <style>\n",
              "      .colab-df-generate {\n",
              "        background-color: #E8F0FE;\n",
              "        border: none;\n",
              "        border-radius: 50%;\n",
              "        cursor: pointer;\n",
              "        display: none;\n",
              "        fill: #1967D2;\n",
              "        height: 32px;\n",
              "        padding: 0 0 0 0;\n",
              "        width: 32px;\n",
              "      }\n",
              "\n",
              "      .colab-df-generate:hover {\n",
              "        background-color: #E2EBFA;\n",
              "        box-shadow: 0px 1px 2px rgba(60, 64, 67, 0.3), 0px 1px 3px 1px rgba(60, 64, 67, 0.15);\n",
              "        fill: #174EA6;\n",
              "      }\n",
              "\n",
              "      [theme=dark] .colab-df-generate {\n",
              "        background-color: #3B4455;\n",
              "        fill: #D2E3FC;\n",
              "      }\n",
              "\n",
              "      [theme=dark] .colab-df-generate:hover {\n",
              "        background-color: #434B5C;\n",
              "        box-shadow: 0px 1px 3px 1px rgba(0, 0, 0, 0.15);\n",
              "        filter: drop-shadow(0px 1px 2px rgba(0, 0, 0, 0.3));\n",
              "        fill: #FFFFFF;\n",
              "      }\n",
              "    </style>\n",
              "    <button class=\"colab-df-generate\" onclick=\"generateWithVariable('df1')\"\n",
              "            title=\"Generate code using this dataframe.\"\n",
              "            style=\"display:none;\">\n",
              "\n",
              "  <svg xmlns=\"http://www.w3.org/2000/svg\" height=\"24px\"viewBox=\"0 0 24 24\"\n",
              "       width=\"24px\">\n",
              "    <path d=\"M7,19H8.4L18.45,9,17,7.55,7,17.6ZM5,21V16.75L18.45,3.32a2,2,0,0,1,2.83,0l1.4,1.43a1.91,1.91,0,0,1,.58,1.4,1.91,1.91,0,0,1-.58,1.4L9.25,21ZM18.45,9,17,7.55Zm-12,3A5.31,5.31,0,0,0,4.9,8.1,5.31,5.31,0,0,0,1,6.5,5.31,5.31,0,0,0,4.9,4.9,5.31,5.31,0,0,0,6.5,1,5.31,5.31,0,0,0,8.1,4.9,5.31,5.31,0,0,0,12,6.5,5.46,5.46,0,0,0,6.5,12Z\"/>\n",
              "  </svg>\n",
              "    </button>\n",
              "    <script>\n",
              "      (() => {\n",
              "      const buttonEl =\n",
              "        document.querySelector('#id_50f8280a-77d5-4b5c-9720-ca75484f36bf button.colab-df-generate');\n",
              "      buttonEl.style.display =\n",
              "        google.colab.kernel.accessAllowed ? 'block' : 'none';\n",
              "\n",
              "      buttonEl.onclick = () => {\n",
              "        google.colab.notebook.generateWithVariable('df1');\n",
              "      }\n",
              "      })();\n",
              "    </script>\n",
              "  </div>\n",
              "\n",
              "    </div>\n",
              "  </div>\n"
            ],
            "application/vnd.google.colaboratory.intrinsic+json": {
              "type": "dataframe",
              "variable_name": "df1",
              "summary": "{\n  \"name\": \"df1\",\n  \"rows\": 27,\n  \"fields\": [\n    {\n      \"column\": \"DEPARTMENT_ID\",\n      \"properties\": {\n        \"dtype\": \"number\",\n        \"std\": 79,\n        \"min\": 10,\n        \"max\": 270,\n        \"num_unique_values\": 27,\n        \"samples\": [\n          90,\n          140,\n          100\n        ],\n        \"semantic_type\": \"\",\n        \"description\": \"\"\n      }\n    },\n    {\n      \"column\": \"DEPARTMENT_NAME\",\n      \"properties\": {\n        \"dtype\": \"string\",\n        \"num_unique_values\": 27,\n        \"samples\": [\n          \"Executive\",\n          \"Control And Credit\",\n          \"Finance\"\n        ],\n        \"semantic_type\": \"\",\n        \"description\": \"\"\n      }\n    },\n    {\n      \"column\": \"MANAGER_ID\",\n      \"properties\": {\n        \"dtype\": \"category\",\n        \"num_unique_values\": 12,\n        \"samples\": [\n          \"205\",\n          \"108\",\n          \"200\"\n        ],\n        \"semantic_type\": \"\",\n        \"description\": \"\"\n      }\n    },\n    {\n      \"column\": \"LOCATION_ID\",\n      \"properties\": {\n        \"dtype\": \"number\",\n        \"std\": 284,\n        \"min\": 1400,\n        \"max\": 2700,\n        \"num_unique_values\": 7,\n        \"samples\": [\n          1700,\n          1800,\n          2700\n        ],\n        \"semantic_type\": \"\",\n        \"description\": \"\"\n      }\n    }\n  ]\n}"
            }
          },
          "metadata": {},
          "execution_count": 45
        }
      ]
    },
    {
      "cell_type": "code",
      "source": [
        "! pip install openpyxl"
      ],
      "metadata": {
        "colab": {
          "base_uri": "https://localhost:8080/"
        },
        "id": "uwimDySCpe-S",
        "outputId": "5c477725-4965-4649-acaa-ab7fd451c298"
      },
      "execution_count": 46,
      "outputs": [
        {
          "output_type": "stream",
          "name": "stdout",
          "text": [
            "Requirement already satisfied: openpyxl in /usr/local/lib/python3.10/dist-packages (3.1.5)\n",
            "Requirement already satisfied: et-xmlfile in /usr/local/lib/python3.10/dist-packages (from openpyxl) (1.1.0)\n"
          ]
        }
      ]
    },
    {
      "cell_type": "code",
      "source": [
        "df1.to_json('employees.json')"
      ],
      "metadata": {
        "id": "r5TFHnd0pklY"
      },
      "execution_count": 47,
      "outputs": []
    },
    {
      "cell_type": "markdown",
      "source": [],
      "metadata": {
        "id": "-emfEh5Yq__G"
      }
    },
    {
      "cell_type": "markdown",
      "source": [
        "1•\tCreate a DataFrame from a JSON file and infer the schema."
      ],
      "metadata": {
        "id": "twhxazA76aXQ"
      }
    },
    {
      "cell_type": "code",
      "source": [
        "emp_df = spark.read.json('employees.json')"
      ],
      "metadata": {
        "id": "zFJteMYhp-6y"
      },
      "execution_count": 48,
      "outputs": []
    },
    {
      "cell_type": "code",
      "source": [
        "emp_df.show()\n"
      ],
      "metadata": {
        "colab": {
          "base_uri": "https://localhost:8080/"
        },
        "id": "Ybm3Ph24qMhJ",
        "outputId": "cdf1a311-235d-409c-b3bd-31046197dcb9"
      },
      "execution_count": 49,
      "outputs": [
        {
          "output_type": "stream",
          "name": "stdout",
          "text": [
            "+--------------------+--------------------+--------------------+--------------------+\n",
            "|       DEPARTMENT_ID|     DEPARTMENT_NAME|         LOCATION_ID|          MANAGER_ID|\n",
            "+--------------------+--------------------+--------------------+--------------------+\n",
            "|{10, 20, 110, 120...|{Administration, ...|{1700, 1800, 1700...|{200, 201, 205,  ...|\n",
            "+--------------------+--------------------+--------------------+--------------------+\n",
            "\n"
          ]
        }
      ]
    },
    {
      "cell_type": "markdown",
      "source": [
        "2\tPerform a left  join between two DataFrames."
      ],
      "metadata": {
        "id": "mhZCeKAgrJSO"
      }
    },
    {
      "cell_type": "code",
      "source": [
        "emp_df=spark.read.csv('employees.csv',header=True, inferSchema=True)"
      ],
      "metadata": {
        "id": "6icbjPWOrP1V"
      },
      "execution_count": 50,
      "outputs": []
    },
    {
      "cell_type": "code",
      "source": [
        "dept_df=spark.read.csv('departments.csv',header=True, inferSchema=True)"
      ],
      "metadata": {
        "id": "EBMkxPLhrmbp"
      },
      "execution_count": 51,
      "outputs": []
    },
    {
      "cell_type": "code",
      "source": [
        "emp_df.join(dept_df,on='Department_id',how=\"left\").show()"
      ],
      "metadata": {
        "colab": {
          "base_uri": "https://localhost:8080/"
        },
        "id": "6H7TY9ljq8Ou",
        "outputId": "d307b26f-09c6-4ea4-b406-18a77e8e5dbb"
      },
      "execution_count": 52,
      "outputs": [
        {
          "output_type": "stream",
          "name": "stdout",
          "text": [
            "+-------------+-----------+----------+---------+--------+------------+---------+----------+------+--------------+----------+----------------+----------+-----------+\n",
            "|DEPARTMENT_ID|EMPLOYEE_ID|FIRST_NAME|LAST_NAME|   EMAIL|PHONE_NUMBER|HIRE_DATE|    JOB_ID|SALARY|COMMISSION_PCT|MANAGER_ID| DEPARTMENT_NAME|MANAGER_ID|LOCATION_ID|\n",
            "+-------------+-----------+----------+---------+--------+------------+---------+----------+------+--------------+----------+----------------+----------+-----------+\n",
            "|           50|        198|    Donald| OConnell|DOCONNEL|650.507.9833|21-Jun-07|  SH_CLERK|  2600|            - |       124|        Shipping|       121|       1500|\n",
            "|           50|        199|   Douglas|    Grant|  DGRANT|650.507.9844|13-Jan-08|  SH_CLERK|  2600|            - |       124|        Shipping|       121|       1500|\n",
            "|           10|        200|  Jennifer|   Whalen| JWHALEN|515.123.4444|17-Sep-03|   AD_ASST|  4400|            - |       101|  Administration|       200|       1700|\n",
            "|           20|        201|   Michael|Hartstein|MHARTSTE|515.123.5555|17-Feb-04|    MK_MAN| 13000|            - |       100|       Marketing|       201|       1800|\n",
            "|           20|        202|       Pat|      Fay|    PFAY|603.123.6666|17-Aug-05|    MK_REP|  6000|            - |       201|       Marketing|       201|       1800|\n",
            "|           40|        203|     Susan|   Mavris| SMAVRIS|515.123.7777| 7-Jun-02|    HR_REP|  6500|            - |       101| Human Resources|       203|       2400|\n",
            "|           70|        204|   Hermann|     Baer|   HBAER|515.123.8888| 7-Jun-02|    PR_REP| 10000|            - |       101|Public Relations|       204|       2700|\n",
            "|          110|        205|   Shelley|  Higgins|SHIGGINS|515.123.8080| 7-Jun-02|    AC_MGR| 12008|            - |       101|      Accounting|       205|       1700|\n",
            "|          110|        206|   William|    Gietz|  WGIETZ|515.123.8181| 7-Jun-02|AC_ACCOUNT|  8300|            - |       205|      Accounting|       205|       1700|\n",
            "|           90|        100|    Steven|     King|   SKING|515.123.4567|17-Jun-03|   AD_PRES| 24000|            - |        - |       Executive|       100|       1700|\n",
            "|           90|        101|     Neena|  Kochhar|NKOCHHAR|515.123.4568|21-Sep-05|     AD_VP| 17000|            - |       100|       Executive|       100|       1700|\n",
            "|           90|        102|       Lex|  De Haan| LDEHAAN|515.123.4569|13-Jan-01|     AD_VP| 17000|            - |       100|       Executive|       100|       1700|\n",
            "|           60|        103| Alexander|   Hunold| AHUNOLD|590.423.4567| 3-Jan-06|   IT_PROG|  9000|            - |       102|              IT|       103|       1400|\n",
            "|           60|        104|     Bruce|    Ernst|  BERNST|590.423.4568|21-May-07|   IT_PROG|  6000|            - |       103|              IT|       103|       1400|\n",
            "|           60|        105|     David|   Austin| DAUSTIN|590.423.4569|25-Jun-05|   IT_PROG|  4800|            - |       103|              IT|       103|       1400|\n",
            "|           60|        106|     Valli|Pataballa|VPATABAL|590.423.4560| 5-Feb-06|   IT_PROG|  4800|            - |       103|              IT|       103|       1400|\n",
            "|           60|        107|     Diana|  Lorentz|DLORENTZ|590.423.5567| 7-Feb-07|   IT_PROG|  4200|            - |       103|              IT|       103|       1400|\n",
            "|          100|        108|     Nancy|Greenberg|NGREENBE|515.124.4569|17-Aug-02|    FI_MGR| 12008|            - |       101|         Finance|       108|       1700|\n",
            "|          100|        109|    Daniel|   Faviet| DFAVIET|515.124.4169|16-Aug-02|FI_ACCOUNT|  9000|            - |       108|         Finance|       108|       1700|\n",
            "|          100|        110|      John|     Chen|   JCHEN|515.124.4269|28-Sep-05|FI_ACCOUNT|  8200|            - |       108|         Finance|       108|       1700|\n",
            "+-------------+-----------+----------+---------+--------+------------+---------+----------+------+--------------+----------+----------------+----------+-----------+\n",
            "only showing top 20 rows\n",
            "\n"
          ]
        }
      ]
    },
    {
      "cell_type": "markdown",
      "source": [
        "3.\tUse a window function to calculate the rank of employees based on their salaries within each department."
      ],
      "metadata": {
        "id": "-m5sLlHc4Ymx"
      }
    },
    {
      "cell_type": "code",
      "source": [
        "\n",
        "from pyspark.sql.window import Window"
      ],
      "metadata": {
        "id": "1dvpBGce4nJ6"
      },
      "execution_count": 53,
      "outputs": []
    },
    {
      "cell_type": "code",
      "source": [
        "emp_df.withColumn('RANK', F.rank().over(Window.partitionBy('DEPARTMENT_ID').orderBy('SALARY'))).show(10)"
      ],
      "metadata": {
        "colab": {
          "base_uri": "https://localhost:8080/"
        },
        "id": "-_hIpScy5O9p",
        "outputId": "33d16210-88fa-453e-9f81-0f169a846142"
      },
      "execution_count": 54,
      "outputs": [
        {
          "output_type": "stream",
          "name": "stdout",
          "text": [
            "+-----------+----------+----------+--------+------------+---------+--------+------+--------------+----------+-------------+----+\n",
            "|EMPLOYEE_ID|FIRST_NAME| LAST_NAME|   EMAIL|PHONE_NUMBER|HIRE_DATE|  JOB_ID|SALARY|COMMISSION_PCT|MANAGER_ID|DEPARTMENT_ID|RANK|\n",
            "+-----------+----------+----------+--------+------------+---------+--------+------+--------------+----------+-------------+----+\n",
            "|        200|  Jennifer|    Whalen| JWHALEN|515.123.4444|17-Sep-03| AD_ASST|  4400|            - |       101|           10|   1|\n",
            "|        202|       Pat|       Fay|    PFAY|603.123.6666|17-Aug-05|  MK_REP|  6000|            - |       201|           20|   1|\n",
            "|        201|   Michael| Hartstein|MHARTSTE|515.123.5555|17-Feb-04|  MK_MAN| 13000|            - |       100|           20|   2|\n",
            "|        119|     Karen|Colmenares|KCOLMENA|515.127.4566|10-Aug-07|PU_CLERK|  2500|            - |       114|           30|   1|\n",
            "|        118|       Guy|    Himuro| GHIMURO|515.127.4565|15-Nov-06|PU_CLERK|  2600|            - |       114|           30|   2|\n",
            "|        117|     Sigal|    Tobias| STOBIAS|515.127.4564|24-Jul-05|PU_CLERK|  2800|            - |       114|           30|   3|\n",
            "|        116|    Shelli|     Baida|  SBAIDA|515.127.4563|24-Dec-05|PU_CLERK|  2900|            - |       114|           30|   4|\n",
            "|        115| Alexander|      Khoo|   AKHOO|515.127.4562|18-May-03|PU_CLERK|  3100|            - |       114|           30|   5|\n",
            "|        114|       Den|  Raphaely|DRAPHEAL|515.127.4561| 7-Dec-02|  PU_MAN| 11000|            - |       100|           30|   6|\n",
            "|        203|     Susan|    Mavris| SMAVRIS|515.123.7777| 7-Jun-02|  HR_REP|  6500|            - |       101|           40|   1|\n",
            "+-----------+----------+----------+--------+------------+---------+--------+------+--------------+----------+-------------+----+\n",
            "only showing top 10 rows\n",
            "\n"
          ]
        }
      ]
    },
    {
      "cell_type": "markdown",
      "source": [
        "4•\tWrite a DataFrame to a Parquet file with partitioning by a specific column."
      ],
      "metadata": {
        "id": "l5Jj7Cof6jox"
      }
    },
    {
      "cell_type": "code",
      "source": [
        "emp_df.write.partitionBy('DEPARTMENT_ID').parquet('/content/sample_data/emp1.parquet')"
      ],
      "metadata": {
        "id": "RRrqtnHs6qAO"
      },
      "execution_count": null,
      "outputs": []
    },
    {
      "cell_type": "code",
      "source": [
        "read_df = spark.read.parquet('/content/sample_data/emp1.parquet')\n",
        "read_df.show(5)"
      ],
      "metadata": {
        "colab": {
          "base_uri": "https://localhost:8080/"
        },
        "id": "Wrf9Jnl_PgkA",
        "outputId": "e8934841-8101-4f13-cd94-8f7c630e0b1f"
      },
      "execution_count": 94,
      "outputs": [
        {
          "output_type": "stream",
          "name": "stdout",
          "text": [
            "+-----------+----------+---------+--------+------------+---------+--------+------+--------------+----------+-------------+\n",
            "|EMPLOYEE_ID|FIRST_NAME|LAST_NAME|   EMAIL|PHONE_NUMBER|HIRE_DATE|  JOB_ID|SALARY|COMMISSION_PCT|MANAGER_ID|DEPARTMENT_ID|\n",
            "+-----------+----------+---------+--------+------------+---------+--------+------+--------------+----------+-------------+\n",
            "|        198|    Donald| OConnell|DOCONNEL|650.507.9833|21-Jun-07|SH_CLERK|  2600|            - |       124|           50|\n",
            "|        199|   Douglas|    Grant|  DGRANT|650.507.9844|13-Jan-08|SH_CLERK|  2600|            - |       124|           50|\n",
            "|        120|   Matthew|    Weiss|  MWEISS|650.123.1234|18-Jul-04|  ST_MAN|  8000|            - |       100|           50|\n",
            "|        121|      Adam|    Fripp|  AFRIPP|650.123.2234|10-Apr-05|  ST_MAN|  8200|            - |       100|           50|\n",
            "|        122|     Payam| Kaufling|PKAUFLIN|650.123.3234| 1-May-03|  ST_MAN|  7900|            - |       100|           50|\n",
            "+-----------+----------+---------+--------+------------+---------+--------+------+--------------+----------+-------------+\n",
            "only showing top 5 rows\n",
            "\n"
          ]
        }
      ]
    },
    {
      "cell_type": "markdown",
      "source": [
        "5•\tUse the mapPartitions transformation to apply a function to each partition of the DataFrame."
      ],
      "metadata": {
        "id": "gFqSdz8R9RJg"
      }
    },
    {
      "cell_type": "code",
      "source": [
        "dept_df.rdd.mapPartitions(lambda x: x).collect()\n"
      ],
      "metadata": {
        "colab": {
          "base_uri": "https://localhost:8080/"
        },
        "id": "HMzLZqSl9Zvi",
        "outputId": "d9e6ed6a-9530-469b-a0da-14d59b972d17"
      },
      "execution_count": 57,
      "outputs": [
        {
          "output_type": "execute_result",
          "data": {
            "text/plain": [
              "[Row(DEPARTMENT_ID=10, DEPARTMENT_NAME='Administration', MANAGER_ID='200', LOCATION_ID=1700),\n",
              " Row(DEPARTMENT_ID=20, DEPARTMENT_NAME='Marketing', MANAGER_ID='201', LOCATION_ID=1800),\n",
              " Row(DEPARTMENT_ID=30, DEPARTMENT_NAME='Purchasing', MANAGER_ID='114', LOCATION_ID=1700),\n",
              " Row(DEPARTMENT_ID=40, DEPARTMENT_NAME='Human Resources', MANAGER_ID='203', LOCATION_ID=2400),\n",
              " Row(DEPARTMENT_ID=50, DEPARTMENT_NAME='Shipping', MANAGER_ID='121', LOCATION_ID=1500),\n",
              " Row(DEPARTMENT_ID=60, DEPARTMENT_NAME='IT', MANAGER_ID='103', LOCATION_ID=1400),\n",
              " Row(DEPARTMENT_ID=70, DEPARTMENT_NAME='Public Relations', MANAGER_ID='204', LOCATION_ID=2700),\n",
              " Row(DEPARTMENT_ID=80, DEPARTMENT_NAME='Sales', MANAGER_ID='145', LOCATION_ID=2500),\n",
              " Row(DEPARTMENT_ID=90, DEPARTMENT_NAME='Executive', MANAGER_ID='100', LOCATION_ID=1700),\n",
              " Row(DEPARTMENT_ID=100, DEPARTMENT_NAME='Finance', MANAGER_ID='108', LOCATION_ID=1700),\n",
              " Row(DEPARTMENT_ID=110, DEPARTMENT_NAME='Accounting', MANAGER_ID='205', LOCATION_ID=1700),\n",
              " Row(DEPARTMENT_ID=120, DEPARTMENT_NAME='Treasury', MANAGER_ID=' - ', LOCATION_ID=1700),\n",
              " Row(DEPARTMENT_ID=130, DEPARTMENT_NAME='Corporate Tax', MANAGER_ID=' - ', LOCATION_ID=1700),\n",
              " Row(DEPARTMENT_ID=140, DEPARTMENT_NAME='Control And Credit', MANAGER_ID=' - ', LOCATION_ID=1700),\n",
              " Row(DEPARTMENT_ID=150, DEPARTMENT_NAME='Shareholder Services', MANAGER_ID=' - ', LOCATION_ID=1700),\n",
              " Row(DEPARTMENT_ID=160, DEPARTMENT_NAME='Benefits', MANAGER_ID=' - ', LOCATION_ID=1700),\n",
              " Row(DEPARTMENT_ID=170, DEPARTMENT_NAME='Manufacturing', MANAGER_ID=' - ', LOCATION_ID=1700),\n",
              " Row(DEPARTMENT_ID=180, DEPARTMENT_NAME='Construction', MANAGER_ID=' - ', LOCATION_ID=1700),\n",
              " Row(DEPARTMENT_ID=190, DEPARTMENT_NAME='Contracting', MANAGER_ID=' - ', LOCATION_ID=1700),\n",
              " Row(DEPARTMENT_ID=200, DEPARTMENT_NAME='Operations', MANAGER_ID=' - ', LOCATION_ID=1700),\n",
              " Row(DEPARTMENT_ID=210, DEPARTMENT_NAME='IT Support', MANAGER_ID=' - ', LOCATION_ID=1700),\n",
              " Row(DEPARTMENT_ID=220, DEPARTMENT_NAME='NOC', MANAGER_ID=' - ', LOCATION_ID=1700),\n",
              " Row(DEPARTMENT_ID=230, DEPARTMENT_NAME='IT Helpdesk', MANAGER_ID=' - ', LOCATION_ID=1700),\n",
              " Row(DEPARTMENT_ID=240, DEPARTMENT_NAME='Government Sales', MANAGER_ID=' - ', LOCATION_ID=1700),\n",
              " Row(DEPARTMENT_ID=250, DEPARTMENT_NAME='Retail Sales', MANAGER_ID=' - ', LOCATION_ID=1700),\n",
              " Row(DEPARTMENT_ID=260, DEPARTMENT_NAME='Recruiting', MANAGER_ID=' - ', LOCATION_ID=1700),\n",
              " Row(DEPARTMENT_ID=270, DEPARTMENT_NAME='Payroll', MANAGER_ID=' - ', LOCATION_ID=1700)]"
            ]
          },
          "metadata": {},
          "execution_count": 57
        }
      ]
    },
    {
      "cell_type": "markdown",
      "source": [
        "6 •\tImplement a custom aggregation function using aggregateByKey."
      ],
      "metadata": {
        "id": "lj5TOoQ-B9qi"
      }
    },
    {
      "cell_type": "code",
      "source": [
        "average_salary_df = emp_df.groupBy(\"DEPARTMENT_ID\").agg({\"SALARY\": \"avg\"})\n",
        "average_salary_df.show()"
      ],
      "metadata": {
        "colab": {
          "base_uri": "https://localhost:8080/"
        },
        "id": "8FTzkgTCCp7W",
        "outputId": "d1c7d806-ad9a-488a-e52d-3be4fecbbbc0"
      },
      "execution_count": 60,
      "outputs": [
        {
          "output_type": "stream",
          "name": "stdout",
          "text": [
            "+-------------+------------------+\n",
            "|DEPARTMENT_ID|       avg(SALARY)|\n",
            "+-------------+------------------+\n",
            "|           20|            9500.0|\n",
            "|           40|            6500.0|\n",
            "|          100| 8601.333333333334|\n",
            "|           10|            4400.0|\n",
            "|           50|3721.7391304347825|\n",
            "|           70|           10000.0|\n",
            "|           90|19333.333333333332|\n",
            "|           60|            5760.0|\n",
            "|          110|           10154.0|\n",
            "|           30|            4150.0|\n",
            "+-------------+------------------+\n",
            "\n"
          ]
        }
      ]
    },
    {
      "cell_type": "markdown",
      "source": [
        "7•\tPerform a cross join between two DataFrames and filter the results based on a condition."
      ],
      "metadata": {
        "id": "6LCbzqjMDHC8"
      }
    },
    {
      "cell_type": "code",
      "source": [
        "cross_join_df = emp_df.crossJoin(dept_df)\n",
        "cross_join_df.show()\n",
        "cross_join_df.count()"
      ],
      "metadata": {
        "colab": {
          "base_uri": "https://localhost:8080/"
        },
        "id": "pwNism0NFX-s",
        "outputId": "8c68e17d-91e7-452a-e8fb-6da52bb4852f"
      },
      "execution_count": 62,
      "outputs": [
        {
          "output_type": "stream",
          "name": "stdout",
          "text": [
            "+-----------+----------+---------+--------+------------+---------+--------+------+--------------+----------+-------------+-------------+--------------------+----------+-----------+\n",
            "|EMPLOYEE_ID|FIRST_NAME|LAST_NAME|   EMAIL|PHONE_NUMBER|HIRE_DATE|  JOB_ID|SALARY|COMMISSION_PCT|MANAGER_ID|DEPARTMENT_ID|DEPARTMENT_ID|     DEPARTMENT_NAME|MANAGER_ID|LOCATION_ID|\n",
            "+-----------+----------+---------+--------+------------+---------+--------+------+--------------+----------+-------------+-------------+--------------------+----------+-----------+\n",
            "|        198|    Donald| OConnell|DOCONNEL|650.507.9833|21-Jun-07|SH_CLERK|  2600|            - |       124|           50|           10|      Administration|       200|       1700|\n",
            "|        198|    Donald| OConnell|DOCONNEL|650.507.9833|21-Jun-07|SH_CLERK|  2600|            - |       124|           50|           20|           Marketing|       201|       1800|\n",
            "|        198|    Donald| OConnell|DOCONNEL|650.507.9833|21-Jun-07|SH_CLERK|  2600|            - |       124|           50|           30|          Purchasing|       114|       1700|\n",
            "|        198|    Donald| OConnell|DOCONNEL|650.507.9833|21-Jun-07|SH_CLERK|  2600|            - |       124|           50|           40|     Human Resources|       203|       2400|\n",
            "|        198|    Donald| OConnell|DOCONNEL|650.507.9833|21-Jun-07|SH_CLERK|  2600|            - |       124|           50|           50|            Shipping|       121|       1500|\n",
            "|        198|    Donald| OConnell|DOCONNEL|650.507.9833|21-Jun-07|SH_CLERK|  2600|            - |       124|           50|           60|                  IT|       103|       1400|\n",
            "|        198|    Donald| OConnell|DOCONNEL|650.507.9833|21-Jun-07|SH_CLERK|  2600|            - |       124|           50|           70|    Public Relations|       204|       2700|\n",
            "|        198|    Donald| OConnell|DOCONNEL|650.507.9833|21-Jun-07|SH_CLERK|  2600|            - |       124|           50|           80|               Sales|       145|       2500|\n",
            "|        198|    Donald| OConnell|DOCONNEL|650.507.9833|21-Jun-07|SH_CLERK|  2600|            - |       124|           50|           90|           Executive|       100|       1700|\n",
            "|        198|    Donald| OConnell|DOCONNEL|650.507.9833|21-Jun-07|SH_CLERK|  2600|            - |       124|           50|          100|             Finance|       108|       1700|\n",
            "|        198|    Donald| OConnell|DOCONNEL|650.507.9833|21-Jun-07|SH_CLERK|  2600|            - |       124|           50|          110|          Accounting|       205|       1700|\n",
            "|        198|    Donald| OConnell|DOCONNEL|650.507.9833|21-Jun-07|SH_CLERK|  2600|            - |       124|           50|          120|            Treasury|        - |       1700|\n",
            "|        198|    Donald| OConnell|DOCONNEL|650.507.9833|21-Jun-07|SH_CLERK|  2600|            - |       124|           50|          130|       Corporate Tax|        - |       1700|\n",
            "|        198|    Donald| OConnell|DOCONNEL|650.507.9833|21-Jun-07|SH_CLERK|  2600|            - |       124|           50|          140|  Control And Credit|        - |       1700|\n",
            "|        198|    Donald| OConnell|DOCONNEL|650.507.9833|21-Jun-07|SH_CLERK|  2600|            - |       124|           50|          150|Shareholder Services|        - |       1700|\n",
            "|        198|    Donald| OConnell|DOCONNEL|650.507.9833|21-Jun-07|SH_CLERK|  2600|            - |       124|           50|          160|            Benefits|        - |       1700|\n",
            "|        198|    Donald| OConnell|DOCONNEL|650.507.9833|21-Jun-07|SH_CLERK|  2600|            - |       124|           50|          170|       Manufacturing|        - |       1700|\n",
            "|        198|    Donald| OConnell|DOCONNEL|650.507.9833|21-Jun-07|SH_CLERK|  2600|            - |       124|           50|          180|        Construction|        - |       1700|\n",
            "|        198|    Donald| OConnell|DOCONNEL|650.507.9833|21-Jun-07|SH_CLERK|  2600|            - |       124|           50|          190|         Contracting|        - |       1700|\n",
            "|        198|    Donald| OConnell|DOCONNEL|650.507.9833|21-Jun-07|SH_CLERK|  2600|            - |       124|           50|          200|          Operations|        - |       1700|\n",
            "+-----------+----------+---------+--------+------------+---------+--------+------+--------------+----------+-------------+-------------+--------------------+----------+-----------+\n",
            "only showing top 20 rows\n",
            "\n"
          ]
        },
        {
          "output_type": "execute_result",
          "data": {
            "text/plain": [
              "1350"
            ]
          },
          "metadata": {},
          "execution_count": 62
        }
      ]
    },
    {
      "cell_type": "markdown",
      "source": [
        "8•\tUse the flatMap transformation to split each element of a DataFrame column into multiple rows."
      ],
      "metadata": {
        "id": "V5xKK8YkDLaX"
      }
    },
    {
      "cell_type": "code",
      "source": [
        "rdd=spark.sparkContext.textFile(\"/content/departments.csv\")\n",
        "rdd.collect()"
      ],
      "metadata": {
        "colab": {
          "base_uri": "https://localhost:8080/"
        },
        "id": "T6es5AfmLw7H",
        "outputId": "775b8dc7-e37b-4865-c85a-6e834e6f8bda"
      },
      "execution_count": 76,
      "outputs": [
        {
          "output_type": "execute_result",
          "data": {
            "text/plain": [
              "['DEPARTMENT_ID,DEPARTMENT_NAME,MANAGER_ID,LOCATION_ID',\n",
              " '10,Administration,200,1700',\n",
              " '20,Marketing,201,1800',\n",
              " '30,Purchasing,114,1700',\n",
              " '40,Human Resources,203,2400',\n",
              " '50,Shipping,121,1500',\n",
              " '60,IT,103,1400',\n",
              " '70,Public Relations,204,2700',\n",
              " '80,Sales,145,2500',\n",
              " '90,Executive,100,1700',\n",
              " '100,Finance,108,1700',\n",
              " '110,Accounting,205,1700',\n",
              " '120,Treasury, - ,1700',\n",
              " '130,Corporate Tax, - ,1700',\n",
              " '140,Control And Credit, - ,1700',\n",
              " '150,Shareholder Services, - ,1700',\n",
              " '160,Benefits, - ,1700',\n",
              " '170,Manufacturing, - ,1700',\n",
              " '180,Construction, - ,1700',\n",
              " '190,Contracting, - ,1700',\n",
              " '200,Operations, - ,1700',\n",
              " '210,IT Support, - ,1700',\n",
              " '220,NOC, - ,1700',\n",
              " '230,IT Helpdesk, - ,1700',\n",
              " '240,Government Sales, - ,1700',\n",
              " '250,Retail Sales, - ,1700',\n",
              " '260,Recruiting, - ,1700',\n",
              " '270,Payroll, - ,1700']"
            ]
          },
          "metadata": {},
          "execution_count": 76
        }
      ]
    },
    {
      "cell_type": "code",
      "source": [
        "emp_df.rdd.flatMap(lambda row: [(row['EMPLOYEE_ID'], value) for value in row['FIRST_NAME'].split(\",\")]).collect()\n",
        "emp_df.show()\n"
      ],
      "metadata": {
        "colab": {
          "base_uri": "https://localhost:8080/"
        },
        "id": "q96K4l3NHrcN",
        "outputId": "629c5f1c-a5aa-46ce-a091-3e49ae9271e7"
      },
      "execution_count": 72,
      "outputs": [
        {
          "output_type": "stream",
          "name": "stdout",
          "text": [
            "+-----------+----------+---------+--------+------------+---------+----------+------+--------------+----------+-------------+\n",
            "|EMPLOYEE_ID|FIRST_NAME|LAST_NAME|   EMAIL|PHONE_NUMBER|HIRE_DATE|    JOB_ID|SALARY|COMMISSION_PCT|MANAGER_ID|DEPARTMENT_ID|\n",
            "+-----------+----------+---------+--------+------------+---------+----------+------+--------------+----------+-------------+\n",
            "|        198|    Donald| OConnell|DOCONNEL|650.507.9833|21-Jun-07|  SH_CLERK|  2600|            - |       124|           50|\n",
            "|        199|   Douglas|    Grant|  DGRANT|650.507.9844|13-Jan-08|  SH_CLERK|  2600|            - |       124|           50|\n",
            "|        200|  Jennifer|   Whalen| JWHALEN|515.123.4444|17-Sep-03|   AD_ASST|  4400|            - |       101|           10|\n",
            "|        201|   Michael|Hartstein|MHARTSTE|515.123.5555|17-Feb-04|    MK_MAN| 13000|            - |       100|           20|\n",
            "|        202|       Pat|      Fay|    PFAY|603.123.6666|17-Aug-05|    MK_REP|  6000|            - |       201|           20|\n",
            "|        203|     Susan|   Mavris| SMAVRIS|515.123.7777| 7-Jun-02|    HR_REP|  6500|            - |       101|           40|\n",
            "|        204|   Hermann|     Baer|   HBAER|515.123.8888| 7-Jun-02|    PR_REP| 10000|            - |       101|           70|\n",
            "|        205|   Shelley|  Higgins|SHIGGINS|515.123.8080| 7-Jun-02|    AC_MGR| 12008|            - |       101|          110|\n",
            "|        206|   William|    Gietz|  WGIETZ|515.123.8181| 7-Jun-02|AC_ACCOUNT|  8300|            - |       205|          110|\n",
            "|        100|    Steven|     King|   SKING|515.123.4567|17-Jun-03|   AD_PRES| 24000|            - |        - |           90|\n",
            "|        101|     Neena|  Kochhar|NKOCHHAR|515.123.4568|21-Sep-05|     AD_VP| 17000|            - |       100|           90|\n",
            "|        102|       Lex|  De Haan| LDEHAAN|515.123.4569|13-Jan-01|     AD_VP| 17000|            - |       100|           90|\n",
            "|        103| Alexander|   Hunold| AHUNOLD|590.423.4567| 3-Jan-06|   IT_PROG|  9000|            - |       102|           60|\n",
            "|        104|     Bruce|    Ernst|  BERNST|590.423.4568|21-May-07|   IT_PROG|  6000|            - |       103|           60|\n",
            "|        105|     David|   Austin| DAUSTIN|590.423.4569|25-Jun-05|   IT_PROG|  4800|            - |       103|           60|\n",
            "|        106|     Valli|Pataballa|VPATABAL|590.423.4560| 5-Feb-06|   IT_PROG|  4800|            - |       103|           60|\n",
            "|        107|     Diana|  Lorentz|DLORENTZ|590.423.5567| 7-Feb-07|   IT_PROG|  4200|            - |       103|           60|\n",
            "|        108|     Nancy|Greenberg|NGREENBE|515.124.4569|17-Aug-02|    FI_MGR| 12008|            - |       101|          100|\n",
            "|        109|    Daniel|   Faviet| DFAVIET|515.124.4169|16-Aug-02|FI_ACCOUNT|  9000|            - |       108|          100|\n",
            "|        110|      John|     Chen|   JCHEN|515.124.4269|28-Sep-05|FI_ACCOUNT|  8200|            - |       108|          100|\n",
            "+-----------+----------+---------+--------+------------+---------+----------+------+--------------+----------+-------------+\n",
            "only showing top 20 rows\n",
            "\n"
          ]
        }
      ]
    },
    {
      "cell_type": "markdown",
      "source": [
        "9•\tCreate a DataFrame from an RDD and specify the schema manually."
      ],
      "metadata": {
        "id": "KIBUSNqZDSpj"
      }
    },
    {
      "cell_type": "code",
      "source": [
        "from pyspark.sql.types import StructType, StructField, StringType, IntegerType\n",
        "\n",
        "rdd = spark.sparkContext.parallelize([\n",
        "    (1, \"Simran\", 22),\n",
        "    (2, \"Manas\", 21),\n",
        "    (3, \"Aayush\", 23)\n",
        "])\n",
        "\n",
        "schema = StructType([\n",
        "    StructField(\"id\", IntegerType(), True),\n",
        "    StructField(\"name\", StringType(), True),\n",
        "    StructField(\"age\", IntegerType(), True)\n",
        "])\n",
        "\n",
        "df_from_rdd = spark.createDataFrame(rdd, schema)\n",
        "df_from_rdd.show()\n"
      ],
      "metadata": {
        "colab": {
          "base_uri": "https://localhost:8080/"
        },
        "id": "yx-tjI_mKYXF",
        "outputId": "7f4102b4-48de-409f-a806-1ba191178520"
      },
      "execution_count": 95,
      "outputs": [
        {
          "output_type": "stream",
          "name": "stdout",
          "text": [
            "+---+------+---+\n",
            "| id|  name|age|\n",
            "+---+------+---+\n",
            "|  1|Simran| 22|\n",
            "|  2| Manas| 21|\n",
            "|  3|Aayush| 23|\n",
            "+---+------+---+\n",
            "\n"
          ]
        }
      ]
    },
    {
      "cell_type": "markdown",
      "source": [
        "10•\tCreate a DataFrame from an RDD and specify the schema manually.[link text](https://)"
      ],
      "metadata": {
        "id": "LQQViZJPDXo2"
      }
    },
    {
      "cell_type": "code",
      "source": [
        "rdd = spark.sparkContext.parallelize([\n",
        "    (1, \"Simran\", 22),\n",
        "    (2, \"Manas\", 21),\n",
        "    (3, \"Aayush\", 23)\n",
        "])\n",
        "\n",
        "schema = StructType([\n",
        "    StructField(\"id\", IntegerType(), True),\n",
        "    StructField(\"name\", StringType(), True),\n",
        "    StructField(\"age\", IntegerType(), True)\n",
        "])\n",
        "\n",
        "df_from_rdd = spark.createDataFrame(rdd, schema)\n",
        "df_from_rdd.show()\n"
      ],
      "metadata": {
        "colab": {
          "base_uri": "https://localhost:8080/"
        },
        "id": "SDXQ3vuyRaII",
        "outputId": "77e41ea4-1a0e-4daa-b8cc-6030e4840f68"
      },
      "execution_count": 96,
      "outputs": [
        {
          "output_type": "stream",
          "name": "stdout",
          "text": [
            "+---+------+---+\n",
            "| id|  name|age|\n",
            "+---+------+---+\n",
            "|  1|Simran| 22|\n",
            "|  2| Manas| 21|\n",
            "|  3|Aayush| 23|\n",
            "+---+------+---+\n",
            "\n"
          ]
        }
      ]
    },
    {
      "cell_type": "markdown",
      "source": [
        "11•\tUse the reduceByKey transformation to sum values by key in a DataFrame.\n"
      ],
      "metadata": {
        "id": "g6qVJN2rDenU"
      }
    },
    {
      "cell_type": "code",
      "source": [
        "rdd = emp_df.rdd.map(lambda row: (row['DEPARTMENT_ID'], row['SALARY']))\n",
        "summed_rdd = rdd.reduceByKey(lambda a, b: a + b)\n",
        "summed_rdd.collect()\n"
      ],
      "metadata": {
        "colab": {
          "base_uri": "https://localhost:8080/"
        },
        "id": "qKtbismDL_mr",
        "outputId": "21c5dd56-7cc8-466e-b13d-d7395659927f"
      },
      "execution_count": 99,
      "outputs": [
        {
          "output_type": "execute_result",
          "data": {
            "text/plain": [
              "[(50, 85600),\n",
              " (10, 4400),\n",
              " (20, 19000),\n",
              " (40, 6500),\n",
              " (70, 10000),\n",
              " (110, 20308),\n",
              " (90, 58000),\n",
              " (60, 28800),\n",
              " (100, 51608),\n",
              " (30, 24900)]"
            ]
          },
          "metadata": {},
          "execution_count": 99
        }
      ]
    },
    {
      "cell_type": "code",
      "source": [
        "emp_df.printSchema()"
      ],
      "metadata": {
        "colab": {
          "base_uri": "https://localhost:8080/"
        },
        "id": "-nqJS7JiO6qh",
        "outputId": "dfb34a65-164c-4c97-a14c-5b7138c2f949"
      },
      "execution_count": 88,
      "outputs": [
        {
          "output_type": "stream",
          "name": "stdout",
          "text": [
            "root\n",
            " |-- EMPLOYEE_ID: integer (nullable = true)\n",
            " |-- FIRST_NAME: string (nullable = true)\n",
            " |-- LAST_NAME: string (nullable = true)\n",
            " |-- EMAIL: string (nullable = true)\n",
            " |-- PHONE_NUMBER: string (nullable = true)\n",
            " |-- HIRE_DATE: string (nullable = true)\n",
            " |-- JOB_ID: string (nullable = true)\n",
            " |-- SALARY: integer (nullable = true)\n",
            " |-- COMMISSION_PCT: string (nullable = true)\n",
            " |-- MANAGER_ID: string (nullable = true)\n",
            " |-- DEPARTMENT_ID: integer (nullable = true)\n",
            "\n"
          ]
        }
      ]
    },
    {
      "cell_type": "markdown",
      "source": [
        "12•\tPerform a rolling average calculation using a window function."
      ],
      "metadata": {
        "id": "mOg6DipADmLz"
      }
    },
    {
      "cell_type": "code",
      "source": [
        "from pyspark.sql.window import Window\n",
        "windowSpec = Window.orderBy(\"EMPLOYEE_ID\").rowsBetween(-2, 0)\n",
        "emp_df.withColumn(\"rolling_avg\", F.avg(\"SALARY\").over(windowSpec)).show()\n"
      ],
      "metadata": {
        "colab": {
          "base_uri": "https://localhost:8080/"
        },
        "id": "n0FWl4CMSswU",
        "outputId": "ef0d6a12-9bcc-46e4-b351-8a7fbe4578db"
      },
      "execution_count": 100,
      "outputs": [
        {
          "output_type": "stream",
          "name": "stdout",
          "text": [
            "+-----------+-----------+----------+--------+------------+---------+----------+------+--------------+----------+-------------+------------------+\n",
            "|EMPLOYEE_ID| FIRST_NAME| LAST_NAME|   EMAIL|PHONE_NUMBER|HIRE_DATE|    JOB_ID|SALARY|COMMISSION_PCT|MANAGER_ID|DEPARTMENT_ID|       rolling_avg|\n",
            "+-----------+-----------+----------+--------+------------+---------+----------+------+--------------+----------+-------------+------------------+\n",
            "|        100|     Steven|      King|   SKING|515.123.4567|17-Jun-03|   AD_PRES| 24000|            - |        - |           90|           24000.0|\n",
            "|        101|      Neena|   Kochhar|NKOCHHAR|515.123.4568|21-Sep-05|     AD_VP| 17000|            - |       100|           90|           20500.0|\n",
            "|        102|        Lex|   De Haan| LDEHAAN|515.123.4569|13-Jan-01|     AD_VP| 17000|            - |       100|           90|19333.333333333332|\n",
            "|        103|  Alexander|    Hunold| AHUNOLD|590.423.4567| 3-Jan-06|   IT_PROG|  9000|            - |       102|           60|14333.333333333334|\n",
            "|        104|      Bruce|     Ernst|  BERNST|590.423.4568|21-May-07|   IT_PROG|  6000|            - |       103|           60|10666.666666666666|\n",
            "|        105|      David|    Austin| DAUSTIN|590.423.4569|25-Jun-05|   IT_PROG|  4800|            - |       103|           60|            6600.0|\n",
            "|        106|      Valli| Pataballa|VPATABAL|590.423.4560| 5-Feb-06|   IT_PROG|  4800|            - |       103|           60|            5200.0|\n",
            "|        107|      Diana|   Lorentz|DLORENTZ|590.423.5567| 7-Feb-07|   IT_PROG|  4200|            - |       103|           60|            4600.0|\n",
            "|        108|      Nancy| Greenberg|NGREENBE|515.124.4569|17-Aug-02|    FI_MGR| 12008|            - |       101|          100| 7002.666666666667|\n",
            "|        109|     Daniel|    Faviet| DFAVIET|515.124.4169|16-Aug-02|FI_ACCOUNT|  9000|            - |       108|          100| 8402.666666666666|\n",
            "|        110|       John|      Chen|   JCHEN|515.124.4269|28-Sep-05|FI_ACCOUNT|  8200|            - |       108|          100|            9736.0|\n",
            "|        111|     Ismael|   Sciarra|ISCIARRA|515.124.4369|30-Sep-05|FI_ACCOUNT|  7700|            - |       108|          100|            8300.0|\n",
            "|        112|Jose Manuel|     Urman| JMURMAN|515.124.4469| 7-Mar-06|FI_ACCOUNT|  7800|            - |       108|          100|            7900.0|\n",
            "|        113|       Luis|      Popp|   LPOPP|515.124.4567| 7-Dec-07|FI_ACCOUNT|  6900|            - |       108|          100| 7466.666666666667|\n",
            "|        114|        Den|  Raphaely|DRAPHEAL|515.127.4561| 7-Dec-02|    PU_MAN| 11000|            - |       100|           30| 8566.666666666666|\n",
            "|        115|  Alexander|      Khoo|   AKHOO|515.127.4562|18-May-03|  PU_CLERK|  3100|            - |       114|           30|            7000.0|\n",
            "|        116|     Shelli|     Baida|  SBAIDA|515.127.4563|24-Dec-05|  PU_CLERK|  2900|            - |       114|           30| 5666.666666666667|\n",
            "|        117|      Sigal|    Tobias| STOBIAS|515.127.4564|24-Jul-05|  PU_CLERK|  2800|            - |       114|           30|2933.3333333333335|\n",
            "|        118|        Guy|    Himuro| GHIMURO|515.127.4565|15-Nov-06|  PU_CLERK|  2600|            - |       114|           30|2766.6666666666665|\n",
            "|        119|      Karen|Colmenares|KCOLMENA|515.127.4566|10-Aug-07|  PU_CLERK|  2500|            - |       114|           30|2633.3333333333335|\n",
            "+-----------+-----------+----------+--------+------------+---------+----------+------+--------------+----------+-------------+------------------+\n",
            "only showing top 20 rows\n",
            "\n"
          ]
        }
      ]
    },
    {
      "cell_type": "markdown",
      "source": [
        "13•\tUse the foreachPartition action to write each partition of a DataFrame to a separate file."
      ],
      "metadata": {
        "id": "Vdl5lCz-Drbu"
      }
    },
    {
      "cell_type": "code",
      "source": [
        "def write_partition(partition):\n",
        "  for row in partition:\n",
        "    print(row)\n",
        "\n",
        "emp_df.foreachPartition(write_partition)\n"
      ],
      "metadata": {
        "id": "TtUZ66Q-S0QX"
      },
      "execution_count": 102,
      "outputs": []
    },
    {
      "cell_type": "markdown",
      "source": [
        "14•\tImplement a custom partitioner for an RDD and apply it to a DataFrame.\n",
        "\n",
        "\n",
        "\n",
        "\n"
      ],
      "metadata": {
        "id": "mA0Jah6DDwHf"
      }
    },
    {
      "cell_type": "code",
      "source": [
        "class CustomPartitioner(object):\n",
        "  def __init__(self, num_partitions):\n",
        "    self.num_partitions = num_partitions\n",
        "\n",
        "  def __call__(self, key):\n",
        "    return hash(key) % self.num_partitions\n",
        "\n",
        "rdd = spark.sparkContext.parallelize([(1, \"A\"), (2, \"B\"), (3, \"C\"), (4, \"D\")])\n",
        "\n",
        "partitioned_rdd = rdd.partitionBy(2,CustomPartitioner(2))\n",
        "\n",
        "partitioned_df = partitioned_rdd.toDF([\"id\", \"value\"])\n",
        "\n",
        "partitioned_df.write.option(\"header\", \"true\").partitionBy(\"id\").mode(\"overwrite\").csv(\"partitioned_output\")\n"
      ],
      "metadata": {
        "id": "4YLJmm3QTXhT"
      },
      "execution_count": 107,
      "outputs": []
    },
    {
      "cell_type": "markdown",
      "source": [
        "15•\tPerform a union of two DataFrames with different schemas and handle the schema mismatch."
      ],
      "metadata": {
        "id": "3ezXZTZ8D0gf"
      }
    },
    {
      "cell_type": "code",
      "source": [
        "data1 = [(\"Alice\", 25), (\"Bob\", 30)]\n",
        "schema1 = StructType([\n",
        "    StructField(\"name\", StringType(), True),\n",
        "    StructField(\"age\", IntegerType(), True)\n",
        "])\n",
        "df1 = spark.createDataFrame(data1, schema1)\n",
        "\n",
        "data2 = [(\"Charlie\", 35, \"USA\"), (\"David\", 40, \"Canada\")]\n",
        "schema2 = StructType([\n",
        "    StructField(\"name\", StringType(), True),\n",
        "    StructField(\"age\", IntegerType(), True),\n",
        "    StructField(\"country\", StringType(), True)\n",
        "])\n",
        "df2 = spark.createDataFrame(data2, schema2)\n",
        "\n",
        "df1_common = df1.select(\"name\", \"age\")\n",
        "df2_common = df2.select(\"name\", \"age\")\n",
        "\n",
        "unioned_df = df1_common.union(df2_common)\n",
        "unioned_df.show()\n"
      ],
      "metadata": {
        "colab": {
          "base_uri": "https://localhost:8080/"
        },
        "id": "iRuLqkdrU1_5",
        "outputId": "c051e8b3-ee04-43fd-a3d8-9cb23ea1bc83"
      },
      "execution_count": 109,
      "outputs": [
        {
          "output_type": "stream",
          "name": "stdout",
          "text": [
            "+-------+---+\n",
            "|   name|age|\n",
            "+-------+---+\n",
            "|  Alice| 25|\n",
            "|    Bob| 30|\n",
            "|Charlie| 35|\n",
            "|  David| 40|\n",
            "+-------+---+\n",
            "\n"
          ]
        }
      ]
    },
    {
      "cell_type": "markdown",
      "source": [
        "16•\tUse the groupByKey transformation to group values by key and apply a custom aggregation function."
      ],
      "metadata": {
        "id": "LH-_9PASD46k"
      }
    },
    {
      "cell_type": "code",
      "source": [
        "rdd = emp_df.rdd.map(lambda row: (row['DEPARTMENT_ID'], row['SALARY']))\n",
        "grouped_rdd = rdd.groupByKey()\n",
        "\n",
        "def custom_aggregation(values):\n",
        "  return sum(values) / len(values)\n",
        "\n",
        "result_rdd = grouped_rdd.mapValues(custom_aggregation)\n",
        "result_rdd.collect()\n"
      ],
      "metadata": {
        "colab": {
          "base_uri": "https://localhost:8080/"
        },
        "id": "YZIpbY7aVH_8",
        "outputId": "86de2e2c-42c4-4581-f8bf-2ba603a8da0c"
      },
      "execution_count": 110,
      "outputs": [
        {
          "output_type": "execute_result",
          "data": {
            "text/plain": [
              "[(50, 3721.7391304347825),\n",
              " (10, 4400.0),\n",
              " (20, 9500.0),\n",
              " (40, 6500.0),\n",
              " (70, 10000.0),\n",
              " (110, 10154.0),\n",
              " (90, 19333.333333333332),\n",
              " (60, 5760.0),\n",
              " (100, 8601.333333333334),\n",
              " (30, 4150.0)]"
            ]
          },
          "metadata": {},
          "execution_count": 110
        }
      ]
    },
    {
      "cell_type": "markdown",
      "source": [
        "17•\tPerform a right outer join between two DataFrames and handle null values in the result."
      ],
      "metadata": {
        "id": "gK_XimpnD8wN"
      }
    },
    {
      "cell_type": "code",
      "source": [
        "right_outer_join_df = emp_df.join(dept_df, on='Department_id', how=\"right_outer\").fillna(\"Unknown\")\n",
        "right_outer_join_df.show()\n"
      ],
      "metadata": {
        "colab": {
          "base_uri": "https://localhost:8080/"
        },
        "id": "U8pOcf-xVQdU",
        "outputId": "f43d1a24-90ec-432f-df17-31ca7550baa5"
      },
      "execution_count": 111,
      "outputs": [
        {
          "output_type": "stream",
          "name": "stdout",
          "text": [
            "+-------------+-----------+----------+----------+--------+------------+---------+--------+------+--------------+----------+---------------+----------+-----------+\n",
            "|DEPARTMENT_ID|EMPLOYEE_ID|FIRST_NAME| LAST_NAME|   EMAIL|PHONE_NUMBER|HIRE_DATE|  JOB_ID|SALARY|COMMISSION_PCT|MANAGER_ID|DEPARTMENT_NAME|MANAGER_ID|LOCATION_ID|\n",
            "+-------------+-----------+----------+----------+--------+------------+---------+--------+------+--------------+----------+---------------+----------+-----------+\n",
            "|           10|        200|  Jennifer|    Whalen| JWHALEN|515.123.4444|17-Sep-03| AD_ASST|  4400|            - |       101| Administration|       200|       1700|\n",
            "|           20|        202|       Pat|       Fay|    PFAY|603.123.6666|17-Aug-05|  MK_REP|  6000|            - |       201|      Marketing|       201|       1800|\n",
            "|           20|        201|   Michael| Hartstein|MHARTSTE|515.123.5555|17-Feb-04|  MK_MAN| 13000|            - |       100|      Marketing|       201|       1800|\n",
            "|           30|        119|     Karen|Colmenares|KCOLMENA|515.127.4566|10-Aug-07|PU_CLERK|  2500|            - |       114|     Purchasing|       114|       1700|\n",
            "|           30|        118|       Guy|    Himuro| GHIMURO|515.127.4565|15-Nov-06|PU_CLERK|  2600|            - |       114|     Purchasing|       114|       1700|\n",
            "|           30|        117|     Sigal|    Tobias| STOBIAS|515.127.4564|24-Jul-05|PU_CLERK|  2800|            - |       114|     Purchasing|       114|       1700|\n",
            "|           30|        116|    Shelli|     Baida|  SBAIDA|515.127.4563|24-Dec-05|PU_CLERK|  2900|            - |       114|     Purchasing|       114|       1700|\n",
            "|           30|        115| Alexander|      Khoo|   AKHOO|515.127.4562|18-May-03|PU_CLERK|  3100|            - |       114|     Purchasing|       114|       1700|\n",
            "|           30|        114|       Den|  Raphaely|DRAPHEAL|515.127.4561| 7-Dec-02|  PU_MAN| 11000|            - |       100|     Purchasing|       114|       1700|\n",
            "|           40|        203|     Susan|    Mavris| SMAVRIS|515.123.7777| 7-Jun-02|  HR_REP|  6500|            - |       101|Human Resources|       203|       2400|\n",
            "|           50|        140|    Joshua|     Patel|  JPATEL|650.121.1834| 6-Apr-06|ST_CLERK|  2500|            - |       123|       Shipping|       121|       1500|\n",
            "|           50|        139|      John|       Seo|    JSEO|650.121.2019|12-Feb-06|ST_CLERK|  2700|            - |       123|       Shipping|       121|       1500|\n",
            "|           50|        138|   Stephen|    Stiles| SSTILES|650.121.2034|26-Oct-05|ST_CLERK|  3200|            - |       123|       Shipping|       121|       1500|\n",
            "|           50|        137|    Renske|    Ladwig| RLADWIG|650.121.1234|14-Jul-03|ST_CLERK|  3600|            - |       123|       Shipping|       121|       1500|\n",
            "|           50|        136|     Hazel|Philtanker|HPHILTAN|650.127.1634| 6-Feb-08|ST_CLERK|  2200|            - |       122|       Shipping|       121|       1500|\n",
            "|           50|        135|        Ki|       Gee|    KGEE|650.127.1734|12-Dec-07|ST_CLERK|  2400|            - |       122|       Shipping|       121|       1500|\n",
            "|           50|        134|   Michael|    Rogers| MROGERS|650.127.1834|26-Aug-06|ST_CLERK|  2900|            - |       122|       Shipping|       121|       1500|\n",
            "|           50|        133|     Jason|    Mallin| JMALLIN|650.127.1934|14-Jun-04|ST_CLERK|  3300|            - |       122|       Shipping|       121|       1500|\n",
            "|           50|        132|        TJ|     Olson| TJOLSON|650.124.8234|10-Apr-07|ST_CLERK|  2100|            - |       121|       Shipping|       121|       1500|\n",
            "|           50|        131|     James|    Marlow| JAMRLOW|650.124.7234|16-Feb-05|ST_CLERK|  2500|            - |       121|       Shipping|       121|       1500|\n",
            "+-------------+-----------+----------+----------+--------+------------+---------+--------+------+--------------+----------+---------------+----------+-----------+\n",
            "only showing top 20 rows\n",
            "\n"
          ]
        }
      ]
    },
    {
      "cell_type": "markdown",
      "source": [
        "18•\tUse the sampleBy transformation to perform stratified sampling on a DataFrame.\n",
        "\n",
        "\n"
      ],
      "metadata": {
        "id": "G864RZOGEAxA"
      }
    },
    {
      "cell_type": "code",
      "source": [
        "fractions = {\"Sales\": 0.2, \"Marketing\": 0.3, \"IT\": 0.5}\n",
        "stratified_sample = emp_df.sampleBy(\"DEPARTMENT_ID\", fractions, seed=42)\n",
        "\n",
        "stratified_sample.show()\n"
      ],
      "metadata": {
        "colab": {
          "base_uri": "https://localhost:8080/"
        },
        "id": "0koddH_IVZyy",
        "outputId": "c52d7e0d-10a0-4f55-eed5-d3af69367aa2"
      },
      "execution_count": 113,
      "outputs": [
        {
          "output_type": "stream",
          "name": "stdout",
          "text": [
            "+-----------+----------+---------+-----+------------+---------+------+------+--------------+----------+-------------+\n",
            "|EMPLOYEE_ID|FIRST_NAME|LAST_NAME|EMAIL|PHONE_NUMBER|HIRE_DATE|JOB_ID|SALARY|COMMISSION_PCT|MANAGER_ID|DEPARTMENT_ID|\n",
            "+-----------+----------+---------+-----+------------+---------+------+------+--------------+----------+-------------+\n",
            "+-----------+----------+---------+-----+------------+---------+------+------+--------------+----------+-------------+\n",
            "\n"
          ]
        }
      ]
    },
    {
      "cell_type": "markdown",
      "source": [
        "•\tImplement a custom UDF to perform complex string manipulations on a DataFrame column."
      ],
      "metadata": {
        "id": "-o4d8ZIlEFoP"
      }
    },
    {
      "cell_type": "code",
      "source": [
        "from pyspark.sql.functions import udf\n",
        "from pyspark.sql.types import StringType\n",
        "\n",
        "def complex_string_manipulation(text):\n",
        "  return text[::-1]\n",
        "\n",
        "complex_udf = udf(complex_string_manipulation, StringType())\n",
        "\n",
        "modified_df = emp_df.withColumn(\"reversed_name\", complex_udf(emp_df[\"FIRST_NAME\"]))\n",
        "modified_df.show()\n"
      ],
      "metadata": {
        "colab": {
          "base_uri": "https://localhost:8080/"
        },
        "id": "9MT-3j_uEGkQ",
        "outputId": "cde6b6c6-866f-4090-a30f-ce67807737d7"
      },
      "execution_count": 114,
      "outputs": [
        {
          "output_type": "stream",
          "name": "stdout",
          "text": [
            "+-----------+----------+---------+--------+------------+---------+----------+------+--------------+----------+-------------+-------------+\n",
            "|EMPLOYEE_ID|FIRST_NAME|LAST_NAME|   EMAIL|PHONE_NUMBER|HIRE_DATE|    JOB_ID|SALARY|COMMISSION_PCT|MANAGER_ID|DEPARTMENT_ID|reversed_name|\n",
            "+-----------+----------+---------+--------+------------+---------+----------+------+--------------+----------+-------------+-------------+\n",
            "|        198|    Donald| OConnell|DOCONNEL|650.507.9833|21-Jun-07|  SH_CLERK|  2600|            - |       124|           50|       dlanoD|\n",
            "|        199|   Douglas|    Grant|  DGRANT|650.507.9844|13-Jan-08|  SH_CLERK|  2600|            - |       124|           50|      salguoD|\n",
            "|        200|  Jennifer|   Whalen| JWHALEN|515.123.4444|17-Sep-03|   AD_ASST|  4400|            - |       101|           10|     refinneJ|\n",
            "|        201|   Michael|Hartstein|MHARTSTE|515.123.5555|17-Feb-04|    MK_MAN| 13000|            - |       100|           20|      leahciM|\n",
            "|        202|       Pat|      Fay|    PFAY|603.123.6666|17-Aug-05|    MK_REP|  6000|            - |       201|           20|          taP|\n",
            "|        203|     Susan|   Mavris| SMAVRIS|515.123.7777| 7-Jun-02|    HR_REP|  6500|            - |       101|           40|        nasuS|\n",
            "|        204|   Hermann|     Baer|   HBAER|515.123.8888| 7-Jun-02|    PR_REP| 10000|            - |       101|           70|      nnamreH|\n",
            "|        205|   Shelley|  Higgins|SHIGGINS|515.123.8080| 7-Jun-02|    AC_MGR| 12008|            - |       101|          110|      yellehS|\n",
            "|        206|   William|    Gietz|  WGIETZ|515.123.8181| 7-Jun-02|AC_ACCOUNT|  8300|            - |       205|          110|      mailliW|\n",
            "|        100|    Steven|     King|   SKING|515.123.4567|17-Jun-03|   AD_PRES| 24000|            - |        - |           90|       nevetS|\n",
            "|        101|     Neena|  Kochhar|NKOCHHAR|515.123.4568|21-Sep-05|     AD_VP| 17000|            - |       100|           90|        aneeN|\n",
            "|        102|       Lex|  De Haan| LDEHAAN|515.123.4569|13-Jan-01|     AD_VP| 17000|            - |       100|           90|          xeL|\n",
            "|        103| Alexander|   Hunold| AHUNOLD|590.423.4567| 3-Jan-06|   IT_PROG|  9000|            - |       102|           60|    rednaxelA|\n",
            "|        104|     Bruce|    Ernst|  BERNST|590.423.4568|21-May-07|   IT_PROG|  6000|            - |       103|           60|        ecurB|\n",
            "|        105|     David|   Austin| DAUSTIN|590.423.4569|25-Jun-05|   IT_PROG|  4800|            - |       103|           60|        divaD|\n",
            "|        106|     Valli|Pataballa|VPATABAL|590.423.4560| 5-Feb-06|   IT_PROG|  4800|            - |       103|           60|        illaV|\n",
            "|        107|     Diana|  Lorentz|DLORENTZ|590.423.5567| 7-Feb-07|   IT_PROG|  4200|            - |       103|           60|        anaiD|\n",
            "|        108|     Nancy|Greenberg|NGREENBE|515.124.4569|17-Aug-02|    FI_MGR| 12008|            - |       101|          100|        ycnaN|\n",
            "|        109|    Daniel|   Faviet| DFAVIET|515.124.4169|16-Aug-02|FI_ACCOUNT|  9000|            - |       108|          100|       leinaD|\n",
            "|        110|      John|     Chen|   JCHEN|515.124.4269|28-Sep-05|FI_ACCOUNT|  8200|            - |       108|          100|         nhoJ|\n",
            "+-----------+----------+---------+--------+------------+---------+----------+------+--------------+----------+-------------+-------------+\n",
            "only showing top 20 rows\n",
            "\n"
          ]
        }
      ]
    },
    {
      "cell_type": "code",
      "source": [],
      "metadata": {
        "id": "CYi8RPv1Vx84"
      },
      "execution_count": null,
      "outputs": []
    }
  ]
}