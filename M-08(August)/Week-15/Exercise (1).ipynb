{
  "cells": [
    {
      "cell_type": "code",
      "execution_count": null,
      "metadata": {
        "colab": {
          "base_uri": "https://localhost:8080/",
          "height": 933
        },
        "id": "WgmHAE2I6oB9",
        "outputId": "f8bb8114-2cb8-4536-d61d-228036810e86"
      },
      "outputs": [],
      "source": [
        "!sudo apt update\n",
        "!apt-get install openjdk-8-jdk-headless -qq > /dev/null\n",
        "#Check this site for the latest download link https://www.apache.org/dyn/closer.lua/spark/spark-3.2.1/spark-3.2.1-bin-hadoop3.2.tgz\n",
        "!wget -q https://dlcdn.apache.org/spark/spark-3.2.1/spark-3.2.1-bin-hadoop3.2.tgz\n",
        "!tar xf spark-3.2.1-bin-hadoop3.2.tgz\n",
        "!pip install -q findspark\n",
        "!pip install pyspark\n",
        "!pip install py4j\n",
        "\n",
        "import os\n",
        "import sys\n",
        "# os.environ[\"JAVA_HOME\"] = \"/usr/lib/jvm/java-8-openjdk-amd64\"\n",
        "# os.environ[\"SPARK_HOME\"] = \"/content/spark-3.2.1-bin-hadoop3.2\"\n",
        "\n",
        "\n",
        "import findspark\n",
        "findspark.init()\n",
        "findspark.find()\n",
        "\n",
        "import pyspark\n",
        "\n",
        "from pyspark.sql import DataFrame, SparkSession\n",
        "from typing import List\n",
        "import pyspark.sql.types as T\n",
        "import pyspark.sql.functions as F\n",
        "\n",
        "spark= SparkSession \\\n",
        "       .builder \\\n",
        "       .getOrCreate()\n",
        "\n",
        "spark"
      ]
    },
    {
      "cell_type": "markdown",
      "metadata": {
        "id": "XRI_M4aC6ZCY"
      },
      "source": [
        "# Occupation"
      ]
    },
    {
      "cell_type": "markdown",
      "metadata": {
        "id": "7n0f2pp_6ZCZ"
      },
      "source": [
        "### Introduction:\n",
        "\n",
        "Special thanks to: https://github.com/justmarkham for sharing the dataset and materials.\n",
        "\n",
        "### Step 1. Import the necessary libraries"
      ]
    },
    {
      "cell_type": "code",
      "execution_count": null,
      "metadata": {
        "id": "Fyl77yDp6ZCa"
      },
      "outputs": [],
      "source": [
        "from pyspark import SparkFiles\n",
        "url = \"https://raw.githubusercontent.com/justmarkham/DAT8/master/data/u.user\"\n",
        "spark.sparkContext.addFile(url)\n"
      ]
    },
    {
      "cell_type": "markdown",
      "metadata": {
        "id": "W4td8g086ZCa"
      },
      "source": [
        "### Step 2. Import the dataset from this [address](https://raw.githubusercontent.com/justmarkham/DAT8/master/data/u.user)."
      ]
    },
    {
      "cell_type": "markdown",
      "metadata": {
        "id": "TumCCODG6ZCa"
      },
      "source": [
        "### Step 3. Assign it to a variable called users."
      ]
    },
    {
      "cell_type": "code",
      "execution_count": null,
      "metadata": {
        "colab": {
          "base_uri": "https://localhost:8080/"
        },
        "id": "-Wb5WMWV6ZCa",
        "outputId": "b9938e4a-d341-4b9f-9163-d38d8ee17d11"
      },
      "outputs": [],
      "source": [
        "user = spark.read.csv(SparkFiles.get(\"u.user\"), sep=\"|\", header=True)\n",
        "user.show()"
      ]
    },
    {
      "cell_type": "markdown",
      "metadata": {
        "id": "ao2hbMDq6ZCa"
      },
      "source": [
        "### Step 4. Discover what is the mean age per occupation"
      ]
    },
    {
      "cell_type": "code",
      "execution_count": null,
      "metadata": {
        "colab": {
          "base_uri": "https://localhost:8080/"
        },
        "id": "oDVfEUPF6ZCa",
        "outputId": "26724eb9-c389-40b6-d3bf-912f8e394a99"
      },
      "outputs": [],
      "source": [
        "user.groupBy(\"occupation\").agg(F.mean(\"age\")).show()"
      ]
    },
    {
      "cell_type": "code",
      "execution_count": null,
      "metadata": {
        "colab": {
          "base_uri": "https://localhost:8080/"
        },
        "id": "LlfJDl6a7dWo",
        "outputId": "2d9215c2-bbaa-4327-fbdd-0a0cd7066616"
      },
      "outputs": [],
      "source": [
        "user.groupBy(\"occupation\").agg(F.avg(\"age\")).show()"
      ]
    },
    {
      "cell_type": "markdown",
      "metadata": {
        "id": "3ZRQkfMh6ZCb"
      },
      "source": [
        "### Step 5. Discover the Male ratio per occupation and sort it from the most to the least"
      ]
    },
    {
      "cell_type": "code",
      "execution_count": null,
      "metadata": {
        "colab": {
          "base_uri": "https://localhost:8080/"
        },
        "id": "niH6FBFB8S5g",
        "outputId": "540623b7-163c-4c3a-b43d-bc37215b9bc8"
      },
      "outputs": [],
      "source": [
        "total_count = user.groupBy(\"occupation\").count()\n",
        "male_count = user.filter(user.gender == 'M').groupBy('occupation').count()\n",
        "\n",
        "ratio = male_count.join(total_count, 'occupation', 'inner') \\\n",
        "    .withColumn('ratio', (male_count['count'] / total_count['count'])*100) \\\n",
        "    .orderBy('ratio', ascending=False)\n",
        "\n",
        "ratio.show()"
      ]
    },
    {
      "cell_type": "code",
      "execution_count": null,
      "metadata": {
        "colab": {
          "base_uri": "https://localhost:8080/"
        },
        "id": "7bvi7188_q3W",
        "outputId": "a69678de-4bf8-42ce-d51b-16ca8b6c8f37"
      },
      "outputs": [],
      "source": [
        "total_people = user.groupBy(\"occupation\").agg(F.count(\"user_id\").alias(\"total\"))\n",
        "men_counts = user.where(F.col(\"gender\") == \"M\").groupBy(\"occupation\").agg(F.count(\"user_id\").alias(\"men_count\"))\n",
        "\n",
        "result = men_counts.join(total_people, \"occupation\")\n",
        "result = result.withColumn(\"male_ratio\", (F.col(\"men_count\") / F.col(\"total\")) * 100)\n",
        "result = result.sort(F.col(\"male_ratio\").desc())\n",
        "result.show()\n"
      ]
    },
    {
      "cell_type": "markdown",
      "metadata": {
        "id": "aqlN2ezs6ZCb"
      },
      "source": [
        "### Step 6. For each occupation, calculate the minimum and maximum ages"
      ]
    },
    {
      "cell_type": "code",
      "execution_count": null,
      "metadata": {
        "colab": {
          "base_uri": "https://localhost:8080/"
        },
        "id": "3uQvM-Z06ZCb",
        "outputId": "e0ec9d02-92bb-4f1b-d80a-25713f7ec00a"
      },
      "outputs": [],
      "source": [
        "user.groupBy(\"occupation\").agg(F.min(\"age\"), F.max(\"age\")).show()"
      ]
    },
    {
      "cell_type": "markdown",
      "metadata": {
        "id": "hUjw0aRo6ZCb"
      },
      "source": [
        "### Step 7. For each combination of occupation and gender, calculate the mean age"
      ]
    },
    {
      "cell_type": "code",
      "execution_count": null,
      "metadata": {
        "colab": {
          "base_uri": "https://localhost:8080/"
        },
        "id": "sV1a9ot66ZCb",
        "outputId": "3cac7ef9-eebb-4dac-8cc4-55514a51db30"
      },
      "outputs": [],
      "source": [
        "user.groupBy(\"occupation\", \"gender\").agg(F.mean(\"age\")).show()"
      ]
    },
    {
      "cell_type": "markdown",
      "metadata": {
        "id": "P0k22mGm6ZCb"
      },
      "source": [
        "### Step 8.  For each occupation present the percentage of women and men"
      ]
    },
    {
      "cell_type": "code",
      "execution_count": null,
      "metadata": {
        "colab": {
          "base_uri": "https://localhost:8080/"
        },
        "id": "LsJxOHaj6ZCb",
        "outputId": "d4736131-e737-48b0-c893-ac2e151b9614"
      },
      "outputs": [],
      "source": [
        "\n",
        "total_people = user.groupBy(\"occupation\").agg(F.count(\"user_id\").alias(\"total\"))\n",
        "gender_counts = user.groupBy(\"occupation\", \"gender\").agg(F.count(\"user_id\").alias(\"gender_count\"))\n",
        "\n",
        "result = gender_counts.join(total_people, \"occupation\")\n",
        "result = result.withColumn(\"percentage\", (F.col(\"gender_count\") / F.col(\"total\")) * 100)\n",
        "result.show()"
      ]
    }
  ],
  "metadata": {
    "colab": {
      "provenance": []
    },
    "kernelspec": {
      "display_name": "Python 2",
      "language": "python",
      "name": "python2"
    },
    "language_info": {
      "codemirror_mode": {
        "name": "ipython",
        "version": 2
      },
      "file_extension": ".py",
      "mimetype": "text/x-python",
      "name": "python",
      "nbconvert_exporter": "python",
      "pygments_lexer": "ipython2",
      "version": "2.7.11"
    }
  },
  "nbformat": 4,
  "nbformat_minor": 0
}
