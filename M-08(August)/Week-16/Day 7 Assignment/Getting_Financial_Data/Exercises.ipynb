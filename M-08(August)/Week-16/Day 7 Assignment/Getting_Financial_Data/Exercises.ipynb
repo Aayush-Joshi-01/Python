{
 "cells": [
  {
   "cell_type": "markdown",
   "metadata": {
    "application/vnd.databricks.v1+cell": {
     "cellMetadata": {},
     "inputWidgets": {},
     "nuid": "98805bca-758f-4968-8d9c-3545b0e82b43",
     "showTitle": false,
     "title": ""
    }
   },
   "source": [
    "# Getting Financial Data - Pandas Datareader"
   ]
  },
  {
   "cell_type": "markdown",
   "metadata": {
    "application/vnd.databricks.v1+cell": {
     "cellMetadata": {},
     "inputWidgets": {},
     "nuid": "8aebdb24-6bea-424e-be1c-cf74ac92e2e1",
     "showTitle": false,
     "title": ""
    }
   },
   "source": [
    "### Introduction:\n",
    "\n",
    "This time you will get data from a website.\n",
    "\n",
    "\n",
    "### Step 1. Import the necessary libraries"
   ]
  },
  {
   "cell_type": "code",
   "execution_count": 0,
   "metadata": {
    "application/vnd.databricks.v1+cell": {
     "cellMetadata": {
      "byteLimit": 2048000,
      "rowLimit": 10000
     },
     "inputWidgets": {},
     "nuid": "f94ed1e5-5394-4945-b5ca-b9957c1a0133",
     "showTitle": false,
     "title": ""
    }
   },
   "outputs": [],
   "source": [
    "from pyspark.sql import SparkSession"
   ]
  },
  {
   "cell_type": "code",
   "execution_count": 0,
   "metadata": {
    "application/vnd.databricks.v1+cell": {
     "cellMetadata": {
      "byteLimit": 2048000,
      "rowLimit": 10000
     },
     "inputWidgets": {},
     "nuid": "d037ee4b-1260-4586-bee4-8b711b80a051",
     "showTitle": false,
     "title": ""
    }
   },
   "outputs": [],
   "source": [
    "spark = SparkSession.builder.getOrCreate()"
   ]
  },
  {
   "cell_type": "markdown",
   "metadata": {
    "application/vnd.databricks.v1+cell": {
     "cellMetadata": {},
     "inputWidgets": {},
     "nuid": "024355bb-9473-4559-b2b8-c5581ed40720",
     "showTitle": false,
     "title": ""
    }
   },
   "source": [
    "### Step 2. Create your time range (start and end variables). The start date should be 01/01/2015 and the end should today (whatever your today is)."
   ]
  },
  {
   "cell_type": "code",
   "execution_count": 0,
   "metadata": {
    "application/vnd.databricks.v1+cell": {
     "cellMetadata": {
      "byteLimit": 2048000,
      "rowLimit": 10000
     },
     "inputWidgets": {},
     "nuid": "f3f0dfe8-7067-460b-bd04-8814dcf0ce9d",
     "showTitle": false,
     "title": ""
    }
   },
   "outputs": [],
   "source": [
    "from datetime import datetime\n",
    "start_date = datetime(2015,1,1)\n",
    "end_date = datetime(2024,8,21)"
   ]
  },
  {
   "cell_type": "markdown",
   "metadata": {
    "application/vnd.databricks.v1+cell": {
     "cellMetadata": {},
     "inputWidgets": {},
     "nuid": "0f1c4dd3-7ee5-4f87-ac5d-ecafbe84f74f",
     "showTitle": false,
     "title": ""
    }
   },
   "source": [
    "### Step 3. Get an API key for one of the APIs that are supported by Pandas Datareader, preferably for AlphaVantage.\n",
    "\n",
    "If you do not have an API key for any of the supported APIs, it is easiest to get one for [AlphaVantage](https://www.alphavantage.co/support/#api-key). (Note that the API key is shown directly after the signup. You do *not* receive it via e-mail.)\n",
    "\n",
    "(For a full list of the APIs that are supported by Pandas Datareader, [see here](https://pydata.github.io/pandas-datareader/readers/index.html). As the APIs are provided by third parties, this list may change.)"
   ]
  },
  {
   "cell_type": "code",
   "execution_count": 0,
   "metadata": {
    "application/vnd.databricks.v1+cell": {
     "cellMetadata": {
      "byteLimit": 2048000,
      "rowLimit": 10000
     },
     "inputWidgets": {},
     "nuid": "d12e873a-4006-4411-8443-d850ee9d912e",
     "showTitle": false,
     "title": ""
    }
   },
   "outputs": [
    {
     "output_type": "stream",
     "name": "stdout",
     "output_type": "stream",
     "text": [
      "Requirement already satisfied: pandas-datareader in /local_disk0/.ephemeral_nfs/envs/pythonEnv-dc1db772-f69f-48da-b28f-d9a018979943/lib/python3.9/site-packages (0.10.0)\r\nRequirement already satisfied: pandas>=0.23 in /databricks/python3/lib/python3.9/site-packages (from pandas-datareader) (1.4.2)\r\nRequirement already satisfied: lxml in /local_disk0/.ephemeral_nfs/envs/pythonEnv-dc1db772-f69f-48da-b28f-d9a018979943/lib/python3.9/site-packages (from pandas-datareader) (5.3.0)\r\nRequirement already satisfied: requests>=2.19.0 in /databricks/python3/lib/python3.9/site-packages (from pandas-datareader) (2.27.1)\r\nRequirement already satisfied: python-dateutil>=2.8.1 in /databricks/python3/lib/python3.9/site-packages (from pandas>=0.23->pandas-datareader) (2.8.2)\r\nRequirement already satisfied: numpy>=1.18.5 in /databricks/python3/lib/python3.9/site-packages (from pandas>=0.23->pandas-datareader) (1.21.5)\r\nRequirement already satisfied: pytz>=2020.1 in /databricks/python3/lib/python3.9/site-packages (from pandas>=0.23->pandas-datareader) (2021.3)\r\nRequirement already satisfied: six>=1.5 in /databricks/python3/lib/python3.9/site-packages (from python-dateutil>=2.8.1->pandas>=0.23->pandas-datareader) (1.16.0)\r\nRequirement already satisfied: charset-normalizer~=2.0.0 in /databricks/python3/lib/python3.9/site-packages (from requests>=2.19.0->pandas-datareader) (2.0.4)\r\nRequirement already satisfied: idna<4,>=2.5 in /databricks/python3/lib/python3.9/site-packages (from requests>=2.19.0->pandas-datareader) (3.3)\r\nRequirement already satisfied: certifi>=2017.4.17 in /databricks/python3/lib/python3.9/site-packages (from requests>=2.19.0->pandas-datareader) (2021.10.8)\r\nRequirement already satisfied: urllib3<1.27,>=1.21.1 in /databricks/python3/lib/python3.9/site-packages (from requests>=2.19.0->pandas-datareader) (1.26.9)\r\n\u001B[33mWARNING: You are using pip version 21.2.4; however, version 24.2 is available.\r\nYou should consider upgrading via the '/local_disk0/.ephemeral_nfs/envs/pythonEnv-dc1db772-f69f-48da-b28f-d9a018979943/bin/python -m pip install --upgrade pip' command.\u001B[0m\r\n"
     ]
    }
   ],
   "source": [
    "! pip install pandas-datareader"
   ]
  },
  {
   "cell_type": "code",
   "execution_count": 0,
   "metadata": {
    "application/vnd.databricks.v1+cell": {
     "cellMetadata": {
      "byteLimit": 2048000,
      "rowLimit": 10000
     },
     "inputWidgets": {},
     "nuid": "a7cc4d69-a347-4cb4-9c6e-8582d51e7812",
     "showTitle": false,
     "title": ""
    }
   },
   "outputs": [],
   "source": [
    "import pandas_datareader as pdr"
   ]
  },
  {
   "cell_type": "markdown",
   "metadata": {
    "application/vnd.databricks.v1+cell": {
     "cellMetadata": {},
     "inputWidgets": {},
     "nuid": "76621be0-b48a-48a9-96e5-a780bdae4cc1",
     "showTitle": false,
     "title": ""
    }
   },
   "source": [
    "### Step 4. Use Pandas Datarader to read the daily time series for the Apple stock (ticker symbol AAPL) between 01/01/2015 and today, assign it to df_apple and print it."
   ]
  },
  {
   "cell_type": "code",
   "execution_count": 0,
   "metadata": {
    "application/vnd.databricks.v1+cell": {
     "cellMetadata": {
      "byteLimit": 2048000,
      "rowLimit": 10000
     },
     "inputWidgets": {},
     "nuid": "8a13f940-2b61-4277-8a03-e8afa0865e54",
     "showTitle": false,
     "title": ""
    }
   },
   "outputs": [],
   "source": [
    "api_key = \"7X51N7F7L0P1L34X\""
   ]
  },
  {
   "cell_type": "code",
   "execution_count": 0,
   "metadata": {
    "application/vnd.databricks.v1+cell": {
     "cellMetadata": {
      "byteLimit": 2048000,
      "rowLimit": 10000
     },
     "inputWidgets": {},
     "nuid": "0f47d27c-8248-43fd-9c7a-88cf78fe3c53",
     "showTitle": false,
     "title": ""
    }
   },
   "outputs": [],
   "source": [
    "aapl_df = pdr.data.DataReader(\"AAPL\", \"av-daily\", start=start_date, end=end_date, api_key=api_key)"
   ]
  },
  {
   "cell_type": "code",
   "execution_count": 0,
   "metadata": {
    "application/vnd.databricks.v1+cell": {
     "cellMetadata": {
      "byteLimit": 2048000,
      "rowLimit": 10000
     },
     "inputWidgets": {},
     "nuid": "42109b3c-adf3-4f40-82e2-f6e6cea2478b",
     "showTitle": false,
     "title": ""
    }
   },
   "outputs": [
    {
     "output_type": "display_data",
     "data": {
      "text/html": [
       "<div>\n",
       "<style scoped>\n",
       "    .dataframe tbody tr th:only-of-type {\n",
       "        vertical-align: middle;\n",
       "    }\n",
       "\n",
       "    .dataframe tbody tr th {\n",
       "        vertical-align: top;\n",
       "    }\n",
       "\n",
       "    .dataframe thead th {\n",
       "        text-align: right;\n",
       "    }\n",
       "</style>\n",
       "<table border=\"1\" class=\"dataframe\">\n",
       "  <thead>\n",
       "    <tr style=\"text-align: right;\">\n",
       "      <th></th>\n",
       "      <th>open</th>\n",
       "      <th>high</th>\n",
       "      <th>low</th>\n",
       "      <th>close</th>\n",
       "      <th>volume</th>\n",
       "    </tr>\n",
       "  </thead>\n",
       "  <tbody>\n",
       "    <tr>\n",
       "      <th>2015-01-02</th>\n",
       "      <td>111.39</td>\n",
       "      <td>111.4400</td>\n",
       "      <td>107.3500</td>\n",
       "      <td>109.33</td>\n",
       "      <td>53204626</td>\n",
       "    </tr>\n",
       "    <tr>\n",
       "      <th>2015-01-05</th>\n",
       "      <td>108.29</td>\n",
       "      <td>108.6500</td>\n",
       "      <td>105.4100</td>\n",
       "      <td>106.25</td>\n",
       "      <td>64285491</td>\n",
       "    </tr>\n",
       "    <tr>\n",
       "      <th>2015-01-06</th>\n",
       "      <td>106.54</td>\n",
       "      <td>107.4300</td>\n",
       "      <td>104.6300</td>\n",
       "      <td>106.26</td>\n",
       "      <td>65797116</td>\n",
       "    </tr>\n",
       "    <tr>\n",
       "      <th>2015-01-07</th>\n",
       "      <td>107.20</td>\n",
       "      <td>108.2000</td>\n",
       "      <td>106.6950</td>\n",
       "      <td>107.75</td>\n",
       "      <td>40105934</td>\n",
       "    </tr>\n",
       "    <tr>\n",
       "      <th>2015-01-08</th>\n",
       "      <td>109.23</td>\n",
       "      <td>112.1500</td>\n",
       "      <td>108.7000</td>\n",
       "      <td>111.89</td>\n",
       "      <td>59364547</td>\n",
       "    </tr>\n",
       "    <tr>\n",
       "      <th>...</th>\n",
       "      <td>...</td>\n",
       "      <td>...</td>\n",
       "      <td>...</td>\n",
       "      <td>...</td>\n",
       "      <td>...</td>\n",
       "    </tr>\n",
       "    <tr>\n",
       "      <th>2024-08-14</th>\n",
       "      <td>220.57</td>\n",
       "      <td>223.0300</td>\n",
       "      <td>219.7000</td>\n",
       "      <td>221.72</td>\n",
       "      <td>41960574</td>\n",
       "    </tr>\n",
       "    <tr>\n",
       "      <th>2024-08-15</th>\n",
       "      <td>224.60</td>\n",
       "      <td>225.3500</td>\n",
       "      <td>222.7600</td>\n",
       "      <td>224.72</td>\n",
       "      <td>46414013</td>\n",
       "    </tr>\n",
       "    <tr>\n",
       "      <th>2024-08-16</th>\n",
       "      <td>223.92</td>\n",
       "      <td>226.8271</td>\n",
       "      <td>223.6501</td>\n",
       "      <td>226.05</td>\n",
       "      <td>44340240</td>\n",
       "    </tr>\n",
       "    <tr>\n",
       "      <th>2024-08-19</th>\n",
       "      <td>225.72</td>\n",
       "      <td>225.9900</td>\n",
       "      <td>223.0400</td>\n",
       "      <td>225.89</td>\n",
       "      <td>40687813</td>\n",
       "    </tr>\n",
       "    <tr>\n",
       "      <th>2024-08-20</th>\n",
       "      <td>225.77</td>\n",
       "      <td>227.1700</td>\n",
       "      <td>225.4500</td>\n",
       "      <td>226.51</td>\n",
       "      <td>30299033</td>\n",
       "    </tr>\n",
       "  </tbody>\n",
       "</table>\n",
       "<p>2424 rows × 5 columns</p>\n",
       "</div>"
      ]
     },
     "metadata": {
      "application/vnd.databricks.v1+output": {
       "addedWidgets": {},
       "arguments": {},
       "data": "<div>\n<style scoped>\n    .dataframe tbody tr th:only-of-type {\n        vertical-align: middle;\n    }\n\n    .dataframe tbody tr th {\n        vertical-align: top;\n    }\n\n    .dataframe thead th {\n        text-align: right;\n    }\n</style>\n<table border=\"1\" class=\"dataframe\">\n  <thead>\n    <tr style=\"text-align: right;\">\n      <th></th>\n      <th>open</th>\n      <th>high</th>\n      <th>low</th>\n      <th>close</th>\n      <th>volume</th>\n    </tr>\n  </thead>\n  <tbody>\n    <tr>\n      <th>2015-01-02</th>\n      <td>111.39</td>\n      <td>111.4400</td>\n      <td>107.3500</td>\n      <td>109.33</td>\n      <td>53204626</td>\n    </tr>\n    <tr>\n      <th>2015-01-05</th>\n      <td>108.29</td>\n      <td>108.6500</td>\n      <td>105.4100</td>\n      <td>106.25</td>\n      <td>64285491</td>\n    </tr>\n    <tr>\n      <th>2015-01-06</th>\n      <td>106.54</td>\n      <td>107.4300</td>\n      <td>104.6300</td>\n      <td>106.26</td>\n      <td>65797116</td>\n    </tr>\n    <tr>\n      <th>2015-01-07</th>\n      <td>107.20</td>\n      <td>108.2000</td>\n      <td>106.6950</td>\n      <td>107.75</td>\n      <td>40105934</td>\n    </tr>\n    <tr>\n      <th>2015-01-08</th>\n      <td>109.23</td>\n      <td>112.1500</td>\n      <td>108.7000</td>\n      <td>111.89</td>\n      <td>59364547</td>\n    </tr>\n    <tr>\n      <th>...</th>\n      <td>...</td>\n      <td>...</td>\n      <td>...</td>\n      <td>...</td>\n      <td>...</td>\n    </tr>\n    <tr>\n      <th>2024-08-14</th>\n      <td>220.57</td>\n      <td>223.0300</td>\n      <td>219.7000</td>\n      <td>221.72</td>\n      <td>41960574</td>\n    </tr>\n    <tr>\n      <th>2024-08-15</th>\n      <td>224.60</td>\n      <td>225.3500</td>\n      <td>222.7600</td>\n      <td>224.72</td>\n      <td>46414013</td>\n    </tr>\n    <tr>\n      <th>2024-08-16</th>\n      <td>223.92</td>\n      <td>226.8271</td>\n      <td>223.6501</td>\n      <td>226.05</td>\n      <td>44340240</td>\n    </tr>\n    <tr>\n      <th>2024-08-19</th>\n      <td>225.72</td>\n      <td>225.9900</td>\n      <td>223.0400</td>\n      <td>225.89</td>\n      <td>40687813</td>\n    </tr>\n    <tr>\n      <th>2024-08-20</th>\n      <td>225.77</td>\n      <td>227.1700</td>\n      <td>225.4500</td>\n      <td>226.51</td>\n      <td>30299033</td>\n    </tr>\n  </tbody>\n</table>\n<p>2424 rows × 5 columns</p>\n</div>",
       "datasetInfos": [],
       "metadata": {},
       "removedWidgets": [],
       "textData": null,
       "type": "htmlSandbox"
      }
     },
     "output_type": "display_data"
    }
   ],
   "source": [
    "aapl_df"
   ]
  },
  {
   "cell_type": "markdown",
   "metadata": {
    "application/vnd.databricks.v1+cell": {
     "cellMetadata": {},
     "inputWidgets": {},
     "nuid": "49a44a9a-049a-454a-92d6-b4cc23ace0fc",
     "showTitle": false,
     "title": ""
    }
   },
   "source": [
    "### Step 5. Add a new column \"stock\" to the dataframe and add the ticker symbol"
   ]
  },
  {
   "cell_type": "code",
   "execution_count": 0,
   "metadata": {
    "application/vnd.databricks.v1+cell": {
     "cellMetadata": {
      "byteLimit": 2048000,
      "rowLimit": 10000
     },
     "inputWidgets": {},
     "nuid": "55e45277-f719-43a1-90ec-93adcee1dd60",
     "showTitle": false,
     "title": ""
    }
   },
   "outputs": [
    {
     "output_type": "display_data",
     "data": {
      "text/html": [
       "<div>\n",
       "<style scoped>\n",
       "    .dataframe tbody tr th:only-of-type {\n",
       "        vertical-align: middle;\n",
       "    }\n",
       "\n",
       "    .dataframe tbody tr th {\n",
       "        vertical-align: top;\n",
       "    }\n",
       "\n",
       "    .dataframe thead th {\n",
       "        text-align: right;\n",
       "    }\n",
       "</style>\n",
       "<table border=\"1\" class=\"dataframe\">\n",
       "  <thead>\n",
       "    <tr style=\"text-align: right;\">\n",
       "      <th></th>\n",
       "      <th>open</th>\n",
       "      <th>high</th>\n",
       "      <th>low</th>\n",
       "      <th>close</th>\n",
       "      <th>volume</th>\n",
       "      <th>stock</th>\n",
       "    </tr>\n",
       "  </thead>\n",
       "  <tbody>\n",
       "    <tr>\n",
       "      <th>2015-01-02</th>\n",
       "      <td>111.39</td>\n",
       "      <td>111.4400</td>\n",
       "      <td>107.3500</td>\n",
       "      <td>109.33</td>\n",
       "      <td>53204626</td>\n",
       "      <td>aapl</td>\n",
       "    </tr>\n",
       "    <tr>\n",
       "      <th>2015-01-05</th>\n",
       "      <td>108.29</td>\n",
       "      <td>108.6500</td>\n",
       "      <td>105.4100</td>\n",
       "      <td>106.25</td>\n",
       "      <td>64285491</td>\n",
       "      <td>aapl</td>\n",
       "    </tr>\n",
       "    <tr>\n",
       "      <th>2015-01-06</th>\n",
       "      <td>106.54</td>\n",
       "      <td>107.4300</td>\n",
       "      <td>104.6300</td>\n",
       "      <td>106.26</td>\n",
       "      <td>65797116</td>\n",
       "      <td>aapl</td>\n",
       "    </tr>\n",
       "    <tr>\n",
       "      <th>2015-01-07</th>\n",
       "      <td>107.20</td>\n",
       "      <td>108.2000</td>\n",
       "      <td>106.6950</td>\n",
       "      <td>107.75</td>\n",
       "      <td>40105934</td>\n",
       "      <td>aapl</td>\n",
       "    </tr>\n",
       "    <tr>\n",
       "      <th>2015-01-08</th>\n",
       "      <td>109.23</td>\n",
       "      <td>112.1500</td>\n",
       "      <td>108.7000</td>\n",
       "      <td>111.89</td>\n",
       "      <td>59364547</td>\n",
       "      <td>aapl</td>\n",
       "    </tr>\n",
       "    <tr>\n",
       "      <th>...</th>\n",
       "      <td>...</td>\n",
       "      <td>...</td>\n",
       "      <td>...</td>\n",
       "      <td>...</td>\n",
       "      <td>...</td>\n",
       "      <td>...</td>\n",
       "    </tr>\n",
       "    <tr>\n",
       "      <th>2024-08-14</th>\n",
       "      <td>220.57</td>\n",
       "      <td>223.0300</td>\n",
       "      <td>219.7000</td>\n",
       "      <td>221.72</td>\n",
       "      <td>41960574</td>\n",
       "      <td>aapl</td>\n",
       "    </tr>\n",
       "    <tr>\n",
       "      <th>2024-08-15</th>\n",
       "      <td>224.60</td>\n",
       "      <td>225.3500</td>\n",
       "      <td>222.7600</td>\n",
       "      <td>224.72</td>\n",
       "      <td>46414013</td>\n",
       "      <td>aapl</td>\n",
       "    </tr>\n",
       "    <tr>\n",
       "      <th>2024-08-16</th>\n",
       "      <td>223.92</td>\n",
       "      <td>226.8271</td>\n",
       "      <td>223.6501</td>\n",
       "      <td>226.05</td>\n",
       "      <td>44340240</td>\n",
       "      <td>aapl</td>\n",
       "    </tr>\n",
       "    <tr>\n",
       "      <th>2024-08-19</th>\n",
       "      <td>225.72</td>\n",
       "      <td>225.9900</td>\n",
       "      <td>223.0400</td>\n",
       "      <td>225.89</td>\n",
       "      <td>40687813</td>\n",
       "      <td>aapl</td>\n",
       "    </tr>\n",
       "    <tr>\n",
       "      <th>2024-08-20</th>\n",
       "      <td>225.77</td>\n",
       "      <td>227.1700</td>\n",
       "      <td>225.4500</td>\n",
       "      <td>226.51</td>\n",
       "      <td>30299033</td>\n",
       "      <td>aapl</td>\n",
       "    </tr>\n",
       "  </tbody>\n",
       "</table>\n",
       "<p>2424 rows × 6 columns</p>\n",
       "</div>"
      ]
     },
     "metadata": {
      "application/vnd.databricks.v1+output": {
       "addedWidgets": {},
       "arguments": {},
       "data": "<div>\n<style scoped>\n    .dataframe tbody tr th:only-of-type {\n        vertical-align: middle;\n    }\n\n    .dataframe tbody tr th {\n        vertical-align: top;\n    }\n\n    .dataframe thead th {\n        text-align: right;\n    }\n</style>\n<table border=\"1\" class=\"dataframe\">\n  <thead>\n    <tr style=\"text-align: right;\">\n      <th></th>\n      <th>open</th>\n      <th>high</th>\n      <th>low</th>\n      <th>close</th>\n      <th>volume</th>\n      <th>stock</th>\n    </tr>\n  </thead>\n  <tbody>\n    <tr>\n      <th>2015-01-02</th>\n      <td>111.39</td>\n      <td>111.4400</td>\n      <td>107.3500</td>\n      <td>109.33</td>\n      <td>53204626</td>\n      <td>aapl</td>\n    </tr>\n    <tr>\n      <th>2015-01-05</th>\n      <td>108.29</td>\n      <td>108.6500</td>\n      <td>105.4100</td>\n      <td>106.25</td>\n      <td>64285491</td>\n      <td>aapl</td>\n    </tr>\n    <tr>\n      <th>2015-01-06</th>\n      <td>106.54</td>\n      <td>107.4300</td>\n      <td>104.6300</td>\n      <td>106.26</td>\n      <td>65797116</td>\n      <td>aapl</td>\n    </tr>\n    <tr>\n      <th>2015-01-07</th>\n      <td>107.20</td>\n      <td>108.2000</td>\n      <td>106.6950</td>\n      <td>107.75</td>\n      <td>40105934</td>\n      <td>aapl</td>\n    </tr>\n    <tr>\n      <th>2015-01-08</th>\n      <td>109.23</td>\n      <td>112.1500</td>\n      <td>108.7000</td>\n      <td>111.89</td>\n      <td>59364547</td>\n      <td>aapl</td>\n    </tr>\n    <tr>\n      <th>...</th>\n      <td>...</td>\n      <td>...</td>\n      <td>...</td>\n      <td>...</td>\n      <td>...</td>\n      <td>...</td>\n    </tr>\n    <tr>\n      <th>2024-08-14</th>\n      <td>220.57</td>\n      <td>223.0300</td>\n      <td>219.7000</td>\n      <td>221.72</td>\n      <td>41960574</td>\n      <td>aapl</td>\n    </tr>\n    <tr>\n      <th>2024-08-15</th>\n      <td>224.60</td>\n      <td>225.3500</td>\n      <td>222.7600</td>\n      <td>224.72</td>\n      <td>46414013</td>\n      <td>aapl</td>\n    </tr>\n    <tr>\n      <th>2024-08-16</th>\n      <td>223.92</td>\n      <td>226.8271</td>\n      <td>223.6501</td>\n      <td>226.05</td>\n      <td>44340240</td>\n      <td>aapl</td>\n    </tr>\n    <tr>\n      <th>2024-08-19</th>\n      <td>225.72</td>\n      <td>225.9900</td>\n      <td>223.0400</td>\n      <td>225.89</td>\n      <td>40687813</td>\n      <td>aapl</td>\n    </tr>\n    <tr>\n      <th>2024-08-20</th>\n      <td>225.77</td>\n      <td>227.1700</td>\n      <td>225.4500</td>\n      <td>226.51</td>\n      <td>30299033</td>\n      <td>aapl</td>\n    </tr>\n  </tbody>\n</table>\n<p>2424 rows × 6 columns</p>\n</div>",
       "datasetInfos": [],
       "metadata": {},
       "removedWidgets": [],
       "textData": null,
       "type": "htmlSandbox"
      }
     },
     "output_type": "display_data"
    }
   ],
   "source": [
    "aapl_df['stock'] = 'aapl'\n",
    "aapl_df"
   ]
  },
  {
   "cell_type": "markdown",
   "metadata": {
    "application/vnd.databricks.v1+cell": {
     "cellMetadata": {},
     "inputWidgets": {},
     "nuid": "f3a7dce7-10ca-4709-bff7-8200b265ce04",
     "showTitle": false,
     "title": ""
    }
   },
   "source": [
    "### Step 6. Repeat the two previous steps for a few other stocks, always creating a new dataframe: Tesla, IBM and Microsoft. (Ticker symbols TSLA, IBM and MSFT.)"
   ]
  },
  {
   "cell_type": "code",
   "execution_count": 0,
   "metadata": {
    "application/vnd.databricks.v1+cell": {
     "cellMetadata": {
      "byteLimit": 2048000,
      "rowLimit": 10000
     },
     "inputWidgets": {},
     "nuid": "b813ae37-f87d-4bb1-b404-3c6de2040032",
     "showTitle": false,
     "title": ""
    }
   },
   "outputs": [],
   "source": [
    "tsla_df = pdr.data.DataReader(\"TSLA\", \"av-daily\", start=start_date, end=end_date, api_key=api_key)\n",
    "ibm_df = pdr.data.DataReader(\"IBM\", \"av-daily\", start=start_date, end=end_date, api_key=api_key)\n",
    "msft_df = pdr.data.DataReader(\"MSFT\", \"av-daily\", start=start_date, end=end_date, api_key=api_key)"
   ]
  },
  {
   "cell_type": "code",
   "execution_count": 0,
   "metadata": {
    "application/vnd.databricks.v1+cell": {
     "cellMetadata": {
      "byteLimit": 2048000,
      "rowLimit": 10000
     },
     "inputWidgets": {},
     "nuid": "57f8acf0-320a-431b-b585-3a5cd996f3e7",
     "showTitle": false,
     "title": ""
    }
   },
   "outputs": [
    {
     "output_type": "display_data",
     "data": {
      "text/html": [
       "<div>\n",
       "<style scoped>\n",
       "    .dataframe tbody tr th:only-of-type {\n",
       "        vertical-align: middle;\n",
       "    }\n",
       "\n",
       "    .dataframe tbody tr th {\n",
       "        vertical-align: top;\n",
       "    }\n",
       "\n",
       "    .dataframe thead th {\n",
       "        text-align: right;\n",
       "    }\n",
       "</style>\n",
       "<table border=\"1\" class=\"dataframe\">\n",
       "  <thead>\n",
       "    <tr style=\"text-align: right;\">\n",
       "      <th></th>\n",
       "      <th>open</th>\n",
       "      <th>high</th>\n",
       "      <th>low</th>\n",
       "      <th>close</th>\n",
       "      <th>volume</th>\n",
       "      <th>stock</th>\n",
       "    </tr>\n",
       "  </thead>\n",
       "  <tbody>\n",
       "    <tr>\n",
       "      <th>2015-01-02</th>\n",
       "      <td>222.87</td>\n",
       "      <td>223.2500</td>\n",
       "      <td>213.2600</td>\n",
       "      <td>219.310</td>\n",
       "      <td>4764443</td>\n",
       "      <td>tsla</td>\n",
       "    </tr>\n",
       "    <tr>\n",
       "      <th>2015-01-05</th>\n",
       "      <td>214.55</td>\n",
       "      <td>216.5000</td>\n",
       "      <td>207.1626</td>\n",
       "      <td>210.090</td>\n",
       "      <td>5368477</td>\n",
       "      <td>tsla</td>\n",
       "    </tr>\n",
       "    <tr>\n",
       "      <th>2015-01-06</th>\n",
       "      <td>210.06</td>\n",
       "      <td>214.2000</td>\n",
       "      <td>204.2100</td>\n",
       "      <td>211.280</td>\n",
       "      <td>6261936</td>\n",
       "      <td>tsla</td>\n",
       "    </tr>\n",
       "    <tr>\n",
       "      <th>2015-01-07</th>\n",
       "      <td>213.35</td>\n",
       "      <td>214.7800</td>\n",
       "      <td>209.7800</td>\n",
       "      <td>210.950</td>\n",
       "      <td>2968390</td>\n",
       "      <td>tsla</td>\n",
       "    </tr>\n",
       "    <tr>\n",
       "      <th>2015-01-08</th>\n",
       "      <td>212.81</td>\n",
       "      <td>213.7999</td>\n",
       "      <td>210.0100</td>\n",
       "      <td>210.615</td>\n",
       "      <td>3442509</td>\n",
       "      <td>tsla</td>\n",
       "    </tr>\n",
       "    <tr>\n",
       "      <th>...</th>\n",
       "      <td>...</td>\n",
       "      <td>...</td>\n",
       "      <td>...</td>\n",
       "      <td>...</td>\n",
       "      <td>...</td>\n",
       "      <td>...</td>\n",
       "    </tr>\n",
       "    <tr>\n",
       "      <th>2024-08-14</th>\n",
       "      <td>207.39</td>\n",
       "      <td>208.4400</td>\n",
       "      <td>198.7500</td>\n",
       "      <td>201.380</td>\n",
       "      <td>70250014</td>\n",
       "      <td>tsla</td>\n",
       "    </tr>\n",
       "    <tr>\n",
       "      <th>2024-08-15</th>\n",
       "      <td>205.02</td>\n",
       "      <td>215.8800</td>\n",
       "      <td>204.8200</td>\n",
       "      <td>214.140</td>\n",
       "      <td>89848530</td>\n",
       "      <td>tsla</td>\n",
       "    </tr>\n",
       "    <tr>\n",
       "      <th>2024-08-16</th>\n",
       "      <td>211.15</td>\n",
       "      <td>219.8000</td>\n",
       "      <td>210.8000</td>\n",
       "      <td>216.120</td>\n",
       "      <td>88765122</td>\n",
       "      <td>tsla</td>\n",
       "    </tr>\n",
       "    <tr>\n",
       "      <th>2024-08-19</th>\n",
       "      <td>217.07</td>\n",
       "      <td>222.9800</td>\n",
       "      <td>214.0900</td>\n",
       "      <td>222.720</td>\n",
       "      <td>76435222</td>\n",
       "      <td>tsla</td>\n",
       "    </tr>\n",
       "    <tr>\n",
       "      <th>2024-08-20</th>\n",
       "      <td>224.88</td>\n",
       "      <td>228.2200</td>\n",
       "      <td>219.5600</td>\n",
       "      <td>221.100</td>\n",
       "      <td>74001182</td>\n",
       "      <td>tsla</td>\n",
       "    </tr>\n",
       "  </tbody>\n",
       "</table>\n",
       "<p>2424 rows × 6 columns</p>\n",
       "</div>"
      ]
     },
     "metadata": {
      "application/vnd.databricks.v1+output": {
       "addedWidgets": {},
       "arguments": {},
       "data": "<div>\n<style scoped>\n    .dataframe tbody tr th:only-of-type {\n        vertical-align: middle;\n    }\n\n    .dataframe tbody tr th {\n        vertical-align: top;\n    }\n\n    .dataframe thead th {\n        text-align: right;\n    }\n</style>\n<table border=\"1\" class=\"dataframe\">\n  <thead>\n    <tr style=\"text-align: right;\">\n      <th></th>\n      <th>open</th>\n      <th>high</th>\n      <th>low</th>\n      <th>close</th>\n      <th>volume</th>\n      <th>stock</th>\n    </tr>\n  </thead>\n  <tbody>\n    <tr>\n      <th>2015-01-02</th>\n      <td>222.87</td>\n      <td>223.2500</td>\n      <td>213.2600</td>\n      <td>219.310</td>\n      <td>4764443</td>\n      <td>tsla</td>\n    </tr>\n    <tr>\n      <th>2015-01-05</th>\n      <td>214.55</td>\n      <td>216.5000</td>\n      <td>207.1626</td>\n      <td>210.090</td>\n      <td>5368477</td>\n      <td>tsla</td>\n    </tr>\n    <tr>\n      <th>2015-01-06</th>\n      <td>210.06</td>\n      <td>214.2000</td>\n      <td>204.2100</td>\n      <td>211.280</td>\n      <td>6261936</td>\n      <td>tsla</td>\n    </tr>\n    <tr>\n      <th>2015-01-07</th>\n      <td>213.35</td>\n      <td>214.7800</td>\n      <td>209.7800</td>\n      <td>210.950</td>\n      <td>2968390</td>\n      <td>tsla</td>\n    </tr>\n    <tr>\n      <th>2015-01-08</th>\n      <td>212.81</td>\n      <td>213.7999</td>\n      <td>210.0100</td>\n      <td>210.615</td>\n      <td>3442509</td>\n      <td>tsla</td>\n    </tr>\n    <tr>\n      <th>...</th>\n      <td>...</td>\n      <td>...</td>\n      <td>...</td>\n      <td>...</td>\n      <td>...</td>\n      <td>...</td>\n    </tr>\n    <tr>\n      <th>2024-08-14</th>\n      <td>207.39</td>\n      <td>208.4400</td>\n      <td>198.7500</td>\n      <td>201.380</td>\n      <td>70250014</td>\n      <td>tsla</td>\n    </tr>\n    <tr>\n      <th>2024-08-15</th>\n      <td>205.02</td>\n      <td>215.8800</td>\n      <td>204.8200</td>\n      <td>214.140</td>\n      <td>89848530</td>\n      <td>tsla</td>\n    </tr>\n    <tr>\n      <th>2024-08-16</th>\n      <td>211.15</td>\n      <td>219.8000</td>\n      <td>210.8000</td>\n      <td>216.120</td>\n      <td>88765122</td>\n      <td>tsla</td>\n    </tr>\n    <tr>\n      <th>2024-08-19</th>\n      <td>217.07</td>\n      <td>222.9800</td>\n      <td>214.0900</td>\n      <td>222.720</td>\n      <td>76435222</td>\n      <td>tsla</td>\n    </tr>\n    <tr>\n      <th>2024-08-20</th>\n      <td>224.88</td>\n      <td>228.2200</td>\n      <td>219.5600</td>\n      <td>221.100</td>\n      <td>74001182</td>\n      <td>tsla</td>\n    </tr>\n  </tbody>\n</table>\n<p>2424 rows × 6 columns</p>\n</div>",
       "datasetInfos": [],
       "metadata": {},
       "removedWidgets": [],
       "textData": null,
       "type": "htmlSandbox"
      }
     },
     "output_type": "display_data"
    }
   ],
   "source": [
    "tsla_df['stock'] = 'tsla'\n",
    "tsla_df"
   ]
  },
  {
   "cell_type": "code",
   "execution_count": 0,
   "metadata": {
    "application/vnd.databricks.v1+cell": {
     "cellMetadata": {
      "byteLimit": 2048000,
      "rowLimit": 10000
     },
     "inputWidgets": {},
     "nuid": "a6e82f58-83f3-4574-ab38-e6c483fcfc59",
     "showTitle": false,
     "title": ""
    }
   },
   "outputs": [
    {
     "output_type": "display_data",
     "data": {
      "text/html": [
       "<div>\n",
       "<style scoped>\n",
       "    .dataframe tbody tr th:only-of-type {\n",
       "        vertical-align: middle;\n",
       "    }\n",
       "\n",
       "    .dataframe tbody tr th {\n",
       "        vertical-align: top;\n",
       "    }\n",
       "\n",
       "    .dataframe thead th {\n",
       "        text-align: right;\n",
       "    }\n",
       "</style>\n",
       "<table border=\"1\" class=\"dataframe\">\n",
       "  <thead>\n",
       "    <tr style=\"text-align: right;\">\n",
       "      <th></th>\n",
       "      <th>open</th>\n",
       "      <th>high</th>\n",
       "      <th>low</th>\n",
       "      <th>close</th>\n",
       "      <th>volume</th>\n",
       "      <th>stock</th>\n",
       "    </tr>\n",
       "  </thead>\n",
       "  <tbody>\n",
       "    <tr>\n",
       "      <th>2015-01-02</th>\n",
       "      <td>161.31</td>\n",
       "      <td>163.310</td>\n",
       "      <td>161.000</td>\n",
       "      <td>162.06</td>\n",
       "      <td>5525341</td>\n",
       "      <td>ibm</td>\n",
       "    </tr>\n",
       "    <tr>\n",
       "      <th>2015-01-05</th>\n",
       "      <td>161.27</td>\n",
       "      <td>161.270</td>\n",
       "      <td>159.190</td>\n",
       "      <td>159.51</td>\n",
       "      <td>4880389</td>\n",
       "      <td>ibm</td>\n",
       "    </tr>\n",
       "    <tr>\n",
       "      <th>2015-01-06</th>\n",
       "      <td>159.67</td>\n",
       "      <td>159.960</td>\n",
       "      <td>155.170</td>\n",
       "      <td>156.07</td>\n",
       "      <td>6145670</td>\n",
       "      <td>ibm</td>\n",
       "    </tr>\n",
       "    <tr>\n",
       "      <th>2015-01-07</th>\n",
       "      <td>157.20</td>\n",
       "      <td>157.200</td>\n",
       "      <td>154.030</td>\n",
       "      <td>155.05</td>\n",
       "      <td>4701015</td>\n",
       "      <td>ibm</td>\n",
       "    </tr>\n",
       "    <tr>\n",
       "      <th>2015-01-08</th>\n",
       "      <td>156.24</td>\n",
       "      <td>159.044</td>\n",
       "      <td>155.550</td>\n",
       "      <td>158.42</td>\n",
       "      <td>4240585</td>\n",
       "      <td>ibm</td>\n",
       "    </tr>\n",
       "    <tr>\n",
       "      <th>...</th>\n",
       "      <td>...</td>\n",
       "      <td>...</td>\n",
       "      <td>...</td>\n",
       "      <td>...</td>\n",
       "      <td>...</td>\n",
       "      <td>...</td>\n",
       "    </tr>\n",
       "    <tr>\n",
       "      <th>2024-08-14</th>\n",
       "      <td>191.15</td>\n",
       "      <td>193.090</td>\n",
       "      <td>190.730</td>\n",
       "      <td>192.32</td>\n",
       "      <td>1895114</td>\n",
       "      <td>ibm</td>\n",
       "    </tr>\n",
       "    <tr>\n",
       "      <th>2024-08-15</th>\n",
       "      <td>193.51</td>\n",
       "      <td>194.250</td>\n",
       "      <td>193.280</td>\n",
       "      <td>193.95</td>\n",
       "      <td>2471985</td>\n",
       "      <td>ibm</td>\n",
       "    </tr>\n",
       "    <tr>\n",
       "      <th>2024-08-16</th>\n",
       "      <td>193.58</td>\n",
       "      <td>194.350</td>\n",
       "      <td>192.860</td>\n",
       "      <td>193.78</td>\n",
       "      <td>2494472</td>\n",
       "      <td>ibm</td>\n",
       "    </tr>\n",
       "    <tr>\n",
       "      <th>2024-08-19</th>\n",
       "      <td>193.84</td>\n",
       "      <td>195.525</td>\n",
       "      <td>193.715</td>\n",
       "      <td>194.73</td>\n",
       "      <td>2361378</td>\n",
       "      <td>ibm</td>\n",
       "    </tr>\n",
       "    <tr>\n",
       "      <th>2024-08-20</th>\n",
       "      <td>194.59</td>\n",
       "      <td>196.210</td>\n",
       "      <td>193.750</td>\n",
       "      <td>196.03</td>\n",
       "      <td>1790371</td>\n",
       "      <td>ibm</td>\n",
       "    </tr>\n",
       "  </tbody>\n",
       "</table>\n",
       "<p>2424 rows × 6 columns</p>\n",
       "</div>"
      ]
     },
     "metadata": {
      "application/vnd.databricks.v1+output": {
       "addedWidgets": {},
       "arguments": {},
       "data": "<div>\n<style scoped>\n    .dataframe tbody tr th:only-of-type {\n        vertical-align: middle;\n    }\n\n    .dataframe tbody tr th {\n        vertical-align: top;\n    }\n\n    .dataframe thead th {\n        text-align: right;\n    }\n</style>\n<table border=\"1\" class=\"dataframe\">\n  <thead>\n    <tr style=\"text-align: right;\">\n      <th></th>\n      <th>open</th>\n      <th>high</th>\n      <th>low</th>\n      <th>close</th>\n      <th>volume</th>\n      <th>stock</th>\n    </tr>\n  </thead>\n  <tbody>\n    <tr>\n      <th>2015-01-02</th>\n      <td>161.31</td>\n      <td>163.310</td>\n      <td>161.000</td>\n      <td>162.06</td>\n      <td>5525341</td>\n      <td>ibm</td>\n    </tr>\n    <tr>\n      <th>2015-01-05</th>\n      <td>161.27</td>\n      <td>161.270</td>\n      <td>159.190</td>\n      <td>159.51</td>\n      <td>4880389</td>\n      <td>ibm</td>\n    </tr>\n    <tr>\n      <th>2015-01-06</th>\n      <td>159.67</td>\n      <td>159.960</td>\n      <td>155.170</td>\n      <td>156.07</td>\n      <td>6145670</td>\n      <td>ibm</td>\n    </tr>\n    <tr>\n      <th>2015-01-07</th>\n      <td>157.20</td>\n      <td>157.200</td>\n      <td>154.030</td>\n      <td>155.05</td>\n      <td>4701015</td>\n      <td>ibm</td>\n    </tr>\n    <tr>\n      <th>2015-01-08</th>\n      <td>156.24</td>\n      <td>159.044</td>\n      <td>155.550</td>\n      <td>158.42</td>\n      <td>4240585</td>\n      <td>ibm</td>\n    </tr>\n    <tr>\n      <th>...</th>\n      <td>...</td>\n      <td>...</td>\n      <td>...</td>\n      <td>...</td>\n      <td>...</td>\n      <td>...</td>\n    </tr>\n    <tr>\n      <th>2024-08-14</th>\n      <td>191.15</td>\n      <td>193.090</td>\n      <td>190.730</td>\n      <td>192.32</td>\n      <td>1895114</td>\n      <td>ibm</td>\n    </tr>\n    <tr>\n      <th>2024-08-15</th>\n      <td>193.51</td>\n      <td>194.250</td>\n      <td>193.280</td>\n      <td>193.95</td>\n      <td>2471985</td>\n      <td>ibm</td>\n    </tr>\n    <tr>\n      <th>2024-08-16</th>\n      <td>193.58</td>\n      <td>194.350</td>\n      <td>192.860</td>\n      <td>193.78</td>\n      <td>2494472</td>\n      <td>ibm</td>\n    </tr>\n    <tr>\n      <th>2024-08-19</th>\n      <td>193.84</td>\n      <td>195.525</td>\n      <td>193.715</td>\n      <td>194.73</td>\n      <td>2361378</td>\n      <td>ibm</td>\n    </tr>\n    <tr>\n      <th>2024-08-20</th>\n      <td>194.59</td>\n      <td>196.210</td>\n      <td>193.750</td>\n      <td>196.03</td>\n      <td>1790371</td>\n      <td>ibm</td>\n    </tr>\n  </tbody>\n</table>\n<p>2424 rows × 6 columns</p>\n</div>",
       "datasetInfos": [],
       "metadata": {},
       "removedWidgets": [],
       "textData": null,
       "type": "htmlSandbox"
      }
     },
     "output_type": "display_data"
    }
   ],
   "source": [
    "ibm_df['stock'] = 'ibm'\n",
    "ibm_df"
   ]
  },
  {
   "cell_type": "code",
   "execution_count": 0,
   "metadata": {
    "application/vnd.databricks.v1+cell": {
     "cellMetadata": {
      "byteLimit": 2048000,
      "rowLimit": 10000
     },
     "inputWidgets": {},
     "nuid": "546ac110-ce33-4093-a749-90575f3b89eb",
     "showTitle": false,
     "title": ""
    }
   },
   "outputs": [
    {
     "output_type": "display_data",
     "data": {
      "text/html": [
       "<div>\n",
       "<style scoped>\n",
       "    .dataframe tbody tr th:only-of-type {\n",
       "        vertical-align: middle;\n",
       "    }\n",
       "\n",
       "    .dataframe tbody tr th {\n",
       "        vertical-align: top;\n",
       "    }\n",
       "\n",
       "    .dataframe thead th {\n",
       "        text-align: right;\n",
       "    }\n",
       "</style>\n",
       "<table border=\"1\" class=\"dataframe\">\n",
       "  <thead>\n",
       "    <tr style=\"text-align: right;\">\n",
       "      <th></th>\n",
       "      <th>open</th>\n",
       "      <th>high</th>\n",
       "      <th>low</th>\n",
       "      <th>close</th>\n",
       "      <th>volume</th>\n",
       "      <th>stock</th>\n",
       "    </tr>\n",
       "  </thead>\n",
       "  <tbody>\n",
       "    <tr>\n",
       "      <th>2015-01-02</th>\n",
       "      <td>46.66</td>\n",
       "      <td>47.4200</td>\n",
       "      <td>46.5400</td>\n",
       "      <td>46.760</td>\n",
       "      <td>27913852</td>\n",
       "      <td>msft</td>\n",
       "    </tr>\n",
       "    <tr>\n",
       "      <th>2015-01-05</th>\n",
       "      <td>46.37</td>\n",
       "      <td>46.7300</td>\n",
       "      <td>46.2500</td>\n",
       "      <td>46.325</td>\n",
       "      <td>39673865</td>\n",
       "      <td>msft</td>\n",
       "    </tr>\n",
       "    <tr>\n",
       "      <th>2015-01-06</th>\n",
       "      <td>46.38</td>\n",
       "      <td>46.7490</td>\n",
       "      <td>45.5400</td>\n",
       "      <td>45.650</td>\n",
       "      <td>36447854</td>\n",
       "      <td>msft</td>\n",
       "    </tr>\n",
       "    <tr>\n",
       "      <th>2015-01-07</th>\n",
       "      <td>45.98</td>\n",
       "      <td>46.4600</td>\n",
       "      <td>45.4900</td>\n",
       "      <td>46.230</td>\n",
       "      <td>29114061</td>\n",
       "      <td>msft</td>\n",
       "    </tr>\n",
       "    <tr>\n",
       "      <th>2015-01-08</th>\n",
       "      <td>46.75</td>\n",
       "      <td>47.7499</td>\n",
       "      <td>46.7200</td>\n",
       "      <td>47.590</td>\n",
       "      <td>29645202</td>\n",
       "      <td>msft</td>\n",
       "    </tr>\n",
       "    <tr>\n",
       "      <th>...</th>\n",
       "      <td>...</td>\n",
       "      <td>...</td>\n",
       "      <td>...</td>\n",
       "      <td>...</td>\n",
       "      <td>...</td>\n",
       "      <td>...</td>\n",
       "    </tr>\n",
       "    <tr>\n",
       "      <th>2024-08-14</th>\n",
       "      <td>414.80</td>\n",
       "      <td>417.7200</td>\n",
       "      <td>412.4456</td>\n",
       "      <td>416.860</td>\n",
       "      <td>18266980</td>\n",
       "      <td>msft</td>\n",
       "    </tr>\n",
       "    <tr>\n",
       "      <th>2024-08-15</th>\n",
       "      <td>419.80</td>\n",
       "      <td>421.1100</td>\n",
       "      <td>417.6600</td>\n",
       "      <td>421.030</td>\n",
       "      <td>20752144</td>\n",
       "      <td>msft</td>\n",
       "    </tr>\n",
       "    <tr>\n",
       "      <th>2024-08-16</th>\n",
       "      <td>420.60</td>\n",
       "      <td>421.3400</td>\n",
       "      <td>417.3000</td>\n",
       "      <td>418.470</td>\n",
       "      <td>22775593</td>\n",
       "      <td>msft</td>\n",
       "    </tr>\n",
       "    <tr>\n",
       "      <th>2024-08-19</th>\n",
       "      <td>418.96</td>\n",
       "      <td>421.7500</td>\n",
       "      <td>416.4600</td>\n",
       "      <td>421.530</td>\n",
       "      <td>15233957</td>\n",
       "      <td>msft</td>\n",
       "    </tr>\n",
       "    <tr>\n",
       "      <th>2024-08-20</th>\n",
       "      <td>421.70</td>\n",
       "      <td>425.8600</td>\n",
       "      <td>421.6400</td>\n",
       "      <td>424.800</td>\n",
       "      <td>16387581</td>\n",
       "      <td>msft</td>\n",
       "    </tr>\n",
       "  </tbody>\n",
       "</table>\n",
       "<p>2424 rows × 6 columns</p>\n",
       "</div>"
      ]
     },
     "metadata": {
      "application/vnd.databricks.v1+output": {
       "addedWidgets": {},
       "arguments": {},
       "data": "<div>\n<style scoped>\n    .dataframe tbody tr th:only-of-type {\n        vertical-align: middle;\n    }\n\n    .dataframe tbody tr th {\n        vertical-align: top;\n    }\n\n    .dataframe thead th {\n        text-align: right;\n    }\n</style>\n<table border=\"1\" class=\"dataframe\">\n  <thead>\n    <tr style=\"text-align: right;\">\n      <th></th>\n      <th>open</th>\n      <th>high</th>\n      <th>low</th>\n      <th>close</th>\n      <th>volume</th>\n      <th>stock</th>\n    </tr>\n  </thead>\n  <tbody>\n    <tr>\n      <th>2015-01-02</th>\n      <td>46.66</td>\n      <td>47.4200</td>\n      <td>46.5400</td>\n      <td>46.760</td>\n      <td>27913852</td>\n      <td>msft</td>\n    </tr>\n    <tr>\n      <th>2015-01-05</th>\n      <td>46.37</td>\n      <td>46.7300</td>\n      <td>46.2500</td>\n      <td>46.325</td>\n      <td>39673865</td>\n      <td>msft</td>\n    </tr>\n    <tr>\n      <th>2015-01-06</th>\n      <td>46.38</td>\n      <td>46.7490</td>\n      <td>45.5400</td>\n      <td>45.650</td>\n      <td>36447854</td>\n      <td>msft</td>\n    </tr>\n    <tr>\n      <th>2015-01-07</th>\n      <td>45.98</td>\n      <td>46.4600</td>\n      <td>45.4900</td>\n      <td>46.230</td>\n      <td>29114061</td>\n      <td>msft</td>\n    </tr>\n    <tr>\n      <th>2015-01-08</th>\n      <td>46.75</td>\n      <td>47.7499</td>\n      <td>46.7200</td>\n      <td>47.590</td>\n      <td>29645202</td>\n      <td>msft</td>\n    </tr>\n    <tr>\n      <th>...</th>\n      <td>...</td>\n      <td>...</td>\n      <td>...</td>\n      <td>...</td>\n      <td>...</td>\n      <td>...</td>\n    </tr>\n    <tr>\n      <th>2024-08-14</th>\n      <td>414.80</td>\n      <td>417.7200</td>\n      <td>412.4456</td>\n      <td>416.860</td>\n      <td>18266980</td>\n      <td>msft</td>\n    </tr>\n    <tr>\n      <th>2024-08-15</th>\n      <td>419.80</td>\n      <td>421.1100</td>\n      <td>417.6600</td>\n      <td>421.030</td>\n      <td>20752144</td>\n      <td>msft</td>\n    </tr>\n    <tr>\n      <th>2024-08-16</th>\n      <td>420.60</td>\n      <td>421.3400</td>\n      <td>417.3000</td>\n      <td>418.470</td>\n      <td>22775593</td>\n      <td>msft</td>\n    </tr>\n    <tr>\n      <th>2024-08-19</th>\n      <td>418.96</td>\n      <td>421.7500</td>\n      <td>416.4600</td>\n      <td>421.530</td>\n      <td>15233957</td>\n      <td>msft</td>\n    </tr>\n    <tr>\n      <th>2024-08-20</th>\n      <td>421.70</td>\n      <td>425.8600</td>\n      <td>421.6400</td>\n      <td>424.800</td>\n      <td>16387581</td>\n      <td>msft</td>\n    </tr>\n  </tbody>\n</table>\n<p>2424 rows × 6 columns</p>\n</div>",
       "datasetInfos": [],
       "metadata": {},
       "removedWidgets": [],
       "textData": null,
       "type": "htmlSandbox"
      }
     },
     "output_type": "display_data"
    }
   ],
   "source": [
    "msft_df['stock'] = 'msft'\n",
    "msft_df"
   ]
  },
  {
   "cell_type": "markdown",
   "metadata": {
    "application/vnd.databricks.v1+cell": {
     "cellMetadata": {},
     "inputWidgets": {},
     "nuid": "afa56ec0-3302-4ecb-bea8-3879cae1f282",
     "showTitle": false,
     "title": ""
    }
   },
   "source": [
    "### Step 7. Combine the four separate dataFrames into one combined dataFrame df that holds the information for all four stocks"
   ]
  },
  {
   "cell_type": "code",
   "execution_count": 0,
   "metadata": {
    "application/vnd.databricks.v1+cell": {
     "cellMetadata": {
      "byteLimit": 2048000,
      "rowLimit": 10000
     },
     "inputWidgets": {},
     "nuid": "931d2fa0-5a37-48ea-bacc-30bb0c09b66c",
     "showTitle": false,
     "title": ""
    }
   },
   "outputs": [],
   "source": [
    "import pandas as pd\n",
    "\n",
    "stocks_df = pd.concat([aapl_df, tsla_df, ibm_df, msft_df])"
   ]
  },
  {
   "cell_type": "code",
   "execution_count": 0,
   "metadata": {
    "application/vnd.databricks.v1+cell": {
     "cellMetadata": {
      "byteLimit": 2048000,
      "rowLimit": 10000
     },
     "inputWidgets": {},
     "nuid": "0b4900c0-917c-473d-8204-5bcbc153fc72",
     "showTitle": false,
     "title": ""
    }
   },
   "outputs": [
    {
     "output_type": "display_data",
     "data": {
      "text/html": [
       "<div>\n",
       "<style scoped>\n",
       "    .dataframe tbody tr th:only-of-type {\n",
       "        vertical-align: middle;\n",
       "    }\n",
       "\n",
       "    .dataframe tbody tr th {\n",
       "        vertical-align: top;\n",
       "    }\n",
       "\n",
       "    .dataframe thead th {\n",
       "        text-align: right;\n",
       "    }\n",
       "</style>\n",
       "<table border=\"1\" class=\"dataframe\">\n",
       "  <thead>\n",
       "    <tr style=\"text-align: right;\">\n",
       "      <th></th>\n",
       "      <th>open</th>\n",
       "      <th>high</th>\n",
       "      <th>low</th>\n",
       "      <th>close</th>\n",
       "      <th>volume</th>\n",
       "      <th>stock</th>\n",
       "    </tr>\n",
       "  </thead>\n",
       "  <tbody>\n",
       "    <tr>\n",
       "      <th>2015-01-02</th>\n",
       "      <td>111.39</td>\n",
       "      <td>111.44</td>\n",
       "      <td>107.3500</td>\n",
       "      <td>109.33</td>\n",
       "      <td>53204626</td>\n",
       "      <td>aapl</td>\n",
       "    </tr>\n",
       "    <tr>\n",
       "      <th>2015-01-05</th>\n",
       "      <td>108.29</td>\n",
       "      <td>108.65</td>\n",
       "      <td>105.4100</td>\n",
       "      <td>106.25</td>\n",
       "      <td>64285491</td>\n",
       "      <td>aapl</td>\n",
       "    </tr>\n",
       "    <tr>\n",
       "      <th>2015-01-06</th>\n",
       "      <td>106.54</td>\n",
       "      <td>107.43</td>\n",
       "      <td>104.6300</td>\n",
       "      <td>106.26</td>\n",
       "      <td>65797116</td>\n",
       "      <td>aapl</td>\n",
       "    </tr>\n",
       "    <tr>\n",
       "      <th>2015-01-07</th>\n",
       "      <td>107.20</td>\n",
       "      <td>108.20</td>\n",
       "      <td>106.6950</td>\n",
       "      <td>107.75</td>\n",
       "      <td>40105934</td>\n",
       "      <td>aapl</td>\n",
       "    </tr>\n",
       "    <tr>\n",
       "      <th>2015-01-08</th>\n",
       "      <td>109.23</td>\n",
       "      <td>112.15</td>\n",
       "      <td>108.7000</td>\n",
       "      <td>111.89</td>\n",
       "      <td>59364547</td>\n",
       "      <td>aapl</td>\n",
       "    </tr>\n",
       "    <tr>\n",
       "      <th>...</th>\n",
       "      <td>...</td>\n",
       "      <td>...</td>\n",
       "      <td>...</td>\n",
       "      <td>...</td>\n",
       "      <td>...</td>\n",
       "      <td>...</td>\n",
       "    </tr>\n",
       "    <tr>\n",
       "      <th>2024-08-14</th>\n",
       "      <td>414.80</td>\n",
       "      <td>417.72</td>\n",
       "      <td>412.4456</td>\n",
       "      <td>416.86</td>\n",
       "      <td>18266980</td>\n",
       "      <td>msft</td>\n",
       "    </tr>\n",
       "    <tr>\n",
       "      <th>2024-08-15</th>\n",
       "      <td>419.80</td>\n",
       "      <td>421.11</td>\n",
       "      <td>417.6600</td>\n",
       "      <td>421.03</td>\n",
       "      <td>20752144</td>\n",
       "      <td>msft</td>\n",
       "    </tr>\n",
       "    <tr>\n",
       "      <th>2024-08-16</th>\n",
       "      <td>420.60</td>\n",
       "      <td>421.34</td>\n",
       "      <td>417.3000</td>\n",
       "      <td>418.47</td>\n",
       "      <td>22775593</td>\n",
       "      <td>msft</td>\n",
       "    </tr>\n",
       "    <tr>\n",
       "      <th>2024-08-19</th>\n",
       "      <td>418.96</td>\n",
       "      <td>421.75</td>\n",
       "      <td>416.4600</td>\n",
       "      <td>421.53</td>\n",
       "      <td>15233957</td>\n",
       "      <td>msft</td>\n",
       "    </tr>\n",
       "    <tr>\n",
       "      <th>2024-08-20</th>\n",
       "      <td>421.70</td>\n",
       "      <td>425.86</td>\n",
       "      <td>421.6400</td>\n",
       "      <td>424.80</td>\n",
       "      <td>16387581</td>\n",
       "      <td>msft</td>\n",
       "    </tr>\n",
       "  </tbody>\n",
       "</table>\n",
       "<p>9696 rows × 6 columns</p>\n",
       "</div>"
      ]
     },
     "metadata": {
      "application/vnd.databricks.v1+output": {
       "addedWidgets": {},
       "arguments": {},
       "data": "<div>\n<style scoped>\n    .dataframe tbody tr th:only-of-type {\n        vertical-align: middle;\n    }\n\n    .dataframe tbody tr th {\n        vertical-align: top;\n    }\n\n    .dataframe thead th {\n        text-align: right;\n    }\n</style>\n<table border=\"1\" class=\"dataframe\">\n  <thead>\n    <tr style=\"text-align: right;\">\n      <th></th>\n      <th>open</th>\n      <th>high</th>\n      <th>low</th>\n      <th>close</th>\n      <th>volume</th>\n      <th>stock</th>\n    </tr>\n  </thead>\n  <tbody>\n    <tr>\n      <th>2015-01-02</th>\n      <td>111.39</td>\n      <td>111.44</td>\n      <td>107.3500</td>\n      <td>109.33</td>\n      <td>53204626</td>\n      <td>aapl</td>\n    </tr>\n    <tr>\n      <th>2015-01-05</th>\n      <td>108.29</td>\n      <td>108.65</td>\n      <td>105.4100</td>\n      <td>106.25</td>\n      <td>64285491</td>\n      <td>aapl</td>\n    </tr>\n    <tr>\n      <th>2015-01-06</th>\n      <td>106.54</td>\n      <td>107.43</td>\n      <td>104.6300</td>\n      <td>106.26</td>\n      <td>65797116</td>\n      <td>aapl</td>\n    </tr>\n    <tr>\n      <th>2015-01-07</th>\n      <td>107.20</td>\n      <td>108.20</td>\n      <td>106.6950</td>\n      <td>107.75</td>\n      <td>40105934</td>\n      <td>aapl</td>\n    </tr>\n    <tr>\n      <th>2015-01-08</th>\n      <td>109.23</td>\n      <td>112.15</td>\n      <td>108.7000</td>\n      <td>111.89</td>\n      <td>59364547</td>\n      <td>aapl</td>\n    </tr>\n    <tr>\n      <th>...</th>\n      <td>...</td>\n      <td>...</td>\n      <td>...</td>\n      <td>...</td>\n      <td>...</td>\n      <td>...</td>\n    </tr>\n    <tr>\n      <th>2024-08-14</th>\n      <td>414.80</td>\n      <td>417.72</td>\n      <td>412.4456</td>\n      <td>416.86</td>\n      <td>18266980</td>\n      <td>msft</td>\n    </tr>\n    <tr>\n      <th>2024-08-15</th>\n      <td>419.80</td>\n      <td>421.11</td>\n      <td>417.6600</td>\n      <td>421.03</td>\n      <td>20752144</td>\n      <td>msft</td>\n    </tr>\n    <tr>\n      <th>2024-08-16</th>\n      <td>420.60</td>\n      <td>421.34</td>\n      <td>417.3000</td>\n      <td>418.47</td>\n      <td>22775593</td>\n      <td>msft</td>\n    </tr>\n    <tr>\n      <th>2024-08-19</th>\n      <td>418.96</td>\n      <td>421.75</td>\n      <td>416.4600</td>\n      <td>421.53</td>\n      <td>15233957</td>\n      <td>msft</td>\n    </tr>\n    <tr>\n      <th>2024-08-20</th>\n      <td>421.70</td>\n      <td>425.86</td>\n      <td>421.6400</td>\n      <td>424.80</td>\n      <td>16387581</td>\n      <td>msft</td>\n    </tr>\n  </tbody>\n</table>\n<p>9696 rows × 6 columns</p>\n</div>",
       "datasetInfos": [],
       "metadata": {},
       "removedWidgets": [],
       "textData": null,
       "type": "htmlSandbox"
      }
     },
     "output_type": "display_data"
    }
   ],
   "source": [
    "stocks_df"
   ]
  },
  {
   "cell_type": "markdown",
   "metadata": {
    "application/vnd.databricks.v1+cell": {
     "cellMetadata": {},
     "inputWidgets": {},
     "nuid": "37abba8c-9dbc-4d68-b5b6-578a02b30327",
     "showTitle": false,
     "title": ""
    }
   },
   "source": [
    "### Step 8. Shift the stock column into the index (making it a multi-level index consisting of the ticker symbol and the date)."
   ]
  },
  {
   "cell_type": "code",
   "execution_count": 0,
   "metadata": {
    "application/vnd.databricks.v1+cell": {
     "cellMetadata": {
      "byteLimit": 2048000,
      "rowLimit": 10000
     },
     "inputWidgets": {},
     "nuid": "3717784f-c821-4c8a-882d-995da239bfba",
     "showTitle": false,
     "title": ""
    }
   },
   "outputs": [
    {
     "output_type": "display_data",
     "data": {
      "text/html": [
       "<div>\n",
       "<style scoped>\n",
       "    .dataframe tbody tr th:only-of-type {\n",
       "        vertical-align: middle;\n",
       "    }\n",
       "\n",
       "    .dataframe tbody tr th {\n",
       "        vertical-align: top;\n",
       "    }\n",
       "\n",
       "    .dataframe thead th {\n",
       "        text-align: right;\n",
       "    }\n",
       "</style>\n",
       "<table border=\"1\" class=\"dataframe\">\n",
       "  <thead>\n",
       "    <tr style=\"text-align: right;\">\n",
       "      <th></th>\n",
       "      <th>open</th>\n",
       "      <th>high</th>\n",
       "      <th>low</th>\n",
       "      <th>close</th>\n",
       "      <th>volume</th>\n",
       "      <th>stock</th>\n",
       "    </tr>\n",
       "  </thead>\n",
       "  <tbody>\n",
       "    <tr>\n",
       "      <th>2015-01-02</th>\n",
       "      <td>111.39</td>\n",
       "      <td>111.44</td>\n",
       "      <td>107.3500</td>\n",
       "      <td>109.33</td>\n",
       "      <td>53204626</td>\n",
       "      <td>aapl</td>\n",
       "    </tr>\n",
       "    <tr>\n",
       "      <th>2015-01-02</th>\n",
       "      <td>222.87</td>\n",
       "      <td>223.25</td>\n",
       "      <td>213.2600</td>\n",
       "      <td>219.31</td>\n",
       "      <td>4764443</td>\n",
       "      <td>tsla</td>\n",
       "    </tr>\n",
       "    <tr>\n",
       "      <th>2015-01-02</th>\n",
       "      <td>46.66</td>\n",
       "      <td>47.42</td>\n",
       "      <td>46.5400</td>\n",
       "      <td>46.76</td>\n",
       "      <td>27913852</td>\n",
       "      <td>msft</td>\n",
       "    </tr>\n",
       "    <tr>\n",
       "      <th>2015-01-02</th>\n",
       "      <td>161.31</td>\n",
       "      <td>163.31</td>\n",
       "      <td>161.0000</td>\n",
       "      <td>162.06</td>\n",
       "      <td>5525341</td>\n",
       "      <td>ibm</td>\n",
       "    </tr>\n",
       "    <tr>\n",
       "      <th>2015-01-05</th>\n",
       "      <td>214.55</td>\n",
       "      <td>216.50</td>\n",
       "      <td>207.1626</td>\n",
       "      <td>210.09</td>\n",
       "      <td>5368477</td>\n",
       "      <td>tsla</td>\n",
       "    </tr>\n",
       "    <tr>\n",
       "      <th>...</th>\n",
       "      <td>...</td>\n",
       "      <td>...</td>\n",
       "      <td>...</td>\n",
       "      <td>...</td>\n",
       "      <td>...</td>\n",
       "      <td>...</td>\n",
       "    </tr>\n",
       "    <tr>\n",
       "      <th>2024-08-19</th>\n",
       "      <td>225.72</td>\n",
       "      <td>225.99</td>\n",
       "      <td>223.0400</td>\n",
       "      <td>225.89</td>\n",
       "      <td>40687813</td>\n",
       "      <td>aapl</td>\n",
       "    </tr>\n",
       "    <tr>\n",
       "      <th>2024-08-20</th>\n",
       "      <td>224.88</td>\n",
       "      <td>228.22</td>\n",
       "      <td>219.5600</td>\n",
       "      <td>221.10</td>\n",
       "      <td>74001182</td>\n",
       "      <td>tsla</td>\n",
       "    </tr>\n",
       "    <tr>\n",
       "      <th>2024-08-20</th>\n",
       "      <td>225.77</td>\n",
       "      <td>227.17</td>\n",
       "      <td>225.4500</td>\n",
       "      <td>226.51</td>\n",
       "      <td>30299033</td>\n",
       "      <td>aapl</td>\n",
       "    </tr>\n",
       "    <tr>\n",
       "      <th>2024-08-20</th>\n",
       "      <td>194.59</td>\n",
       "      <td>196.21</td>\n",
       "      <td>193.7500</td>\n",
       "      <td>196.03</td>\n",
       "      <td>1790371</td>\n",
       "      <td>ibm</td>\n",
       "    </tr>\n",
       "    <tr>\n",
       "      <th>2024-08-20</th>\n",
       "      <td>421.70</td>\n",
       "      <td>425.86</td>\n",
       "      <td>421.6400</td>\n",
       "      <td>424.80</td>\n",
       "      <td>16387581</td>\n",
       "      <td>msft</td>\n",
       "    </tr>\n",
       "  </tbody>\n",
       "</table>\n",
       "<p>9696 rows × 6 columns</p>\n",
       "</div>"
      ]
     },
     "metadata": {
      "application/vnd.databricks.v1+output": {
       "addedWidgets": {},
       "arguments": {},
       "data": "<div>\n<style scoped>\n    .dataframe tbody tr th:only-of-type {\n        vertical-align: middle;\n    }\n\n    .dataframe tbody tr th {\n        vertical-align: top;\n    }\n\n    .dataframe thead th {\n        text-align: right;\n    }\n</style>\n<table border=\"1\" class=\"dataframe\">\n  <thead>\n    <tr style=\"text-align: right;\">\n      <th></th>\n      <th>open</th>\n      <th>high</th>\n      <th>low</th>\n      <th>close</th>\n      <th>volume</th>\n      <th>stock</th>\n    </tr>\n  </thead>\n  <tbody>\n    <tr>\n      <th>2015-01-02</th>\n      <td>111.39</td>\n      <td>111.44</td>\n      <td>107.3500</td>\n      <td>109.33</td>\n      <td>53204626</td>\n      <td>aapl</td>\n    </tr>\n    <tr>\n      <th>2015-01-02</th>\n      <td>222.87</td>\n      <td>223.25</td>\n      <td>213.2600</td>\n      <td>219.31</td>\n      <td>4764443</td>\n      <td>tsla</td>\n    </tr>\n    <tr>\n      <th>2015-01-02</th>\n      <td>46.66</td>\n      <td>47.42</td>\n      <td>46.5400</td>\n      <td>46.76</td>\n      <td>27913852</td>\n      <td>msft</td>\n    </tr>\n    <tr>\n      <th>2015-01-02</th>\n      <td>161.31</td>\n      <td>163.31</td>\n      <td>161.0000</td>\n      <td>162.06</td>\n      <td>5525341</td>\n      <td>ibm</td>\n    </tr>\n    <tr>\n      <th>2015-01-05</th>\n      <td>214.55</td>\n      <td>216.50</td>\n      <td>207.1626</td>\n      <td>210.09</td>\n      <td>5368477</td>\n      <td>tsla</td>\n    </tr>\n    <tr>\n      <th>...</th>\n      <td>...</td>\n      <td>...</td>\n      <td>...</td>\n      <td>...</td>\n      <td>...</td>\n      <td>...</td>\n    </tr>\n    <tr>\n      <th>2024-08-19</th>\n      <td>225.72</td>\n      <td>225.99</td>\n      <td>223.0400</td>\n      <td>225.89</td>\n      <td>40687813</td>\n      <td>aapl</td>\n    </tr>\n    <tr>\n      <th>2024-08-20</th>\n      <td>224.88</td>\n      <td>228.22</td>\n      <td>219.5600</td>\n      <td>221.10</td>\n      <td>74001182</td>\n      <td>tsla</td>\n    </tr>\n    <tr>\n      <th>2024-08-20</th>\n      <td>225.77</td>\n      <td>227.17</td>\n      <td>225.4500</td>\n      <td>226.51</td>\n      <td>30299033</td>\n      <td>aapl</td>\n    </tr>\n    <tr>\n      <th>2024-08-20</th>\n      <td>194.59</td>\n      <td>196.21</td>\n      <td>193.7500</td>\n      <td>196.03</td>\n      <td>1790371</td>\n      <td>ibm</td>\n    </tr>\n    <tr>\n      <th>2024-08-20</th>\n      <td>421.70</td>\n      <td>425.86</td>\n      <td>421.6400</td>\n      <td>424.80</td>\n      <td>16387581</td>\n      <td>msft</td>\n    </tr>\n  </tbody>\n</table>\n<p>9696 rows × 6 columns</p>\n</div>",
       "datasetInfos": [],
       "metadata": {},
       "removedWidgets": [],
       "textData": null,
       "type": "htmlSandbox"
      }
     },
     "output_type": "display_data"
    }
   ],
   "source": [
    "stocks_df.sort_index(inplace=True)\n",
    "stocks_df"
   ]
  },
  {
   "cell_type": "code",
   "execution_count": 0,
   "metadata": {
    "application/vnd.databricks.v1+cell": {
     "cellMetadata": {
      "byteLimit": 2048000,
      "rowLimit": 10000
     },
     "inputWidgets": {},
     "nuid": "73a1f364-3112-40ba-bbc3-7389d8768003",
     "showTitle": false,
     "title": ""
    }
   },
   "outputs": [
    {
     "output_type": "display_data",
     "data": {
      "text/html": [
       "<div>\n",
       "<style scoped>\n",
       "    .dataframe tbody tr th:only-of-type {\n",
       "        vertical-align: middle;\n",
       "    }\n",
       "\n",
       "    .dataframe tbody tr th {\n",
       "        vertical-align: top;\n",
       "    }\n",
       "\n",
       "    .dataframe thead th {\n",
       "        text-align: right;\n",
       "    }\n",
       "</style>\n",
       "<table border=\"1\" class=\"dataframe\">\n",
       "  <thead>\n",
       "    <tr style=\"text-align: right;\">\n",
       "      <th></th>\n",
       "      <th></th>\n",
       "      <th>open</th>\n",
       "      <th>high</th>\n",
       "      <th>low</th>\n",
       "      <th>close</th>\n",
       "      <th>volume</th>\n",
       "    </tr>\n",
       "    <tr>\n",
       "      <th></th>\n",
       "      <th>stock</th>\n",
       "      <th></th>\n",
       "      <th></th>\n",
       "      <th></th>\n",
       "      <th></th>\n",
       "      <th></th>\n",
       "    </tr>\n",
       "  </thead>\n",
       "  <tbody>\n",
       "    <tr>\n",
       "      <th rowspan=\"4\" valign=\"top\">2015-01-02</th>\n",
       "      <th>aapl</th>\n",
       "      <td>111.39</td>\n",
       "      <td>111.44</td>\n",
       "      <td>107.3500</td>\n",
       "      <td>109.33</td>\n",
       "      <td>53204626</td>\n",
       "    </tr>\n",
       "    <tr>\n",
       "      <th>tsla</th>\n",
       "      <td>222.87</td>\n",
       "      <td>223.25</td>\n",
       "      <td>213.2600</td>\n",
       "      <td>219.31</td>\n",
       "      <td>4764443</td>\n",
       "    </tr>\n",
       "    <tr>\n",
       "      <th>msft</th>\n",
       "      <td>46.66</td>\n",
       "      <td>47.42</td>\n",
       "      <td>46.5400</td>\n",
       "      <td>46.76</td>\n",
       "      <td>27913852</td>\n",
       "    </tr>\n",
       "    <tr>\n",
       "      <th>ibm</th>\n",
       "      <td>161.31</td>\n",
       "      <td>163.31</td>\n",
       "      <td>161.0000</td>\n",
       "      <td>162.06</td>\n",
       "      <td>5525341</td>\n",
       "    </tr>\n",
       "    <tr>\n",
       "      <th>2015-01-05</th>\n",
       "      <th>tsla</th>\n",
       "      <td>214.55</td>\n",
       "      <td>216.50</td>\n",
       "      <td>207.1626</td>\n",
       "      <td>210.09</td>\n",
       "      <td>5368477</td>\n",
       "    </tr>\n",
       "    <tr>\n",
       "      <th>...</th>\n",
       "      <th>...</th>\n",
       "      <td>...</td>\n",
       "      <td>...</td>\n",
       "      <td>...</td>\n",
       "      <td>...</td>\n",
       "      <td>...</td>\n",
       "    </tr>\n",
       "    <tr>\n",
       "      <th>2024-08-19</th>\n",
       "      <th>aapl</th>\n",
       "      <td>225.72</td>\n",
       "      <td>225.99</td>\n",
       "      <td>223.0400</td>\n",
       "      <td>225.89</td>\n",
       "      <td>40687813</td>\n",
       "    </tr>\n",
       "    <tr>\n",
       "      <th rowspan=\"4\" valign=\"top\">2024-08-20</th>\n",
       "      <th>tsla</th>\n",
       "      <td>224.88</td>\n",
       "      <td>228.22</td>\n",
       "      <td>219.5600</td>\n",
       "      <td>221.10</td>\n",
       "      <td>74001182</td>\n",
       "    </tr>\n",
       "    <tr>\n",
       "      <th>aapl</th>\n",
       "      <td>225.77</td>\n",
       "      <td>227.17</td>\n",
       "      <td>225.4500</td>\n",
       "      <td>226.51</td>\n",
       "      <td>30299033</td>\n",
       "    </tr>\n",
       "    <tr>\n",
       "      <th>ibm</th>\n",
       "      <td>194.59</td>\n",
       "      <td>196.21</td>\n",
       "      <td>193.7500</td>\n",
       "      <td>196.03</td>\n",
       "      <td>1790371</td>\n",
       "    </tr>\n",
       "    <tr>\n",
       "      <th>msft</th>\n",
       "      <td>421.70</td>\n",
       "      <td>425.86</td>\n",
       "      <td>421.6400</td>\n",
       "      <td>424.80</td>\n",
       "      <td>16387581</td>\n",
       "    </tr>\n",
       "  </tbody>\n",
       "</table>\n",
       "<p>9696 rows × 5 columns</p>\n",
       "</div>"
      ]
     },
     "metadata": {
      "application/vnd.databricks.v1+output": {
       "addedWidgets": {},
       "arguments": {},
       "data": "<div>\n<style scoped>\n    .dataframe tbody tr th:only-of-type {\n        vertical-align: middle;\n    }\n\n    .dataframe tbody tr th {\n        vertical-align: top;\n    }\n\n    .dataframe thead th {\n        text-align: right;\n    }\n</style>\n<table border=\"1\" class=\"dataframe\">\n  <thead>\n    <tr style=\"text-align: right;\">\n      <th></th>\n      <th></th>\n      <th>open</th>\n      <th>high</th>\n      <th>low</th>\n      <th>close</th>\n      <th>volume</th>\n    </tr>\n    <tr>\n      <th></th>\n      <th>stock</th>\n      <th></th>\n      <th></th>\n      <th></th>\n      <th></th>\n      <th></th>\n    </tr>\n  </thead>\n  <tbody>\n    <tr>\n      <th rowspan=\"4\" valign=\"top\">2015-01-02</th>\n      <th>aapl</th>\n      <td>111.39</td>\n      <td>111.44</td>\n      <td>107.3500</td>\n      <td>109.33</td>\n      <td>53204626</td>\n    </tr>\n    <tr>\n      <th>tsla</th>\n      <td>222.87</td>\n      <td>223.25</td>\n      <td>213.2600</td>\n      <td>219.31</td>\n      <td>4764443</td>\n    </tr>\n    <tr>\n      <th>msft</th>\n      <td>46.66</td>\n      <td>47.42</td>\n      <td>46.5400</td>\n      <td>46.76</td>\n      <td>27913852</td>\n    </tr>\n    <tr>\n      <th>ibm</th>\n      <td>161.31</td>\n      <td>163.31</td>\n      <td>161.0000</td>\n      <td>162.06</td>\n      <td>5525341</td>\n    </tr>\n    <tr>\n      <th>2015-01-05</th>\n      <th>tsla</th>\n      <td>214.55</td>\n      <td>216.50</td>\n      <td>207.1626</td>\n      <td>210.09</td>\n      <td>5368477</td>\n    </tr>\n    <tr>\n      <th>...</th>\n      <th>...</th>\n      <td>...</td>\n      <td>...</td>\n      <td>...</td>\n      <td>...</td>\n      <td>...</td>\n    </tr>\n    <tr>\n      <th>2024-08-19</th>\n      <th>aapl</th>\n      <td>225.72</td>\n      <td>225.99</td>\n      <td>223.0400</td>\n      <td>225.89</td>\n      <td>40687813</td>\n    </tr>\n    <tr>\n      <th rowspan=\"4\" valign=\"top\">2024-08-20</th>\n      <th>tsla</th>\n      <td>224.88</td>\n      <td>228.22</td>\n      <td>219.5600</td>\n      <td>221.10</td>\n      <td>74001182</td>\n    </tr>\n    <tr>\n      <th>aapl</th>\n      <td>225.77</td>\n      <td>227.17</td>\n      <td>225.4500</td>\n      <td>226.51</td>\n      <td>30299033</td>\n    </tr>\n    <tr>\n      <th>ibm</th>\n      <td>194.59</td>\n      <td>196.21</td>\n      <td>193.7500</td>\n      <td>196.03</td>\n      <td>1790371</td>\n    </tr>\n    <tr>\n      <th>msft</th>\n      <td>421.70</td>\n      <td>425.86</td>\n      <td>421.6400</td>\n      <td>424.80</td>\n      <td>16387581</td>\n    </tr>\n  </tbody>\n</table>\n<p>9696 rows × 5 columns</p>\n</div>",
       "datasetInfos": [],
       "metadata": {},
       "removedWidgets": [],
       "textData": null,
       "type": "htmlSandbox"
      }
     },
     "output_type": "display_data"
    }
   ],
   "source": [
    "stocks_df.set_index(\"stock\", append=True, inplace=True)\n",
    "stocks_df"
   ]
  },
  {
   "cell_type": "markdown",
   "metadata": {
    "application/vnd.databricks.v1+cell": {
     "cellMetadata": {},
     "inputWidgets": {},
     "nuid": "576aa1a1-d8d9-460d-a41d-d0d6c6b90126",
     "showTitle": false,
     "title": ""
    }
   },
   "source": [
    "### Step 7. Create a dataFrame called vol, with the volume values."
   ]
  },
  {
   "cell_type": "code",
   "execution_count": 0,
   "metadata": {
    "application/vnd.databricks.v1+cell": {
     "cellMetadata": {
      "byteLimit": 2048000,
      "rowLimit": 10000
     },
     "inputWidgets": {},
     "nuid": "f7c34514-ef4e-48d4-be02-1a62de155f4f",
     "showTitle": false,
     "title": ""
    }
   },
   "outputs": [
    {
     "output_type": "stream",
     "name": "stdout",
     "output_type": "stream",
     "text": [
      "Out[44]:             stock\n2015-01-02  aapl     53204626\n            tsla      4764443\n            msft     27913852\n            ibm       5525341\n2015-01-05  tsla      5368477\n                       ...   \n2024-08-19  aapl     40687813\n2024-08-20  tsla     74001182\n            aapl     30299033\n            ibm       1790371\n            msft     16387581\nName: volume, Length: 9696, dtype: int64"
     ]
    }
   ],
   "source": [
    "vol = stocks_df['volume']\n",
    "vol"
   ]
  },
  {
   "cell_type": "markdown",
   "metadata": {
    "application/vnd.databricks.v1+cell": {
     "cellMetadata": {},
     "inputWidgets": {},
     "nuid": "d93030a1-281d-472c-9b35-52f19ac202c5",
     "showTitle": false,
     "title": ""
    }
   },
   "source": [
    "### Step 8. Aggregate the data of volume to weekly.\n",
    "Hint: Be careful to not sum data from the same week of 2015 and other years."
   ]
  },
  {
   "cell_type": "code",
   "execution_count": 0,
   "metadata": {
    "application/vnd.databricks.v1+cell": {
     "cellMetadata": {
      "byteLimit": 2048000,
      "rowLimit": 10000
     },
     "inputWidgets": {},
     "nuid": "71ebfae7-3b41-4d5c-8a01-3f05af9872e2",
     "showTitle": false,
     "title": ""
    }
   },
   "outputs": [
    {
     "output_type": "display_data",
     "data": {
      "text/html": [
       "<div>\n",
       "<style scoped>\n",
       "    .dataframe tbody tr th:only-of-type {\n",
       "        vertical-align: middle;\n",
       "    }\n",
       "\n",
       "    .dataframe tbody tr th {\n",
       "        vertical-align: top;\n",
       "    }\n",
       "\n",
       "    .dataframe thead th {\n",
       "        text-align: right;\n",
       "    }\n",
       "</style>\n",
       "<table border=\"1\" class=\"dataframe\">\n",
       "  <thead>\n",
       "    <tr style=\"text-align: right;\">\n",
       "      <th></th>\n",
       "      <th>date</th>\n",
       "      <th>stock</th>\n",
       "      <th>open</th>\n",
       "      <th>high</th>\n",
       "      <th>low</th>\n",
       "      <th>close</th>\n",
       "      <th>volume</th>\n",
       "    </tr>\n",
       "  </thead>\n",
       "  <tbody>\n",
       "    <tr>\n",
       "      <th>0</th>\n",
       "      <td>2015-01-02</td>\n",
       "      <td>aapl</td>\n",
       "      <td>111.39</td>\n",
       "      <td>111.44</td>\n",
       "      <td>107.35</td>\n",
       "      <td>109.33</td>\n",
       "      <td>53204626</td>\n",
       "    </tr>\n",
       "    <tr>\n",
       "      <th>1</th>\n",
       "      <td>2015-01-02</td>\n",
       "      <td>ibm</td>\n",
       "      <td>161.31</td>\n",
       "      <td>163.31</td>\n",
       "      <td>161.00</td>\n",
       "      <td>162.06</td>\n",
       "      <td>5525341</td>\n",
       "    </tr>\n",
       "    <tr>\n",
       "      <th>2</th>\n",
       "      <td>2015-01-02</td>\n",
       "      <td>msft</td>\n",
       "      <td>46.66</td>\n",
       "      <td>47.42</td>\n",
       "      <td>46.54</td>\n",
       "      <td>46.76</td>\n",
       "      <td>27913852</td>\n",
       "    </tr>\n",
       "    <tr>\n",
       "      <th>3</th>\n",
       "      <td>2015-01-02</td>\n",
       "      <td>tsla</td>\n",
       "      <td>222.87</td>\n",
       "      <td>223.25</td>\n",
       "      <td>213.26</td>\n",
       "      <td>219.31</td>\n",
       "      <td>4764443</td>\n",
       "    </tr>\n",
       "    <tr>\n",
       "      <th>4</th>\n",
       "      <td>2015-01-05</td>\n",
       "      <td>aapl</td>\n",
       "      <td>108.29</td>\n",
       "      <td>108.65</td>\n",
       "      <td>105.41</td>\n",
       "      <td>106.25</td>\n",
       "      <td>64285491</td>\n",
       "    </tr>\n",
       "    <tr>\n",
       "      <th>...</th>\n",
       "      <td>...</td>\n",
       "      <td>...</td>\n",
       "      <td>...</td>\n",
       "      <td>...</td>\n",
       "      <td>...</td>\n",
       "      <td>...</td>\n",
       "      <td>...</td>\n",
       "    </tr>\n",
       "    <tr>\n",
       "      <th>9691</th>\n",
       "      <td>2024-08-19</td>\n",
       "      <td>tsla</td>\n",
       "      <td>217.07</td>\n",
       "      <td>222.98</td>\n",
       "      <td>214.09</td>\n",
       "      <td>222.72</td>\n",
       "      <td>76435222</td>\n",
       "    </tr>\n",
       "    <tr>\n",
       "      <th>9692</th>\n",
       "      <td>2024-08-20</td>\n",
       "      <td>aapl</td>\n",
       "      <td>225.77</td>\n",
       "      <td>227.17</td>\n",
       "      <td>225.45</td>\n",
       "      <td>226.51</td>\n",
       "      <td>30299033</td>\n",
       "    </tr>\n",
       "    <tr>\n",
       "      <th>9693</th>\n",
       "      <td>2024-08-20</td>\n",
       "      <td>ibm</td>\n",
       "      <td>194.59</td>\n",
       "      <td>196.21</td>\n",
       "      <td>193.75</td>\n",
       "      <td>196.03</td>\n",
       "      <td>1790371</td>\n",
       "    </tr>\n",
       "    <tr>\n",
       "      <th>9694</th>\n",
       "      <td>2024-08-20</td>\n",
       "      <td>msft</td>\n",
       "      <td>421.70</td>\n",
       "      <td>425.86</td>\n",
       "      <td>421.64</td>\n",
       "      <td>424.80</td>\n",
       "      <td>16387581</td>\n",
       "    </tr>\n",
       "    <tr>\n",
       "      <th>9695</th>\n",
       "      <td>2024-08-20</td>\n",
       "      <td>tsla</td>\n",
       "      <td>224.88</td>\n",
       "      <td>228.22</td>\n",
       "      <td>219.56</td>\n",
       "      <td>221.10</td>\n",
       "      <td>74001182</td>\n",
       "    </tr>\n",
       "  </tbody>\n",
       "</table>\n",
       "<p>9696 rows × 7 columns</p>\n",
       "</div>"
      ]
     },
     "metadata": {
      "application/vnd.databricks.v1+output": {
       "addedWidgets": {},
       "arguments": {},
       "data": "<div>\n<style scoped>\n    .dataframe tbody tr th:only-of-type {\n        vertical-align: middle;\n    }\n\n    .dataframe tbody tr th {\n        vertical-align: top;\n    }\n\n    .dataframe thead th {\n        text-align: right;\n    }\n</style>\n<table border=\"1\" class=\"dataframe\">\n  <thead>\n    <tr style=\"text-align: right;\">\n      <th></th>\n      <th>date</th>\n      <th>stock</th>\n      <th>open</th>\n      <th>high</th>\n      <th>low</th>\n      <th>close</th>\n      <th>volume</th>\n    </tr>\n  </thead>\n  <tbody>\n    <tr>\n      <th>0</th>\n      <td>2015-01-02</td>\n      <td>aapl</td>\n      <td>111.39</td>\n      <td>111.44</td>\n      <td>107.35</td>\n      <td>109.33</td>\n      <td>53204626</td>\n    </tr>\n    <tr>\n      <th>1</th>\n      <td>2015-01-02</td>\n      <td>ibm</td>\n      <td>161.31</td>\n      <td>163.31</td>\n      <td>161.00</td>\n      <td>162.06</td>\n      <td>5525341</td>\n    </tr>\n    <tr>\n      <th>2</th>\n      <td>2015-01-02</td>\n      <td>msft</td>\n      <td>46.66</td>\n      <td>47.42</td>\n      <td>46.54</td>\n      <td>46.76</td>\n      <td>27913852</td>\n    </tr>\n    <tr>\n      <th>3</th>\n      <td>2015-01-02</td>\n      <td>tsla</td>\n      <td>222.87</td>\n      <td>223.25</td>\n      <td>213.26</td>\n      <td>219.31</td>\n      <td>4764443</td>\n    </tr>\n    <tr>\n      <th>4</th>\n      <td>2015-01-05</td>\n      <td>aapl</td>\n      <td>108.29</td>\n      <td>108.65</td>\n      <td>105.41</td>\n      <td>106.25</td>\n      <td>64285491</td>\n    </tr>\n    <tr>\n      <th>...</th>\n      <td>...</td>\n      <td>...</td>\n      <td>...</td>\n      <td>...</td>\n      <td>...</td>\n      <td>...</td>\n      <td>...</td>\n    </tr>\n    <tr>\n      <th>9691</th>\n      <td>2024-08-19</td>\n      <td>tsla</td>\n      <td>217.07</td>\n      <td>222.98</td>\n      <td>214.09</td>\n      <td>222.72</td>\n      <td>76435222</td>\n    </tr>\n    <tr>\n      <th>9692</th>\n      <td>2024-08-20</td>\n      <td>aapl</td>\n      <td>225.77</td>\n      <td>227.17</td>\n      <td>225.45</td>\n      <td>226.51</td>\n      <td>30299033</td>\n    </tr>\n    <tr>\n      <th>9693</th>\n      <td>2024-08-20</td>\n      <td>ibm</td>\n      <td>194.59</td>\n      <td>196.21</td>\n      <td>193.75</td>\n      <td>196.03</td>\n      <td>1790371</td>\n    </tr>\n    <tr>\n      <th>9694</th>\n      <td>2024-08-20</td>\n      <td>msft</td>\n      <td>421.70</td>\n      <td>425.86</td>\n      <td>421.64</td>\n      <td>424.80</td>\n      <td>16387581</td>\n    </tr>\n    <tr>\n      <th>9695</th>\n      <td>2024-08-20</td>\n      <td>tsla</td>\n      <td>224.88</td>\n      <td>228.22</td>\n      <td>219.56</td>\n      <td>221.10</td>\n      <td>74001182</td>\n    </tr>\n  </tbody>\n</table>\n<p>9696 rows × 7 columns</p>\n</div>",
       "datasetInfos": [],
       "metadata": {},
       "removedWidgets": [],
       "textData": null,
       "type": "htmlSandbox"
      }
     },
     "output_type": "display_data"
    }
   ],
   "source": [
    "stocks_df.reset_index(inplace=True)\n",
    "stocks_df.rename(columns={'level_0': 'date'}, inplace=True)\n",
    "stocks_df['date'] = pd.to_datetime(stocks_df['date'])\n",
    "stocks_df"
   ]
  },
  {
   "cell_type": "code",
   "execution_count": 0,
   "metadata": {
    "application/vnd.databricks.v1+cell": {
     "cellMetadata": {
      "byteLimit": 2048000,
      "rowLimit": 10000
     },
     "inputWidgets": {},
     "nuid": "baa560eb-f2c7-43f9-bb5f-270356ecbbc7",
     "showTitle": false,
     "title": ""
    }
   },
   "outputs": [
    {
     "output_type": "stream",
     "name": "stdout",
     "output_type": "stream",
     "text": [
      "<class 'pandas.core.frame.DataFrame'>\nRangeIndex: 9696 entries, 0 to 9695\nData columns (total 7 columns):\n #   Column  Non-Null Count  Dtype         \n---  ------  --------------  -----         \n 0   date    9696 non-null   datetime64[ns]\n 1   stock   9696 non-null   object        \n 2   open    9696 non-null   float64       \n 3   high    9696 non-null   float64       \n 4   low     9696 non-null   float64       \n 5   close   9696 non-null   float64       \n 6   volume  9696 non-null   int64         \ndtypes: datetime64[ns](1), float64(4), int64(1), object(1)\nmemory usage: 530.4+ KB\n"
     ]
    }
   ],
   "source": [
    "stocks_df.info()"
   ]
  },
  {
   "cell_type": "code",
   "execution_count": 0,
   "metadata": {
    "application/vnd.databricks.v1+cell": {
     "cellMetadata": {
      "byteLimit": 2048000,
      "rowLimit": 10000
     },
     "inputWidgets": {},
     "nuid": "ac4c18e6-fa80-4317-9e4a-b433542dfbea",
     "showTitle": false,
     "title": ""
    }
   },
   "outputs": [
    {
     "output_type": "stream",
     "name": "stdout",
     "output_type": "stream",
     "text": [
      "Out[51]: stock  year  month  week\naapl   2015  1      1        53204626\n                    2       282868187\n                    3       304226647\n                    4       198737041\n                    5       465842684\n                              ...    \ntsla   2024  7      31      297259134\n             8      31      166742018\n                    32      368934704\n                    33      389155956\n                    34      150436404\nName: volume, Length: 2272, dtype: int64"
     ]
    }
   ],
   "source": [
    "stocks_df['year'] = stocks_df['date'].dt.year\n",
    "stocks_df['week'] = stocks_df['date'].dt.isocalendar().week\n",
    "stocks_df['month'] = stocks_df['date'].dt.month\n",
    "weekly_volume = stocks_df.groupby(['stock', 'year', 'month', 'week'])['volume'].sum()\n",
    "weekly_volume"
   ]
  },
  {
   "cell_type": "markdown",
   "metadata": {
    "application/vnd.databricks.v1+cell": {
     "cellMetadata": {},
     "inputWidgets": {},
     "nuid": "7a557d4e-a515-406c-9cb8-15b103889c95",
     "showTitle": false,
     "title": ""
    }
   },
   "source": [
    "### Step 9. Find all the volume traded in the year of 2015"
   ]
  },
  {
   "cell_type": "code",
   "execution_count": 0,
   "metadata": {
    "application/vnd.databricks.v1+cell": {
     "cellMetadata": {
      "byteLimit": 2048000,
      "rowLimit": 10000
     },
     "inputWidgets": {},
     "nuid": "13e7cbd1-c5b7-4db6-8c9c-bd182e43c6a8",
     "showTitle": false,
     "title": ""
    }
   },
   "outputs": [
    {
     "output_type": "stream",
     "name": "stdout",
     "output_type": "stream",
     "text": [
      "Out[52]: 0       53204626\n1        5525341\n2       27913852\n3        4764443\n4       64285491\n          ...   \n1003     3697921\n1004    40912316\n1005     3462037\n1006    27334061\n1007     2715038\nName: volume, Length: 1008, dtype: int64"
     ]
    }
   ],
   "source": [
    "stocks_df[stocks_df['year'] == 2015]['volume']"
   ]
  }
 ],
 "metadata": {
  "application/vnd.databricks.v1+notebook": {
   "dashboards": [],
   "environmentMetadata": null,
   "language": "python",
   "notebookMetadata": {
    "pythonIndentUnit": 4
   },
   "notebookName": "Exercises (1)",
   "widgets": {}
  },
  "kernelspec": {
   "display_name": "Python 3",
   "language": "python",
   "name": "python3"
  },
  "language_info": {
   "codemirror_mode": {
    "name": "ipython",
    "version": 3
   },
   "file_extension": ".py",
   "mimetype": "text/x-python",
   "name": "python",
   "nbconvert_exporter": "python",
   "pygments_lexer": "ipython3",
   "version": "3.7.4"
  }
 },
 "nbformat": 4,
 "nbformat_minor": 0
}
