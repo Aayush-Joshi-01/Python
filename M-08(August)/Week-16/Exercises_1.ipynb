{
  "cells": [
    {
      "cell_type": "markdown",
      "metadata": {
        "id": "VnjNa3ftjxcx"
      },
      "source": [
        "# Wind Statistics"
      ]
    },
    {
      "cell_type": "markdown",
      "metadata": {
        "id": "ksmc7-44jxc0"
      },
      "source": [
        "### Introduction:\n",
        "\n",
        "The data have been modified to contain some missing values, identified by NaN.  \n",
        "Using pandas should make this exercise\n",
        "easier, in particular for the bonus question.\n",
        "\n",
        "You should be able to perform all of these operations without using\n",
        "a for loop or other looping construct.\n",
        "\n",
        "\n",
        "1. The data in 'wind.data' has the following format:"
      ]
    },
    {
      "cell_type": "code",
      "execution_count": 1,
      "metadata": {
        "colab": {
          "base_uri": "https://localhost:8080/",
          "height": 70
        },
        "id": "iJ3qTDqPjxc1",
        "outputId": "cf15e2d8-67fd-43fa-bcdd-51d7eb500f08"
      },
      "outputs": [
        {
          "output_type": "execute_result",
          "data": {
            "text/plain": [
              "'\\nYr Mo Dy   RPT   VAL   ROS   KIL   SHA   BIR   DUB   CLA   MUL   CLO   BEL   MAL\\n61  1  1 15.04 14.96 13.17  9.29   NaN  9.87 13.67 10.25 10.83 12.58 18.50 15.04\\n61  1  2 14.71   NaN 10.83  6.50 12.62  7.67 11.50 10.04  9.79  9.67 17.54 13.83\\n61  1  3 18.50 16.88 12.33 10.13 11.17  6.17 11.25   NaN  8.50  7.67 12.75 12.71\\n'"
            ],
            "application/vnd.google.colaboratory.intrinsic+json": {
              "type": "string"
            }
          },
          "metadata": {},
          "execution_count": 1
        }
      ],
      "source": [
        "\"\"\"\n",
        "Yr Mo Dy   RPT   VAL   ROS   KIL   SHA   BIR   DUB   CLA   MUL   CLO   BEL   MAL\n",
        "61  1  1 15.04 14.96 13.17  9.29   NaN  9.87 13.67 10.25 10.83 12.58 18.50 15.04\n",
        "61  1  2 14.71   NaN 10.83  6.50 12.62  7.67 11.50 10.04  9.79  9.67 17.54 13.83\n",
        "61  1  3 18.50 16.88 12.33 10.13 11.17  6.17 11.25   NaN  8.50  7.67 12.75 12.71\n",
        "\"\"\""
      ]
    },
    {
      "cell_type": "markdown",
      "metadata": {
        "id": "03t4nwf4jxc4"
      },
      "source": [
        "   The first three columns are year, month and day.  The\n",
        "   remaining 12 columns are average windspeeds in knots at 12\n",
        "   locations in Ireland on that day.   \n",
        "\n",
        "   More information about the dataset go [here](wind.desc)."
      ]
    },
    {
      "cell_type": "markdown",
      "metadata": {
        "collapsed": false,
        "id": "_652zuwXjxc6"
      },
      "source": [
        "### Step 1. Import the necessary libraries"
      ]
    },
    {
      "cell_type": "code",
      "execution_count": 2,
      "metadata": {
        "colab": {
          "base_uri": "https://localhost:8080/",
          "height": 951
        },
        "id": "uIghqEQ9jxc6",
        "outputId": "7ddb5221-7116-44fb-cf55-ff283f69b849"
      },
      "outputs": [
        {
          "output_type": "stream",
          "name": "stdout",
          "text": [
            "Hit:1 https://developer.download.nvidia.com/compute/cuda/repos/ubuntu2204/x86_64  InRelease\n",
            "Get:2 https://cloud.r-project.org/bin/linux/ubuntu jammy-cran40/ InRelease [3,626 B]\n",
            "Hit:3 http://archive.ubuntu.com/ubuntu jammy InRelease\n",
            "Ign:4 https://r2u.stat.illinois.edu/ubuntu jammy InRelease\n",
            "Get:5 http://security.ubuntu.com/ubuntu jammy-security InRelease [129 kB]\n",
            "Get:6 http://archive.ubuntu.com/ubuntu jammy-updates InRelease [128 kB]\n",
            "Get:7 https://r2u.stat.illinois.edu/ubuntu jammy Release [5,713 B]\n",
            "Get:8 https://r2u.stat.illinois.edu/ubuntu jammy Release.gpg [793 B]\n",
            "Get:9 http://archive.ubuntu.com/ubuntu jammy-backports InRelease [127 kB]\n",
            "Hit:10 https://ppa.launchpadcontent.net/deadsnakes/ppa/ubuntu jammy InRelease\n",
            "Hit:11 https://ppa.launchpadcontent.net/graphics-drivers/ppa/ubuntu jammy InRelease\n",
            "Hit:12 https://ppa.launchpadcontent.net/ubuntugis/ppa/ubuntu jammy InRelease\n",
            "Get:13 https://r2u.stat.illinois.edu/ubuntu jammy/main amd64 Packages [2,555 kB]\n",
            "Get:14 https://r2u.stat.illinois.edu/ubuntu jammy/main all Packages [8,223 kB]\n",
            "Get:15 http://archive.ubuntu.com/ubuntu jammy-updates/main amd64 Packages [2,497 kB]\n",
            "Get:16 http://archive.ubuntu.com/ubuntu jammy-updates/restricted amd64 Packages [3,041 kB]\n",
            "Get:17 http://archive.ubuntu.com/ubuntu jammy-updates/universe amd64 Packages [1,424 kB]\n",
            "Get:18 http://security.ubuntu.com/ubuntu jammy-security/main amd64 Packages [2,175 kB]\n",
            "Get:19 http://security.ubuntu.com/ubuntu jammy-security/restricted amd64 Packages [2,871 kB]\n",
            "Get:20 http://security.ubuntu.com/ubuntu jammy-security/universe amd64 Packages [1,135 kB]\n",
            "Fetched 24.3 MB in 8s (2,922 kB/s)\n",
            "Reading package lists... Done\n",
            "Building dependency tree... Done\n",
            "Reading state information... Done\n",
            "49 packages can be upgraded. Run 'apt list --upgradable' to see them.\n",
            "\u001b[1;33mW: \u001b[0mSkipping acquire of configured file 'main/source/Sources' as repository 'https://r2u.stat.illinois.edu/ubuntu jammy InRelease' does not seem to provide it (sources.list entry misspelt?)\u001b[0m\n",
            "tar: spark-3.2.1-bin-hadoop3.2.tgz: Cannot open: No such file or directory\n",
            "tar: Error is not recoverable: exiting now\n",
            "Collecting pyspark\n",
            "  Downloading pyspark-3.5.2.tar.gz (317.3 MB)\n",
            "\u001b[2K     \u001b[90m━━━━━━━━━━━━━━━━━━━━━━━━━━━━━━━━━━━━━━━━\u001b[0m \u001b[32m317.3/317.3 MB\u001b[0m \u001b[31m4.4 MB/s\u001b[0m eta \u001b[36m0:00:00\u001b[0m\n",
            "\u001b[?25h  Preparing metadata (setup.py) ... \u001b[?25l\u001b[?25hdone\n",
            "Requirement already satisfied: py4j==0.10.9.7 in /usr/local/lib/python3.10/dist-packages (from pyspark) (0.10.9.7)\n",
            "Building wheels for collected packages: pyspark\n",
            "  Building wheel for pyspark (setup.py) ... \u001b[?25l\u001b[?25hdone\n",
            "  Created wheel for pyspark: filename=pyspark-3.5.2-py2.py3-none-any.whl size=317812365 sha256=68b6c37a2bb6ab845d3694860b65367e78aa8aeca43c0ae0df1f7068fa644ab1\n",
            "  Stored in directory: /root/.cache/pip/wheels/34/34/bd/03944534c44b677cd5859f248090daa9fb27b3c8f8e5f49574\n",
            "Successfully built pyspark\n",
            "Installing collected packages: pyspark\n",
            "Successfully installed pyspark-3.5.2\n",
            "Requirement already satisfied: py4j in /usr/local/lib/python3.10/dist-packages (0.10.9.7)\n"
          ]
        },
        {
          "output_type": "execute_result",
          "data": {
            "text/plain": [
              "<pyspark.sql.session.SparkSession at 0x7fd74576fac0>"
            ],
            "text/html": [
              "\n",
              "            <div>\n",
              "                <p><b>SparkSession - in-memory</b></p>\n",
              "                \n",
              "        <div>\n",
              "            <p><b>SparkContext</b></p>\n",
              "\n",
              "            <p><a href=\"http://5d29b1fc3881:4040\">Spark UI</a></p>\n",
              "\n",
              "            <dl>\n",
              "              <dt>Version</dt>\n",
              "                <dd><code>v3.5.2</code></dd>\n",
              "              <dt>Master</dt>\n",
              "                <dd><code>local[*]</code></dd>\n",
              "              <dt>AppName</dt>\n",
              "                <dd><code>Our First Spark Example</code></dd>\n",
              "            </dl>\n",
              "        </div>\n",
              "        \n",
              "            </div>\n",
              "        "
            ]
          },
          "metadata": {},
          "execution_count": 2
        }
      ],
      "source": [
        "! sudo apt update\n",
        "! apt-get install openjdk-8-jdk-headless -qq > /dev/null\n",
        "# Check this site for the latest download link https://www.apache.org/dyn/closer.lua/spark/spark-3.2.1/spark-3.2.1-bin-hadoop3.2.tgz\n",
        "! wget -q https://dlcdn.apache.org/spark/spark-3.2.1/spark-3.2.1-bin-hadoop3.2.tgz\n",
        "! tar xf spark-3.2.1-bin-hadoop3.2.tgz\n",
        "! pip install -q findspark\n",
        "! pip install pyspark\n",
        "! pip install py4j\n",
        "\n",
        "import os\n",
        "import sys\n",
        "# os.environ[\"JAVA_HOME\"] = \"/usr/lib/jvm/java-8-openjdk-amd64\"\n",
        "# os.environ[\"SPARK_HOME\"] = \"/content/spark-3.2.1-bin-hadoop3.2\"\n",
        "\n",
        "\n",
        "import findspark\n",
        "findspark.init()\n",
        "findspark.find()\n",
        "\n",
        "import pyspark\n",
        "\n",
        "from pyspark.sql import DataFrame, SparkSession\n",
        "from typing import List\n",
        "\n",
        "import pyspark.sql.types as T\n",
        "import pyspark.sql.functions as F\n",
        "\n",
        "spark= SparkSession \\\n",
        "       .builder \\\n",
        "       .appName(\"Our First Spark Example\") \\\n",
        "       .getOrCreate()\n",
        "\n",
        "spark"
      ]
    },
    {
      "cell_type": "markdown",
      "metadata": {
        "id": "1m_JbYm-jxc6"
      },
      "source": [
        "### Step 2. Import the dataset from this [address](https://raw.githubusercontent.com/guipsamora/pandas_exercises/master/06_Stats/Wind_Stats/wind.data)"
      ]
    },
    {
      "cell_type": "code",
      "source": [
        "with open('/content/wind.data', 'r') as f:\n",
        "    lines = f.readlines()\n",
        "\n",
        "with open('/content/wind.data', 'w') as f:\n",
        "    for line in lines:\n",
        "        f.write(' '.join(line.split()) + '\\n')"
      ],
      "metadata": {
        "id": "wIQI2DL22mN8"
      },
      "execution_count": 67,
      "outputs": []
    },
    {
      "cell_type": "code",
      "source": [
        "df = spark.read.csv(\"/content/wind.data\", inferSchema=True, header=True, sep=\" \")"
      ],
      "metadata": {
        "id": "qUUirH4uz56B"
      },
      "execution_count": 68,
      "outputs": []
    },
    {
      "cell_type": "code",
      "source": [
        "df.show()"
      ],
      "metadata": {
        "colab": {
          "base_uri": "https://localhost:8080/"
        },
        "id": "4mdjW8g21EFF",
        "outputId": "1ecdf00e-3bfa-421f-d8b8-a34c84f36047"
      },
      "execution_count": 69,
      "outputs": [
        {
          "output_type": "stream",
          "name": "stdout",
          "text": [
            "+---+---+---+-----+-----+-----+-----+-----+-----+-----+-----+-----+-----+-----+-----+\n",
            "| Yr| Mo| Dy|  RPT|  VAL|  ROS|  KIL|  SHA|  BIR|  DUB|  CLA|  MUL|  CLO|  BEL|  MAL|\n",
            "+---+---+---+-----+-----+-----+-----+-----+-----+-----+-----+-----+-----+-----+-----+\n",
            "| 61|  1|  1|15.04|14.96|13.17| 9.29|  NaN| 9.87|13.67|10.25|10.83|12.58| 18.5|15.04|\n",
            "| 61|  1|  2|14.71|  NaN|10.83|  6.5|12.62| 7.67| 11.5|10.04| 9.79| 9.67|17.54|13.83|\n",
            "| 61|  1|  3| 18.5|16.88|12.33|10.13|11.17| 6.17|11.25|  NaN|  8.5| 7.67|12.75|12.71|\n",
            "| 61|  1|  4|10.58| 6.63|11.75| 4.58| 4.54| 2.88| 8.63| 1.79| 5.83| 5.88| 5.46|10.88|\n",
            "| 61|  1|  5|13.33|13.25|11.42| 6.17|10.71| 8.21|11.92| 6.54|10.92|10.34|12.92|11.83|\n",
            "| 61|  1|  6|13.21| 8.12| 9.96| 6.67| 5.37|  4.5|10.67| 4.42| 7.17|  7.5| 8.12|13.17|\n",
            "| 61|  1|  7| 13.5|14.29|  9.5| 4.96|12.29| 8.33| 9.17| 9.29| 7.58| 7.96|13.96|13.79|\n",
            "| 61|  1|  8|10.96| 9.75| 7.62| 5.91| 9.62| 7.29|14.29| 7.62| 9.25|10.46|16.62|16.46|\n",
            "| 61|  1|  9|12.58|10.83| 10.0| 4.75|10.37| 6.79| 8.04|10.13| 7.79| 9.08|13.04|15.37|\n",
            "| 61|  1| 10|13.37|11.12| 19.5| 8.33| 9.71| 6.54|11.42| 7.79| 8.54|  9.0| 8.58|11.83|\n",
            "| 61|  1| 11|10.58| 9.87| 8.42| 2.79| 8.71| 7.25| 7.54| 8.33| 5.71| 8.67|20.71|16.92|\n",
            "| 61|  1| 12|19.75|12.08| 18.5|10.54|10.29| 9.46|15.54| 11.5|10.37|14.58|15.59|14.09|\n",
            "| 61|  1| 13| 9.92| 3.54| 8.46| 2.96| 2.29| 0.96| 4.63| 0.58| 2.33| 3.37| 5.25| 7.04|\n",
            "| 61|  1| 14| 9.04| 5.66| 7.08| 0.67| 2.71| 1.38| 3.08| 2.58|  0.5| 2.67| 7.17| 5.17|\n",
            "| 61|  1| 15|12.04| 9.67|11.75| 2.37| 7.38| 3.13|  2.5| 6.83| 4.75| 5.63| 7.54| 6.75|\n",
            "| 61|  1| 16|16.42|11.25|15.67| 4.71|11.34| 6.92| 9.25| 8.79| 8.21| 7.33|13.04| 9.04|\n",
            "| 61|  1| 17|17.75|14.37|17.33|10.13|13.96|13.37|13.42|11.04| 8.71|11.38|15.92|16.08|\n",
            "| 61|  1| 18|19.83|12.04|20.79|18.54|  NaN|10.29|17.83|11.38|14.67|16.71| 8.79|17.96|\n",
            "| 61|  1| 19| 4.92| 3.42| 7.29| 1.04| 3.67| 3.17| 3.71| 2.79| 1.92| 2.71| 6.87| 7.83|\n",
            "| 61|  1| 20| 9.59|11.83| 7.96| 1.58| 7.92|  5.0| 3.17| 4.92| 3.13| 3.37|  6.5| 6.79|\n",
            "+---+---+---+-----+-----+-----+-----+-----+-----+-----+-----+-----+-----+-----+-----+\n",
            "only showing top 20 rows\n",
            "\n"
          ]
        }
      ]
    },
    {
      "cell_type": "markdown",
      "source": [
        "### Step 3. Assign it to a variable called data and replace the first 3 columns by a proper datetime index.\n"
      ],
      "metadata": {
        "id": "Rm-SWR453eOd"
      }
    },
    {
      "cell_type": "code",
      "source": [
        "from pyspark.sql import SparkSession\n",
        "from pyspark.sql.functions import to_timestamp, concat, lit, when\n",
        "\n",
        "# Assuming you already have a SparkSession created and a DataFrame 'df' with columns 'Yr', 'Mo', 'Dy', etc.\n",
        "\n",
        "df = df.withColumn(\"Yr_last_two\", df[\"Yr\"] % 100)\n",
        "df = df.withColumn(\"Century\", when(df[\"Yr\"] < 70, lit(\"19\")))\n",
        "df = df.withColumn(\"Date_str\", concat(df[\"Century\"], df[\"Yr_last_two\"], lit(\"-\"), df[\"Mo\"], lit(\"-\"), df[\"Dy\"]))\n",
        "df = df.withColumn(\"Datetime\", to_timestamp(\"Date_str\", \"yyyy-M-d\"))\n",
        "\n",
        "df = df.drop(\"Yr\", \"Mo\", \"Dy\", \"Date_str\", \"Yr_last_two\", \"Century\")\n",
        "\n",
        "df.show()"
      ],
      "metadata": {
        "colab": {
          "base_uri": "https://localhost:8080/"
        },
        "id": "bjhx1CuJa53o",
        "outputId": "642c965f-f331-4be5-ca0b-0cf474311cd0"
      },
      "execution_count": 70,
      "outputs": [
        {
          "output_type": "stream",
          "name": "stdout",
          "text": [
            "+-----+-----+-----+-----+-----+-----+-----+-----+-----+-----+-----+-----+-------------------+\n",
            "|  RPT|  VAL|  ROS|  KIL|  SHA|  BIR|  DUB|  CLA|  MUL|  CLO|  BEL|  MAL|           Datetime|\n",
            "+-----+-----+-----+-----+-----+-----+-----+-----+-----+-----+-----+-----+-------------------+\n",
            "|15.04|14.96|13.17| 9.29|  NaN| 9.87|13.67|10.25|10.83|12.58| 18.5|15.04|1961-01-01 00:00:00|\n",
            "|14.71|  NaN|10.83|  6.5|12.62| 7.67| 11.5|10.04| 9.79| 9.67|17.54|13.83|1961-01-02 00:00:00|\n",
            "| 18.5|16.88|12.33|10.13|11.17| 6.17|11.25|  NaN|  8.5| 7.67|12.75|12.71|1961-01-03 00:00:00|\n",
            "|10.58| 6.63|11.75| 4.58| 4.54| 2.88| 8.63| 1.79| 5.83| 5.88| 5.46|10.88|1961-01-04 00:00:00|\n",
            "|13.33|13.25|11.42| 6.17|10.71| 8.21|11.92| 6.54|10.92|10.34|12.92|11.83|1961-01-05 00:00:00|\n",
            "|13.21| 8.12| 9.96| 6.67| 5.37|  4.5|10.67| 4.42| 7.17|  7.5| 8.12|13.17|1961-01-06 00:00:00|\n",
            "| 13.5|14.29|  9.5| 4.96|12.29| 8.33| 9.17| 9.29| 7.58| 7.96|13.96|13.79|1961-01-07 00:00:00|\n",
            "|10.96| 9.75| 7.62| 5.91| 9.62| 7.29|14.29| 7.62| 9.25|10.46|16.62|16.46|1961-01-08 00:00:00|\n",
            "|12.58|10.83| 10.0| 4.75|10.37| 6.79| 8.04|10.13| 7.79| 9.08|13.04|15.37|1961-01-09 00:00:00|\n",
            "|13.37|11.12| 19.5| 8.33| 9.71| 6.54|11.42| 7.79| 8.54|  9.0| 8.58|11.83|1961-01-10 00:00:00|\n",
            "|10.58| 9.87| 8.42| 2.79| 8.71| 7.25| 7.54| 8.33| 5.71| 8.67|20.71|16.92|1961-01-11 00:00:00|\n",
            "|19.75|12.08| 18.5|10.54|10.29| 9.46|15.54| 11.5|10.37|14.58|15.59|14.09|1961-01-12 00:00:00|\n",
            "| 9.92| 3.54| 8.46| 2.96| 2.29| 0.96| 4.63| 0.58| 2.33| 3.37| 5.25| 7.04|1961-01-13 00:00:00|\n",
            "| 9.04| 5.66| 7.08| 0.67| 2.71| 1.38| 3.08| 2.58|  0.5| 2.67| 7.17| 5.17|1961-01-14 00:00:00|\n",
            "|12.04| 9.67|11.75| 2.37| 7.38| 3.13|  2.5| 6.83| 4.75| 5.63| 7.54| 6.75|1961-01-15 00:00:00|\n",
            "|16.42|11.25|15.67| 4.71|11.34| 6.92| 9.25| 8.79| 8.21| 7.33|13.04| 9.04|1961-01-16 00:00:00|\n",
            "|17.75|14.37|17.33|10.13|13.96|13.37|13.42|11.04| 8.71|11.38|15.92|16.08|1961-01-17 00:00:00|\n",
            "|19.83|12.04|20.79|18.54|  NaN|10.29|17.83|11.38|14.67|16.71| 8.79|17.96|1961-01-18 00:00:00|\n",
            "| 4.92| 3.42| 7.29| 1.04| 3.67| 3.17| 3.71| 2.79| 1.92| 2.71| 6.87| 7.83|1961-01-19 00:00:00|\n",
            "| 9.59|11.83| 7.96| 1.58| 7.92|  5.0| 3.17| 4.92| 3.13| 3.37|  6.5| 6.79|1961-01-20 00:00:00|\n",
            "+-----+-----+-----+-----+-----+-----+-----+-----+-----+-----+-----+-----+-------------------+\n",
            "only showing top 20 rows\n",
            "\n"
          ]
        }
      ]
    },
    {
      "cell_type": "code",
      "source": [
        "df.printSchema()"
      ],
      "metadata": {
        "colab": {
          "base_uri": "https://localhost:8080/"
        },
        "id": "-mNb9UIP3pXa",
        "outputId": "53bbf8f0-2590-4e4e-85a2-e9a99030aebb"
      },
      "execution_count": 71,
      "outputs": [
        {
          "output_type": "stream",
          "name": "stdout",
          "text": [
            "root\n",
            " |-- RPT: double (nullable = true)\n",
            " |-- VAL: double (nullable = true)\n",
            " |-- ROS: double (nullable = true)\n",
            " |-- KIL: double (nullable = true)\n",
            " |-- SHA: double (nullable = true)\n",
            " |-- BIR: double (nullable = true)\n",
            " |-- DUB: double (nullable = true)\n",
            " |-- CLA: double (nullable = true)\n",
            " |-- MUL: double (nullable = true)\n",
            " |-- CLO: double (nullable = true)\n",
            " |-- BEL: double (nullable = true)\n",
            " |-- MAL: double (nullable = true)\n",
            " |-- Datetime: timestamp (nullable = true)\n",
            "\n"
          ]
        }
      ]
    },
    {
      "cell_type": "markdown",
      "metadata": {
        "id": "Rd03F5Qljxc7"
      },
      "source": [
        "### Step 5. Set the right dates as the index. Pay attention at the data type, it should be datetime64[ns]."
      ]
    },
    {
      "cell_type": "code",
      "execution_count": 72,
      "metadata": {
        "id": "844cr0hejxc8",
        "colab": {
          "base_uri": "https://localhost:8080/"
        },
        "outputId": "e352f92c-cf11-4e32-812e-77b1f8fb7e17"
      },
      "outputs": [
        {
          "output_type": "stream",
          "name": "stdout",
          "text": [
            "+-----+-----+-----+-----+-----+-----+-----+-----+-----+-----+-----+-----+-------------------+\n",
            "|  RPT|  VAL|  ROS|  KIL|  SHA|  BIR|  DUB|  CLA|  MUL|  CLO|  BEL|  MAL|           Datetime|\n",
            "+-----+-----+-----+-----+-----+-----+-----+-----+-----+-----+-----+-----+-------------------+\n",
            "|15.04|14.96|13.17| 9.29|  NaN| 9.87|13.67|10.25|10.83|12.58| 18.5|15.04|1961-01-01 00:00:00|\n",
            "|14.71|  NaN|10.83|  6.5|12.62| 7.67| 11.5|10.04| 9.79| 9.67|17.54|13.83|1961-01-02 00:00:00|\n",
            "| 18.5|16.88|12.33|10.13|11.17| 6.17|11.25|  NaN|  8.5| 7.67|12.75|12.71|1961-01-03 00:00:00|\n",
            "|10.58| 6.63|11.75| 4.58| 4.54| 2.88| 8.63| 1.79| 5.83| 5.88| 5.46|10.88|1961-01-04 00:00:00|\n",
            "|13.33|13.25|11.42| 6.17|10.71| 8.21|11.92| 6.54|10.92|10.34|12.92|11.83|1961-01-05 00:00:00|\n",
            "|13.21| 8.12| 9.96| 6.67| 5.37|  4.5|10.67| 4.42| 7.17|  7.5| 8.12|13.17|1961-01-06 00:00:00|\n",
            "| 13.5|14.29|  9.5| 4.96|12.29| 8.33| 9.17| 9.29| 7.58| 7.96|13.96|13.79|1961-01-07 00:00:00|\n",
            "|10.96| 9.75| 7.62| 5.91| 9.62| 7.29|14.29| 7.62| 9.25|10.46|16.62|16.46|1961-01-08 00:00:00|\n",
            "|12.58|10.83| 10.0| 4.75|10.37| 6.79| 8.04|10.13| 7.79| 9.08|13.04|15.37|1961-01-09 00:00:00|\n",
            "|13.37|11.12| 19.5| 8.33| 9.71| 6.54|11.42| 7.79| 8.54|  9.0| 8.58|11.83|1961-01-10 00:00:00|\n",
            "|10.58| 9.87| 8.42| 2.79| 8.71| 7.25| 7.54| 8.33| 5.71| 8.67|20.71|16.92|1961-01-11 00:00:00|\n",
            "|19.75|12.08| 18.5|10.54|10.29| 9.46|15.54| 11.5|10.37|14.58|15.59|14.09|1961-01-12 00:00:00|\n",
            "| 9.92| 3.54| 8.46| 2.96| 2.29| 0.96| 4.63| 0.58| 2.33| 3.37| 5.25| 7.04|1961-01-13 00:00:00|\n",
            "| 9.04| 5.66| 7.08| 0.67| 2.71| 1.38| 3.08| 2.58|  0.5| 2.67| 7.17| 5.17|1961-01-14 00:00:00|\n",
            "|12.04| 9.67|11.75| 2.37| 7.38| 3.13|  2.5| 6.83| 4.75| 5.63| 7.54| 6.75|1961-01-15 00:00:00|\n",
            "|16.42|11.25|15.67| 4.71|11.34| 6.92| 9.25| 8.79| 8.21| 7.33|13.04| 9.04|1961-01-16 00:00:00|\n",
            "|17.75|14.37|17.33|10.13|13.96|13.37|13.42|11.04| 8.71|11.38|15.92|16.08|1961-01-17 00:00:00|\n",
            "|19.83|12.04|20.79|18.54|  NaN|10.29|17.83|11.38|14.67|16.71| 8.79|17.96|1961-01-18 00:00:00|\n",
            "| 4.92| 3.42| 7.29| 1.04| 3.67| 3.17| 3.71| 2.79| 1.92| 2.71| 6.87| 7.83|1961-01-19 00:00:00|\n",
            "| 9.59|11.83| 7.96| 1.58| 7.92|  5.0| 3.17| 4.92| 3.13| 3.37|  6.5| 6.79|1961-01-20 00:00:00|\n",
            "+-----+-----+-----+-----+-----+-----+-----+-----+-----+-----+-----+-----+-------------------+\n",
            "only showing top 20 rows\n",
            "\n"
          ]
        }
      ],
      "source": [
        "df = df.withColumn(\"Datetime\", df[\"Datetime\"].cast(\"timestamp\"))\n",
        "df.show()"
      ]
    },
    {
      "cell_type": "markdown",
      "metadata": {
        "id": "NdpcwHRejxc8"
      },
      "source": [
        "### Step 6. Compute how many values are missing for each location over the entire record.  \n",
        "#### They should be ignored in all calculations below."
      ]
    },
    {
      "cell_type": "code",
      "execution_count": 73,
      "metadata": {
        "colab": {
          "base_uri": "https://localhost:8080/"
        },
        "id": "J2YvlcAajxc8",
        "outputId": "b1fd18b0-0cb4-4737-9898-9bfa0033b1d3"
      },
      "outputs": [
        {
          "output_type": "stream",
          "name": "stdout",
          "text": [
            "+---+---+---+---+---+---+---+---+---+---+---+---+\n",
            "|RPT|VAL|ROS|KIL|SHA|BIR|DUB|CLA|MUL|CLO|BEL|MAL|\n",
            "+---+---+---+---+---+---+---+---+---+---+---+---+\n",
            "|  6|  3|  2|  5|  2|  0|  3|  2|  3|  1|  0|  4|\n",
            "+---+---+---+---+---+---+---+---+---+---+---+---+\n",
            "\n"
          ]
        }
      ],
      "source": [
        "from pyspark.sql import functions as F\n",
        "from pyspark.sql.types import DoubleType, FloatType\n",
        "numeric_cols = [field.name for field in df.schema.fields if isinstance(field.dataType, (DoubleType, FloatType))]\n",
        "df.select([F.count(F.when(F.isnan(c), c)).alias(c) for c in numeric_cols]).show()"
      ]
    },
    {
      "cell_type": "markdown",
      "metadata": {
        "id": "10OG2B04jxc8"
      },
      "source": [
        "### Step 7. Compute how many non-missing values there are in total."
      ]
    },
    {
      "cell_type": "code",
      "execution_count": 74,
      "metadata": {
        "scrolled": true,
        "id": "8iT7gJ6Tjxc8",
        "colab": {
          "base_uri": "https://localhost:8080/"
        },
        "outputId": "9690dfd3-d72c-4b60-fbba-b19245bf75ec"
      },
      "outputs": [
        {
          "output_type": "execute_result",
          "data": {
            "text/plain": [
              "Row(RPT=6574, VAL=6574, ROS=6574, KIL=6574, SHA=6574, BIR=6574, DUB=6574, CLA=6574, MUL=6574, CLO=6574, BEL=6574, MAL=6574)"
            ]
          },
          "metadata": {},
          "execution_count": 74
        }
      ],
      "source": [
        "non_missing_count = df.select([F.count(F.when(F.col(c).isNotNull(), c)).alias(c) for c in numeric_cols]).collect()[0]\n",
        "non_missing_count"
      ]
    },
    {
      "cell_type": "markdown",
      "metadata": {
        "id": "WaD7lptUjxc8"
      },
      "source": [
        "### Step 8. Calculate the mean windspeeds of the windspeeds over all the locations and all the times.\n",
        "#### A single number for the entire dataset."
      ]
    },
    {
      "cell_type": "code",
      "source": [
        "# replace the nan with 0\n",
        "df = df.fillna(0)"
      ],
      "metadata": {
        "id": "W0Hxh6JsjL6B"
      },
      "execution_count": 75,
      "outputs": []
    },
    {
      "cell_type": "code",
      "execution_count": 76,
      "metadata": {
        "id": "h7Zs_Tmzjxc8",
        "colab": {
          "base_uri": "https://localhost:8080/"
        },
        "outputId": "bd1437b2-33a9-4dbc-c383-2a61b9eecde1"
      },
      "outputs": [
        {
          "output_type": "execute_result",
          "data": {
            "text/plain": [
              "[Row(RPT=12.35170368116826, VAL=10.63945695162761, ROS=11.656979008214156, KIL=6.301671737146327, SHA=10.452652874961945, BIR=7.092254335260125, DUB=9.792871919683598, CLA=8.492468816550042, MUL=8.489714024946739, CLO=8.706006997261914, BEL=13.121006997261915, MAL=15.589587770002998)]"
            ]
          },
          "metadata": {},
          "execution_count": 76
        }
      ],
      "source": [
        "wind_speed_mean = df.select([F.mean(c).alias(c) for c in numeric_cols]).collect()\n",
        "wind_speed_mean"
      ]
    },
    {
      "cell_type": "markdown",
      "metadata": {
        "id": "8GDmNm-Tjxc8"
      },
      "source": [
        "### Step 9. Create a DataFrame called loc_stats and calculate the min, max and mean windspeeds and standard deviations of the windspeeds at each location over all the days\n",
        "\n",
        "#### A different set of numbers for each location."
      ]
    },
    {
      "cell_type": "code",
      "execution_count": 77,
      "metadata": {
        "id": "Edt-R14fjxc8",
        "colab": {
          "base_uri": "https://localhost:8080/"
        },
        "outputId": "d1a46e74-cfd4-46ca-bedb-3527324063ff"
      },
      "outputs": [
        {
          "output_type": "stream",
          "name": "stdout",
          "text": [
            "+-------+-----------------+------------------+------------------+------------------+------------------+------------------+-----------------+-----------------+-----------------+-----------------+------------------+------------------+\n",
            "|summary|              RPT|               VAL|               ROS|               KIL|               SHA|               BIR|              DUB|              CLA|              MUL|              CLO|               BEL|               MAL|\n",
            "+-------+-----------------+------------------+------------------+------------------+------------------+------------------+-----------------+-----------------+-----------------+-----------------+------------------+------------------+\n",
            "|  count|             6574|              6574|              6574|              6574|              6574|              6574|             6574|             6574|             6574|             6574|              6574|              6574|\n",
            "|   mean|12.35170368116826| 10.63945695162761|11.656979008214156| 6.301671737146327|10.452652874961945| 7.092254335260125|9.792871919683598|8.492468816550042|8.489714024946739|8.706006997261914|13.121006997261915|15.589587770002998|\n",
            "| stddev| 5.62824497024779|5.2710596289787635| 5.011815781665145|3.6086305999897266| 4.938741984776022|3.9686831153772166|4.980816385843772|4.501203534833449|4.169869647881522| 4.50489205296827| 5.835037000573737|  6.70879320144964|\n",
            "|    min|              0.0|               0.0|               0.0|               0.0|               0.0|               0.0|              0.0|              0.0|              0.0|              0.0|              0.13|               0.0|\n",
            "|    max|             35.8|             33.37|             33.84|             28.46|             37.54|             26.16|            30.37|            31.08|            25.88|            28.21|             42.38|             42.54|\n",
            "+-------+-----------------+------------------+------------------+------------------+------------------+------------------+-----------------+-----------------+-----------------+-----------------+------------------+------------------+\n",
            "\n"
          ]
        }
      ],
      "source": [
        "loc_stats = df.describe()\n",
        "loc_stats.show()"
      ]
    },
    {
      "cell_type": "markdown",
      "metadata": {
        "id": "oIsJrjTCjxc8"
      },
      "source": [
        "### Step 10. Create a DataFrame called day_stats and calculate the min, max and mean windspeed and standard deviations of the windspeeds across all the locations at each day.\n",
        "\n",
        "#### A different set of numbers for each day."
      ]
    },
    {
      "cell_type": "code",
      "execution_count": 78,
      "metadata": {
        "id": "NBZ8T73Djxc9"
      },
      "outputs": [],
      "source": [
        "# day_stats = df.groupBy(\"Datetime\").agg(\n",
        "#     F.min(F.least(*numeric_cols)).alias(\"min\"),\n",
        "#     F.max(F.greatest(*numeric_cols)).alias(\"max\"),\n",
        "#     F.array_agg(*[F.mean(c) for c in numeric_cols]).alias(\"mean\")\n",
        "# )\n",
        "\n",
        "# day_stats.show()"
      ]
    },
    {
      "cell_type": "markdown",
      "metadata": {
        "id": "SZFCxDzKjxc9"
      },
      "source": [
        "### Step 11. Find the average windspeed in January for each location.  \n",
        "#### Treat January 1961 and January 1962 both as January."
      ]
    },
    {
      "cell_type": "code",
      "execution_count": 80,
      "metadata": {
        "id": "zKclRzcZjxc9",
        "colab": {
          "base_uri": "https://localhost:8080/"
        },
        "outputId": "e8192170-df92-41d9-ed9d-da30a769b825"
      },
      "outputs": [
        {
          "output_type": "stream",
          "name": "stdout",
          "text": [
            "+------------------+------------------+------------------+-----------------+------------------+------------------+------------------+-----------------+-----------------+-----------------+------------------+-----------------+\n",
            "|               RPT|               VAL|               ROS|              KIL|               SHA|               BIR|               DUB|              CLA|              MUL|              CLO|               BEL|              MAL|\n",
            "+------------------+------------------+------------------+-----------------+------------------+------------------+------------------+-----------------+-----------------+-----------------+------------------+-----------------+\n",
            "|14.394086021505375|12.548566308243732|13.170286738351255|7.474193548387101|11.647634408602153|7.8015770609318995|11.761577060931899|9.432329749103943|8.623978494623662|10.22870967741935|14.233189964157702|16.66146953405018|\n",
            "+------------------+------------------+------------------+-----------------+------------------+------------------+------------------+-----------------+-----------------+-----------------+------------------+-----------------+\n",
            "\n"
          ]
        }
      ],
      "source": [
        "from pyspark.sql.functions import month\n",
        "january_data = df.filter(month(df[\"Datetime\"]) == 1)\n",
        "\n",
        "january_avg_windspeed = january_data.select([F.mean(c).alias(c) for c in numeric_cols])\n",
        "\n",
        "january_avg_windspeed.show()\n"
      ]
    },
    {
      "cell_type": "markdown",
      "metadata": {
        "id": "LjEyhrI4jxc9"
      },
      "source": [
        "### Step 12. Downsample the record to a yearly frequency for each location."
      ]
    },
    {
      "cell_type": "code",
      "execution_count": 84,
      "metadata": {
        "id": "llIiCCX-jxc9",
        "colab": {
          "base_uri": "https://localhost:8080/"
        },
        "outputId": "bd1a9a62-c49e-4520-b87c-206c6dfcd41d"
      },
      "outputs": [
        {
          "output_type": "stream",
          "name": "stdout",
          "text": [
            "+--------------+------------------+------------------+------------------+------------------+------------------+-----------------+------------------+------------------+-----------------+------------------+------------------+------------------+\n",
            "|year(Datetime)|               RPT|               VAL|               ROS|               KIL|               SHA|              BIR|               DUB|               CLA|              MUL|               CLO|               BEL|               MAL|\n",
            "+--------------+------------------+------------------+------------------+------------------+------------------+-----------------+------------------+------------------+-----------------+------------------+------------------+------------------+\n",
            "|          1969| 11.16635616438356| 9.723698630136992|            10.902| 5.767972602739723| 9.873917808219185|6.189972602739724| 8.564493150684937|7.7113972602739755|7.924520547945215| 7.754383561643838|12.621232876712329|15.762904109589044|\n",
            "|          1968|11.835628415300544|10.468196721311475|11.409754098360656|  6.47767759562842|10.760765027322407|6.067322404371587| 8.859180327868858| 8.255519125683058| 7.22494535519126| 7.832978142076502|12.808633879781423|15.017486338797816|\n",
            "|          1967|12.737150684931509| 10.99098630136987| 11.73939726027397|  7.14342465753425|11.630739726027393|7.368164383561641|10.652027397260275| 9.325616438356164|8.645013698630141|  9.54742465753425|14.774547945205477|17.135945205479448|\n",
            "|          1966|13.461972602739728|11.557205479452055|12.020630136986298|7.3457260273972595|11.805041095890411|7.793671232876712|10.579808219178084| 8.835095890410958|8.514438356164385| 9.768958904109594|14.265835616438348|16.307260273972595|\n",
            "|          1965|12.451369863013694|11.075534246575348|11.848767123287672| 6.858465753424656|11.024794520547943|7.478109589041091|10.618712328767128| 8.879917808219176|7.907424657534245| 9.918082191780822|12.964246575342468|15.591643835616443|\n",
            "|          1964|12.363661202185797| 10.92016393442623| 12.10437158469945| 6.787786885245907| 11.45448087431694|7.570874316939889|10.259153005464483| 9.467349726775957|7.789016393442626| 10.20795081967213|13.740546448087434|14.910300546448077|\n",
            "|          1963|12.813452054794517|10.836986301369866|12.541150684931505| 7.330054794520546|11.724109589041099|8.434712328767121|11.075698630136989|10.336547945205478| 8.90358904109589|10.224438356164384|13.638876712328768| 14.99901369863014|\n",
            "|          1962|12.213369863013703|10.110438356164384|11.732712328767127| 6.941369863013701|10.657917808219183| 7.39306849315069|11.020712328767129| 8.793753424657538| 8.31682191780822| 9.676246575342462|12.930684931506857|14.284712328767126|\n",
            "|          1961|12.131095890410963|10.266712328767127|11.300109589041107| 6.881972602739726| 10.82213698630137|7.729726027397262| 9.653917808219179| 8.810246575342468|8.576575342465752| 9.808630136986306| 13.50279452054795|13.568328767123287|\n",
            "|          NULL|12.350888348037703|10.617791299056874|11.580733191359897| 5.766306662610267| 9.821524186187993|6.848643139641013| 9.443465165804701| 8.049933069668409|8.779589291146955| 7.996799513233959|12.770200790994858| 15.89297231518102|\n",
            "+--------------+------------------+------------------+------------------+------------------+------------------+-----------------+------------------+------------------+-----------------+------------------+------------------+------------------+\n",
            "\n"
          ]
        }
      ],
      "source": [
        "yearly_data = df.groupBy(F.year(\"Datetime\")).agg(\n",
        "    *[F.mean(c).alias(c) for c in numeric_cols]\n",
        ")\n",
        "\n",
        "yearly_data.sort(F.desc(yearly_data[\"year(Datetime)\"])).show()"
      ]
    },
    {
      "cell_type": "markdown",
      "metadata": {
        "id": "YaEB8-r1jxc9"
      },
      "source": [
        "### Step 13. Downsample the record to a monthly frequency for each location."
      ]
    },
    {
      "cell_type": "code",
      "execution_count": 91,
      "metadata": {
        "id": "_4sJx5oSjxc9",
        "colab": {
          "base_uri": "https://localhost:8080/"
        },
        "outputId": "9e5002a4-a1a2-4212-b39a-ecc9c1c34801"
      },
      "outputs": [
        {
          "output_type": "stream",
          "name": "stdout",
          "text": [
            "+--------------+---------------+------------------+------------------+------------------+-----------------+------------------+------------------+------------------+------------------+------------------+------------------+------------------+------------------+\n",
            "|year(Datetime)|month(Datetime)|               RPT|               VAL|               ROS|              KIL|               SHA|               BIR|               DUB|               CLA|               MUL|               CLO|               BEL|               MAL|\n",
            "+--------------+---------------+------------------+------------------+------------------+-----------------+------------------+------------------+------------------+------------------+------------------+------------------+------------------+------------------+\n",
            "|          NULL|           NULL|12.350888348037703|10.617791299056874|11.580733191359897|5.766306662610267| 9.821524186187993| 6.848643139641013| 9.443465165804701| 8.049933069668409| 8.779589291146955| 7.996799513233959|12.770200790994858| 15.89297231518102|\n",
            "|          1961|              1| 14.36258064516129| 11.60161290322581|13.431612903225808|7.736774193548387|10.358387096774193| 8.588064516129029|11.184838709677418| 8.947096774193545| 9.085806451612902| 10.10741935483871|13.880967741935482|14.703225806451613|\n",
            "|          1961|              2| 16.26928571428572|14.975357142857138|13.925714285714287|8.901071428571429|13.852142857142855|10.937500000000002|11.890714285714285|11.846071428571426| 11.82142857142857|12.714285714285717|18.583214285714284|15.411785714285715|\n",
            "|          1961|              3|10.538709677419353|11.296451612903226|10.752903225806453|7.049032258064516|10.509354838709674| 8.866774193548387| 9.644193548387097| 9.829677419354837|              9.63|11.251935483870966|16.410967741935483|15.212903225806444|\n",
            "|          1961|              4|10.722666666666669| 9.427666666666665|             9.998|5.830666666666667| 8.434999999999999| 6.494999999999999| 6.925333333333333| 7.094666666666668| 7.342333333333332| 7.237000000000001|11.147333333333332|10.278333333333334|\n",
            "|          1961|              5| 9.860967741935484| 8.564516129032254| 10.81806451612903|5.714838709677419| 9.490322580645165| 6.574838709677419|7.3587096774193546| 8.177096774193549| 8.039354838709675| 8.499354838709676|11.900322580645158|12.011612903225808|\n",
            "|          1961|              6| 9.574000000000002| 8.520333333333333| 8.866999999999999|            6.083|10.824000000000002| 6.707333333333335| 9.095666666666665| 8.849333333333334| 9.086666666666666| 9.940333333333333|            13.995| 14.06866666666667|\n",
            "|          1961|              7|10.614193548387096| 8.221612903225806| 9.110322580645162|6.340967741935483|10.532580645161287|6.1983870967741925| 8.083870967741936| 8.284193548387096|  8.07709677419355| 8.891612903225804|11.092580645161293|12.312903225806453|\n",
            "|          1961|              8|11.646774193548385|10.133870967741936|10.335806451612898|6.845806451612903|12.715161290322579| 8.441935483870967|10.093870967741937|10.460967741935482| 9.111612903225808|10.204516129032257|             14.41|13.882580645161294|\n",
            "|          1961|              9|12.530999999999997|             9.335|10.417666666666666|6.917000000000001|11.003333333333332| 7.234000000000001|             8.206| 8.638666666666666| 7.728333333333336| 9.931333333333333|13.718333333333334|12.921666666666669|\n",
            "|          1961|             10|13.828709677419358|10.915806451612903|12.236451612903227| 8.15483870967742| 11.86548387096774| 8.333870967741936|  11.1941935483871| 9.271935483870966| 8.654193548387097|11.455806451612903|14.229354838709678|16.793225806451613|\n",
            "|          1961|             11|10.896333333333335| 8.592666666666668|11.850333333333332|6.045666666666667| 9.123666666666667| 6.250666666666666|10.507333333333332| 6.313666666666666|             6.575| 8.383666666666665|10.776666666666669|12.146000000000003|\n",
            "|          1961|             12|14.973548387096777|11.903870967741934|13.980322580645161|7.073870967741935|11.323548387096777|  8.30225806451613|11.753548387096776| 8.163225806451614| 7.965806451612904| 9.246774193548386|12.239354838709678| 13.09870967741936|\n",
            "|          1962|              1|14.783870967741937|13.160322580645161|12.591935483870966|7.538064516129033|11.779677419354838|              8.72|14.211935483870969| 9.600000000000001|              9.67|11.498709677419354| 16.36935483870968|15.661612903225809|\n",
            "|          1962|              2|15.844642857142862| 12.04142857142857|15.178928571428573|8.932142857142859|13.821428571428571| 9.726785714285713|16.916428571428572|11.285357142857146|12.021071428571426|12.126428571428573|16.705357142857142|18.426785714285717|\n",
            "|          1962|              3|11.259032258064517|  8.60225806451613|12.110645161290325|6.403225806451614| 10.35225806451613| 6.732258064516129|10.223225806451614| 7.641935483870967|7.0922580645161295|  8.05258064516129|              9.69| 11.13774193548387|\n",
            "|          1962|              4|12.160666666666664|  9.67666666666667|12.088333333333335|            7.163|10.543999999999993| 7.557999999999999|             11.48|             8.722| 8.703666666666667| 9.311666666666667|12.234333333333332|11.780666666666665|\n",
            "|          1962|              5|  12.7458064516129| 10.86548387096774|11.874838709677421|7.471935483870969|11.285806451612906| 7.209032258064517|10.105806451612905|  9.08451612903226|7.8680645161290315| 9.293225806451613|             12.13|12.922580645161291|\n",
            "|          1962|              6|10.305666666666669| 9.677000000000001| 9.996333333333332|6.846666666666666|10.711333333333332| 7.441333333333334|10.548666666666668|10.306666666666665|             9.196|10.520333333333333|13.756999999999998|15.218333333333335|\n",
            "|          1962|              7| 9.981935483870968| 8.370645161290323| 9.753548387096773|6.093225806451615|  9.11290322580645| 5.877096774193549| 7.781612903225805| 8.123225806451613| 6.829677419354839| 8.613225806451613|10.783870967741937|11.326129032258063|\n",
            "+--------------+---------------+------------------+------------------+------------------+-----------------+------------------+------------------+------------------+------------------+------------------+------------------+------------------+------------------+\n",
            "only showing top 20 rows\n",
            "\n"
          ]
        }
      ],
      "source": [
        "monthly_data = df.groupBy(F.year(\"Datetime\"), F.month(\"Datetime\")).agg(\n",
        "    *[F.mean(c).alias(c) for c in numeric_cols]\n",
        ")\n",
        "\n",
        "monthly_data.orderBy(\"year(Datetime)\", \"month(Datetime)\").show()"
      ]
    },
    {
      "cell_type": "markdown",
      "metadata": {
        "id": "ZOjFOws4jxc9"
      },
      "source": [
        "### Step 14. Downsample the record to a weekly frequency for each location."
      ]
    },
    {
      "cell_type": "code",
      "execution_count": 92,
      "metadata": {
        "id": "Yv-IbCaYjxc9",
        "colab": {
          "base_uri": "https://localhost:8080/"
        },
        "outputId": "09ca387f-3874-4dc6-ae90-6ccf1da4dd13"
      },
      "outputs": [
        {
          "output_type": "stream",
          "name": "stdout",
          "text": [
            "+--------------+--------------------+------------------+------------------+------------------+------------------+------------------+------------------+------------------+------------------+------------------+------------------+------------------+------------------+\n",
            "|year(Datetime)|weekofyear(Datetime)|               RPT|               VAL|               ROS|               KIL|               SHA|               BIR|               DUB|               CLA|               MUL|               CLO|               BEL|               MAL|\n",
            "+--------------+--------------------+------------------+------------------+------------------+------------------+------------------+------------------+------------------+------------------+------------------+------------------+------------------+------------------+\n",
            "|          NULL|                NULL|12.350888348037703|10.617791299056874|11.580733191359897| 5.766306662610267| 9.821524186187993| 6.848643139641013| 9.443465165804701| 8.049933069668409| 8.779589291146955| 7.996799513233959|12.770200790994858| 15.89297231518102|\n",
            "|          1961|                   1| 13.54142857142857| 9.845714285714283|10.487142857142857| 6.417142857142857| 9.474285714285713| 6.435714285714285|11.061428571428573| 5.671428571428571| 8.434285714285714| 8.497142857142858|12.481428571428571|13.238571428571431|\n",
            "|          1961|                   2|12.468571428571428| 8.967142857142857|11.958571428571428| 4.630000000000001| 7.351428571428571| 5.072857142857144| 7.535714285714286| 6.819999999999999| 5.712857142857142| 7.571428571428571|11.125714285714286|11.024285714285716|\n",
            "|          1961|                   3|13.204285714285716| 9.862857142857141|12.982857142857142| 6.328571428571428| 7.685714285714285| 7.417142857142857| 9.257142857142856| 7.875714285714286| 7.145714285714287| 8.124285714285714| 9.821428571428571|11.434285714285712|\n",
            "|          1961|                   4|             17.04| 16.14142857142857|18.225714285714282|12.719999999999999| 17.43285714285714|14.828571428571427|15.528571428571427|15.159999999999998|14.479999999999999|             15.64|             20.93|22.529999999999998|\n",
            "|          1961|                   5|16.827142857142857|15.459999999999999|12.618571428571428| 8.247142857142858|13.361428571428572| 9.107142857142858|12.204285714285716|  8.54857142857143| 9.821428571428571| 9.459999999999999|14.012857142857142|11.935714285714285|\n",
            "|          1961|                   6|19.684285714285714|16.417142857142856|17.304285714285715|10.774285714285712|14.718571428571428|12.522857142857143|14.934285714285712|             14.85|14.064285714285715|             14.44| 21.83285714285714|19.155714285714286|\n",
            "|          1961|                   7|15.129999999999999| 15.09142857142857|13.797142857142859| 8.642857142857142|             13.41| 11.86857142857143| 9.542857142857144|12.128571428571428|12.375714285714286|13.542857142857143| 21.16714285714286|16.584285714285716|\n",
            "|          1961|                   8|15.221428571428572|13.625714285714285|14.334285714285715| 8.524285714285714|13.655714285714286|10.114285714285714|             11.15|10.875714285714285|10.392857142857142|12.729999999999999|16.304285714285715|14.322857142857144|\n",
            "|          1961|                   9|12.101428571428572| 12.95142857142857| 9.482857142857144|7.8342857142857145|12.101428571428572|  9.23857142857143|10.232857142857142|11.129999999999999|               8.9|             12.37| 17.84285714285714|11.958571428571428|\n",
            "|          1961|                  10| 8.037142857142857|11.578571428571427|10.845714285714285| 7.137142857142856|             10.94|  9.48857142857143| 6.881428571428572| 9.637142857142859| 9.885714285714284|10.458571428571428|16.701428571428572|             14.42|\n",
            "|          1961|                  11|11.911428571428571|13.501428571428574|11.607142857142858| 7.084285714285714|10.751428571428571| 8.652857142857142| 10.04142857142857|10.219999999999999|10.101428571428572|11.627142857142857|19.349999999999998| 16.22714285714286|\n",
            "|          1961|                  12| 9.567142857142857| 8.387142857142859| 9.695714285714287| 6.648571428571429| 8.964285714285714| 7.982857142857143|10.774285714285714| 8.977142857142857|10.904285714285715| 11.48142857142857|14.037142857142857|18.134285714285713|\n",
            "|          1961|                  13|10.757142857142858| 8.852857142857143| 9.501428571428573| 6.257142857142858| 9.975714285714286| 9.165714285714285|11.125714285714285| 9.061428571428573| 8.981428571428571| 9.631428571428572|13.471428571428573|              13.9|\n",
            "|          1961|                  14|11.964285714285714|10.654285714285715|13.607142857142856| 5.958571428571429| 9.494285714285715| 7.637142857142857| 7.107142857142857|  8.04142857142857| 8.161428571428571| 7.238571428571428| 11.71285714285714|11.371428571428572|\n",
            "|          1961|                  15| 8.965714285714286|               8.0| 8.787142857142857| 4.971428571428571| 6.405714285714285|4.9471428571428575| 5.005714285714285| 4.994285714285715| 5.718571428571428| 6.178571428571429| 9.482857142857144|              8.69|\n",
            "|          1961|                  16| 12.62142857142857| 10.43857142857143|10.255714285714285| 7.768571428571429|10.357142857142858| 7.798571428571429|               9.0| 9.111428571428572| 8.767142857142856| 9.551428571428572|             13.62|12.469999999999999|\n",
            "|          1961|                  17|10.117142857142856|  9.79857142857143| 8.281428571428572| 4.801428571428572| 7.892857142857143| 5.197142857142857|6.1499999999999995| 6.377142857142856| 6.242857142857143| 6.124285714285714| 9.719999999999999| 8.637142857142857|\n",
            "|          1961|                  18|15.367142857142856|13.969999999999999|13.834285714285715| 9.952857142857143|14.917142857142858|10.864285714285714|11.435714285714287|12.244285714285713|11.677142857142854|11.585714285714289|17.548571428571428|14.571428571428571|\n",
            "|          1961|                  19| 7.772857142857142| 8.712857142857143| 8.172857142857143| 5.295714285714285| 9.150000000000002| 6.391428571428571| 6.868571428571428|7.0528571428571425| 7.528571428571428| 7.822857142857144|10.421428571428573|10.382857142857144|\n",
            "+--------------+--------------------+------------------+------------------+------------------+------------------+------------------+------------------+------------------+------------------+------------------+------------------+------------------+------------------+\n",
            "only showing top 20 rows\n",
            "\n"
          ]
        }
      ],
      "source": [
        "weekly_data = df.groupBy(F.year(\"Datetime\"), F.weekofyear(\"Datetime\")).agg(\n",
        "    *[F.mean(c).alias(c) for c in numeric_cols]\n",
        ")\n",
        "\n",
        "weekly_data.orderBy(\"year(Datetime)\", \"weekofyear(Datetime)\").show()"
      ]
    },
    {
      "cell_type": "markdown",
      "metadata": {
        "id": "3pyO1mtcjxc9"
      },
      "source": [
        "### Step 15. Calculate the min, max and mean windspeeds and standard deviations of the windspeeds across all locations for each week (assume that the first week starts on January 2 1961) for the first 52 weeks."
      ]
    },
    {
      "cell_type": "code",
      "execution_count": 94,
      "metadata": {
        "id": "CIqkn8_kjxc-",
        "colab": {
          "base_uri": "https://localhost:8080/"
        },
        "outputId": "c0ec7764-4a63-47af-8f15-fe2670fe8853"
      },
      "outputs": [
        {
          "output_type": "stream",
          "name": "stdout",
          "text": [
            "+-----+-----+-----+-----+-----+-----+-----+-----+-----+-----+-----+-----+-------------------+----------+\n",
            "|  RPT|  VAL|  ROS|  KIL|  SHA|  BIR|  DUB|  CLA|  MUL|  CLO|  BEL|  MAL|           Datetime|WeekNumber|\n",
            "+-----+-----+-----+-----+-----+-----+-----+-----+-----+-----+-----+-----+-------------------+----------+\n",
            "|15.04|14.96|13.17| 9.29|  0.0| 9.87|13.67|10.25|10.83|12.58| 18.5|15.04|1961-01-01 00:00:00|         0|\n",
            "|14.71|  0.0|10.83|  6.5|12.62| 7.67| 11.5|10.04| 9.79| 9.67|17.54|13.83|1961-01-02 00:00:00|         1|\n",
            "| 18.5|16.88|12.33|10.13|11.17| 6.17|11.25|  0.0|  8.5| 7.67|12.75|12.71|1961-01-03 00:00:00|         1|\n",
            "|10.58| 6.63|11.75| 4.58| 4.54| 2.88| 8.63| 1.79| 5.83| 5.88| 5.46|10.88|1961-01-04 00:00:00|         1|\n",
            "|13.33|13.25|11.42| 6.17|10.71| 8.21|11.92| 6.54|10.92|10.34|12.92|11.83|1961-01-05 00:00:00|         1|\n",
            "|13.21| 8.12| 9.96| 6.67| 5.37|  4.5|10.67| 4.42| 7.17|  7.5| 8.12|13.17|1961-01-06 00:00:00|         1|\n",
            "| 13.5|14.29|  9.5| 4.96|12.29| 8.33| 9.17| 9.29| 7.58| 7.96|13.96|13.79|1961-01-07 00:00:00|         1|\n",
            "|10.96| 9.75| 7.62| 5.91| 9.62| 7.29|14.29| 7.62| 9.25|10.46|16.62|16.46|1961-01-08 00:00:00|         1|\n",
            "|12.58|10.83| 10.0| 4.75|10.37| 6.79| 8.04|10.13| 7.79| 9.08|13.04|15.37|1961-01-09 00:00:00|         2|\n",
            "|13.37|11.12| 19.5| 8.33| 9.71| 6.54|11.42| 7.79| 8.54|  9.0| 8.58|11.83|1961-01-10 00:00:00|         2|\n",
            "|10.58| 9.87| 8.42| 2.79| 8.71| 7.25| 7.54| 8.33| 5.71| 8.67|20.71|16.92|1961-01-11 00:00:00|         2|\n",
            "|19.75|12.08| 18.5|10.54|10.29| 9.46|15.54| 11.5|10.37|14.58|15.59|14.09|1961-01-12 00:00:00|         2|\n",
            "| 9.92| 3.54| 8.46| 2.96| 2.29| 0.96| 4.63| 0.58| 2.33| 3.37| 5.25| 7.04|1961-01-13 00:00:00|         2|\n",
            "| 9.04| 5.66| 7.08| 0.67| 2.71| 1.38| 3.08| 2.58|  0.5| 2.67| 7.17| 5.17|1961-01-14 00:00:00|         2|\n",
            "|12.04| 9.67|11.75| 2.37| 7.38| 3.13|  2.5| 6.83| 4.75| 5.63| 7.54| 6.75|1961-01-15 00:00:00|         2|\n",
            "|16.42|11.25|15.67| 4.71|11.34| 6.92| 9.25| 8.79| 8.21| 7.33|13.04| 9.04|1961-01-16 00:00:00|         3|\n",
            "|17.75|14.37|17.33|10.13|13.96|13.37|13.42|11.04| 8.71|11.38|15.92|16.08|1961-01-17 00:00:00|         3|\n",
            "|19.83|12.04|20.79|18.54|  0.0|10.29|17.83|11.38|14.67|16.71| 8.79|17.96|1961-01-18 00:00:00|         3|\n",
            "| 4.92| 3.42| 7.29| 1.04| 3.67| 3.17| 3.71| 2.79| 1.92| 2.71| 6.87| 7.83|1961-01-19 00:00:00|         3|\n",
            "| 9.59|11.83| 7.96| 1.58| 7.92|  5.0| 3.17| 4.92| 3.13| 3.37|  6.5| 6.79|1961-01-20 00:00:00|         3|\n",
            "+-----+-----+-----+-----+-----+-----+-----+-----+-----+-----+-----+-----+-------------------+----------+\n",
            "only showing top 20 rows\n",
            "\n"
          ]
        }
      ],
      "source": [
        "from pyspark.sql.window import Window\n",
        "\n",
        "w = Window.orderBy(\"Datetime\")\n",
        "df_with_week = df.withColumn(\"WeekNumber\", F.floor(F.datediff(df[\"Datetime\"], F.to_date(F.lit(\"1961-01-02\"))) / 7) + 1)\n",
        "df_with_week.show()"
      ]
    },
    {
      "cell_type": "code",
      "source": [
        "first_52_weeks = df_with_week.filter(df_with_week[\"WeekNumber\"] <= 52)\n",
        "first_52_weeks.show()"
      ],
      "metadata": {
        "colab": {
          "base_uri": "https://localhost:8080/"
        },
        "id": "g1mKeCLJt4ee",
        "outputId": "ec36900a-681c-42d8-bccf-b661eb41de9f"
      },
      "execution_count": 95,
      "outputs": [
        {
          "output_type": "stream",
          "name": "stdout",
          "text": [
            "+-----+-----+-----+-----+-----+-----+-----+-----+-----+-----+-----+-----+-------------------+----------+\n",
            "|  RPT|  VAL|  ROS|  KIL|  SHA|  BIR|  DUB|  CLA|  MUL|  CLO|  BEL|  MAL|           Datetime|WeekNumber|\n",
            "+-----+-----+-----+-----+-----+-----+-----+-----+-----+-----+-----+-----+-------------------+----------+\n",
            "|15.04|14.96|13.17| 9.29|  0.0| 9.87|13.67|10.25|10.83|12.58| 18.5|15.04|1961-01-01 00:00:00|         0|\n",
            "|14.71|  0.0|10.83|  6.5|12.62| 7.67| 11.5|10.04| 9.79| 9.67|17.54|13.83|1961-01-02 00:00:00|         1|\n",
            "| 18.5|16.88|12.33|10.13|11.17| 6.17|11.25|  0.0|  8.5| 7.67|12.75|12.71|1961-01-03 00:00:00|         1|\n",
            "|10.58| 6.63|11.75| 4.58| 4.54| 2.88| 8.63| 1.79| 5.83| 5.88| 5.46|10.88|1961-01-04 00:00:00|         1|\n",
            "|13.33|13.25|11.42| 6.17|10.71| 8.21|11.92| 6.54|10.92|10.34|12.92|11.83|1961-01-05 00:00:00|         1|\n",
            "|13.21| 8.12| 9.96| 6.67| 5.37|  4.5|10.67| 4.42| 7.17|  7.5| 8.12|13.17|1961-01-06 00:00:00|         1|\n",
            "| 13.5|14.29|  9.5| 4.96|12.29| 8.33| 9.17| 9.29| 7.58| 7.96|13.96|13.79|1961-01-07 00:00:00|         1|\n",
            "|10.96| 9.75| 7.62| 5.91| 9.62| 7.29|14.29| 7.62| 9.25|10.46|16.62|16.46|1961-01-08 00:00:00|         1|\n",
            "|12.58|10.83| 10.0| 4.75|10.37| 6.79| 8.04|10.13| 7.79| 9.08|13.04|15.37|1961-01-09 00:00:00|         2|\n",
            "|13.37|11.12| 19.5| 8.33| 9.71| 6.54|11.42| 7.79| 8.54|  9.0| 8.58|11.83|1961-01-10 00:00:00|         2|\n",
            "|10.58| 9.87| 8.42| 2.79| 8.71| 7.25| 7.54| 8.33| 5.71| 8.67|20.71|16.92|1961-01-11 00:00:00|         2|\n",
            "|19.75|12.08| 18.5|10.54|10.29| 9.46|15.54| 11.5|10.37|14.58|15.59|14.09|1961-01-12 00:00:00|         2|\n",
            "| 9.92| 3.54| 8.46| 2.96| 2.29| 0.96| 4.63| 0.58| 2.33| 3.37| 5.25| 7.04|1961-01-13 00:00:00|         2|\n",
            "| 9.04| 5.66| 7.08| 0.67| 2.71| 1.38| 3.08| 2.58|  0.5| 2.67| 7.17| 5.17|1961-01-14 00:00:00|         2|\n",
            "|12.04| 9.67|11.75| 2.37| 7.38| 3.13|  2.5| 6.83| 4.75| 5.63| 7.54| 6.75|1961-01-15 00:00:00|         2|\n",
            "|16.42|11.25|15.67| 4.71|11.34| 6.92| 9.25| 8.79| 8.21| 7.33|13.04| 9.04|1961-01-16 00:00:00|         3|\n",
            "|17.75|14.37|17.33|10.13|13.96|13.37|13.42|11.04| 8.71|11.38|15.92|16.08|1961-01-17 00:00:00|         3|\n",
            "|19.83|12.04|20.79|18.54|  0.0|10.29|17.83|11.38|14.67|16.71| 8.79|17.96|1961-01-18 00:00:00|         3|\n",
            "| 4.92| 3.42| 7.29| 1.04| 3.67| 3.17| 3.71| 2.79| 1.92| 2.71| 6.87| 7.83|1961-01-19 00:00:00|         3|\n",
            "| 9.59|11.83| 7.96| 1.58| 7.92|  5.0| 3.17| 4.92| 3.13| 3.37|  6.5| 6.79|1961-01-20 00:00:00|         3|\n",
            "+-----+-----+-----+-----+-----+-----+-----+-----+-----+-----+-----+-----+-------------------+----------+\n",
            "only showing top 20 rows\n",
            "\n"
          ]
        }
      ]
    },
    {
      "cell_type": "code",
      "source": [
        "weekly_stats = first_52_weeks.groupBy(\"WeekNumber\").agg(\n",
        "    F.min(F.least(*numeric_cols)).alias(\"min\"),\n",
        "    F.max(F.greatest(*numeric_cols)).alias(\"max\"),\n",
        "    *[F.mean(c).alias(c + \"_mean\") for c in numeric_cols],\n",
        "    *[F.stddev(c).alias(c + \"_stddev\") for c in numeric_cols]\n",
        ")"
      ],
      "metadata": {
        "id": "lKxftBhatvji"
      },
      "execution_count": 96,
      "outputs": []
    },
    {
      "cell_type": "code",
      "source": [
        "weekly_stats.show()"
      ],
      "metadata": {
        "colab": {
          "base_uri": "https://localhost:8080/"
        },
        "id": "OpigcRGWtjDB",
        "outputId": "31691789-225f-4847-eb9d-bc7f1de99983"
      },
      "execution_count": 97,
      "outputs": [
        {
          "output_type": "stream",
          "name": "stdout",
          "text": [
            "+----------+----+-----+------------------+------------------+------------------+------------------+------------------+------------------+------------------+------------------+------------------+------------------+------------------+------------------+------------------+------------------+------------------+------------------+------------------+------------------+------------------+------------------+------------------+------------------+------------------+------------------+\n",
            "|WeekNumber| min|  max|          RPT_mean|          VAL_mean|          ROS_mean|          KIL_mean|          SHA_mean|          BIR_mean|          DUB_mean|          CLA_mean|          MUL_mean|          CLO_mean|          BEL_mean|          MAL_mean|        RPT_stddev|        VAL_stddev|        ROS_stddev|        KIL_stddev|        SHA_stddev|        BIR_stddev|        DUB_stddev|        CLA_stddev|        MUL_stddev|        CLO_stddev|        BEL_stddev|        MAL_stddev|\n",
            "+----------+----+-----+------------------+------------------+------------------+------------------+------------------+------------------+------------------+------------------+------------------+------------------+------------------+------------------+------------------+------------------+------------------+------------------+------------------+------------------+------------------+------------------+------------------+------------------+------------------+------------------+\n",
            "|        26| 0.0|21.87| 8.774285714285714| 9.482857142857142| 8.648571428571428| 6.772857142857142|10.975714285714286| 6.507142857142858| 7.642857142857143| 9.237142857142857| 7.904285714285714|10.268571428571429|14.535714285714286|              10.4| 4.519081238271252| 2.902411148715921| 1.161628577636136|1.9110181778807014|2.1721253581293527|1.6263631645045158|1.9276731594136516| 3.065467415613886|1.7451251831206562|1.5641443728273998| 6.303747184923312| 5.669855965248735|\n",
            "|        29|1.46|12.67| 4.202857142857143| 4.255714285714285| 6.738571428571428|3.3000000000000003| 6.112857142857144|2.7157142857142853|3.9642857142857144|5.6428571428571415| 5.297142857142857| 6.041428571428571| 7.524285714285715| 8.415714285714285|1.0479776442544675| 1.400010204044446|2.7832081523033123|1.1589075315428177|0.7649556476405303|0.6178148898296626|1.7579045967937426|1.4791519449300927|0.8732070064941507|1.4397850368652099|2.0502183391276256| 2.133993573427196|\n",
            "|        19| 0.0| 26.3| 7.772857142857142| 8.712857142857143| 8.172857142857143| 5.295714285714285| 9.150000000000002| 6.391428571428571| 6.868571428571428|7.0528571428571425| 7.528571428571428| 7.822857142857144|10.421428571428573|10.382857142857144| 3.371022170824522| 3.782947326647633|3.0022253651012183|3.5096954148133572| 4.813159045782718| 4.660173203402882| 6.055871609634813| 4.690361444088342| 5.126826271588262| 5.460237217941221| 3.968271784086991| 7.858245593612089|\n",
            "|         0| 0.0| 18.5|             15.04|             14.96|             13.17|              9.29|               0.0|              9.87|             13.67|             10.25|             10.83|             12.58|              18.5|             15.04|              NULL|              NULL|              NULL|              NULL|              NULL|              NULL|              NULL|              NULL|              NULL|              NULL|              NULL|              NULL|\n",
            "|        22|3.42|17.96|10.321428571428571|7.4071428571428575|10.065714285714288|6.3100000000000005| 9.754285714285714| 6.451428571428572| 8.344285714285714| 8.635714285714284| 8.714285714285714| 9.035714285714286| 12.29857142857143|13.597142857142858|3.0997012144798117|1.8681248556213998|3.4746072063033595|2.3238258684046587|2.3056948131590547|1.3320088659793596| 2.300027950140731|  0.91518408244566|1.9546087173895543|2.0969887707763015|2.6111391420312358|2.5935864119382024|\n",
            "|         7| 0.0|29.63|15.129999999999999| 15.09142857142857|13.797142857142859| 8.642857142857142|             13.41| 11.86857142857143| 9.542857142857144|12.128571428571428|12.375714285714286|13.542857142857143| 21.16714285714286|16.584285714285716| 5.064609231388604| 3.575012487490678| 4.196620522458971| 5.478700315116455| 2.321716319162758|  3.02407797833449|  4.95863124355137|2.2834435148946173|2.5605914495343796|2.5313613879077943|5.9109382060879705| 4.685377455953992|\n",
            "|        34|3.96|23.38|12.391428571428571|11.429999999999998|12.768571428571429|7.1085714285714285|             13.25| 9.424285714285714|11.105714285714287| 12.20142857142857| 9.817142857142857|12.507142857142858| 16.25142857142857|16.485714285714288|3.3958574203060445|3.1747020857606985|3.0714026576979907|2.4557105459956565| 4.380624004256318| 3.416186261231751| 4.170083361048701|  4.90067147974448| 4.120184924190152|  3.85530247099461| 6.711322345041074| 4.947608368841311|\n",
            "|        50|4.46|25.62|14.985714285714284|13.472857142857142|             13.72| 8.697142857142858|14.297142857142857| 11.69857142857143|13.665714285714285|10.428571428571429|10.655714285714286| 11.05857142857143|15.112857142857143|14.644285714285715| 4.095106254799164|3.5878857018477897| 3.843379589198375|3.5014887990001924|3.9430475281847435|3.3124483823471556| 6.474477732200637|3.4820273240907063| 4.333019952038289| 4.633398423660644| 6.531043087403712| 5.665006199298924|\n",
            "|        32| 0.0|15.16| 8.621428571428572| 7.941428571428572|  8.72857142857143| 5.078571428571428|10.105714285714285| 6.017142857142857|7.8585714285714285|  8.02142857142857| 6.285714285714286| 6.201428571428571|10.934285714285712|10.125714285714286| 5.545260524602455|2.0533259894735707|2.1744074179066857| 1.921079805486388| 3.071871618101127|2.0451952986264685|3.0731874255210916| 2.088368011721342|2.7182277139272024|3.3259105448554918|2.9313015149296007|3.3565848573754105|\n",
            "|        43| 0.0|30.88|16.077142857142857|11.867142857142856|14.608571428571429|  8.40857142857143|13.362857142857141| 8.928571428571429|12.751428571428573| 9.874285714285715| 8.087142857142856|12.952857142857141|15.592857142857143|18.404285714285717|7.9576372420581265| 6.879972660521537| 7.428776096081661| 5.576502573511551| 7.344743504225123| 5.101187536810845|  4.54268433334091| 5.506544158674165| 5.404441735849362| 6.277628836553161| 7.056150306141242|  8.34088096294961|\n",
            "|        31|2.25|20.25|             10.87| 8.792857142857143| 9.858571428571427| 6.238571428571428|11.161428571428571| 7.184285714285714|  8.67142857142857| 8.265714285714285|  8.01142857142857| 8.951428571428572|11.595714285714285|             13.76|2.9508868723374215| 3.985225691165283| 3.483893552580831|1.6472748057668718| 4.189524350772327| 2.642245617795951|  3.70931902362787| 3.921508456121008|3.2175012487510064|2.9030181338934637| 4.901376871665271| 4.448250592461416|\n",
            "|        39| 0.0|23.21|16.044285714285714|  9.73857142857143|13.062857142857142| 8.370000000000001|13.714285714285714| 8.762857142857142| 9.227142857142857|10.437142857142858| 8.885714285714284|11.840000000000002|16.208571428571428|13.338571428571429|  4.55957182618009|5.0032770213512014| 4.201062223952867|2.0505527710026548|3.3539670895963245|1.9017861278783366| 2.098203313041218|3.4259631944204845|1.7903059062895474|3.9083969433345263| 5.091268435833481| 4.696503765467203|\n",
            "|        25|2.88| 21.5| 7.345714285714286|6.1085714285714285| 8.084285714285715| 5.478571428571429|11.477142857142857| 7.492857142857142|11.868571428571428| 9.447142857142856| 10.45857142857143|11.257142857142858|14.370000000000001|             17.41| 1.982034788988807| 2.212460384364193|1.9164538184092088|1.3322340706676208|1.4224007204454756|1.4483175789597422|2.4553847530915163|2.1093578350271613|2.0422571546488184|2.2862175041300152|2.4983861457615655| 3.063010501668797|\n",
            "|         6|8.08|26.38|19.684285714285714|16.417142857142856|17.304285714285715|10.774285714285712|14.718571428571428|12.522857142857143|14.934285714285712|             14.85|14.064285714285715|             14.44| 21.83285714285714|19.155714285714286|3.5876773226460275| 3.608373198943972|3.2903032137016246| 2.262055533822111| 5.571108293602595|3.0489764090358498| 2.974059275036154|3.0227526086885326| 2.914760465532044|1.7467493619100976| 4.063753249914477|1.8287049802420037|\n",
            "|         9| 0.0|23.45|12.101428571428572| 12.95142857142857| 9.482857142857144|7.8342857142857145|12.101428571428572|  9.23857142857143|10.232857142857142|11.129999999999999|               8.9|             12.37| 17.84285714285714|11.958571428571428|0.9977212130889163|2.8519550520735106| 4.491765481729555| 1.652572309490643|2.9571293995552996| 2.022246511279214| 3.338176719337041| 2.877394654891817| 4.591212621229095| 1.593685456209391| 4.332330836419407|5.9509927143052606|\n",
            "|        27| 0.0|21.29|11.715714285714286|              7.22| 9.319999999999999| 7.544285714285713|12.494285714285713| 7.982857142857143|             10.19| 9.308571428571428|10.732857142857144|10.547142857142857|12.219999999999999|15.987142857142857|3.6648549636734478|  2.68665839535534| 2.995919447070187|2.8988897710609667| 3.661383423165152| 2.459638959181573| 5.510024198373966|3.1604241728573323|3.4532096870675466| 3.657178850269309|4.5379878066532235|3.6657046356997274|\n",
            "|        51|0.58|24.41|15.757142857142858|11.971428571428572|             12.84| 5.785714285714286|11.928571428571429|7.0842857142857145| 8.071428571428571| 7.012857142857143| 5.517142857142857|7.6971428571428575| 9.958571428571428| 8.164285714285715|4.9597167737876395| 2.220866411796895| 5.653229165706977| 5.341288412430273|4.8985998971523435| 4.019468692679242| 5.724774896801413| 4.134366998246584| 4.243507646141001|4.6370957659786525|5.0653082452154505|5.0480354500302305|\n",
            "|        52|0.42|29.33|13.634285714285713| 9.504285714285714|15.804285714285713| 6.588571428571429| 8.112857142857143| 5.372857142857143|11.892857142857142| 6.851428571428571| 6.748571428571428| 7.701428571428572| 9.697142857142856|             12.84| 5.787782699050524| 4.566478793493798| 9.739917619677039|  4.16785087933589| 3.018855822358941|2.6743704199039335| 5.142213253343073| 4.289240136945116|3.3252139207948135|3.5266245834198098| 3.262216599623198| 3.012728552879156|\n",
            "|        17|1.38| 17.5|10.117142857142856|  9.79857142857143| 8.281428571428572| 4.801428571428572| 7.892857142857143| 5.197142857142857|6.1499999999999995| 6.377142857142856| 6.242857142857143| 6.124285714285714| 9.719999999999999| 8.637142857142857| 4.349661727405608|2.8714248993106115|3.7327756811405495|1.8976162992153125| 3.259906513412689| 2.528436369812473|  3.56577714764491| 3.426255070703845|2.7189257332367767|2.8405683535920367|2.9482367611845555| 5.108364755593562|\n",
            "|        41| 0.0|21.04| 9.327142857142858| 9.734285714285715| 9.104285714285716| 6.578571428571428|10.629999999999999| 7.965714285714286| 8.708571428571428| 7.901428571428572| 7.227142857142858| 9.494285714285715| 14.45142857142857|15.260000000000003| 5.996792793612583| 2.707482577000618| 5.979099311052509|2.3678501400456673| 2.246656775448058|1.9690848732584478|3.4097430429649123| 2.506401328408445|2.9470251344121823|3.5693083230174873| 4.113200005557022| 4.098129654692085|\n",
            "+----------+----+-----+------------------+------------------+------------------+------------------+------------------+------------------+------------------+------------------+------------------+------------------+------------------+------------------+------------------+------------------+------------------+------------------+------------------+------------------+------------------+------------------+------------------+------------------+------------------+------------------+\n",
            "only showing top 20 rows\n",
            "\n"
          ]
        }
      ]
    }
  ],
  "metadata": {
    "anaconda-cloud": {},
    "kernelspec": {
      "display_name": "Python [default]",
      "language": "python",
      "name": "python2"
    },
    "language_info": {
      "codemirror_mode": {
        "name": "ipython",
        "version": 2
      },
      "file_extension": ".py",
      "mimetype": "text/x-python",
      "name": "python",
      "nbconvert_exporter": "python",
      "pygments_lexer": "ipython2",
      "version": "2.7.12"
    },
    "colab": {
      "provenance": []
    }
  },
  "nbformat": 4,
  "nbformat_minor": 0
}