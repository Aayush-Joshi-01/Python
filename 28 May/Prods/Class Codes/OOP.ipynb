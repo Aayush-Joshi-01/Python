{
 "cells": [
  {
   "cell_type": "code",
   "execution_count": 1,
   "metadata": {},
   "outputs": [
    {
     "name": "stdout",
     "output_type": "stream",
     "text": [
      "The 2023 KIA Seltos has started its engine\n",
      "The 2023 KIA Seltos is moving\n",
      "Car Class to implement Class Fucntionalities\n"
     ]
    }
   ],
   "source": [
    "class Car:\n",
    "    \"\"\"Car Class to implement Class Fucntionalities\"\"\"\n",
    "    def __init__(self, company, model, year) -> None:\n",
    "        self.company = company\n",
    "        self.model = model\n",
    "        self.year = year\n",
    "    \n",
    "\n",
    "    def start_engine(self):\n",
    "        print(f\"The {self.year} {self.company} {self.model} has started its engine\")\n",
    "\n",
    "    def drive(self):\n",
    "        print(f\"The {self.year} {self.company} {self.model} is moving\")\n",
    "\n",
    "\n",
    "obj = Car(\"KIA\", \"Seltos\", 2023)\n",
    "\n",
    "obj.start_engine()\n",
    "obj.drive()\n",
    "print(Car.__doc__)"
   ]
  },
  {
   "cell_type": "code",
   "execution_count": 6,
   "metadata": {},
   "outputs": [
    {
     "name": "stdout",
     "output_type": "stream",
     "text": [
      "Account of acc. no. 551621 is now opened\n"
     ]
    }
   ],
   "source": [
    "import random\n",
    "\n",
    "class SBI:\n",
    "    \"\"\"Class for a Bank\"\"\"\n",
    "    def __init__(self, name: str, balance: float, account_type) -> None:\n",
    "        self._account_number = random.randint(500000,1000000)\n",
    "        self._name = name\n",
    "        self._balance = balance\n",
    "\n",
    "    def __str__(self) -> str:\n",
    "        return f\"Account of acc. no. {self._account_number} is now opened\"\n",
    "    def withdraw(self) -> None:\n",
    "        amount = float(input(\"Enter amount to withdraw: \"))\n",
    "        if amount > self._balance:\n",
    "            print(\"Insufficient balance!\")\n",
    "        else:\n",
    "            self._balance -= amount\n",
    "            print(f\"Amount withdrawn: {amount}\")\n",
    "\n",
    "    def deposit(self) -> None:\n",
    "        amount = float(input(\"Enter amount to deposit: \"))\n",
    "        self._balance += amount\n",
    "\n",
    "    def view_balance(self) -> None:\n",
    "        print(f\"Account balance: {self._balance}\")\n",
    "\n",
    "\n",
    "bank_obj = SBI(\"Aayush\", 5000.0, \"savings\")\n",
    "print(bank_obj)\n",
    "while True:\n",
    "    print(\"1. Withdraw\")\n",
    "    print(\"2. Deposit\")\n",
    "    print(\"3. View balance\")\n",
    "    print(\"4. Exit\")\n",
    "    choice = int(input(\"Enter the choice: \"))\n",
    "    if choice == 1:\n",
    "        bank_obj.withdraw()\n",
    "    elif choice == 2:\n",
    "        bank_obj.deposit()\n",
    "    elif choice == 3:\n",
    "        bank_obj.view_balance()\n",
    "    else:\n",
    "        break"
   ]
  },
  {
   "cell_type": "code",
   "execution_count": 10,
   "metadata": {},
   "outputs": [
    {
     "name": "stdout",
     "output_type": "stream",
     "text": [
      "(3, 5)\n"
     ]
    }
   ],
   "source": [
    "class complex:\n",
    "    def __init__(self, real, imaginary):\n",
    "        self.real = real\n",
    "        self.imaginary = imaginary\n",
    "        \n",
    "    def __add__(self, other):\n",
    "        return self.real + other.real, self.imaginary + other.imaginary\n",
    " \n",
    "Ob1 = complex(1, 2)\n",
    "Ob2 = complex(2, 3)\n",
    "Ob3 = Ob1 + Ob2\n",
    "print(Ob3)"
   ]
  },
  {
   "cell_type": "code",
   "execution_count": 9,
   "metadata": {},
   "outputs": [
    {
     "name": "stdout",
     "output_type": "stream",
     "text": [
      "3\n",
      "GeeksFor\n",
      "3\n",
      "GeeksFor\n",
      "3\n",
      "GeeksFor\n"
     ]
    }
   ],
   "source": [
    "class A:\n",
    "    def __init__(self, arg):\n",
    "        self.arg = arg\n",
    "  \n",
    "    def __add__(self, o):\n",
    "        return self.arg + o.arg \n",
    "    \n",
    "\n",
    "ob1 = A(1)\n",
    "ob2 = A(2)\n",
    "ob3 = A(\"Geeks\")\n",
    "ob4 = A(\"For\")\n",
    " \n",
    "print(ob1 + ob2)\n",
    "print(ob3 + ob4)\n",
    "\n",
    "print(A.__add__(ob1 , ob2)) \n",
    "print(A.__add__(ob3,ob4)) \n",
    "\n",
    "print(ob1.__add__(ob2))\n",
    "print(ob3.__add__(ob4))"
   ]
  },
  {
   "cell_type": "code",
   "execution_count": 3,
   "metadata": {},
   "outputs": [
    {
     "name": "stdout",
     "output_type": "stream",
     "text": [
      "Area of rectangle with length 5 and width 6 is 30\n"
     ]
    },
    {
     "ename": "AssertionError",
     "evalue": "Length and widthmust be positive",
     "output_type": "error",
     "traceback": [
      "\u001b[1;31m---------------------------------------------------------------------------\u001b[0m",
      "\u001b[1;31mAssertionError\u001b[0m                            Traceback (most recent call last)",
      "Cell \u001b[1;32mIn[3], line 16\u001b[0m\n\u001b[0;32m     13\u001b[0m \u001b[38;5;28mprint\u001b[39m(\u001b[38;5;124m\"\u001b[39m\u001b[38;5;124mArea of rectangle with length 5 and width 6 is\u001b[39m\u001b[38;5;124m\"\u001b[39m, area1)\n\u001b[0;32m     15\u001b[0m \u001b[38;5;66;03m# Calling the function with negative inputs\u001b[39;00m\n\u001b[1;32m---> 16\u001b[0m area2 \u001b[38;5;241m=\u001b[39m \u001b[43mcalculate_rectangle_area\u001b[49m\u001b[43m(\u001b[49m\u001b[38;5;241;43m-\u001b[39;49m\u001b[38;5;241;43m5\u001b[39;49m\u001b[43m,\u001b[49m\u001b[43m \u001b[49m\u001b[38;5;241;43m6\u001b[39;49m\u001b[43m)\u001b[49m\n\u001b[0;32m     17\u001b[0m \u001b[38;5;28mprint\u001b[39m(\u001b[38;5;124m\"\u001b[39m\u001b[38;5;124mArea of rectangle with length -5 and width 6 is\u001b[39m\u001b[38;5;124m\"\u001b[39m, area2)\n",
      "Cell \u001b[1;32mIn[3], line 3\u001b[0m, in \u001b[0;36mcalculate_rectangle_area\u001b[1;34m(length, width)\u001b[0m\n\u001b[0;32m      1\u001b[0m \u001b[38;5;28;01mdef\u001b[39;00m \u001b[38;5;21mcalculate_rectangle_area\u001b[39m(length: \u001b[38;5;28mint\u001b[39m, width: \u001b[38;5;28mint\u001b[39m) \u001b[38;5;241m-\u001b[39m\u001b[38;5;241m>\u001b[39m \u001b[38;5;28mfloat\u001b[39m:\n\u001b[0;32m      2\u001b[0m     \u001b[38;5;66;03m# Assertion to check that the length and width are positive\u001b[39;00m\n\u001b[1;32m----> 3\u001b[0m     \u001b[38;5;28;01massert\u001b[39;00m length \u001b[38;5;241m>\u001b[39m \u001b[38;5;241m0\u001b[39m \u001b[38;5;129;01mand\u001b[39;00m width \u001b[38;5;241m>\u001b[39m \u001b[38;5;241m0\u001b[39m, \u001b[38;5;124m\"\u001b[39m\u001b[38;5;124mLength and width\u001b[39m\u001b[38;5;124m\"\u001b[39m\u001b[38;5;241m+\u001b[39m \\\n\u001b[0;32m      4\u001b[0m                 \u001b[38;5;124m\"\u001b[39m\u001b[38;5;124mmust be positive\u001b[39m\u001b[38;5;124m\"\u001b[39m\n\u001b[0;32m      5\u001b[0m     \u001b[38;5;66;03m# Calculation of the area\u001b[39;00m\n\u001b[0;32m      6\u001b[0m     area \u001b[38;5;241m=\u001b[39m length \u001b[38;5;241m*\u001b[39m width\n",
      "\u001b[1;31mAssertionError\u001b[0m: Length and widthmust be positive"
     ]
    }
   ],
   "source": [
    "def calculate_rectangle_area(length: int, width: int) -> float:\n",
    "    # Assertion to check that the length and width are positive\n",
    "    assert length > 0 and width > 0, \"Length and width\"+ \\\n",
    "                \"must be positive\"\n",
    "    # Calculation of the area\n",
    "    area = length * width\n",
    "    # Return statement\n",
    "    return area\n",
    " \n",
    " \n",
    "# Calling the function with positive inputs\n",
    "area1 = calculate_rectangle_area(5, 6)\n",
    "print(\"Area of rectangle with length 5 and width 6 is\", area1)\n",
    " \n",
    "# Calling the function with negative inputs\n",
    "area2 = calculate_rectangle_area(-5, 6)\n",
    "print(\"Area of rectangle with length -5 and width 6 is\", area2)"
   ]
  },
  {
   "cell_type": "code",
   "execution_count": 7,
   "metadata": {},
   "outputs": [
    {
     "name": "stdout",
     "output_type": "stream",
     "text": [
      "1\n"
     ]
    }
   ],
   "source": [
    "class complex:\n",
    "    def __init__(self, real, imaginary):\n",
    "        self.real = real\n",
    "        self.imaginary = imaginary\n",
    "    \n",
    "    def __repr__(self):\n",
    "        return \"this is a complex class\"\n",
    "    \n",
    "    def __str__(self):\n",
    "        return str(self.real)\n",
    "        \n",
    "    def __add__(self, other):\n",
    "        return self.real + other.real, self.imaginary + other.imaginary\n",
    " \n",
    "Ob1 = complex(1, 2)\n",
    "Ob2 = complex(2, 3)\n",
    "Ob3 = Ob1 + Ob2\n",
    "print(Ob1)\n"
   ]
  },
  {
   "cell_type": "code",
   "execution_count": null,
   "metadata": {},
   "outputs": [],
   "source": []
  }
 ],
 "metadata": {
  "kernelspec": {
   "display_name": "Python 3",
   "language": "python",
   "name": "python3"
  },
  "language_info": {
   "codemirror_mode": {
    "name": "ipython",
    "version": 3
   },
   "file_extension": ".py",
   "mimetype": "text/x-python",
   "name": "python",
   "nbconvert_exporter": "python",
   "pygments_lexer": "ipython3",
   "version": "3.12.3"
  }
 },
 "nbformat": 4,
 "nbformat_minor": 2
}
