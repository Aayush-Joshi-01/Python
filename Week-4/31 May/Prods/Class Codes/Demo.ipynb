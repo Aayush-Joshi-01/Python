{
 "cells": [
  {
   "cell_type": "code",
   "execution_count": 7,
   "metadata": {},
   "outputs": [],
   "source": [
    "class Employee:\n",
    "    def __init__(self, name, age, gender, contact) -> None:\n",
    "        self.name = name\n",
    "        self.age = age\n",
    "        self.gender = gender\n",
    "        self.contact = contact\n",
    "\n",
    "class Manager(Employee):\n",
    "    def __init__(self, name, age, gender, contact, department, team_size) -> None:\n",
    "        super().__init__(name, age, gender, contact)\n",
    "        self.department = department\n",
    "        self.team_size = team_size\n",
    "\n",
    "class Developer(Employee):\n",
    "    def __init__(self, name, age, gender, contact, project, experience) -> None:\n",
    "        super().__init__(name, age, gender, contact)\n",
    "        self.project = project\n",
    "        self.experience = experience"
   ]
  },
  {
   "cell_type": "code",
   "execution_count": 8,
   "metadata": {},
   "outputs": [],
   "source": [
    "dev = Developer(\"aayush\", 22, \"Male\", 9910132767, \"Data Science\", 1)\n",
    "manager = Manager(\"Joshi\", 21, \"Male\", 9910132797, \"Data\", 5)"
   ]
  },
  {
   "cell_type": "code",
   "execution_count": 9,
   "metadata": {},
   "outputs": [
    {
     "name": "stdout",
     "output_type": "stream",
     "text": [
      "<__main__.Developer object at 0x0000021D16142E70>\n",
      "<__main__.Manager object at 0x0000021D16142C00>\n"
     ]
    }
   ],
   "source": [
    "print(dev)\n",
    "print(manager)"
   ]
  },
  {
   "cell_type": "markdown",
   "metadata": {},
   "source": [
    "When a sub class has a method that is already present in the parent/super class. This is called Method Overiding.\n",
    "- Method overriding is used to provide the specific implementation of a method that is already provided by its\n",
    "parent class.\n"
   ]
  }
 ],
 "metadata": {
  "kernelspec": {
   "display_name": "Python 3",
   "language": "python",
   "name": "python3"
  },
  "language_info": {
   "codemirror_mode": {
    "name": "ipython",
    "version": 3
   },
   "file_extension": ".py",
   "mimetype": "text/x-python",
   "name": "python",
   "nbconvert_exporter": "python",
   "pygments_lexer": "ipython3",
   "version": "3.12.3"
  }
 },
 "nbformat": 4,
 "nbformat_minor": 2
}
