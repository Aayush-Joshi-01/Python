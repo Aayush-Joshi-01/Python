{
 "cells": [
  {
   "cell_type": "code",
   "execution_count": 16,
   "metadata": {},
   "outputs": [
    {
     "name": "stdout",
     "output_type": "stream",
     "text": [
      "Indore\n",
      "Indore\n"
     ]
    }
   ],
   "source": [
    "from os import name\n",
    "import types\n",
    "\n",
    "class Students:\n",
    "    comp = \"yash\"\n",
    "\n",
    "    def __init__(self, name: str, age: int) -> None:\n",
    "        self.name = name\n",
    "        self.age = age\n",
    "    \n",
    "    def show(self):\n",
    "        print(f\"Name: {self.name}, Age: {self.age}\")\n",
    "\n",
    "    @staticmethod\n",
    "    def change():\n",
    "        Students.comp = \"Indore\"\n",
    "        print(Students.comp)\n",
    "\n",
    "def welcome(self):\n",
    "    print(\"Welcome to the student management system\")\n",
    "\n",
    "def bye(self):\n",
    "    print(\"Good Bye!\")\n",
    "\n",
    "# s1 = Students(\"Aayush\", 21)\n",
    "# s2 = Students(\"prankur\", 20)\n",
    "# s1.welcome = types.MethodType(welcome, s1) # making of instance method\n",
    "# s1.show()\n",
    "# s1.welcome()\n",
    "# Students.welcome() = classmethod() # making of class method\n",
    "# s1.bye = types.MethodType(bye, Students) # making of class method\n",
    "# s1.bye = bye.__get__(s1, Students) # making of instance method\n",
    "# s1.bye()\n",
    "\n",
    "Students.change()\n",
    "print(Students.comp)"
   ]
  },
  {
   "cell_type": "markdown",
   "metadata": {},
   "source": [
    "We can access all the variables from Instance Method while we can only access static variable from classmethods\n",
    "\n",
    "\n",
    "and in staticmethod it doesnot pass any instance reference or class reference it is used to do task in isolatioon\n"
   ]
  },
  {
   "cell_type": "code",
   "execution_count": null,
   "metadata": {},
   "outputs": [],
   "source": []
  }
 ],
 "metadata": {
  "kernelspec": {
   "display_name": "Python 3",
   "language": "python",
   "name": "python3"
  },
  "language_info": {
   "codemirror_mode": {
    "name": "ipython",
    "version": 3
   },
   "file_extension": ".py",
   "mimetype": "text/x-python",
   "name": "python",
   "nbconvert_exporter": "python",
   "pygments_lexer": "ipython3",
   "version": "3.12.3"
  }
 },
 "nbformat": 4,
 "nbformat_minor": 2
}
