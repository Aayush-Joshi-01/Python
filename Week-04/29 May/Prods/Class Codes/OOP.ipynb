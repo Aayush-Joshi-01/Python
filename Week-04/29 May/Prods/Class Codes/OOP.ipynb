{
 "cells": [
  {
   "cell_type": "code",
   "execution_count": null,
   "metadata": {},
   "outputs": [],
   "source": [
    "class Employee:\n",
    "    def __init__(self, name, age, emp_id):\n",
    "        self.name = name\n",
    "        self.age = age\n",
    "        self.emp_id = emp_id\n",
    "\n",
    "    def __str__(self):\n",
    "        return f\"Employee(name={self.name}, age={self.age}, emp_id={self.emp_id})\"\n",
    "\n",
    "\n",
    "employee1 = Employee(\"aayush\", 21, 1100673)\n",
    "employee1.password = \"new\"\n",
    "employee2 = Employee(\"prankur\", 21, 110000)\n",
    "print(employee1.__dict__)\n",
    "print(employee2.__dict__)\n",
    "\n"
   ]
  },
  {
   "cell_type": "code",
   "execution_count": 7,
   "metadata": {},
   "outputs": [
    {
     "name": "stdout",
     "output_type": "stream",
     "text": [
      "Indore\n",
      "Indore\n",
      "Aayush\n",
      "Prankur\n",
      "Delhi\n",
      "Indore\n",
      "{'name': 'Aayush', 'city': 'Delhi'}\n",
      "{'name': 'Prankur'}\n",
      "static member\n"
     ]
    }
   ],
   "source": [
    "class Employee:\n",
    "    city = \"Indore\"\n",
    "    def __init__(self, name) -> None:\n",
    "        self.name = name\n",
    "    @staticmethod \n",
    "    def show():\n",
    "        print(\"static member\")\n",
    "\n",
    "emp1 = Employee(\"Aayush\")\n",
    "emp2 = Employee(\"Prankur\")\n",
    "\n",
    "print(emp1.city)\n",
    "print(emp2.city)\n",
    "print(emp1.name)\n",
    "print(emp2.name)\n",
    "emp1.city = \"Delhi\"\n",
    "print(emp1.city)\n",
    "print(emp2.city)\n",
    "print(emp1.__dict__)\n",
    "print(emp2.__dict__)\n",
    "emp1.show()\n"
   ]
  },
  {
   "cell_type": "code",
   "execution_count": null,
   "metadata": {},
   "outputs": [],
   "source": []
  }
 ],
 "metadata": {
  "kernelspec": {
   "display_name": "Python 3",
   "language": "python",
   "name": "python3"
  },
  "language_info": {
   "codemirror_mode": {
    "name": "ipython",
    "version": 3
   },
   "file_extension": ".py",
   "mimetype": "text/x-python",
   "name": "python",
   "nbconvert_exporter": "python",
   "pygments_lexer": "ipython3",
   "version": "3.12.3"
  }
 },
 "nbformat": 4,
 "nbformat_minor": 2
}
