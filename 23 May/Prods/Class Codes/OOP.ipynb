{
 "cells": [
  {
   "cell_type": "code",
   "execution_count": 3,
   "metadata": {},
   "outputs": [
    {
     "name": "stdout",
     "output_type": "stream",
     "text": [
      " This is the doc string of the Emp() class\n"
     ]
    }
   ],
   "source": [
    "class Emp():\n",
    "    \" This is the doc string of the Emp() class\"\n",
    "    id = 101\n",
    "    sal = 14000.0\n",
    "    def show_id(self):\n",
    "        return id\n",
    "\n",
    "print(Emp.__doc__)"
   ]
  },
  {
   "cell_type": "code",
   "execution_count": 5,
   "metadata": {},
   "outputs": [
    {
     "name": "stdout",
     "output_type": "stream",
     "text": [
      "Name:  aayush\n",
      "Age:  21\n"
     ]
    }
   ],
   "source": [
    "class Emp():\n",
    "    def __init__(self, name, age):\n",
    "        self.name = name\n",
    "        self.age = age\n",
    "    \n",
    "    def show_data(self):\n",
    "        print(\"Name: \", self.name)\n",
    "        print(\"Age: \", self.age)\n",
    "\n",
    "obj = Emp('aayush', 21)\n",
    "obj.show_data()"
   ]
  },
  {
   "cell_type": "markdown",
   "metadata": {},
   "source": [
    "### Contructor \n",
    "If we don't define a method python won't define any method rather will make a contructor automatically even if the constructor is not written in the code, It is called `Implicitly` \n",
    "\n",
    "Object = Demo()  \n",
    "    ⬇  \n",
    "Object is Created using __new__() function  \n",
    "    ⬇  \n",
    "Object is initialized using __init__() function  \n",
    "    ⬇  \n",
    "Object Ready  "
   ]
  },
  {
   "cell_type": "code",
   "execution_count": null,
   "metadata": {},
   "outputs": [],
   "source": []
  },
  {
   "cell_type": "code",
   "execution_count": null,
   "metadata": {},
   "outputs": [],
   "source": []
  }
 ],
 "metadata": {
  "kernelspec": {
   "display_name": "Python 3",
   "language": "python",
   "name": "python3"
  },
  "language_info": {
   "codemirror_mode": {
    "name": "ipython",
    "version": 3
   },
   "file_extension": ".py",
   "mimetype": "text/x-python",
   "name": "python",
   "nbconvert_exporter": "python",
   "pygments_lexer": "ipython3",
   "version": "3.12.3"
  }
 },
 "nbformat": 4,
 "nbformat_minor": 2
}
