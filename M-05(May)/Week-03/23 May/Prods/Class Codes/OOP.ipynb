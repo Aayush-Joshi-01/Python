{
 "cells": [
  {
   "cell_type": "code",
   "execution_count": 3,
   "metadata": {},
   "outputs": [
    {
     "name": "stdout",
     "output_type": "stream",
     "text": [
      " This is the doc string of the Emp() class\n"
     ]
    }
   ],
   "source": [
    "class Emp():\n",
    "    \" This is the doc string of the Emp() class\"\n",
    "    id = 101\n",
    "    sal = 14000.0\n",
    "    def show_id(self):\n",
    "        return id\n",
    "\n",
    "print(Emp.__doc__)"
   ]
  },
  {
   "cell_type": "code",
   "execution_count": 5,
   "metadata": {},
   "outputs": [
    {
     "name": "stdout",
     "output_type": "stream",
     "text": [
      "Name:  aayush\n",
      "Age:  21\n"
     ]
    }
   ],
   "source": [
    "class Emp():\n",
    "    def __init__(self, name, age):\n",
    "        self.name = name\n",
    "        self.age = age\n",
    "    \n",
    "    def show_data(self):\n",
    "        print(\"Name: \", self.name)\n",
    "        print(\"Age: \", self.age)\n",
    "\n",
    "obj = Emp('aayush', 21)\n",
    "obj.show_data()"
   ]
  },
  {
   "cell_type": "markdown",
   "metadata": {},
   "source": [
    "### Contructor \n",
    "If we don't define a method python won't define any method rather will make a contructor automatically even if the constructor is not written in the code, It is called `Implicitly` \n",
    "\n",
    "Object = Demo()  \n",
    "    ⬇  \n",
    "Object is Created using __new__() function  \n",
    "    ⬇  \n",
    "Object is initialized using __init__() function  \n",
    "    ⬇  \n",
    "Object Ready  "
   ]
  },
  {
   "cell_type": "code",
   "execution_count": 21,
   "metadata": {},
   "outputs": [
    {
     "name": "stdout",
     "output_type": "stream",
     "text": [
      "id of decor 2172334821344\n",
      "id of show 2172334828864\n",
      "outer\n",
      "id of wrapper 2172335044736\n",
      "belowinner\n",
      "id of n 2172335044736\n",
      "in wrapper\n",
      "this is the num 6\n",
      "var is 5\n"
     ]
    }
   ],
   "source": [
    "def decor(show):\n",
    "    print(\"outer\")\n",
    "\n",
    "    def wrapper(*b,**a):\n",
    "        # above function decorating\n",
    "        # below fuction decorating\n",
    "        print(\"in wrapper\")\n",
    "        return show(*b,**a)\n",
    "    print(f\"id of wrapper {id(wrapper)}\")\n",
    "    print(\"belowinner\")\n",
    "    return wrapper\n",
    "\n",
    "\n",
    "def show(num, var):\n",
    "    print(f\"this is the num {num}\")\n",
    "    print(f\"var is {var}\")\n",
    "\n",
    "print(f\"id of decor {id(decor)}\")\n",
    "print(f\"id of show {id(show)}\")\n",
    "n = decor(show)\n",
    "print(f\"id of n {id(n)}\")\n",
    "n(6, var = 5)"
   ]
  },
  {
   "cell_type": "code",
   "execution_count": null,
   "metadata": {},
   "outputs": [],
   "source": [
    "# def decor(func = show) :\n",
    "#     def wrapper(*args, **kwargs) :\n",
    "#         print(\"I am decorating\")\n",
    "#         return show(*args, **kwargs)\n",
    "#     return wrapper"
   ]
  },
  {
   "cell_type": "code",
   "execution_count": 24,
   "metadata": {},
   "outputs": [
    {
     "name": "stdout",
     "output_type": "stream",
     "text": [
      "Before calling the function\n",
      "After calling the function\n",
      "Hello, Alice!\n",
      "greet\n",
      "A friendly greeting function.\n"
     ]
    }
   ],
   "source": [
    "import functools\n",
    "\n",
    "def my_decorator(func):\n",
    "    @functools.wraps(func)  # Use functools.wraps here\n",
    "    def wrapper(*args, **kwargs):\n",
    "        print(\"Before calling the function\")\n",
    "        result = func(*args, **kwargs)\n",
    "        print(\"After calling the function\")\n",
    "        return result\n",
    "    return wrapper\n",
    "\n",
    "@my_decorator\n",
    "def greet(name):\n",
    "    \"\"\"A friendly greeting function.\"\"\"\n",
    "    return f\"Hello, {name}!\"\n",
    "\n",
    "print(greet(\"Alice\"))\n",
    "print(greet.__name__)  # Prints \"greet\" (not \"wrapper\")\n",
    "print(greet.__doc__)   # Prints \"A friendly greeting function.\"\n"
   ]
  }
 ],
 "metadata": {
  "kernelspec": {
   "display_name": "Python 3",
   "language": "python",
   "name": "python3"
  },
  "language_info": {
   "codemirror_mode": {
    "name": "ipython",
    "version": 3
   },
   "file_extension": ".py",
   "mimetype": "text/x-python",
   "name": "python",
   "nbconvert_exporter": "python",
   "pygments_lexer": "ipython3",
   "version": "3.12.3"
  }
 },
 "nbformat": 4,
 "nbformat_minor": 2
}
