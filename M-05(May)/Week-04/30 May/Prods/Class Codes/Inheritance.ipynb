{
 "cells": [
  {
   "cell_type": "markdown",
   "metadata": {},
   "source": [
    "The class from which we access the property and behaviour is known as super/parent/base class"
   ]
  },
  {
   "cell_type": "code",
   "execution_count": 11,
   "metadata": {},
   "outputs": [
    {
     "name": "stdout",
     "output_type": "stream",
     "text": [
      "Name of Employee :  Aayush\n",
      "Age of Employee :  21\n",
      "Address of Employee :  Delhi\n",
      "Salary of Employee :  100000\n"
     ]
    }
   ],
   "source": [
    "class Employee:\n",
    " \n",
    "\n",
    "    def __init__(self, name, age):\n",
    "        self.name = name\n",
    "        self.age = age\n",
    " \n",
    "\n",
    "    def emp_data(self):\n",
    "        print('Name of Employee : ', self.name)\n",
    "        print('Age of Employee : ', self.age)\n",
    " \n",
    " \n",
    "class Data:\n",
    "    def __init__(self, address, salary, emp_obj):\n",
    "        self.address = address\n",
    "        self.salary = salary\n",
    "        self.emp_obj = emp_obj\n",
    " \n",
    "\n",
    "    def display(self):\n",
    "        self.emp_obj.emp_data()\n",
    "        print('Address of Employee : ', self.address)\n",
    "        print('Salary of Employee : ', self.salary)\n",
    " \n",
    "\n",
    "emp = Employee('Aayush', 21)\n",
    " \n",
    "\n",
    "data = Data('Delhi', 100000, emp)\n",
    " \n",
    "\n",
    "data.display()"
   ]
  }
 ],
 "metadata": {
  "kernelspec": {
   "display_name": "Python 3",
   "language": "python",
   "name": "python3"
  },
  "language_info": {
   "codemirror_mode": {
    "name": "ipython",
    "version": 3
   },
   "file_extension": ".py",
   "mimetype": "text/x-python",
   "name": "python",
   "nbconvert_exporter": "python",
   "pygments_lexer": "ipython3",
   "version": "3.12.3"
  }
 },
 "nbformat": 4,
 "nbformat_minor": 2
}
