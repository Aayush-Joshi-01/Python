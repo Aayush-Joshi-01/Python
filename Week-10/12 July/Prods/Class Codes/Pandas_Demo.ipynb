{
 "cells": [
  {
   "cell_type": "code",
   "execution_count": 1,
   "metadata": {},
   "outputs": [],
   "source": [
    "import pandas as pd"
   ]
  },
  {
   "cell_type": "code",
   "execution_count": 3,
   "metadata": {},
   "outputs": [
    {
     "name": "stdout",
     "output_type": "stream",
     "text": [
      "Collecting tqdm\n",
      "  Downloading tqdm-4.66.4-py3-none-any.whl.metadata (57 kB)\n",
      "\u001b[2K     \u001b[90m━━━━━━━━━━━━━━━━━━━━━━━━━━━━━━━━━━━━━━━━\u001b[0m \u001b[32m57.6/57.6 kB\u001b[0m \u001b[31m2.3 MB/s\u001b[0m eta \u001b[36m0:00:00\u001b[0m\n",
      "\u001b[?25hDownloading tqdm-4.66.4-py3-none-any.whl (78 kB)\n",
      "\u001b[2K   \u001b[90m━━━━━━━━━━━━━━━━━━━━━━━━━━━━━━━━━━━━━━━━\u001b[0m \u001b[32m78.3/78.3 kB\u001b[0m \u001b[31m6.0 MB/s\u001b[0m eta \u001b[36m0:00:00\u001b[0m\n",
      "\u001b[?25hInstalling collected packages: tqdm\n",
      "Successfully installed tqdm-4.66.4\n"
     ]
    }
   ],
   "source": [
    "! pip install tqdm"
   ]
  },
  {
   "cell_type": "code",
   "execution_count": 1,
   "metadata": {},
   "outputs": [
    {
     "name": "stderr",
     "output_type": "stream",
     "text": [
      "Loading data: 10000it [00:32, 308.67it/s]                        \n"
     ]
    },
    {
     "name": "stdout",
     "output_type": "stream",
     "text": [
      "Data loaded successfully from /home/user/Python_Training/Assets/Data/fitness_tracker_dataset.csv\n",
      "   user_id        date  steps  calories_burned  distance_km  active_minutes  \\\n",
      "0      468  2023-01-01   4530          2543.02        16.10             613   \n",
      "1      879  2023-01-01  11613          1720.76         8.10             352   \n",
      "2      152  2023-01-01  27335          1706.35         3.57             236   \n",
      "3      311  2023-01-01  13459          2912.38         6.41            1329   \n",
      "4      759  2023-01-01  15378          3344.51        17.88              52   \n",
      "\n",
      "   sleep_hours  heart_rate_avg workout_type weather_conditions location  \\\n",
      "0          1.5             176      Walking              Clear     Park   \n",
      "1          6.3             128      Cycling                Fog     Park   \n",
      "2          6.7             134         Yoga               Snow     Park   \n",
      "3         11.6             116     Swimming               Rain   Office   \n",
      "4          7.4              84     Swimming               Rain   Office   \n",
      "\n",
      "      mood  \n",
      "0    Tired  \n",
      "1    Happy  \n",
      "2  Neutral  \n",
      "3    Tired  \n",
      "4  Neutral  \n"
     ]
    }
   ],
   "source": [
    "import pandas as pd\n",
    "from tqdm import tqdm\n",
    "\n",
    "class DataLoader:\n",
    "    def __init__(self, file_path='/home/user/Python_Training/Assets/Data/fitness_tracker_dataset.csv'):\n",
    "        self.file_path = file_path\n",
    "\n",
    "    def load_data(self):\n",
    "        try:\n",
    "            # Get the number of rows in the file\n",
    "            with open(self.file_path, 'r') as f:\n",
    "                total_rows = sum(1 for line in f) - 1  # Subtract 1 for header\n",
    "\n",
    "            # Load CSV into pandas DataFrame with progress bar\n",
    "            df = pd.read_csv(self.file_path, chunksize=100)  # Adjust chunksize as needed\n",
    "            chunks = []\n",
    "            for chunk in tqdm(df, total=total_rows // 1000, desc=\"Loading data\"):  # Adjust total based on chunksize\n",
    "                chunks.append(chunk)\n",
    "\n",
    "            df = pd.concat(chunks, ignore_index=True)\n",
    "            print(f\"Data loaded successfully from {self.file_path}\")\n",
    "            return df\n",
    "\n",
    "        except FileNotFoundError:\n",
    "            print(f\"Error: File not found at {self.file_path}\")\n",
    "            return None\n",
    "        except Exception as e:\n",
    "            print(f\"Error loading data: {str(e)}\")\n",
    "            return None\n",
    "\n",
    "if __name__ == \"__main__\":\n",
    "    loader = DataLoader()\n",
    "    data = loader.load_data()\n",
    "    if data is not None:\n",
    "        print(data.head())\n"
   ]
  },
  {
   "cell_type": "code",
   "execution_count": null,
   "metadata": {},
   "outputs": [],
   "source": []
  }
 ],
 "metadata": {
  "kernelspec": {
   "display_name": ".venv",
   "language": "python",
   "name": "python3"
  },
  "language_info": {
   "codemirror_mode": {
    "name": "ipython",
    "version": 3
   },
   "file_extension": ".py",
   "mimetype": "text/x-python",
   "name": "python",
   "nbconvert_exporter": "python",
   "pygments_lexer": "ipython3",
   "version": "3.11.8"
  }
 },
 "nbformat": 4,
 "nbformat_minor": 2
}
