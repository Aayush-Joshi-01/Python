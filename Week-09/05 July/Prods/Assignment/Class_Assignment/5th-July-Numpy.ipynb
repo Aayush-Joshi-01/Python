{
 "cells": [
  {
   "cell_type": "markdown",
   "metadata": {},
   "source": [
    "# Numpy Array Reshape Examples\n",
    "### Reshaping 1D Arrays\n",
    "\n",
    "Create a 1D array with 12 elements and reshape it:\n",
    "- Creating a 1D array. \n",
    "- Reshaping to a 2D array (3x4). \n",
    "- Reshaping to a 2D array (4x3). \n",
    "- Reshaping to a 3D array (2x3x2). \n",
    "- Flattening the 3D array back to 1D. "
   ]
  },
  {
   "cell_type": "code",
   "execution_count": 2,
   "metadata": {},
   "outputs": [
    {
     "name": "stdout",
     "output_type": "stream",
     "text": [
      "Requirement already satisfied: numpy in /home/user/Python_Training/.venv/lib/python3.11/site-packages (2.0.0)\n"
     ]
    }
   ],
   "source": [
    "! pip install numpy"
   ]
  },
  {
   "cell_type": "code",
   "execution_count": 3,
   "metadata": {},
   "outputs": [],
   "source": [
    "import numpy as np"
   ]
  },
  {
   "cell_type": "code",
   "execution_count": 4,
   "metadata": {},
   "outputs": [
    {
     "data": {
      "text/plain": [
       "array([ 0,  1,  2,  3,  4,  5,  6,  7,  8,  9, 10, 11])"
      ]
     },
     "execution_count": 4,
     "metadata": {},
     "output_type": "execute_result"
    }
   ],
   "source": [
    "arr = np.arange(0,12)\n",
    "arr"
   ]
  },
  {
   "cell_type": "code",
   "execution_count": 6,
   "metadata": {},
   "outputs": [
    {
     "data": {
      "text/plain": [
       "array([[ 0,  1,  2,  3],\n",
       "       [ 4,  5,  6,  7],\n",
       "       [ 8,  9, 10, 11]])"
      ]
     },
     "execution_count": 6,
     "metadata": {},
     "output_type": "execute_result"
    }
   ],
   "source": [
    "arr = arr.reshape(3,4)\n",
    "arr"
   ]
  },
  {
   "cell_type": "code",
   "execution_count": 8,
   "metadata": {},
   "outputs": [
    {
     "data": {
      "text/plain": [
       "array([[ 0,  1,  2],\n",
       "       [ 3,  4,  5],\n",
       "       [ 6,  7,  8],\n",
       "       [ 9, 10, 11]])"
      ]
     },
     "execution_count": 8,
     "metadata": {},
     "output_type": "execute_result"
    }
   ],
   "source": [
    "arr = arr.reshape(4,3)\n",
    "arr"
   ]
  },
  {
   "cell_type": "code",
   "execution_count": 10,
   "metadata": {},
   "outputs": [
    {
     "data": {
      "text/plain": [
       "array([[[ 0,  1],\n",
       "        [ 2,  3],\n",
       "        [ 4,  5]],\n",
       "\n",
       "       [[ 6,  7],\n",
       "        [ 8,  9],\n",
       "        [10, 11]]])"
      ]
     },
     "execution_count": 10,
     "metadata": {},
     "output_type": "execute_result"
    }
   ],
   "source": [
    "arr = arr.reshape(2,3,2)\n",
    "arr"
   ]
  },
  {
   "cell_type": "code",
   "execution_count": 11,
   "metadata": {},
   "outputs": [
    {
     "data": {
      "text/plain": [
       "array([ 0,  1,  2,  3,  4,  5,  6,  7,  8,  9, 10, 11])"
      ]
     },
     "execution_count": 11,
     "metadata": {},
     "output_type": "execute_result"
    }
   ],
   "source": [
    "arr = arr.flatten()\n",
    "arr"
   ]
  },
  {
   "cell_type": "markdown",
   "metadata": {},
   "source": [
    "Create a 1D array \n",
    "- Reshape to a 2x3x4 array.\n",
    "- Reshape to a 2x5x3 array, then reshape it back to a 5x6 array.\n",
    "\n",
    "Create a 1D array with values from 0 to 23. Reshape it to a 3D array with dimensions (2, 3, 4).\n",
    "\n",
    "Concatenate two 1D arrays of size 10, reshape the resulting array to a 2D array with dimensions (2, 10).\n",
    "\n",
    "Split a 1D array of values from 0 to 29 into three equal parts and reshape each part to a 2D array with dimensions (2, 5)."
   ]
  },
  {
   "cell_type": "code",
   "execution_count": 12,
   "metadata": {},
   "outputs": [
    {
     "data": {
      "text/plain": [
       "array([ 0,  1,  2,  3,  4,  5,  6,  7,  8,  9, 10, 11, 12, 13, 14, 15, 16,\n",
       "       17, 18, 19, 20, 21, 22, 23])"
      ]
     },
     "execution_count": 12,
     "metadata": {},
     "output_type": "execute_result"
    }
   ],
   "source": [
    "arr = np.arange(24)\n",
    "arr"
   ]
  },
  {
   "cell_type": "code",
   "execution_count": 13,
   "metadata": {},
   "outputs": [
    {
     "data": {
      "text/plain": [
       "array([[[ 0,  1,  2,  3],\n",
       "        [ 4,  5,  6,  7],\n",
       "        [ 8,  9, 10, 11]],\n",
       "\n",
       "       [[12, 13, 14, 15],\n",
       "        [16, 17, 18, 19],\n",
       "        [20, 21, 22, 23]]])"
      ]
     },
     "execution_count": 13,
     "metadata": {},
     "output_type": "execute_result"
    }
   ],
   "source": [
    "arr = arr.reshape(2,3,4)\n",
    "arr"
   ]
  },
  {
   "cell_type": "code",
   "execution_count": 14,
   "metadata": {},
   "outputs": [
    {
     "data": {
      "text/plain": [
       "array([[[ 0,  1,  2],\n",
       "        [ 3,  4,  5],\n",
       "        [ 6,  7,  8],\n",
       "        [ 9, 10, 11],\n",
       "        [12, 13, 14]],\n",
       "\n",
       "       [[15, 16, 17],\n",
       "        [18, 19, 20],\n",
       "        [21, 22, 23],\n",
       "        [24, 25, 26],\n",
       "        [27, 28, 29]]])"
      ]
     },
     "execution_count": 14,
     "metadata": {},
     "output_type": "execute_result"
    }
   ],
   "source": [
    "arr = np.arange(30).reshape(2,5,3)\n",
    "arr"
   ]
  },
  {
   "cell_type": "code",
   "execution_count": 15,
   "metadata": {},
   "outputs": [
    {
     "data": {
      "text/plain": [
       "array([[[ 0,  1,  2,  3],\n",
       "        [ 4,  5,  6,  7],\n",
       "        [ 8,  9, 10, 11]],\n",
       "\n",
       "       [[12, 13, 14, 15],\n",
       "        [16, 17, 18, 19],\n",
       "        [20, 21, 22, 23]]])"
      ]
     },
     "execution_count": 15,
     "metadata": {},
     "output_type": "execute_result"
    }
   ],
   "source": [
    "arr = np.arange(24).reshape(2,3,4)\n",
    "arr"
   ]
  },
  {
   "cell_type": "code",
   "execution_count": 16,
   "metadata": {},
   "outputs": [],
   "source": [
    "arr1 = np.arange(10)\n",
    "arr2 = np.arange(10,20)"
   ]
  },
  {
   "cell_type": "code",
   "execution_count": 17,
   "metadata": {},
   "outputs": [
    {
     "data": {
      "text/plain": [
       "array([0, 1, 2, 3, 4, 5, 6, 7, 8, 9])"
      ]
     },
     "execution_count": 17,
     "metadata": {},
     "output_type": "execute_result"
    }
   ],
   "source": [
    "arr1"
   ]
  },
  {
   "cell_type": "code",
   "execution_count": 18,
   "metadata": {},
   "outputs": [
    {
     "data": {
      "text/plain": [
       "array([10, 11, 12, 13, 14, 15, 16, 17, 18, 19])"
      ]
     },
     "execution_count": 18,
     "metadata": {},
     "output_type": "execute_result"
    }
   ],
   "source": [
    "arr2"
   ]
  },
  {
   "cell_type": "code",
   "execution_count": 19,
   "metadata": {},
   "outputs": [
    {
     "data": {
      "text/plain": [
       "array([ 0,  1,  2,  3,  4,  5,  6,  7,  8,  9, 10, 11, 12, 13, 14, 15, 16,\n",
       "       17, 18, 19])"
      ]
     },
     "execution_count": 19,
     "metadata": {},
     "output_type": "execute_result"
    }
   ],
   "source": [
    "arr = np.concatenate((arr1, arr2))\n",
    "arr"
   ]
  },
  {
   "cell_type": "code",
   "execution_count": 20,
   "metadata": {},
   "outputs": [
    {
     "data": {
      "text/plain": [
       "array([[ 0,  1,  2,  3,  4,  5,  6,  7,  8,  9],\n",
       "       [10, 11, 12, 13, 14, 15, 16, 17, 18, 19]])"
      ]
     },
     "execution_count": 20,
     "metadata": {},
     "output_type": "execute_result"
    }
   ],
   "source": [
    "arr = arr.reshape(2,10)\n",
    "arr"
   ]
  },
  {
   "cell_type": "code",
   "execution_count": 36,
   "metadata": {},
   "outputs": [
    {
     "data": {
      "text/plain": [
       "array([ 0,  1,  2,  3,  4,  5,  6,  7,  8,  9, 10, 11, 12, 13, 14, 15, 16,\n",
       "       17, 18, 19, 20, 21, 22, 23, 24, 25, 26, 27, 28, 29])"
      ]
     },
     "execution_count": 36,
     "metadata": {},
     "output_type": "execute_result"
    }
   ],
   "source": [
    "arr = np.arange(30)\n",
    "arr"
   ]
  },
  {
   "cell_type": "code",
   "execution_count": 37,
   "metadata": {},
   "outputs": [
    {
     "name": "stdout",
     "output_type": "stream",
     "text": [
      "[[0 1 2 3 4]\n",
      " [5 6 7 8 9]]\n",
      "[[10 11 12 13 14]\n",
      " [15 16 17 18 19]]\n",
      "[[20 21 22 23 24]\n",
      " [25 26 27 28 29]]\n"
     ]
    }
   ],
   "source": [
    "arrs = np.array_split(arr, 3)\n",
    "for arr in arrs:\n",
    "    print(arr.reshape(2,5))\n"
   ]
  },
  {
   "cell_type": "markdown",
   "metadata": {},
   "source": [
    "### Reshaping 2D Arrays\n",
    "\n",
    "Create a 2D array filled with random numbers, reshape it into a (3, 8) array, then reshape it back into a 1D array.\n",
    "\n",
    "Create a 2D array of shape (4, 4), reshape it into (2, -1). The resulting array shape."
   ]
  },
  {
   "cell_type": "code",
   "execution_count": 38,
   "metadata": {},
   "outputs": [
    {
     "data": {
      "text/plain": [
       "array([[190, 464, 599, 740, 869, 809, 431, 359],\n",
       "       [689, 776, 339, 548,  78, 817, 713, 301],\n",
       "       [657,  61, 931, 854, 195, 161, 251, 289]])"
      ]
     },
     "execution_count": 38,
     "metadata": {},
     "output_type": "execute_result"
    }
   ],
   "source": [
    "arr = np.random.randint(0, 1000, size=(3,8))\n",
    "arr"
   ]
  },
  {
   "cell_type": "code",
   "execution_count": 39,
   "metadata": {},
   "outputs": [
    {
     "data": {
      "text/plain": [
       "array([190, 464, 599, 740, 869, 809, 431, 359, 689, 776, 339, 548,  78,\n",
       "       817, 713, 301, 657,  61, 931, 854, 195, 161, 251, 289])"
      ]
     },
     "execution_count": 39,
     "metadata": {},
     "output_type": "execute_result"
    }
   ],
   "source": [
    "arr = arr.flatten()\n",
    "arr"
   ]
  },
  {
   "cell_type": "code",
   "execution_count": 40,
   "metadata": {},
   "outputs": [
    {
     "data": {
      "text/plain": [
       "array([[ 0,  1,  2,  3],\n",
       "       [ 4,  5,  6,  7],\n",
       "       [ 8,  9, 10, 11],\n",
       "       [12, 13, 14, 15]])"
      ]
     },
     "execution_count": 40,
     "metadata": {},
     "output_type": "execute_result"
    }
   ],
   "source": [
    "arr = np.arange(16).reshape(4,4)\n",
    "arr"
   ]
  },
  {
   "cell_type": "code",
   "execution_count": 42,
   "metadata": {},
   "outputs": [
    {
     "data": {
      "text/plain": [
       "array([[ 0,  1,  2,  3,  4,  5,  6,  7],\n",
       "       [ 8,  9, 10, 11, 12, 13, 14, 15]])"
      ]
     },
     "execution_count": 42,
     "metadata": {},
     "output_type": "execute_result"
    }
   ],
   "source": [
    "arr = arr.reshape(2,-1)\n",
    "arr"
   ]
  },
  {
   "cell_type": "markdown",
   "metadata": {},
   "source": [
    "\n",
    "### Reshaping 3D Arrays\n",
    "\n",
    "Create a 1D array and reshape it to:\n",
    "- A 3D array of shape (2, 3, 4).\n",
    "- A 3D array of shape (5, 2, 3).\n",
    "\n",
    "Create a 3D array and reshape it to:\n",
    "- A 2D array of shape (6, 4).\n",
    "- A 2D array of shape (12, 5).\n",
    "- A 2D array with 5 rows.\n",
    "\n",
    "Create a 3D array and flatten it into a 1D array."
   ]
  },
  {
   "cell_type": "code",
   "execution_count": 43,
   "metadata": {},
   "outputs": [
    {
     "data": {
      "text/plain": [
       "array([[[ 0,  1,  2,  3],\n",
       "        [ 4,  5,  6,  7],\n",
       "        [ 8,  9, 10, 11]],\n",
       "\n",
       "       [[12, 13, 14, 15],\n",
       "        [16, 17, 18, 19],\n",
       "        [20, 21, 22, 23]]])"
      ]
     },
     "execution_count": 43,
     "metadata": {},
     "output_type": "execute_result"
    }
   ],
   "source": [
    "arr = np.arange(24).reshape(2,3,4)\n",
    "arr"
   ]
  },
  {
   "cell_type": "code",
   "execution_count": 44,
   "metadata": {},
   "outputs": [
    {
     "data": {
      "text/plain": [
       "array([[[ 0,  1,  2],\n",
       "        [ 3,  4,  5]],\n",
       "\n",
       "       [[ 6,  7,  8],\n",
       "        [ 9, 10, 11]],\n",
       "\n",
       "       [[12, 13, 14],\n",
       "        [15, 16, 17]],\n",
       "\n",
       "       [[18, 19, 20],\n",
       "        [21, 22, 23]],\n",
       "\n",
       "       [[24, 25, 26],\n",
       "        [27, 28, 29]]])"
      ]
     },
     "execution_count": 44,
     "metadata": {},
     "output_type": "execute_result"
    }
   ],
   "source": [
    "arr = np.arange(30).reshape(5,2,3)\n",
    "arr"
   ]
  },
  {
   "cell_type": "code",
   "execution_count": 47,
   "metadata": {},
   "outputs": [
    {
     "data": {
      "text/plain": [
       "array([[[0.35895066, 0.66493924],\n",
       "        [0.57393802, 0.34928858]],\n",
       "\n",
       "       [[0.98023415, 0.70528106],\n",
       "        [0.56742422, 0.02066462]],\n",
       "\n",
       "       [[0.87604546, 0.82126013],\n",
       "        [0.41793928, 0.61223309]],\n",
       "\n",
       "       [[0.42843654, 0.8786007 ],\n",
       "        [0.6689434 , 0.72864744]],\n",
       "\n",
       "       [[0.75407859, 0.15751332],\n",
       "        [0.81008281, 0.61164667]],\n",
       "\n",
       "       [[0.44878524, 0.37436424],\n",
       "        [0.63704533, 0.01126652]]])"
      ]
     },
     "execution_count": 47,
     "metadata": {},
     "output_type": "execute_result"
    }
   ],
   "source": [
    "arr = np.random.rand(6,2,2)\n",
    "arr"
   ]
  },
  {
   "cell_type": "code",
   "execution_count": 48,
   "metadata": {},
   "outputs": [
    {
     "data": {
      "text/plain": [
       "array([[0.35895066, 0.66493924, 0.57393802, 0.34928858],\n",
       "       [0.98023415, 0.70528106, 0.56742422, 0.02066462],\n",
       "       [0.87604546, 0.82126013, 0.41793928, 0.61223309],\n",
       "       [0.42843654, 0.8786007 , 0.6689434 , 0.72864744],\n",
       "       [0.75407859, 0.15751332, 0.81008281, 0.61164667],\n",
       "       [0.44878524, 0.37436424, 0.63704533, 0.01126652]])"
      ]
     },
     "execution_count": 48,
     "metadata": {},
     "output_type": "execute_result"
    }
   ],
   "source": [
    "arr = arr.reshape(6,4)\n",
    "arr"
   ]
  },
  {
   "cell_type": "code",
   "execution_count": 49,
   "metadata": {},
   "outputs": [
    {
     "data": {
      "text/plain": [
       "array([[[0.61333655, 0.96698824, 0.06315387],\n",
       "        [0.55107459, 0.99122453, 0.83629643],\n",
       "        [0.13374463, 0.65899113, 0.72633362],\n",
       "        [0.62256192, 0.55496276, 0.27148355]],\n",
       "\n",
       "       [[0.19686851, 0.51634221, 0.93236657],\n",
       "        [0.41725054, 0.60325038, 0.62762341],\n",
       "        [0.63620165, 0.04857112, 0.11236729],\n",
       "        [0.00414915, 0.47565955, 0.03857628]],\n",
       "\n",
       "       [[0.22109776, 0.9620726 , 0.03475315],\n",
       "        [0.88820517, 0.51635598, 0.8793097 ],\n",
       "        [0.01088746, 0.91388557, 0.12343163],\n",
       "        [0.10197666, 0.25189764, 0.31859173]],\n",
       "\n",
       "       [[0.62174237, 0.9618483 , 0.11502687],\n",
       "        [0.09216873, 0.35475559, 0.63008821],\n",
       "        [0.47148465, 0.85852746, 0.32840182],\n",
       "        [0.51428811, 0.85559928, 0.17786895]],\n",
       "\n",
       "       [[0.5302555 , 0.30684385, 0.90236811],\n",
       "        [0.74865773, 0.60231152, 0.74808203],\n",
       "        [0.86519142, 0.40465448, 0.18867201],\n",
       "        [0.29887163, 0.35011127, 0.52426983]]])"
      ]
     },
     "execution_count": 49,
     "metadata": {},
     "output_type": "execute_result"
    }
   ],
   "source": [
    "arr = np.random.rand(5,4,3)\n",
    "arr"
   ]
  },
  {
   "cell_type": "code",
   "execution_count": 50,
   "metadata": {},
   "outputs": [
    {
     "data": {
      "text/plain": [
       "array([[0.61333655, 0.96698824, 0.06315387, 0.55107459, 0.99122453],\n",
       "       [0.83629643, 0.13374463, 0.65899113, 0.72633362, 0.62256192],\n",
       "       [0.55496276, 0.27148355, 0.19686851, 0.51634221, 0.93236657],\n",
       "       [0.41725054, 0.60325038, 0.62762341, 0.63620165, 0.04857112],\n",
       "       [0.11236729, 0.00414915, 0.47565955, 0.03857628, 0.22109776],\n",
       "       [0.9620726 , 0.03475315, 0.88820517, 0.51635598, 0.8793097 ],\n",
       "       [0.01088746, 0.91388557, 0.12343163, 0.10197666, 0.25189764],\n",
       "       [0.31859173, 0.62174237, 0.9618483 , 0.11502687, 0.09216873],\n",
       "       [0.35475559, 0.63008821, 0.47148465, 0.85852746, 0.32840182],\n",
       "       [0.51428811, 0.85559928, 0.17786895, 0.5302555 , 0.30684385],\n",
       "       [0.90236811, 0.74865773, 0.60231152, 0.74808203, 0.86519142],\n",
       "       [0.40465448, 0.18867201, 0.29887163, 0.35011127, 0.52426983]])"
      ]
     },
     "execution_count": 50,
     "metadata": {},
     "output_type": "execute_result"
    }
   ],
   "source": [
    "arr = arr.reshape(12,5)\n",
    "arr"
   ]
  },
  {
   "cell_type": "code",
   "execution_count": 51,
   "metadata": {},
   "outputs": [
    {
     "data": {
      "text/plain": [
       "array([[0.61333655, 0.96698824, 0.06315387, 0.55107459, 0.99122453,\n",
       "        0.83629643, 0.13374463, 0.65899113, 0.72633362, 0.62256192,\n",
       "        0.55496276, 0.27148355],\n",
       "       [0.19686851, 0.51634221, 0.93236657, 0.41725054, 0.60325038,\n",
       "        0.62762341, 0.63620165, 0.04857112, 0.11236729, 0.00414915,\n",
       "        0.47565955, 0.03857628],\n",
       "       [0.22109776, 0.9620726 , 0.03475315, 0.88820517, 0.51635598,\n",
       "        0.8793097 , 0.01088746, 0.91388557, 0.12343163, 0.10197666,\n",
       "        0.25189764, 0.31859173],\n",
       "       [0.62174237, 0.9618483 , 0.11502687, 0.09216873, 0.35475559,\n",
       "        0.63008821, 0.47148465, 0.85852746, 0.32840182, 0.51428811,\n",
       "        0.85559928, 0.17786895],\n",
       "       [0.5302555 , 0.30684385, 0.90236811, 0.74865773, 0.60231152,\n",
       "        0.74808203, 0.86519142, 0.40465448, 0.18867201, 0.29887163,\n",
       "        0.35011127, 0.52426983]])"
      ]
     },
     "execution_count": 51,
     "metadata": {},
     "output_type": "execute_result"
    }
   ],
   "source": [
    "arr = arr.reshape(5,12)\n",
    "arr"
   ]
  },
  {
   "cell_type": "code",
   "execution_count": 52,
   "metadata": {},
   "outputs": [
    {
     "data": {
      "text/plain": [
       "array([[[0.61333655, 0.96698824, 0.06315387],\n",
       "        [0.55107459, 0.99122453, 0.83629643],\n",
       "        [0.13374463, 0.65899113, 0.72633362],\n",
       "        [0.62256192, 0.55496276, 0.27148355]],\n",
       "\n",
       "       [[0.19686851, 0.51634221, 0.93236657],\n",
       "        [0.41725054, 0.60325038, 0.62762341],\n",
       "        [0.63620165, 0.04857112, 0.11236729],\n",
       "        [0.00414915, 0.47565955, 0.03857628]],\n",
       "\n",
       "       [[0.22109776, 0.9620726 , 0.03475315],\n",
       "        [0.88820517, 0.51635598, 0.8793097 ],\n",
       "        [0.01088746, 0.91388557, 0.12343163],\n",
       "        [0.10197666, 0.25189764, 0.31859173]],\n",
       "\n",
       "       [[0.62174237, 0.9618483 , 0.11502687],\n",
       "        [0.09216873, 0.35475559, 0.63008821],\n",
       "        [0.47148465, 0.85852746, 0.32840182],\n",
       "        [0.51428811, 0.85559928, 0.17786895]],\n",
       "\n",
       "       [[0.5302555 , 0.30684385, 0.90236811],\n",
       "        [0.74865773, 0.60231152, 0.74808203],\n",
       "        [0.86519142, 0.40465448, 0.18867201],\n",
       "        [0.29887163, 0.35011127, 0.52426983]]])"
      ]
     },
     "execution_count": 52,
     "metadata": {},
     "output_type": "execute_result"
    }
   ],
   "source": [
    "arr = arr.reshape(5,4,3)\n",
    "arr"
   ]
  },
  {
   "cell_type": "code",
   "execution_count": 53,
   "metadata": {},
   "outputs": [
    {
     "data": {
      "text/plain": [
       "array([0.61333655, 0.96698824, 0.06315387, 0.55107459, 0.99122453,\n",
       "       0.83629643, 0.13374463, 0.65899113, 0.72633362, 0.62256192,\n",
       "       0.55496276, 0.27148355, 0.19686851, 0.51634221, 0.93236657,\n",
       "       0.41725054, 0.60325038, 0.62762341, 0.63620165, 0.04857112,\n",
       "       0.11236729, 0.00414915, 0.47565955, 0.03857628, 0.22109776,\n",
       "       0.9620726 , 0.03475315, 0.88820517, 0.51635598, 0.8793097 ,\n",
       "       0.01088746, 0.91388557, 0.12343163, 0.10197666, 0.25189764,\n",
       "       0.31859173, 0.62174237, 0.9618483 , 0.11502687, 0.09216873,\n",
       "       0.35475559, 0.63008821, 0.47148465, 0.85852746, 0.32840182,\n",
       "       0.51428811, 0.85559928, 0.17786895, 0.5302555 , 0.30684385,\n",
       "       0.90236811, 0.74865773, 0.60231152, 0.74808203, 0.86519142,\n",
       "       0.40465448, 0.18867201, 0.29887163, 0.35011127, 0.52426983])"
      ]
     },
     "execution_count": 53,
     "metadata": {},
     "output_type": "execute_result"
    }
   ],
   "source": [
    "arr = arr.flatten()\n",
    "arr"
   ]
  },
  {
   "cell_type": "markdown",
   "metadata": {},
   "source": [
    "### Advanced Reshaping\n",
    "\n",
    "Create a 3D array of shape (4, 3, 2) and reshape it into a 2D array with 6 rows.\n",
    "\n",
    "Create a 1D array, reshape it to a 3D array of shape (3, 4, 5), then to a 2D array of shape (15, 4).\n",
    "\n",
    "Create a 3D array, flatten it to a 1D array, reshape it to a 2D array of shape (4, 6), and finally reshape it back to a 3D array of shape (2, 6, 2).\n",
    "\n",
    "Create a 1D array and reshape it into a 2D array of shape (4, 5). Flatten it, then reshape it into a 3D array of shape (2, 2, 5).\n",
    "\n",
    "Create a 3D array with shape (3, 3, 3), fill it with random integers, reshape it into a 2D array, and sort all elements in ascending order.\n"
   ]
  },
  {
   "cell_type": "code",
   "execution_count": 54,
   "metadata": {},
   "outputs": [
    {
     "data": {
      "text/plain": [
       "array([[0.01774377, 0.19981173, 0.51275759, 0.89987522],\n",
       "       [0.5294151 , 0.81495685, 0.49435494, 0.55253907],\n",
       "       [0.50891587, 0.31568739, 0.3842508 , 0.74936261],\n",
       "       [0.26482889, 0.41834363, 0.59409573, 0.03704491],\n",
       "       [0.90564334, 0.67680351, 0.15745785, 0.05664714],\n",
       "       [0.08310796, 0.59880609, 0.96977341, 0.26304296]])"
      ]
     },
     "execution_count": 54,
     "metadata": {},
     "output_type": "execute_result"
    }
   ],
   "source": [
    "arr = np.random.rand(4,3,2).reshape(6,4)\n",
    "arr"
   ]
  },
  {
   "cell_type": "code",
   "execution_count": 56,
   "metadata": {},
   "outputs": [
    {
     "data": {
      "text/plain": [
       "array([ 0,  1,  2,  3,  4,  5,  6,  7,  8,  9, 10, 11, 12, 13, 14, 15, 16,\n",
       "       17, 18, 19, 20, 21, 22, 23, 24, 25, 26, 27, 28, 29, 30, 31, 32, 33,\n",
       "       34, 35, 36, 37, 38, 39, 40, 41, 42, 43, 44, 45, 46, 47, 48, 49, 50,\n",
       "       51, 52, 53, 54, 55, 56, 57, 58, 59])"
      ]
     },
     "execution_count": 56,
     "metadata": {},
     "output_type": "execute_result"
    }
   ],
   "source": [
    "arr = np.arange(60)\n",
    "arr"
   ]
  },
  {
   "cell_type": "code",
   "execution_count": 57,
   "metadata": {},
   "outputs": [
    {
     "data": {
      "text/plain": [
       "array([[[ 0,  1,  2,  3,  4],\n",
       "        [ 5,  6,  7,  8,  9],\n",
       "        [10, 11, 12, 13, 14],\n",
       "        [15, 16, 17, 18, 19]],\n",
       "\n",
       "       [[20, 21, 22, 23, 24],\n",
       "        [25, 26, 27, 28, 29],\n",
       "        [30, 31, 32, 33, 34],\n",
       "        [35, 36, 37, 38, 39]],\n",
       "\n",
       "       [[40, 41, 42, 43, 44],\n",
       "        [45, 46, 47, 48, 49],\n",
       "        [50, 51, 52, 53, 54],\n",
       "        [55, 56, 57, 58, 59]]])"
      ]
     },
     "execution_count": 57,
     "metadata": {},
     "output_type": "execute_result"
    }
   ],
   "source": [
    "arr = arr.reshape(3,4,5)\n",
    "arr"
   ]
  },
  {
   "cell_type": "code",
   "execution_count": 58,
   "metadata": {},
   "outputs": [
    {
     "data": {
      "text/plain": [
       "array([[ 0,  1,  2,  3],\n",
       "       [ 4,  5,  6,  7],\n",
       "       [ 8,  9, 10, 11],\n",
       "       [12, 13, 14, 15],\n",
       "       [16, 17, 18, 19],\n",
       "       [20, 21, 22, 23],\n",
       "       [24, 25, 26, 27],\n",
       "       [28, 29, 30, 31],\n",
       "       [32, 33, 34, 35],\n",
       "       [36, 37, 38, 39],\n",
       "       [40, 41, 42, 43],\n",
       "       [44, 45, 46, 47],\n",
       "       [48, 49, 50, 51],\n",
       "       [52, 53, 54, 55],\n",
       "       [56, 57, 58, 59]])"
      ]
     },
     "execution_count": 58,
     "metadata": {},
     "output_type": "execute_result"
    }
   ],
   "source": [
    "arr = arr.reshape(15,4)\n",
    "arr"
   ]
  },
  {
   "cell_type": "code",
   "execution_count": 60,
   "metadata": {},
   "outputs": [
    {
     "data": {
      "text/plain": [
       "array([[[ 0,  1],\n",
       "        [ 2,  3]],\n",
       "\n",
       "       [[ 4,  5],\n",
       "        [ 6,  7]],\n",
       "\n",
       "       [[ 8,  9],\n",
       "        [10, 11]],\n",
       "\n",
       "       [[12, 13],\n",
       "        [14, 15]],\n",
       "\n",
       "       [[16, 17],\n",
       "        [18, 19]],\n",
       "\n",
       "       [[20, 21],\n",
       "        [22, 23]]])"
      ]
     },
     "execution_count": 60,
     "metadata": {},
     "output_type": "execute_result"
    }
   ],
   "source": [
    "arr = np.arange(24).reshape(6,2,2)\n",
    "arr"
   ]
  },
  {
   "cell_type": "code",
   "execution_count": 61,
   "metadata": {},
   "outputs": [
    {
     "data": {
      "text/plain": [
       "array([[ 0,  1,  2,  3,  4,  5],\n",
       "       [ 6,  7,  8,  9, 10, 11],\n",
       "       [12, 13, 14, 15, 16, 17],\n",
       "       [18, 19, 20, 21, 22, 23]])"
      ]
     },
     "execution_count": 61,
     "metadata": {},
     "output_type": "execute_result"
    }
   ],
   "source": [
    "arr = arr.reshape(4,6)\n",
    "arr"
   ]
  },
  {
   "cell_type": "code",
   "execution_count": 62,
   "metadata": {},
   "outputs": [
    {
     "data": {
      "text/plain": [
       "array([[[ 0,  1],\n",
       "        [ 2,  3],\n",
       "        [ 4,  5],\n",
       "        [ 6,  7],\n",
       "        [ 8,  9],\n",
       "        [10, 11]],\n",
       "\n",
       "       [[12, 13],\n",
       "        [14, 15],\n",
       "        [16, 17],\n",
       "        [18, 19],\n",
       "        [20, 21],\n",
       "        [22, 23]]])"
      ]
     },
     "execution_count": 62,
     "metadata": {},
     "output_type": "execute_result"
    }
   ],
   "source": [
    "arr = arr.reshape(2,6,2)\n",
    "arr"
   ]
  },
  {
   "cell_type": "code",
   "execution_count": 63,
   "metadata": {},
   "outputs": [
    {
     "data": {
      "text/plain": [
       "array([ 0,  1,  2,  3,  4,  5,  6,  7,  8,  9, 10, 11, 12, 13, 14, 15, 16,\n",
       "       17, 18, 19])"
      ]
     },
     "execution_count": 63,
     "metadata": {},
     "output_type": "execute_result"
    }
   ],
   "source": [
    "arr = np.arange(20)\n",
    "arr"
   ]
  },
  {
   "cell_type": "code",
   "execution_count": 64,
   "metadata": {},
   "outputs": [
    {
     "data": {
      "text/plain": [
       "array([[ 0,  1,  2,  3,  4],\n",
       "       [ 5,  6,  7,  8,  9],\n",
       "       [10, 11, 12, 13, 14],\n",
       "       [15, 16, 17, 18, 19]])"
      ]
     },
     "execution_count": 64,
     "metadata": {},
     "output_type": "execute_result"
    }
   ],
   "source": [
    "arr = arr.reshape(4,5)\n",
    "arr"
   ]
  },
  {
   "cell_type": "code",
   "execution_count": 65,
   "metadata": {},
   "outputs": [
    {
     "data": {
      "text/plain": [
       "array([[[ 0,  1,  2,  3,  4],\n",
       "        [ 5,  6,  7,  8,  9]],\n",
       "\n",
       "       [[10, 11, 12, 13, 14],\n",
       "        [15, 16, 17, 18, 19]]])"
      ]
     },
     "execution_count": 65,
     "metadata": {},
     "output_type": "execute_result"
    }
   ],
   "source": [
    "arr = arr.reshape(2,2,5)\n",
    "arr"
   ]
  },
  {
   "cell_type": "code",
   "execution_count": 68,
   "metadata": {},
   "outputs": [
    {
     "data": {
      "text/plain": [
       "array([[[19,  2, 19],\n",
       "        [ 3, 16,  0],\n",
       "        [14,  7, 13]],\n",
       "\n",
       "       [[ 7, 11, 10],\n",
       "        [16,  9,  3],\n",
       "        [ 0, 18,  3]],\n",
       "\n",
       "       [[ 7, 19, 17],\n",
       "        [ 7, 18, 14],\n",
       "        [12,  6,  6]]])"
      ]
     },
     "execution_count": 68,
     "metadata": {},
     "output_type": "execute_result"
    }
   ],
   "source": [
    "arr = np.random.randint(20, size=(3,3,3))\n",
    "arr"
   ]
  },
  {
   "cell_type": "code",
   "execution_count": 69,
   "metadata": {},
   "outputs": [
    {
     "data": {
      "text/plain": [
       "array([[19,  2, 19],\n",
       "       [ 3, 16,  0],\n",
       "       [14,  7, 13],\n",
       "       [ 7, 11, 10],\n",
       "       [16,  9,  3],\n",
       "       [ 0, 18,  3],\n",
       "       [ 7, 19, 17],\n",
       "       [ 7, 18, 14],\n",
       "       [12,  6,  6]])"
      ]
     },
     "execution_count": 69,
     "metadata": {},
     "output_type": "execute_result"
    }
   ],
   "source": [
    "arr = arr.reshape(9,3)\n",
    "arr"
   ]
  }
 ],
 "metadata": {
  "kernelspec": {
   "display_name": ".venv",
   "language": "python",
   "name": "python3"
  },
  "language_info": {
   "codemirror_mode": {
    "name": "ipython",
    "version": 3
   },
   "file_extension": ".py",
   "mimetype": "text/x-python",
   "name": "python",
   "nbconvert_exporter": "python",
   "pygments_lexer": "ipython3",
   "version": "3.11.8"
  }
 },
 "nbformat": 4,
 "nbformat_minor": 2
}
