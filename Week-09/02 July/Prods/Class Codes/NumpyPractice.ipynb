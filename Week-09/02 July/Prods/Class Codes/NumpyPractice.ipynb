{
 "cells": [
  {
   "cell_type": "code",
   "execution_count": 1,
   "metadata": {},
   "outputs": [
    {
     "name": "stdout",
     "output_type": "stream",
     "text": [
      "Requirement already satisfied: numpy in /home/user/Python_Training/.venv/lib/python3.11/site-packages (2.0.0)\n",
      "Requirement already satisfied: matplotlib in /home/user/Python_Training/.venv/lib/python3.11/site-packages (3.9.0)\n",
      "Requirement already satisfied: contourpy>=1.0.1 in /home/user/Python_Training/.venv/lib/python3.11/site-packages (from matplotlib) (1.2.1)\n",
      "Requirement already satisfied: cycler>=0.10 in /home/user/Python_Training/.venv/lib/python3.11/site-packages (from matplotlib) (0.12.1)\n",
      "Requirement already satisfied: fonttools>=4.22.0 in /home/user/Python_Training/.venv/lib/python3.11/site-packages (from matplotlib) (4.53.0)\n",
      "Requirement already satisfied: kiwisolver>=1.3.1 in /home/user/Python_Training/.venv/lib/python3.11/site-packages (from matplotlib) (1.4.5)\n",
      "Requirement already satisfied: numpy>=1.23 in /home/user/Python_Training/.venv/lib/python3.11/site-packages (from matplotlib) (2.0.0)\n",
      "Requirement already satisfied: packaging>=20.0 in /home/user/Python_Training/.venv/lib/python3.11/site-packages (from matplotlib) (24.1)\n",
      "Requirement already satisfied: pillow>=8 in /home/user/Python_Training/.venv/lib/python3.11/site-packages (from matplotlib) (10.3.0)\n",
      "Requirement already satisfied: pyparsing>=2.3.1 in /home/user/Python_Training/.venv/lib/python3.11/site-packages (from matplotlib) (3.1.2)\n",
      "Requirement already satisfied: python-dateutil>=2.7 in /home/user/Python_Training/.venv/lib/python3.11/site-packages (from matplotlib) (2.9.0.post0)\n",
      "Requirement already satisfied: six>=1.5 in /home/user/Python_Training/.venv/lib/python3.11/site-packages (from python-dateutil>=2.7->matplotlib) (1.16.0)\n",
      "Requirement already satisfied: scipy in /home/user/Python_Training/.venv/lib/python3.11/site-packages (1.14.0)\n",
      "Requirement already satisfied: numpy<2.3,>=1.23.5 in /home/user/Python_Training/.venv/lib/python3.11/site-packages (from scipy) (2.0.0)\n"
     ]
    }
   ],
   "source": [
    "! pip install numpy\n",
    "! pip install matplotlib\n",
    "! pip install scipy"
   ]
  },
  {
   "cell_type": "code",
   "execution_count": 2,
   "metadata": {},
   "outputs": [],
   "source": [
    "from numpy import random\n",
    "from matplotlib import pyplot as plt\n",
    "from scipy.stats import norm\n",
    "import numpy as np"
   ]
  },
  {
   "cell_type": "code",
   "execution_count": 19,
   "metadata": {},
   "outputs": [],
   "source": [
    "a = np.dtype('i4')\n",
    "b = np.dtype('int32')"
   ]
  },
  {
   "cell_type": "code",
   "execution_count": 20,
   "metadata": {},
   "outputs": [
    {
     "data": {
      "text/plain": [
       "dtype('int32')"
      ]
     },
     "execution_count": 20,
     "metadata": {},
     "output_type": "execute_result"
    }
   ],
   "source": [
    "a"
   ]
  },
  {
   "cell_type": "code",
   "execution_count": 21,
   "metadata": {},
   "outputs": [
    {
     "data": {
      "text/plain": [
       "dtype('int32')"
      ]
     },
     "execution_count": 21,
     "metadata": {},
     "output_type": "execute_result"
    }
   ],
   "source": [
    "b"
   ]
  },
  {
   "cell_type": "code",
   "execution_count": 28,
   "metadata": {},
   "outputs": [
    {
     "data": {
      "text/plain": [
       "array([b'1', b'2', b'3', b'4', b'5'], dtype='|S1')"
      ]
     },
     "execution_count": 28,
     "metadata": {},
     "output_type": "execute_result"
    }
   ],
   "source": [
    "byte_stream = np.array([1,2,3,4,5], dtype='S')\n",
    "byte_stream"
   ]
  },
  {
   "cell_type": "code",
   "execution_count": 36,
   "metadata": {},
   "outputs": [
    {
     "name": "stdout",
     "output_type": "stream",
     "text": [
      " int64()\n",
      "\n",
      "Default signed integer type, 64bit on 64bit systems and 32bit on 32bit\n",
      "systems.\n",
      "\n",
      ":Character code: ``'l'``\n",
      ":Canonical name: `numpy.int_`\n",
      ":Alias on this platform (Linux x86_64): `numpy.int64`: 64-bit signed integer (``-9_223_372_036_854_775_808`` to ``9_223_372_036_854_775_807``).\n",
      ":Alias on this platform (Linux x86_64): `numpy.intp`: Signed integer large enough to fit pointer, compatible with C ``intptr_t``.\n",
      "\n",
      "\n",
      "Methods:\n",
      "\n",
      "  all  --  Scalar method identical to the corresponding array attribute.\n",
      "  any  --  Scalar method identical to the corresponding array attribute.\n",
      "  argmax  --  Scalar method identical to the corresponding array attribute.\n",
      "  argmin  --  Scalar method identical to the corresponding array attribute.\n",
      "  argsort  --  Scalar method identical to the corresponding array attribute.\n",
      "  astype  --  Scalar method identical to the corresponding array attribute.\n",
      "  bit_count  --  int64.bit_count() -> int\n",
      "  byteswap  --  Scalar method identical to the corresponding array attribute.\n",
      "  choose  --  Scalar method identical to the corresponding array attribute.\n",
      "  clip  --  Scalar method identical to the corresponding array attribute.\n",
      "  compress  --  Scalar method identical to the corresponding array attribute.\n",
      "  conj  --  None\n",
      "  conjugate  --  Scalar method identical to the corresponding array attribute.\n",
      "  copy  --  Scalar method identical to the corresponding array attribute.\n",
      "  cumprod  --  Scalar method identical to the corresponding array attribute.\n",
      "  cumsum  --  Scalar method identical to the corresponding array attribute.\n",
      "  diagonal  --  Scalar method identical to the corresponding array attribute.\n",
      "  dump  --  Scalar method identical to the corresponding array attribute.\n",
      "  dumps  --  Scalar method identical to the corresponding array attribute.\n",
      "  fill  --  Scalar method identical to the corresponding array attribute.\n",
      "  flatten  --  Scalar method identical to the corresponding array attribute.\n",
      "  getfield  --  Scalar method identical to the corresponding array attribute.\n",
      "  is_integer  --  integer.is_integer() -> bool\n",
      "  item  --  Scalar method identical to the corresponding array attribute.\n",
      "  max  --  Scalar method identical to the corresponding array attribute.\n",
      "  mean  --  Scalar method identical to the corresponding array attribute.\n",
      "  min  --  Scalar method identical to the corresponding array attribute.\n",
      "  nonzero  --  Scalar method identical to the corresponding array attribute.\n",
      "  prod  --  Scalar method identical to the corresponding array attribute.\n",
      "  put  --  Scalar method identical to the corresponding array attribute.\n",
      "  ravel  --  Scalar method identical to the corresponding array attribute.\n",
      "  repeat  --  Scalar method identical to the corresponding array attribute.\n",
      "  reshape  --  Scalar method identical to the corresponding array attribute.\n",
      "  resize  --  Scalar method identical to the corresponding array attribute.\n",
      "  round  --  Scalar method identical to the corresponding array attribute.\n",
      "  searchsorted  --  Scalar method identical to the corresponding array attribute.\n",
      "  setfield  --  Scalar method identical to the corresponding array attribute.\n",
      "  setflags  --  Scalar method identical to the corresponding array attribute.\n",
      "  sort  --  Scalar method identical to the corresponding array attribute.\n",
      "  squeeze  --  Scalar method identical to the corresponding array attribute.\n",
      "  std  --  Scalar method identical to the corresponding array attribute.\n",
      "  sum  --  Scalar method identical to the corresponding array attribute.\n",
      "  swapaxes  --  Scalar method identical to the corresponding array attribute.\n",
      "  take  --  Scalar method identical to the corresponding array attribute.\n",
      "  tobytes  --  None\n",
      "  tofile  --  Scalar method identical to the corresponding array attribute.\n",
      "  tolist  --  Scalar method identical to the corresponding array attribute.\n",
      "  tostring  --  Scalar method identical to the corresponding array attribute.\n",
      "  trace  --  Scalar method identical to the corresponding array attribute.\n",
      "  transpose  --  Scalar method identical to the corresponding array attribute.\n",
      "  var  --  Scalar method identical to the corresponding array attribute.\n",
      "  view  --  Scalar method identical to the corresponding array attribute.\n"
     ]
    }
   ],
   "source": [
    "inf = np.info(np.int64)\n",
    "inf"
   ]
  },
  {
   "cell_type": "code",
   "execution_count": null,
   "metadata": {},
   "outputs": [],
   "source": []
  },
  {
   "cell_type": "code",
   "execution_count": null,
   "metadata": {},
   "outputs": [],
   "source": []
  }
 ],
 "metadata": {
  "kernelspec": {
   "display_name": ".venv",
   "language": "python",
   "name": "python3"
  },
  "language_info": {
   "codemirror_mode": {
    "name": "ipython",
    "version": 3
   },
   "file_extension": ".py",
   "mimetype": "text/x-python",
   "name": "python",
   "nbconvert_exporter": "python",
   "pygments_lexer": "ipython3",
   "version": "3.11.8"
  }
 },
 "nbformat": 4,
 "nbformat_minor": 2
}
