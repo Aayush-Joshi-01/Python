{
 "cells": [
  {
   "cell_type": "code",
   "execution_count": 5,
   "metadata": {},
   "outputs": [
    {
     "name": "stdout",
     "output_type": "stream",
     "text": [
      "Requirement already satisfied: numpy in /home/user/Python_Training/.venv/lib/python3.11/site-packages (2.0.0)\n",
      "Requirement already satisfied: pandas in /home/user/Python_Training/.venv/lib/python3.11/site-packages (2.2.2)\n",
      "Requirement already satisfied: numpy>=1.23.2 in /home/user/Python_Training/.venv/lib/python3.11/site-packages (from pandas) (2.0.0)\n",
      "Requirement already satisfied: python-dateutil>=2.8.2 in /home/user/Python_Training/.venv/lib/python3.11/site-packages (from pandas) (2.9.0.post0)\n",
      "Requirement already satisfied: pytz>=2020.1 in /home/user/Python_Training/.venv/lib/python3.11/site-packages (from pandas) (2024.1)\n",
      "Requirement already satisfied: tzdata>=2022.7 in /home/user/Python_Training/.venv/lib/python3.11/site-packages (from pandas) (2024.1)\n",
      "Requirement already satisfied: six>=1.5 in /home/user/Python_Training/.venv/lib/python3.11/site-packages (from python-dateutil>=2.8.2->pandas) (1.16.0)\n",
      "Requirement already satisfied: matplotlip in /home/user/Python_Training/.venv/lib/python3.11/site-packages (0.2)\n",
      "Requirement already satisfied: seaborn in /home/user/Python_Training/.venv/lib/python3.11/site-packages (0.13.2)\n",
      "Requirement already satisfied: numpy!=1.24.0,>=1.20 in /home/user/Python_Training/.venv/lib/python3.11/site-packages (from seaborn) (2.0.0)\n",
      "Requirement already satisfied: pandas>=1.2 in /home/user/Python_Training/.venv/lib/python3.11/site-packages (from seaborn) (2.2.2)\n",
      "Requirement already satisfied: matplotlib!=3.6.1,>=3.4 in /home/user/Python_Training/.venv/lib/python3.11/site-packages (from seaborn) (3.9.1)\n",
      "Requirement already satisfied: contourpy>=1.0.1 in /home/user/Python_Training/.venv/lib/python3.11/site-packages (from matplotlib!=3.6.1,>=3.4->seaborn) (1.2.1)\n",
      "Requirement already satisfied: cycler>=0.10 in /home/user/Python_Training/.venv/lib/python3.11/site-packages (from matplotlib!=3.6.1,>=3.4->seaborn) (0.12.1)\n",
      "Requirement already satisfied: fonttools>=4.22.0 in /home/user/Python_Training/.venv/lib/python3.11/site-packages (from matplotlib!=3.6.1,>=3.4->seaborn) (4.53.0)\n",
      "Requirement already satisfied: kiwisolver>=1.3.1 in /home/user/Python_Training/.venv/lib/python3.11/site-packages (from matplotlib!=3.6.1,>=3.4->seaborn) (1.4.5)\n",
      "Requirement already satisfied: packaging>=20.0 in /home/user/Python_Training/.venv/lib/python3.11/site-packages (from matplotlib!=3.6.1,>=3.4->seaborn) (24.1)\n",
      "Requirement already satisfied: pillow>=8 in /home/user/Python_Training/.venv/lib/python3.11/site-packages (from matplotlib!=3.6.1,>=3.4->seaborn) (10.4.0)\n",
      "Requirement already satisfied: pyparsing>=2.3.1 in /home/user/Python_Training/.venv/lib/python3.11/site-packages (from matplotlib!=3.6.1,>=3.4->seaborn) (3.1.2)\n",
      "Requirement already satisfied: python-dateutil>=2.7 in /home/user/Python_Training/.venv/lib/python3.11/site-packages (from matplotlib!=3.6.1,>=3.4->seaborn) (2.9.0.post0)\n",
      "Requirement already satisfied: pytz>=2020.1 in /home/user/Python_Training/.venv/lib/python3.11/site-packages (from pandas>=1.2->seaborn) (2024.1)\n",
      "Requirement already satisfied: tzdata>=2022.7 in /home/user/Python_Training/.venv/lib/python3.11/site-packages (from pandas>=1.2->seaborn) (2024.1)\n",
      "Requirement already satisfied: six>=1.5 in /home/user/Python_Training/.venv/lib/python3.11/site-packages (from python-dateutil>=2.7->matplotlib!=3.6.1,>=3.4->seaborn) (1.16.0)\n"
     ]
    }
   ],
   "source": [
    "! pip install numpy\n",
    "! pip install pandas\n",
    "! pip install matplotlip\n",
    "! pip install seaborn"
   ]
  },
  {
   "cell_type": "code",
   "execution_count": 6,
   "metadata": {},
   "outputs": [],
   "source": [
    "import numpy as np\n",
    "import pandas as pd\n",
    "import matplotlib.pyplot as plt\n",
    "import seaborn as sns\n",
    "import csv"
   ]
  },
  {
   "cell_type": "code",
   "execution_count": 7,
   "metadata": {},
   "outputs": [],
   "source": [
    "# df = pd.read_csv('titanic3.csv')\n",
    "\n",
    "# df.columns = ['PassengerId' + col for col in df.columns]\n",
    "\n",
    "# df.insert(0, 'PassengerId', range(1, 1 + len(df)))\n",
    "\n",
    "# df.to_csv('titanic.csv', index=False)"
   ]
  },
  {
   "cell_type": "code",
   "execution_count": 8,
   "metadata": {},
   "outputs": [],
   "source": [
    "dtype = np.dtype([\n",
    "    ('pclass', int),\n",
    "    ('survived', int),\n",
    "    ('name', 'U50'),\n",
    "    ('sex', 'U10'),\n",
    "    ('age', float),\n",
    "    ('sibsp', int),\n",
    "    ('parch', int),\n",
    "    ('ticket', 'U20'),\n",
    "    ('fare', float),\n",
    "    ('cabin', 'U20'),\n",
    "    ('embarked', 'U1'),\n",
    "    ('boat', 'U10'),\n",
    "    ('body', float),\n",
    "    ('home_dest', 'U50')\n",
    "])"
   ]
  },
  {
   "cell_type": "code",
   "execution_count": 9,
   "metadata": {},
   "outputs": [],
   "source": [
    "def data_structuring():\n",
    "    data = []\n",
    "    with open('titanic3.csv', 'r') as file:\n",
    "        read = csv.reader(file)\n",
    "        next(read)\n",
    "        for row in read:\n",
    "            try:\n",
    "                cleaned_row = [col if col else '0' for col in row]\n",
    "                data.append(tuple(cleaned_row))\n",
    "            except ValueError as e:\n",
    "                print(f\"Error processing row: {row}, Error: {e}\")\n",
    "    structured_data = np.array(data, dtype=dtype)\n",
    "    return structured_data"
   ]
  },
  {
   "cell_type": "code",
   "execution_count": 10,
   "metadata": {},
   "outputs": [
    {
     "data": {
      "text/plain": [
       "array([(1, 1, 'Allen, Miss. Elisabeth Walton', 'female', 29.    , 0, 0, '24160', 211.3375, 'B5', 'S', '2', 0., 'St Louis, MO'),\n",
       "       (1, 1, 'Allison, Master. Hudson Trevor', 'male',  0.9167, 1, 2, '113781', 151.55  , 'C22 C26', 'S', '11', 0., 'Montreal, PQ / Chesterville, ON'),\n",
       "       (1, 0, 'Allison, Miss. Helen Loraine', 'female',  2.    , 1, 2, '113781', 151.55  , 'C22 C26', 'S', '0', 0., 'Montreal, PQ / Chesterville, ON'),\n",
       "       ...,\n",
       "       (3, 0, 'Zakarian, Mr. Ortin', 'male', 27.    , 0, 0, '2670',   7.225 , '0', 'C', '0', 0., '0'),\n",
       "       (3, 0, 'Zimmerman, Mr. Leo', 'male', 29.    , 0, 0, '315082',   7.875 , '0', 'S', '0', 0., '0'),\n",
       "       (0, 0, '0', '0',  0.    , 0, 0, '0',   0.    , '0', '0', '0', 0., '0')],\n",
       "      dtype=[('pclass', '<i8'), ('survived', '<i8'), ('name', '<U50'), ('sex', '<U10'), ('age', '<f8'), ('sibsp', '<i8'), ('parch', '<i8'), ('ticket', '<U20'), ('fare', '<f8'), ('cabin', '<U20'), ('embarked', '<U1'), ('boat', '<U10'), ('body', '<f8'), ('home_dest', '<U50')])"
      ]
     },
     "execution_count": 10,
     "metadata": {},
     "output_type": "execute_result"
    }
   ],
   "source": [
    "arr = data_structuring()\n",
    "arr"
   ]
  },
  {
   "cell_type": "code",
   "execution_count": 11,
   "metadata": {},
   "outputs": [],
   "source": [
    "def overall_survival_rate(arr):\n",
    "    survived_count = arr['survived'].sum()\n",
    "    total_passengers = arr['survived'].shape\n",
    "    survival_rate = (survived_count / total_passengers) * 100\n",
    "    return survival_rate\n",
    "\n",
    "def survival_by_class(df):\n",
    "    survival_by_class = df.groupby('pclass')['survived'].mean() * 100\n",
    "    return survival_by_class\n",
    "\n",
    "def survival_by_gender(df):\n",
    "    survival_by_gender = df.groupby('sex')['survived'].mean() * 100\n",
    "    return survival_by_gender\n",
    "\n",
    "def survival_by_age_group(df, bins=[0, 18, 30, 50, 100]):\n",
    "    df['AgeGroup'] = pd.cut(df['age'], bins=bins, labels=['0-18', '19-30', '31-50', '51+'])\n",
    "    survival_by_age_group = df.groupby('aAgeGroup')['survived'].mean() * 100\n",
    "    return survival_by_age_group\n",
    "\n",
    "def survival_by_family_size(df):\n",
    "    df['FamilySize'] = df['sibsp'] + df['parch'] + 1\n",
    "    survival_by_family_size = df.groupby('FamilySize')['survived'].mean() * 100\n",
    "    return survival_by_family_size"
   ]
  },
  {
   "cell_type": "code",
   "execution_count": 12,
   "metadata": {},
   "outputs": [],
   "source": [
    "def passenger_count_by_class(df):\n",
    "    passenger_count_by_class = df['Pclass'].value_counts().sort_index()\n",
    "    return passenger_count_by_class\n",
    "\n",
    "def gender_distribution(df):\n",
    "    gender_distribution = df['Sex'].value_counts()\n",
    "    return gender_distribution\n",
    "\n",
    "def age_distribution(df):\n",
    "    age_distribution = df['Age'].plot(kind='hist', bins=20, edgecolor='black')\n",
    "    plt.xlabel('Age')\n",
    "    plt.title('Age Distribution of Passengers')\n",
    "    plt.show()\n",
    "\n",
    "def embarkation_port_analysis(df):\n",
    "    embarkation_port_counts = df['Embarked'].value_counts()\n",
    "    return embarkation_port_counts"
   ]
  },
  {
   "cell_type": "code",
   "execution_count": 13,
   "metadata": {},
   "outputs": [],
   "source": [
    "def ticket_fare_distribution(df):\n",
    "    fare_distribution = df['Fare'].plot(kind='hist', bins=20, edgecolor='black')\n",
    "    plt.xlabel('Fare')\n",
    "    plt.title('Ticket Fare Distribution')\n",
    "    plt.show()\n",
    "\n",
    "def average_fare_by_class(df):\n",
    "    average_fare_by_class = df.groupby('Pclass')['Fare'].mean()\n",
    "    return average_fare_by_class\n",
    "\n",
    "def fare_vs_survival(df):\n",
    "    fare_vs_survival = sns.boxplot(x='Survived', y='Fare', data=df)\n",
    "    plt.title('Fare vs. Survival')\n",
    "    plt.show()"
   ]
  },
  {
   "cell_type": "code",
   "execution_count": 14,
   "metadata": {},
   "outputs": [],
   "source": [
    "def passenger_demographics_by_class(df):\n",
    "    class_demographics = df.groupby('Pclass').agg({'Age': 'mean', 'Sex': 'value_counts'})\n",
    "    return class_demographics\n",
    "\n",
    "def survival_rates_by_class_and_gender(df):\n",
    "    survival_rates = df.groupby(['Pclass', 'Sex'])['Survived'].mean() * 100\n",
    "    return survival_rates\n",
    "\n",
    "def fare_analysis_by_class(df):\n",
    "    fare_analysis = sns.boxplot(x='Pclass', y='Fare', data=df)\n",
    "    plt.title('Fare Analysis by Class')\n",
    "    plt.show()"
   ]
  },
  {
   "cell_type": "code",
   "execution_count": 15,
   "metadata": {},
   "outputs": [],
   "source": [
    "def family_relationships_and_survival(df):\n",
    "    df['FamilySize'] = df['SibSp'] + df['Parch'] + 1\n",
    "    family_survival = df.groupby('FamilySize')['Survived'].mean() * 100\n",
    "    return family_survival"
   ]
  },
  {
   "cell_type": "code",
   "execution_count": 16,
   "metadata": {},
   "outputs": [
    {
     "data": {
      "text/html": [
       "<div>\n",
       "<style scoped>\n",
       "    .dataframe tbody tr th:only-of-type {\n",
       "        vertical-align: middle;\n",
       "    }\n",
       "\n",
       "    .dataframe tbody tr th {\n",
       "        vertical-align: top;\n",
       "    }\n",
       "\n",
       "    .dataframe thead th {\n",
       "        text-align: right;\n",
       "    }\n",
       "</style>\n",
       "<table border=\"1\" class=\"dataframe\">\n",
       "  <thead>\n",
       "    <tr style=\"text-align: right;\">\n",
       "      <th></th>\n",
       "      <th>pclass</th>\n",
       "      <th>survived</th>\n",
       "      <th>name</th>\n",
       "      <th>sex</th>\n",
       "      <th>age</th>\n",
       "      <th>sibsp</th>\n",
       "      <th>parch</th>\n",
       "      <th>ticket</th>\n",
       "      <th>fare</th>\n",
       "      <th>cabin</th>\n",
       "      <th>embarked</th>\n",
       "      <th>boat</th>\n",
       "      <th>body</th>\n",
       "      <th>home.dest</th>\n",
       "    </tr>\n",
       "  </thead>\n",
       "  <tbody>\n",
       "    <tr>\n",
       "      <th>0</th>\n",
       "      <td>1.0</td>\n",
       "      <td>1.0</td>\n",
       "      <td>Allen, Miss. Elisabeth Walton</td>\n",
       "      <td>female</td>\n",
       "      <td>29.0000</td>\n",
       "      <td>0.0</td>\n",
       "      <td>0.0</td>\n",
       "      <td>24160</td>\n",
       "      <td>211.3375</td>\n",
       "      <td>B5</td>\n",
       "      <td>S</td>\n",
       "      <td>2</td>\n",
       "      <td>NaN</td>\n",
       "      <td>St Louis, MO</td>\n",
       "    </tr>\n",
       "    <tr>\n",
       "      <th>1</th>\n",
       "      <td>1.0</td>\n",
       "      <td>1.0</td>\n",
       "      <td>Allison, Master. Hudson Trevor</td>\n",
       "      <td>male</td>\n",
       "      <td>0.9167</td>\n",
       "      <td>1.0</td>\n",
       "      <td>2.0</td>\n",
       "      <td>113781</td>\n",
       "      <td>151.5500</td>\n",
       "      <td>C22 C26</td>\n",
       "      <td>S</td>\n",
       "      <td>11</td>\n",
       "      <td>NaN</td>\n",
       "      <td>Montreal, PQ / Chesterville, ON</td>\n",
       "    </tr>\n",
       "    <tr>\n",
       "      <th>2</th>\n",
       "      <td>1.0</td>\n",
       "      <td>0.0</td>\n",
       "      <td>Allison, Miss. Helen Loraine</td>\n",
       "      <td>female</td>\n",
       "      <td>2.0000</td>\n",
       "      <td>1.0</td>\n",
       "      <td>2.0</td>\n",
       "      <td>113781</td>\n",
       "      <td>151.5500</td>\n",
       "      <td>C22 C26</td>\n",
       "      <td>S</td>\n",
       "      <td>NaN</td>\n",
       "      <td>NaN</td>\n",
       "      <td>Montreal, PQ / Chesterville, ON</td>\n",
       "    </tr>\n",
       "    <tr>\n",
       "      <th>3</th>\n",
       "      <td>1.0</td>\n",
       "      <td>0.0</td>\n",
       "      <td>Allison, Mr. Hudson Joshua Creighton</td>\n",
       "      <td>male</td>\n",
       "      <td>30.0000</td>\n",
       "      <td>1.0</td>\n",
       "      <td>2.0</td>\n",
       "      <td>113781</td>\n",
       "      <td>151.5500</td>\n",
       "      <td>C22 C26</td>\n",
       "      <td>S</td>\n",
       "      <td>NaN</td>\n",
       "      <td>135.0</td>\n",
       "      <td>Montreal, PQ / Chesterville, ON</td>\n",
       "    </tr>\n",
       "    <tr>\n",
       "      <th>4</th>\n",
       "      <td>1.0</td>\n",
       "      <td>0.0</td>\n",
       "      <td>Allison, Mrs. Hudson J C (Bessie Waldo Daniels)</td>\n",
       "      <td>female</td>\n",
       "      <td>25.0000</td>\n",
       "      <td>1.0</td>\n",
       "      <td>2.0</td>\n",
       "      <td>113781</td>\n",
       "      <td>151.5500</td>\n",
       "      <td>C22 C26</td>\n",
       "      <td>S</td>\n",
       "      <td>NaN</td>\n",
       "      <td>NaN</td>\n",
       "      <td>Montreal, PQ / Chesterville, ON</td>\n",
       "    </tr>\n",
       "    <tr>\n",
       "      <th>...</th>\n",
       "      <td>...</td>\n",
       "      <td>...</td>\n",
       "      <td>...</td>\n",
       "      <td>...</td>\n",
       "      <td>...</td>\n",
       "      <td>...</td>\n",
       "      <td>...</td>\n",
       "      <td>...</td>\n",
       "      <td>...</td>\n",
       "      <td>...</td>\n",
       "      <td>...</td>\n",
       "      <td>...</td>\n",
       "      <td>...</td>\n",
       "      <td>...</td>\n",
       "    </tr>\n",
       "    <tr>\n",
       "      <th>1305</th>\n",
       "      <td>3.0</td>\n",
       "      <td>0.0</td>\n",
       "      <td>Zabour, Miss. Thamine</td>\n",
       "      <td>female</td>\n",
       "      <td>NaN</td>\n",
       "      <td>1.0</td>\n",
       "      <td>0.0</td>\n",
       "      <td>2665</td>\n",
       "      <td>14.4542</td>\n",
       "      <td>NaN</td>\n",
       "      <td>C</td>\n",
       "      <td>NaN</td>\n",
       "      <td>NaN</td>\n",
       "      <td>NaN</td>\n",
       "    </tr>\n",
       "    <tr>\n",
       "      <th>1306</th>\n",
       "      <td>3.0</td>\n",
       "      <td>0.0</td>\n",
       "      <td>Zakarian, Mr. Mapriededer</td>\n",
       "      <td>male</td>\n",
       "      <td>26.5000</td>\n",
       "      <td>0.0</td>\n",
       "      <td>0.0</td>\n",
       "      <td>2656</td>\n",
       "      <td>7.2250</td>\n",
       "      <td>NaN</td>\n",
       "      <td>C</td>\n",
       "      <td>NaN</td>\n",
       "      <td>304.0</td>\n",
       "      <td>NaN</td>\n",
       "    </tr>\n",
       "    <tr>\n",
       "      <th>1307</th>\n",
       "      <td>3.0</td>\n",
       "      <td>0.0</td>\n",
       "      <td>Zakarian, Mr. Ortin</td>\n",
       "      <td>male</td>\n",
       "      <td>27.0000</td>\n",
       "      <td>0.0</td>\n",
       "      <td>0.0</td>\n",
       "      <td>2670</td>\n",
       "      <td>7.2250</td>\n",
       "      <td>NaN</td>\n",
       "      <td>C</td>\n",
       "      <td>NaN</td>\n",
       "      <td>NaN</td>\n",
       "      <td>NaN</td>\n",
       "    </tr>\n",
       "    <tr>\n",
       "      <th>1308</th>\n",
       "      <td>3.0</td>\n",
       "      <td>0.0</td>\n",
       "      <td>Zimmerman, Mr. Leo</td>\n",
       "      <td>male</td>\n",
       "      <td>29.0000</td>\n",
       "      <td>0.0</td>\n",
       "      <td>0.0</td>\n",
       "      <td>315082</td>\n",
       "      <td>7.8750</td>\n",
       "      <td>NaN</td>\n",
       "      <td>S</td>\n",
       "      <td>NaN</td>\n",
       "      <td>NaN</td>\n",
       "      <td>NaN</td>\n",
       "    </tr>\n",
       "    <tr>\n",
       "      <th>1309</th>\n",
       "      <td>NaN</td>\n",
       "      <td>NaN</td>\n",
       "      <td>NaN</td>\n",
       "      <td>NaN</td>\n",
       "      <td>NaN</td>\n",
       "      <td>NaN</td>\n",
       "      <td>NaN</td>\n",
       "      <td>NaN</td>\n",
       "      <td>NaN</td>\n",
       "      <td>NaN</td>\n",
       "      <td>NaN</td>\n",
       "      <td>NaN</td>\n",
       "      <td>NaN</td>\n",
       "      <td>NaN</td>\n",
       "    </tr>\n",
       "  </tbody>\n",
       "</table>\n",
       "<p>1310 rows × 14 columns</p>\n",
       "</div>"
      ],
      "text/plain": [
       "      pclass  survived                                             name  \\\n",
       "0        1.0       1.0                    Allen, Miss. Elisabeth Walton   \n",
       "1        1.0       1.0                   Allison, Master. Hudson Trevor   \n",
       "2        1.0       0.0                     Allison, Miss. Helen Loraine   \n",
       "3        1.0       0.0             Allison, Mr. Hudson Joshua Creighton   \n",
       "4        1.0       0.0  Allison, Mrs. Hudson J C (Bessie Waldo Daniels)   \n",
       "...      ...       ...                                              ...   \n",
       "1305     3.0       0.0                            Zabour, Miss. Thamine   \n",
       "1306     3.0       0.0                        Zakarian, Mr. Mapriededer   \n",
       "1307     3.0       0.0                              Zakarian, Mr. Ortin   \n",
       "1308     3.0       0.0                               Zimmerman, Mr. Leo   \n",
       "1309     NaN       NaN                                              NaN   \n",
       "\n",
       "         sex      age  sibsp  parch  ticket      fare    cabin embarked boat  \\\n",
       "0     female  29.0000    0.0    0.0   24160  211.3375       B5        S    2   \n",
       "1       male   0.9167    1.0    2.0  113781  151.5500  C22 C26        S   11   \n",
       "2     female   2.0000    1.0    2.0  113781  151.5500  C22 C26        S  NaN   \n",
       "3       male  30.0000    1.0    2.0  113781  151.5500  C22 C26        S  NaN   \n",
       "4     female  25.0000    1.0    2.0  113781  151.5500  C22 C26        S  NaN   \n",
       "...      ...      ...    ...    ...     ...       ...      ...      ...  ...   \n",
       "1305  female      NaN    1.0    0.0    2665   14.4542      NaN        C  NaN   \n",
       "1306    male  26.5000    0.0    0.0    2656    7.2250      NaN        C  NaN   \n",
       "1307    male  27.0000    0.0    0.0    2670    7.2250      NaN        C  NaN   \n",
       "1308    male  29.0000    0.0    0.0  315082    7.8750      NaN        S  NaN   \n",
       "1309     NaN      NaN    NaN    NaN     NaN       NaN      NaN      NaN  NaN   \n",
       "\n",
       "       body                        home.dest  \n",
       "0       NaN                     St Louis, MO  \n",
       "1       NaN  Montreal, PQ / Chesterville, ON  \n",
       "2       NaN  Montreal, PQ / Chesterville, ON  \n",
       "3     135.0  Montreal, PQ / Chesterville, ON  \n",
       "4       NaN  Montreal, PQ / Chesterville, ON  \n",
       "...     ...                              ...  \n",
       "1305    NaN                              NaN  \n",
       "1306  304.0                              NaN  \n",
       "1307    NaN                              NaN  \n",
       "1308    NaN                              NaN  \n",
       "1309    NaN                              NaN  \n",
       "\n",
       "[1310 rows x 14 columns]"
      ]
     },
     "execution_count": 16,
     "metadata": {},
     "output_type": "execute_result"
    }
   ],
   "source": [
    "df = pd.read_csv('titanic3.csv')\n",
    "df"
   ]
  },
  {
   "cell_type": "code",
   "execution_count": 17,
   "metadata": {},
   "outputs": [
    {
     "data": {
      "text/plain": [
       "array([38.16793893])"
      ]
     },
     "execution_count": 17,
     "metadata": {},
     "output_type": "execute_result"
    }
   ],
   "source": [
    "overall_survival_rate(arr)\n"
   ]
  },
  {
   "cell_type": "code",
   "execution_count": 18,
   "metadata": {},
   "outputs": [
    {
     "data": {
      "text/plain": [
       "pclass\n",
       "1.0    61.919505\n",
       "2.0    42.960289\n",
       "3.0    25.528914\n",
       "Name: survived, dtype: float64"
      ]
     },
     "execution_count": 18,
     "metadata": {},
     "output_type": "execute_result"
    }
   ],
   "source": [
    "survival_by_class(df)"
   ]
  },
  {
   "cell_type": "code",
   "execution_count": 19,
   "metadata": {},
   "outputs": [
    {
     "data": {
      "text/plain": [
       "FamilySize\n",
       "1.0     30.253165\n",
       "2.0     53.617021\n",
       "3.0     56.603774\n",
       "4.0     69.767442\n",
       "5.0     27.272727\n",
       "6.0     20.000000\n",
       "7.0     25.000000\n",
       "8.0      0.000000\n",
       "11.0     0.000000\n",
       "Name: survived, dtype: float64"
      ]
     },
     "execution_count": 19,
     "metadata": {},
     "output_type": "execute_result"
    }
   ],
   "source": [
    "survival_by_family_size(df)"
   ]
  },
  {
   "cell_type": "code",
   "execution_count": 20,
   "metadata": {},
   "outputs": [],
   "source": [
    "def survival_rate_by_category(data, category_col):\n",
    "    categories = data[category_col].unique()\n",
    "    survival_rates = []\n",
    "    for category in categories:\n",
    "        total_passengers = len(data[data[category_col] == category])\n",
    "        if total_passengers == 0:\n",
    "            continue\n",
    "        survived_passengers = len(data[(data[category_col] == category) & (data['survived'] == 1)])\n",
    "        survival_rate = survived_passengers / total_passengers\n",
    "        survival_rates.append((category, survival_rate))\n",
    "    return survival_rates"
   ]
  },
  {
   "cell_type": "code",
   "execution_count": 21,
   "metadata": {},
   "outputs": [],
   "source": [
    "# survival_rates_sex = survival_rate_by_category(arr, 'sex')\n",
    "# survival_rates_sex"
   ]
  },
  {
   "cell_type": "code",
   "execution_count": 22,
   "metadata": {},
   "outputs": [
    {
     "data": {
      "text/plain": [
       "[(np.float64(1.0), 0.6191950464396285),\n",
       " (np.float64(2.0), 0.4296028880866426),\n",
       " (np.float64(3.0), 0.2552891396332863)]"
      ]
     },
     "execution_count": 22,
     "metadata": {},
     "output_type": "execute_result"
    }
   ],
   "source": [
    "survival_rate_by_class = survival_rate_by_category(df, 'pclass')\n",
    "survival_rate_by_class"
   ]
  },
  {
   "cell_type": "code",
   "execution_count": 23,
   "metadata": {},
   "outputs": [],
   "source": [
    "def plot_survival_rate(data, category_col):\n",
    "    survival_rates = survival_rate_by_category(data, category_col)\n",
    "    categories, rates = zip(*survival_rates)\n",
    "    plt.figure(figsize=(8, 5))\n",
    "    plt.bar(categories, rates, color='skyblue')\n",
    "    plt.xlabel(category_col.capitalize())\n",
    "    plt.ylabel('Survival Rate')\n",
    "    plt.title(f'Survival Rates by {category_col.capitalize()}')\n",
    "    plt.ylim(0, 1)\n",
    "    plt.grid(axis='y', linestyle='--', alpha=0.7)\n",
    "    plt.show()"
   ]
  },
  {
   "cell_type": "code",
   "execution_count": 24,
   "metadata": {},
   "outputs": [
    {
     "data": {
      "image/png": "[encoded data removed]",
      "text/plain": [
       "<Figure size 800x500 with 1 Axes>"
      ]
     },
     "metadata": {},
     "output_type": "display_data"
    }
   ],
   "source": [
    "plot_survival_rate(df, 'sex')"
   ]
  },
  {
   "cell_type": "code",
   "execution_count": 25,
   "metadata": {},
   "outputs": [
    {
     "data": {
      "image/png": "[encoded data removed]",
      "text/plain": [
       "<Figure size 800x500 with 1 Axes>"
      ]
     },
     "metadata": {},
     "output_type": "display_data"
    }
   ],
   "source": [
    "plot_survival_rate(df, 'pclass')"
   ]
  },
  {
   "cell_type": "code",
   "execution_count": 26,
   "metadata": {},
   "outputs": [],
   "source": [
    "from typing import Dict, List, Tuple\n",
    "\n",
    "\n",
    "class Survival_Controller:\n",
    "\n",
    "    @staticmethod\n",
    "    def overall_survival_rate(arr: np.ndarray) -> float:\n",
    "        survived_count = np.sum(arr['survived'])\n",
    "        total_passengers = len(arr)\n",
    "        survival_rate = (survived_count / total_passengers) * 100\n",
    "        return float(survival_rate)\n",
    "\n",
    "    @staticmethod\n",
    "    def survival_by_class(arr: np.ndarray) -> Dict[int, float]:\n",
    "        pclasses = np.unique(arr['pclass'])\n",
    "        survival_by_class: Dict[int, float] = {}\n",
    "        for pclass in pclasses:\n",
    "            mask = arr['pclass'] == pclass\n",
    "            survival_rate = np.mean(arr['survived'][mask]) * 100\n",
    "            survival_by_class[int(pclass)] = float(survival_rate)\n",
    "        return survival_by_class\n",
    "\n",
    "    @staticmethod\n",
    "    def survival_by_gender(arr: np.ndarray) -> Dict[str, float]:\n",
    "        genders = np.unique(arr['sex'])\n",
    "        survival_by_gender: Dict[str, float] = {}\n",
    "        for gender in genders:\n",
    "            mask = arr['sex'] == gender\n",
    "            survival_rate = np.mean(arr['survived'][mask]) * 100\n",
    "            survival_by_gender[str(gender)] = float(survival_rate)\n",
    "        return survival_by_gender\n",
    "\n",
    "    @staticmethod\n",
    "    def survival_by_age_group(arr: np.ndarray, bins: List[int] = [0, 18, 30, 50, 100]) -> Dict[str, float]:\n",
    "        age_groups = ['0-18', '19-30', '31-50', '51+']\n",
    "        age_labels = np.digitize(arr['age'], bins=bins, right=True)\n",
    "        survival_by_age_group: Dict[str, float] = {}\n",
    "        for i, label in enumerate(age_labels):\n",
    "            group_name = age_groups[label - 1]\n",
    "            if group_name not in survival_by_age_group:\n",
    "                survival_by_age_group[group_name] = []\n",
    "            survival_by_age_group[group_name].append(arr['survived'][i])\n",
    "        \n",
    "        for group, survivals in survival_by_age_group.items():\n",
    "            survival_by_age_group[group] = float(np.mean(survivals) * 100)\n",
    "        \n",
    "        return survival_by_age_group\n",
    "\n",
    "    @staticmethod\n",
    "    def survival_by_family_size(arr: np.ndarray) -> Dict[int, float]:\n",
    "        family_sizes = np.array(arr['sibsp'] + arr['parch'] + 1)\n",
    "        unique_sizes = np.unique(family_sizes)\n",
    "        survival_by_family_size: Dict[int, float] = {}\n",
    "        for size in unique_sizes:\n",
    "            mask = family_sizes == size\n",
    "            survival_rate = np.mean(arr['survived'][mask]) * 100\n",
    "            survival_by_family_size[int(size)] = float(survival_rate)\n",
    "        return survival_by_family_size\n"
   ]
  },
  {
   "cell_type": "code",
   "execution_count": 27,
   "metadata": {},
   "outputs": [
    {
     "name": "stdout",
     "output_type": "stream",
     "text": [
      "Overall survival rate: 38.16793893129771\n",
      "Survival by class: {0: 0.0, 1: 61.91950464396285, 2: 42.96028880866426, 3: 25.52891396332863}\n",
      "Survival by gender: {'0': 0.0, 'female': 72.74678111587983, 'male': 19.098457888493474}\n",
      "Survival by age group: {'19-30': 36.77884615384615, '0-18': 49.22279792746114, '31-50': 41.228070175438596, '51+': 30.919220055710305}\n",
      "Survival by family size: {1: 30.214917825537295, 2: 53.61702127659574, 3: 56.60377358490566, 4: 69.76744186046511, 5: 27.27272727272727, 6: 20.0, 7: 25.0, 8: 0.0, 11: 0.0}\n"
     ]
    }
   ],
   "source": [
    "data = arr\n",
    "controller = Survival_Controller()\n",
    "\n",
    "print(\"Overall survival rate:\", controller.overall_survival_rate(data))\n",
    "print(\"Survival by class:\", controller.survival_by_class(data))\n",
    "print(\"Survival by gender:\", controller.survival_by_gender(data))\n",
    "print(\"Survival by age group:\", controller.survival_by_age_group(data))\n",
    "print(\"Survival by family size:\", controller.survival_by_family_size(data))\n"
   ]
  },
  {
   "cell_type": "code",
   "execution_count": 28,
   "metadata": {},
   "outputs": [],
   "source": [
    "import matplotlib.pyplot as plt\n",
    "import seaborn as sns\n",
    "from typing import Dict\n",
    "\n",
    "\n",
    "class Financial_Controller:\n",
    "\n",
    "    @staticmethod\n",
    "    def ticket_fare_distribution(arr: np.ndarray) -> None:\n",
    "        plt.hist(arr['fare'], bins=20, edgecolor='black')\n",
    "        plt.xlabel('Fare')\n",
    "        plt.title('Ticket Fare Distribution')\n",
    "        plt.show()\n",
    "\n",
    "    @staticmethod\n",
    "    def average_fare_by_class(arr: np.ndarray) -> Dict[int, float]:\n",
    "        pclasses = np.unique(arr['pclass'])\n",
    "        average_fare_by_class: Dict[int, float] = {}\n",
    "        for pclass in pclasses:\n",
    "            mask = arr['pclass'] == pclass\n",
    "            average_fare = np.mean(arr['fare'][mask])\n",
    "            average_fare_by_class[int(pclass)] = float(average_fare)\n",
    "        return average_fare_by_class\n",
    "\n",
    "    @staticmethod\n",
    "    def fare_vs_survival(arr: np.ndarray) -> None:\n",
    "        sns.boxplot(x=arr['survived'], y=arr['fare'])\n",
    "        plt.title('Fare vs. Survival')\n",
    "        plt.show()\n"
   ]
  },
  {
   "cell_type": "code",
   "execution_count": 29,
   "metadata": {},
   "outputs": [
    {
     "data": {
      "image/png": "[encoded data removed]",
      "text/plain": [
       "<Figure size 640x480 with 1 Axes>"
      ]
     },
     "metadata": {},
     "output_type": "display_data"
    },
    {
     "name": "stdout",
     "output_type": "stream",
     "text": [
      "Average fare by class: {0: 0.0, 1: 87.50899164086688, 2: 21.179196389891697, 3: 13.284125811001411}\n"
     ]
    },
    {
     "data": {
      "image/png": "[encoded data removed]",
      "text/plain": [
       "<Figure size 640x480 with 1 Axes>"
      ]
     },
     "metadata": {},
     "output_type": "display_data"
    }
   ],
   "source": [
    "controller = Financial_Controller()\n",
    "\n",
    "\n",
    "controller.ticket_fare_distribution(data)\n",
    "print(\"Average fare by class:\", controller.average_fare_by_class(data))\n",
    "controller.fare_vs_survival(data)\n"
   ]
  },
  {
   "cell_type": "code",
   "execution_count": 30,
   "metadata": {},
   "outputs": [],
   "source": [
    "import numpy as np"
   ]
  },
  {
   "cell_type": "code",
   "execution_count": 31,
   "metadata": {},
   "outputs": [],
   "source": [
    "from typing import Dict\n",
    "\n",
    "class Demographic_Controller:\n",
    "\n",
    "    def __init__(self):\n",
    "        pass\n",
    "\n",
    "    def passenger_count_by_class(self, arr: np.ndarray) -> Dict[int, int]:\n",
    "        class_counts = np.bincount(arr['pclass'])\n",
    "        passenger_count_by_class: Dict[int, int] = {}\n",
    "        for pclass in np.unique(arr['pclass']):\n",
    "            passenger_count_by_class[int(pclass)] = int(class_counts[pclass])\n",
    "        return passenger_count_by_class\n",
    "\n",
    "    def gender_distribution(self, arr: np.ndarray) -> Dict[str, int]:\n",
    "        gender_counts = dict(zip(*np.unique(arr['sex'], return_counts=True)))\n",
    "        return gender_counts\n",
    "\n",
    "    def age_distribution(self, arr: np.ndarray) -> None:\n",
    "        plt.hist(arr['age'], bins=20, edgecolor='black')\n",
    "        plt.xlabel('Age')\n",
    "        plt.title('Age Distribution of Passengers')\n",
    "        plt.show()\n",
    "\n",
    "    def embarkation_port_analysis(self, arr: np.ndarray) -> Dict[str, int]:\n",
    "        embarkation_port_counts = dict(zip(*np.unique(arr['embarked'], return_counts=True)))\n",
    "        return embarkation_port_counts\n"
   ]
  },
  {
   "cell_type": "code",
   "execution_count": 32,
   "metadata": {},
   "outputs": [
    {
     "name": "stdout",
     "output_type": "stream",
     "text": [
      "Passenger count by class: {0: 1, 1: 323, 2: 277, 3: 709}\n",
      "Gender distribution: {np.str_('0'): np.int64(1), np.str_('female'): np.int64(466), np.str_('male'): np.int64(843)}\n"
     ]
    },
    {
     "data": {
      "image/png": "[encoded data removed]",
      "text/plain": [
       "<Figure size 640x480 with 1 Axes>"
      ]
     },
     "metadata": {},
     "output_type": "display_data"
    },
    {
     "name": "stdout",
     "output_type": "stream",
     "text": [
      "Embarkation port analysis: {np.str_('0'): np.int64(3), np.str_('C'): np.int64(270), np.str_('Q'): np.int64(123), np.str_('S'): np.int64(914)}\n"
     ]
    }
   ],
   "source": [
    "controller = Demographic_Controller()\n",
    "\n",
    "print(\"Passenger count by class:\", controller.passenger_count_by_class(data))\n",
    "print(\"Gender distribution:\", controller.gender_distribution(data))\n",
    "controller.age_distribution(data)\n",
    "print(\"Embarkation port analysis:\", controller.embarkation_port_analysis(data))"
   ]
  },
  {
   "cell_type": "code",
   "execution_count": 43,
   "metadata": {},
   "outputs": [],
   "source": [
    "class Class_Controller:\n",
    "\n",
    "    @staticmethod\n",
    "    def passenger_demographics_by_class(arr: np.ndarray) -> Dict[int, Dict[str, int]]:\n",
    "        class_demographics = {}\n",
    "        for pclass in np.unique(arr['pclass']):\n",
    "            mask = arr['pclass'] == pclass\n",
    "            mean_age = np.mean(arr['age'][mask])\n",
    "            sex_counts = dict(zip(*np.unique(arr['sex'][mask], return_counts=True)))\n",
    "            class_demographics[int(pclass)] = {'mean_age': float(mean_age), 'sex_counts': sex_counts}\n",
    "        return class_demographics\n",
    "    \n",
    "    @staticmethod\n",
    "    def survival_rates_by_class_and_gender(arr: np.ndarray) -> Dict[Tuple[int, str], float]:\n",
    "        survival_rates = {}\n",
    "        for pclass in np.unique(arr['pclass']):\n",
    "            mask_class = arr['pclass'] == pclass\n",
    "            for sex in np.unique(arr['sex'][mask_class]):\n",
    "                mask = np.logical_and(mask_class, arr['sex'] == sex)\n",
    "                survival_rate = np.mean(arr['survived'][mask]) * 100\n",
    "                survival_rates[(int(pclass), str(sex))] = float(survival_rate)\n",
    "        return survival_rates\n",
    "    \n",
    "    @staticmethod\n",
    "    def fare_analysis_by_class(arr: np.ndarray) -> None:\n",
    "        sns.boxplot(x=arr['pclass'], y=arr['fare'])\n",
    "        plt.title('Fare Analysis by Class')\n",
    "        plt.show()\n"
   ]
  },
  {
   "cell_type": "code",
   "execution_count": 42,
   "metadata": {},
   "outputs": [
    {
     "name": "stdout",
     "output_type": "stream",
     "text": [
      "Passenger demographics by class: {0: {'mean_age': 0.0, 'sex_counts': \"{np.str_('0'): np.int64(1)}\"}, 1: {'mean_age': 34.4316306501548, 'sex_counts': \"{np.str_('female'): np.int64(144), np.str_('male'): np.int64(179)}\"}, 2: {'mean_age': 27.802346570397113, 'sex_counts': \"{np.str_('female'): np.int64(106), np.str_('male'): np.int64(171)}\"}, 3: {'mean_age': 17.535966149506347, 'sex_counts': \"{np.str_('female'): np.int64(216), np.str_('male'): np.int64(493)}\"}}\n",
      "Survival rates by class and gender: {(0, '0'): 0.0, (1, 'female'): 96.52777777777779, (1, 'male'): 34.07821229050279, (2, 'female'): 88.67924528301887, (2, 'male'): 14.619883040935672, (3, 'female'): 49.074074074074076, (3, 'male'): 15.212981744421908}\n"
     ]
    },
    {
     "data": {
      "image/png": "[encoded data removed]",
      "text/plain": [
       "<Figure size 640x480 with 1 Axes>"
      ]
     },
     "metadata": {},
     "output_type": "display_data"
    }
   ],
   "source": [
    "controller = Class_Controller()\n",
    "\n",
    "print(\"Passenger demographics by class:\", controller.passenger_demographics_by_class(data))\n",
    "print(\"Survival rates by class and gender:\", controller.survival_rates_by_class_and_gender(data))\n",
    "controller.fare_analysis_by_class(data)\n"
   ]
  },
  {
   "cell_type": "code",
   "execution_count": 48,
   "metadata": {},
   "outputs": [],
   "source": [
    "import numpy as np\n",
    "from typing import Dict, List, Tuple\n",
    "\n",
    "\n",
    "class Additonal_Controller:\n",
    "\n",
    "    def __init__(self):\n",
    "        pass\n",
    "\n",
    "    def family_relationships_and_survival(self, arr: np.ndarray) -> Dict[int, float]:\n",
    "        family_sizes = arr['sibsp'] + arr['parch'] + 1\n",
    "        unique_sizes = np.unique(family_sizes)\n",
    "        family_survival: Dict[int, float] = {}\n",
    "        for size in unique_sizes:\n",
    "            mask = family_sizes == size\n",
    "            survival_rate = np.mean(arr['survived'][mask]) * 100\n",
    "            family_survival[int(size)] = float(survival_rate)\n",
    "        return family_survival\n",
    "\n",
    "    def survival_rate_by_category(self, data: np.ndarray, category_col: str) -> List[Tuple[str, float]]:\n",
    "        categories = np.unique(data[category_col])\n",
    "        survival_rates: List[Tuple[str, float]] = []\n",
    "        for category in categories:\n",
    "            total_passengers = np.sum(data[category_col] == category)\n",
    "            if total_passengers == 0:\n",
    "                continue\n",
    "            survived_passengers = np.sum((data[category_col] == category) & (data['survived'] == 1))\n",
    "            survival_rate = survived_passengers / total_passengers\n",
    "            survival_rates.append((str(category), float(survival_rate)))\n",
    "        return survival_rates\n"
   ]
  },
  {
   "cell_type": "code",
   "execution_count": 50,
   "metadata": {},
   "outputs": [
    {
     "name": "stdout",
     "output_type": "stream",
     "text": [
      "Family relationships and survival: {1: 30.214917825537295, 2: 53.61702127659574, 3: 56.60377358490566, 4: 69.76744186046511, 5: 27.27272727272727, 6: 20.0, 7: 25.0, 8: 0.0, 11: 0.0}\n"
     ]
    }
   ],
   "source": [
    "controller = Additonal_Controller()\n",
    "\n",
    "print(\"Family relationships and survival:\", controller.family_relationships_and_survival(data))\n",
    "    "
   ]
  },
  {
   "cell_type": "code",
   "execution_count": 51,
   "metadata": {},
   "outputs": [
    {
     "name": "stdout",
     "output_type": "stream",
     "text": [
      "Survival rate by category: [('0', 0.0), ('female', 0.7274678111587983), ('male', 0.19098457888493475)]\n"
     ]
    }
   ],
   "source": [
    "print(\"Survival rate by category:\", controller.survival_rate_by_category(data, 'sex'))\n"
   ]
  },
  {
   "cell_type": "code",
   "execution_count": 52,
   "metadata": {},
   "outputs": [
    {
     "name": "stdout",
     "output_type": "stream",
     "text": [
      "Survival rate by category: [('0', 0.0), ('1', 0.6191950464396285), ('2', 0.4296028880866426), ('3', 0.2552891396332863)]\n"
     ]
    }
   ],
   "source": [
    "    print(\"Survival rate by category:\", controller.survival_rate_by_category(data, 'pclass'))\n"
   ]
  },
  {
   "cell_type": "code",
   "execution_count": 53,
   "metadata": {},
   "outputs": [
    {
     "name": "stdout",
     "output_type": "stream",
     "text": [
      "Survival rate by category: [('0', 0.6666666666666666), ('C', 0.5555555555555556), ('Q', 0.35772357723577236), ('S', 0.33260393873085337)]\n"
     ]
    }
   ],
   "source": [
    "    print(\"Survival rate by category:\", controller.survival_rate_by_category(data, 'embarked'))\n"
   ]
  },
  {
   "cell_type": "code",
   "execution_count": 54,
   "metadata": {},
   "outputs": [
    {
     "name": "stdout",
     "output_type": "stream",
     "text": [
      "Survival rate by category: [('0', 0.27079646017699116), ('?Havana, Cuba', 0.0), ('Aberdeen / Portland, OR', 1.0), ('Albany, NY', 1.0), ('Altdorf, Switzerland', 0.0), ('Amenia, ND', 0.5), ('Antwerp, Belgium / Stanton, OH', 0.0), ('Argentina', 0.0), ('Asarum, Sweden Brooklyn, NY', 0.0), ('Ascot, Berkshire / Rochester, NY', 0.0), ('Auburn, NY', 0.0), ('Aughnacliff, Co Longford, Ireland New York, NY', 0.0), ('Australia Fingal, ND', 1.0), ('Austria', 0.0), ('Austria Niagara Falls, NY', 0.0), ('Austria-Hungary', 0.0), ('Austria-Hungary / Germantown, Philadelphia, PA', 1.0), ('Bangkok, Thailand / Roseville, IL', 1.0), ('Barcelona, Spain / Havana, Cuba', 1.0), ('Barre, Co Washington, VT', 0.0), ('Basel, Switzerland', 1.0), ('Bath, England / Massachusetts', 1.0), ('Bayside, Queens, NY', 1.0), ('Belfast', 0.0), ('Belfast, NI', 0.0), ('Belgium  Montreal, PQ', 1.0), ('Belgium Detroit, MI', 1.0), ('Belmont, MA', 1.0), ('Bennington, VT', 0.0), ('Bergen, Norway', 0.0), ('Berne, Switzerland / Central City, IA', 1.0), ('Birkdale, England Cleveland, Ohio', 1.0), ('Bishopstoke, Hants / Fayette Valley, ID', 0.6666666666666666), ('Boston, MA', 0.6666666666666666), ('Bournemouth, England', 0.0), ('Bournemouth, England Newark, NJ', 0.5), ('Bournmouth, England', 0.75), ('Brennes, Norway New York', 0.0), ('Bridgerule, Devon', 0.0), ('Bridgwater, Somerset, England', 0.0), ('Brighton, MA', 0.0), ('Brighton, Sussex', 0.0), ('Bristol, Avon / Jacksonville, FL', 1.0), ('Bristol, England / New Britain, CT', 0.5), ('Bristol, England Cleveland, OH', 0.0), ('Brockton, MA', 0.0), ('Bromsgrove, England / Montreal, PQ', 0.5), ('Bronx, NY', 0.0), ('Brookline, MA', 1.0), ('Brooklyn, NY', 0.7142857142857143), ('Broomfield, Chelmsford, England', 0.0), ('Brunswick, ME', 0.0), ('Bryn Mawr, PA', 1.0), ('Bryn Mawr, PA, USA', 0.0), ('Buenos Aires, Argentina / New Jersey, NJ', 0.0), ('Buffalo, NY', 0.0), ('Bulgaria Chicago, IL', 0.0), ('Bulgaria Coon Rapids, IA', 0.0), ('Calgary, AB', 1.0), ('Cambridge, MA', 0.0), ('Cape Town, South Africa / Seattle, WA', 0.6666666666666666), ('Catford, Kent / Detroit, MI', 0.0), ('Chelsea, London', 1.0), ('Chicago, IL', 0.75), ('Cincinatti, OH', 1.0), ('Clevedon, England', 0.0), ('Co Athlone, Ireland New York, NY', 1.0), ('Co Clare, Ireland Washington, DC', 1.0), ('Co Cork, Ireland Charlestown, MA', 0.0), ('Co Cork, Ireland Roxbury, MA', 0.0), ('Co Limerick, Ireland Sherbrooke, PQ', 0.0), ('Co Longford, Ireland New York, NY', 1.0), ('Co Sligo, Ireland Hartford, CT', 0.0), ('Co Sligo, Ireland New York, NY', 0.0), ('Cologne, Germany', 1.0), ('Columbus, OH', 1.0), ('Cooperstown, NY', 1.0), ('Copenhagen, Denmark', 0.0), ('Cornwall', 0.0), ('Cornwall / Akron, OH', 0.8888888888888888), ('Cornwall / Camden, NJ', 0.0), ('Cornwall / Clear Creek, CO', 0.0), ('Cornwall / Hancock, MI', 0.5), ('Cornwall / Houghton, MI', 0.0), ('Cornwall / Spokane, WA', 0.0), ('Cornwall, England Houghton, MI', 0.0), ('Croatia', 0.0), ('Dagsas, Sweden Fower, MN', 0.0), ('Deephaven, MN / Cedar Rapids, IA', 0.5), ('Deer Lodge, MT', 1.0), ('Denmark / New York, NY', 0.0), ('Denmark Hill, Surrey / Chicago', 0.5), ('Denver, CO', 1.0), ('Detroit, MI', 1.0), ('Devon, England Wichita, KS', 0.75), ('Devonport, England', 0.0), ('Dorchester, MA', 0.0), ('Dorking, Surrey, England', 0.0), ('Dowagiac, MI', 1.0), ('Duluth, MN', 0.6666666666666666), ('East Bridgewater, MA', 0.0), ('East Orange, NJ', 0.0), ('East Providence, RI', 0.3333333333333333), ('Effington Rut, SD', 0.0), ('Elizabeth, NJ', 0.5), ('Elkins Park, PA', 0.3333333333333333), ('Elmira, NY / Orange, NJ', 0.0), ('England', 0.0), ('England / Bennington, VT', 1.0), ('England / Detroit, MI', 0.0), ('England / Hartford, CT', 1.0), ('England / Philadelphia, PA', 0.0), ('England / Sacramento, CA', 0.5), ('England / San Francisco, CA', 0.5), ('England Albion, NY', 0.5), ('England Brooklyn, NY', 1.0), ('England New York, NY', 0.0), ('England Oglesby, IL', 1.0), ('England Salt Lake City, Utah', 0.0), ('Finland / Minneapolis, MN', 1.0), ('Finland / Washington, DC', 1.0), ('Finland Sudbury, ON', 0.0), ('Folkstone, Kent / New York, NY', 1.0), ('Fond du Lac, WI', 0.5), ('Foresvik, Norway Portland, ND', 0.0), ('Frankfort, KY', 0.0), ('Gallipolis, Ohio / ? Paris / New York', 0.0), ('Geneva, Switzerland / Radnor, PA', 0.5), ('Germantown, Philadelphia, PA', 1.0), ('Glasgow', 0.0), ('Glasgow / Bangor, ME', 0.0), ('Glen Ridge, NJ', 1.0), ('Goteborg, Sweden / Rockford, IL', 0.0), ('Goteborg, Sweden Huntley, IL', 0.0), ('Greece', 0.0), ('Green Bay, WI', 1.0), ('Greenport, NY', 0.6666666666666666), ('Greensburg, PA', 1.0), ('Greenwich, CT', 1.0), ('Guernsey', 0.5), ('Guernsey / Elizabeth, NJ', 0.0), ('Guernsey / Montclair, NJ and/or Toledo, Ohio', 0.0), ('Guernsey / Wilmington, DE', 1.0), ('Guernsey, England / Edgewood, RI', 0.0), ('Gunnislake, England / Butte, MT', 0.0), ('Guntur, India / Benton Harbour, MI', 1.0), ('Haddenfield, NJ', 0.0), ('Halesworth, England', 0.0), ('Halifax, NS', 0.5), ('Hamilton, ON', 0.0), ('Harrisburg, PA', 1.0), ('Harrow, England', 1.0), ('Harrow-on-the-Hill, Middlesex', 0.0), ('Hartford, CT', 0.0), ('Hartford, Huntingdonshire', 0.0), ('Haverford, PA', 0.75), ('Haverford, PA / Cooperstown, NY', 0.8), ('Helsinki, Finland Ashtabula, Ohio', 0.0), ('Hessle, Yorks', 1.0), ('Holley, NY', 0.0), ('Hong Kong New York, NY', 1.0), ('Hornsey, England', 0.0), ('Hudson, NY', 1.0), ('Huntington, WV', 0.5), ('Ilford, Essex / Winnipeg, MB', 0.6666666666666666), ('Ilfracombe, Devon', 0.5), ('Illinois, USA', 0.0), ('India / Pittsburgh, PA', 0.0), ('India / Rapid City, SD', 1.0), ('Indianapolis, IN', 1.0), ('Ireland', 0.3333333333333333), ('Ireland Brooklyn, NY', 0.0), ('Ireland Chicago, IL', 0.0), ('Ireland New York, NY', 0.0), ('Ireland Philadelphia, PA', 0.0), ('Isle of Wight, England', 0.0), ('Isleworth, England', 0.5), ('Italy Philadelphia, PA', 1.0), ('Jacksonville, FL', 0.0), ('Janjgir, India / Pennsylvania', 0.0), ('Karberg, Sweden Jerome Junction, AZ', 0.0), ('Kilmacowen, Co Sligo, Ireland New York, NY', 1.0), ('Kingston, Surrey', 1.0), ('Kingwilliamstown, Co Cork, Ireland Glens Falls, NY', 1.0), ('Kingwilliamstown, Co Cork, Ireland New York, NY', 1.0), ('Kontiolahti, Finland / Detroit, MI', 0.0), ('Krakoryd, Sweden Bloomington, IL', 0.0), ('Krakudden, Sweden Moune, IL', 0.0), ('Lake Arthur, Chavez County, NM', 0.0), ('Lakewood, NJ', 0.6666666666666666), ('Lexington, MA', 0.6666666666666666), ('Lima, Peru', 1.0), ('Little Onn Hall, Staffs', 0.5), ('Liverpool', 0.5), ('Liverpool / Montreal, PQ', 0.0), ('Liverpool, England / Belfast', 0.0), ('Liverpool, England Bedford, OH', 0.5), ('London', 0.35714285714285715), ('London  Vancouver, BC', 1.0), ('London /  East Orange, NJ', 1.0), ('London / Birmingham', 0.0), ('London / Chicago, IL', 1.0), ('London / Fort Byron, NY', 1.0), ('London / Middlesex', 0.0), ('London / Montreal, PQ', 1.0), ('London / New York, NY', 0.5), ('London / Paris', 1.0), ('London / Staten Island, NY', 1.0), ('London / Winnipeg, MB', 0.0), ('London Brooklyn, NY', 1.0), ('London New York, NY', 1.0), ('London Skanteales, NY', 1.0), ('London, England', 0.75), ('London, England / Marietta, Ohio and Milwaukee, WI', 1.0), ('London, England Norfolk, VA', 1.0), ('Los Angeles, CA', 0.6666666666666666), ('Lower Clapton, Middlesex or Erdington, Birmingham', 0.0), ('Lucca, Italy / California', 0.5), ('Lyndhurst, England', 0.0), ('Madrid, Spain', 0.5), ('Mamaroneck, NY', 1.0), ('Manchester, England', 1.0), ('Medeltorp, Sweden Chicago, IL', 0.0), ('Merrill, WI', 0.0), ('Mexico City, Mexico', 0.0), ('Middleburg Heights, OH', 0.0), ('Milford, NH', 1.0), ('Milwaukee, WI', 0.6666666666666666), ('Minneapolis, MN', 0.5), ('Montevideo, Uruguay', 0.0), ('Montreal, PQ', 0.4), ('Montreal, PQ / Chesterville, ON', 0.25), ('Moscow / Bronx, NY', 0.5), ('Mt Airy, Philadelphia, PA', 1.0), ('Myren, Sweden New York, NY', 0.0), ('New Britain, CT', 1.0), ('New Forest, England', 0.0), ('New York, NY', 0.625), ('New York, NY /  Stamford CT', 1.0), ('New York, NY / Briarcliff Manor NY', 1.0), ('New York, NY / Greenwich CT', 1.0), ('New York, NY / Ithaca, NY', 1.0), ('New York, NY / Washington, DC', 1.0), ('Newark, NJ', 0.6666666666666666), ('Nice, France', 0.6666666666666666), ('Norrlot, Sweden Chicago, IL', 0.0), ('North Evington, England', 0.0), ('Norway Los Angeles, CA', 1.0), ('Norwich / New York, NY', 1.0), ('Omaha, NE', 0.0), ('Oskarshamn, Sweden Minneapolis, MN', 1.0), ('Oslo, Norway Bayonne, NJ', 0.0), ('Oslo, Norway Cameron, WI', 0.0), ('Ottawa, ON', 0.2), ('Paris', 0.0), ('Paris /  New York, NY', 1.0), ('Paris / Haiti', 0.75), ('Paris / Montreal, PQ', 0.5), ('Paris, France', 0.8888888888888888), ('Paris, France / New York, NY', 1.0), ('Paris, France New York, NY', 0.0), ('Pennsylvania', 1.0), ('Penzance, Cornwall / Akron, OH', 0.0), ('Perkins County, SD', 1.0), ('Philadelphia, PA', 0.375), ('Plymouth, Devon / Detroit, MI', 1.0), ('Plymouth, Dorset / Houghton, MI', 0.0), ('Plymouth, England', 0.0), ('Pomeroy, WA', 0.0), ('Pondersend, England / New Durham, NJ', 1.0), ('Portland, OR', 0.3333333333333333), ('Portugal', 0.0), ('Portugal / Sau Paulo, Brazil', 0.0), ('Providence, RI', 0.5), ('Provo, UT', 0.0), ('Roachdale, IN', 0.0), ('Rochester, NY', 0.3333333333333333), ('Rotherfield, Sussex, England Essex Co, MA', 0.0), ('Rotterdam, Netherlands', 0.0), ('Ruotsinphyhtaa, Finland New York, NY', 1.0), ('Ruotsinphytaa, Finland New York, NY', 0.25), ('Russia', 1.0), ('Russia New York, NY', 0.5), ('Salo, Finland Astoria, OR', 0.0), ('San Francisco, CA', 0.75), ('Sarnia, ON', 0.0), ('Sault St Marie, ON', 0.0), ('Scituate, MA', 0.5), ('Seattle, WA', 0.0), ('Seattle, WA / Toledo, OH', 0.0), ('Sittingbourne, England / San Diego, CA', 1.0), ('Skara, Sweden / Rockford, IL', 0.5), ('Somerset / Bernardsville, NJ', 0.6), ('Southampton', 0.6666666666666666), ('Southampton / New York, NY', 0.0), ('Southington / Noank, CT', 0.5), ('Southsea, Hants', 0.0), ('Spain', 1.0), ('Spain / Havana, Cuba', 1.0), ('Springfield, MA', 0.0), ('St Andrews, Guernsey', 0.0), (\"St Anne's-on-Sea, Lancashire\", 0.0), ('St Austall, Cornwall', 0.0), ('St Denys, Southampton, Hants', 0.0), ('St Ives, Cornwall / Calumet, MI', 0.0), ('St Ives, Cornwall / Hancock, MI', 1.0), ('St Ives, Cornwall / Houghton, MI', 0.0), ('St James, Long Island, NY', 0.0), ('St Leonards-on-Sea, England Ohio', 1.0), ('St Louis, MO', 1.0), ('Stanton, IA', 0.0), ('Stockholm, Sweden', 0.5), ('Stockholm, Sweden / Washington, DC', 1.0), ('Stockholm, Sweden New York', 0.0), ('Stoughton, MA', 0.0), ('Streatham, Surrey', 0.0), ('Strood, Kent, England Detroit, MI', 0.6666666666666666), ('Surbiton Hill, Surrey', 0.0), ('Sweden  Worcester, MA', 0.3333333333333333), ('Sweden / Arlington, NJ', 0.0), ('Sweden Akeley, MN', 0.0), ('Sweden Chicago, IL', 0.0), ('Sweden Joliet, IL', 0.0), ('Sweden Winnipeg, MN', 0.0), ('Sweden Worcester, MA', 0.4), ('Swindon, England', 0.0), ('Sydney, Australia', 0.0), ('Syria', 0.0), ('Syria Fredericksburg, VA', 1.0), ('Syria Kent, ON', 0.0), ('Syria New York, NY', 1.0), ('Syria Ottawa, ON', 0.0), ('Syria Youngstown, OH', 1.0), ('Taalintehdas, Finland Hoboken, NJ', 1.0), ('Tampico, MT', 1.0), ('Tofta, Sweden Joliet, IL', 0.0), ('Tokyo, Japan', 1.0), ('Toronto, ON', 1.0), ('Tranvik, Finland New York', 0.0), ('Treherbert, Cardiff, Wales', 0.0), ('Trenton, NJ', 0.0), ('Tuxedo Park, NY', 1.0), ('Union Hill, NJ', 1.0), ('Upper Burma, India Pittsburgh, PA', 0.0), ('Vadsbro, Sweden Ministee, MI', 0.0), ('Vancouver, BC', 0.0), ('Victoria, BC', 0.0), ('Walthamstow, England', 0.0), ('Warwick, England', 0.5), ('Washington, DC', 0.5), ('Waukegan, Chicago, IL', 0.0), ('West Bromwich, England Pontiac, MI', 0.0), ('West Hampstead, London / Neepawa, MB', 0.0), ('West Haven, CT', 0.5), ('West Hoboken, NJ', 0.0), ('West Kensington, London', 0.0), ('Westcliff-on-Sea, Essex', 0.0), ('Weston-Super-Mare / Moose Jaw, SK', 0.0), ('Weston-Super-Mare, Somerset', 0.5), ('Wiltshire, England Niagara Falls, NY', 0.0), ('Wimbledon Park, London / Hayling Island, Hants', 0.0), ('Windsor, England New York, NY', 0.0), ('Winnipeg, MB', 0.5), ('Winnipeg, MN', 0.0), ('Woodford County, KY', 1.0), ('Worcester, England', 1.0), ('Worcester, MA', 0.0), ('Yoevil, England / Cottage Grove, OR', 1.0), ('Youngstown, OH', 0.75), ('Zurich, Switzerland', 1.0)]\n"
     ]
    }
   ],
   "source": [
    "    print(\"Survival rate by category:\", controller.survival_rate_by_category(data, 'home_dest'))\n"
   ]
  },
  {
   "cell_type": "code",
   "execution_count": 55,
   "metadata": {},
   "outputs": [
    {
     "name": "stdout",
     "output_type": "stream",
     "text": [
      "Survival rate by category: [('0', 0.027912621359223302), ('1', 1.0), ('10', 1.0), ('11', 1.0), ('12', 0.9473684210526315), ('13', 1.0), ('13 15', 1.0), ('13 15 B', 1.0), ('14', 0.9696969696969697), ('15', 1.0), ('15 16', 1.0), ('16', 1.0), ('2', 1.0), ('3', 1.0), ('4', 1.0), ('5', 1.0), ('5 7', 1.0), ('5 9', 1.0), ('6', 1.0), ('7', 1.0), ('8', 1.0), ('8 10', 1.0), ('9', 1.0), ('A', 0.6363636363636364), ('B', 0.8888888888888888), ('C', 0.9736842105263158), ('C D', 1.0), ('D', 0.95)]\n"
     ]
    }
   ],
   "source": [
    "    print(\"Survival rate by category:\", controller.survival_rate_by_category(data, 'boat'))"
   ]
  }
 ],
 "metadata": {
  "kernelspec": {
   "display_name": ".venv",
   "language": "python",
   "name": "python3"
  },
  "language_info": {
   "codemirror_mode": {
    "name": "ipython",
    "version": 3
   },
   "file_extension": ".py",
   "mimetype": "text/x-python",
   "name": "python",
   "nbconvert_exporter": "python",
   "pygments_lexer": "ipython3",
   "version": "3.11.8"
  }
 },
 "nbformat": 4,
 "nbformat_minor": 2
}
