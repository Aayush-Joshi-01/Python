{
 "cells": [
  {
   "cell_type": "code",
   "execution_count": 3,
   "metadata": {},
   "outputs": [
    {
     "name": "stdout",
     "output_type": "stream",
     "text": [
      "Requirement already satisfied: numpy in /home/user/Python_Training/.venv/lib/python3.11/site-packages (2.0.0)\n",
      "Requirement already satisfied: pandas in /home/user/Python_Training/.venv/lib/python3.11/site-packages (2.2.2)\n",
      "Requirement already satisfied: numpy>=1.23.2 in /home/user/Python_Training/.venv/lib/python3.11/site-packages (from pandas) (2.0.0)\n",
      "Requirement already satisfied: python-dateutil>=2.8.2 in /home/user/Python_Training/.venv/lib/python3.11/site-packages (from pandas) (2.9.0.post0)\n",
      "Requirement already satisfied: pytz>=2020.1 in /home/user/Python_Training/.venv/lib/python3.11/site-packages (from pandas) (2024.1)\n",
      "Requirement already satisfied: tzdata>=2022.7 in /home/user/Python_Training/.venv/lib/python3.11/site-packages (from pandas) (2024.1)\n",
      "Requirement already satisfied: six>=1.5 in /home/user/Python_Training/.venv/lib/python3.11/site-packages (from python-dateutil>=2.8.2->pandas) (1.16.0)\n",
      "Requirement already satisfied: matplotlip in /home/user/Python_Training/.venv/lib/python3.11/site-packages (0.2)\n",
      "Requirement already satisfied: seaborn in /home/user/Python_Training/.venv/lib/python3.11/site-packages (0.13.2)\n",
      "Requirement already satisfied: numpy!=1.24.0,>=1.20 in /home/user/Python_Training/.venv/lib/python3.11/site-packages (from seaborn) (2.0.0)\n",
      "Requirement already satisfied: pandas>=1.2 in /home/user/Python_Training/.venv/lib/python3.11/site-packages (from seaborn) (2.2.2)\n",
      "Requirement already satisfied: matplotlib!=3.6.1,>=3.4 in /home/user/Python_Training/.venv/lib/python3.11/site-packages (from seaborn) (3.9.1)\n",
      "Requirement already satisfied: contourpy>=1.0.1 in /home/user/Python_Training/.venv/lib/python3.11/site-packages (from matplotlib!=3.6.1,>=3.4->seaborn) (1.2.1)\n",
      "Requirement already satisfied: cycler>=0.10 in /home/user/Python_Training/.venv/lib/python3.11/site-packages (from matplotlib!=3.6.1,>=3.4->seaborn) (0.12.1)\n",
      "Requirement already satisfied: fonttools>=4.22.0 in /home/user/Python_Training/.venv/lib/python3.11/site-packages (from matplotlib!=3.6.1,>=3.4->seaborn) (4.53.0)\n",
      "Requirement already satisfied: kiwisolver>=1.3.1 in /home/user/Python_Training/.venv/lib/python3.11/site-packages (from matplotlib!=3.6.1,>=3.4->seaborn) (1.4.5)\n",
      "Requirement already satisfied: packaging>=20.0 in /home/user/Python_Training/.venv/lib/python3.11/site-packages (from matplotlib!=3.6.1,>=3.4->seaborn) (24.1)\n",
      "Requirement already satisfied: pillow>=8 in /home/user/Python_Training/.venv/lib/python3.11/site-packages (from matplotlib!=3.6.1,>=3.4->seaborn) (10.4.0)\n",
      "Requirement already satisfied: pyparsing>=2.3.1 in /home/user/Python_Training/.venv/lib/python3.11/site-packages (from matplotlib!=3.6.1,>=3.4->seaborn) (3.1.2)\n",
      "Requirement already satisfied: python-dateutil>=2.7 in /home/user/Python_Training/.venv/lib/python3.11/site-packages (from matplotlib!=3.6.1,>=3.4->seaborn) (2.9.0.post0)\n",
      "Requirement already satisfied: pytz>=2020.1 in /home/user/Python_Training/.venv/lib/python3.11/site-packages (from pandas>=1.2->seaborn) (2024.1)\n",
      "Requirement already satisfied: tzdata>=2022.7 in /home/user/Python_Training/.venv/lib/python3.11/site-packages (from pandas>=1.2->seaborn) (2024.1)\n",
      "Requirement already satisfied: six>=1.5 in /home/user/Python_Training/.venv/lib/python3.11/site-packages (from python-dateutil>=2.7->matplotlib!=3.6.1,>=3.4->seaborn) (1.16.0)\n"
     ]
    }
   ],
   "source": [
    "! pip install numpy\n",
    "! pip install pandas\n",
    "! pip install matplotlip\n",
    "! pip install seaborn"
   ]
  },
  {
   "cell_type": "code",
   "execution_count": 4,
   "metadata": {},
   "outputs": [],
   "source": [
    "import numpy as np\n",
    "import pandas as pd\n",
    "import matplotlib.pyplot as plt\n",
    "import seaborn as sns\n",
    "import csv"
   ]
  },
  {
   "cell_type": "code",
   "execution_count": 5,
   "metadata": {},
   "outputs": [],
   "source": [
    "df = pd.read_csv('titanic3.csv')\n",
    "\n",
    "df.columns = ['PassengerId' + col for col in df.columns]\n",
    "\n",
    "df.insert(0, 'PassengerId', range(1, 1 + len(df)))\n",
    "\n",
    "df.to_csv('titanic.csv', index=False)"
   ]
  },
  {
   "cell_type": "code",
   "execution_count": 6,
   "metadata": {},
   "outputs": [],
   "source": [
    "dtype = np.dtype([\n",
    "    ('pclass', int),\n",
    "    ('survived', int),\n",
    "    ('name', 'U50'),\n",
    "    ('sex', 'U10'),\n",
    "    ('age', float),\n",
    "    ('sibsp', int),\n",
    "    ('parch', int),\n",
    "    ('ticket', 'U20'),\n",
    "    ('fare', float),\n",
    "    ('cabin', 'U20'),\n",
    "    ('embarked', 'U1'),\n",
    "    ('boat', 'U10'),\n",
    "    ('body', float),\n",
    "    ('home_dest', 'U50')\n",
    "])"
   ]
  },
  {
   "cell_type": "code",
   "execution_count": 7,
   "metadata": {},
   "outputs": [],
   "source": [
    "def data_structuring():\n",
    "    data = []\n",
    "    with open('titanic3.csv', 'r') as file:\n",
    "        read = csv.reader(file)\n",
    "        next(read)\n",
    "        for row in read:\n",
    "            try:\n",
    "                cleaned_row = [col if col else '0' for col in row]\n",
    "                data.append(tuple(cleaned_row))\n",
    "            except ValueError as e:\n",
    "                print(f\"Error processing row: {row}, Error: {e}\")\n",
    "    structured_data = np.array(data, dtype=dtype)\n",
    "    return structured_data"
   ]
  },
  {
   "cell_type": "code",
   "execution_count": 8,
   "metadata": {},
   "outputs": [
    {
     "data": {
      "text/plain": [
       "array([(1, 1, 'Allen, Miss. Elisabeth Walton', 'female', 29.    , 0, 0, '24160', 211.3375, 'B5', 'S', '2', 0., 'St Louis, MO'),\n",
       "       (1, 1, 'Allison, Master. Hudson Trevor', 'male',  0.9167, 1, 2, '113781', 151.55  , 'C22 C26', 'S', '11', 0., 'Montreal, PQ / Chesterville, ON'),\n",
       "       (1, 0, 'Allison, Miss. Helen Loraine', 'female',  2.    , 1, 2, '113781', 151.55  , 'C22 C26', 'S', '0', 0., 'Montreal, PQ / Chesterville, ON'),\n",
       "       ...,\n",
       "       (3, 0, 'Zakarian, Mr. Ortin', 'male', 27.    , 0, 0, '2670',   7.225 , '0', 'C', '0', 0., '0'),\n",
       "       (3, 0, 'Zimmerman, Mr. Leo', 'male', 29.    , 0, 0, '315082',   7.875 , '0', 'S', '0', 0., '0'),\n",
       "       (0, 0, '0', '0',  0.    , 0, 0, '0',   0.    , '0', '0', '0', 0., '0')],\n",
       "      dtype=[('pclass', '<i8'), ('survived', '<i8'), ('name', '<U50'), ('sex', '<U10'), ('age', '<f8'), ('sibsp', '<i8'), ('parch', '<i8'), ('ticket', '<U20'), ('fare', '<f8'), ('cabin', '<U20'), ('embarked', '<U1'), ('boat', '<U10'), ('body', '<f8'), ('home_dest', '<U50')])"
      ]
     },
     "execution_count": 8,
     "metadata": {},
     "output_type": "execute_result"
    }
   ],
   "source": [
    "arr = data_structuring()\n",
    "arr"
   ]
  },
  {
   "cell_type": "code",
   "execution_count": 9,
   "metadata": {},
   "outputs": [],
   "source": [
    "def overall_survival_rate(arr):\n",
    "    survived_count = arr['survived'].sum()\n",
    "    total_passengers = arr['survived'].shape\n",
    "    survival_rate = (survived_count / total_passengers) * 100\n",
    "    return survival_rate\n",
    "\n",
    "def survival_by_class(df):\n",
    "    survival_by_class = df.groupby('pclass')['survived'].mean() * 100\n",
    "    return survival_by_class\n",
    "\n",
    "def survival_by_gender(df):\n",
    "    survival_by_gender = df.groupby('sex')['survived'].mean() * 100\n",
    "    return survival_by_gender\n",
    "\n",
    "def survival_by_age_group(df, bins=[0, 18, 30, 50, 100]):\n",
    "    df['AgeGroup'] = pd.cut(df['age'], bins=bins, labels=['0-18', '19-30', '31-50', '51+'])\n",
    "    survival_by_age_group = df.groupby('aAgeGroup')['survived'].mean() * 100\n",
    "    return survival_by_age_group\n",
    "\n",
    "def survival_by_family_size(df):\n",
    "    df['FamilySize'] = df['sibsp'] + df['parch'] + 1\n",
    "    survival_by_family_size = df.groupby('FamilySize')['survived'].mean() * 100\n",
    "    return survival_by_family_size"
   ]
  },
  {
   "cell_type": "code",
   "execution_count": 10,
   "metadata": {},
   "outputs": [],
   "source": [
    "def passenger_count_by_class(df):\n",
    "    passenger_count_by_class = df['Pclass'].value_counts().sort_index()\n",
    "    return passenger_count_by_class\n",
    "\n",
    "def gender_distribution(df):\n",
    "    gender_distribution = df['Sex'].value_counts()\n",
    "    return gender_distribution\n",
    "\n",
    "def age_distribution(df):\n",
    "    age_distribution = df['Age'].plot(kind='hist', bins=20, edgecolor='black')\n",
    "    plt.xlabel('Age')\n",
    "    plt.title('Age Distribution of Passengers')\n",
    "    plt.show()\n",
    "\n",
    "def embarkation_port_analysis(df):\n",
    "    embarkation_port_counts = df['Embarked'].value_counts()\n",
    "    return embarkation_port_counts"
   ]
  },
  {
   "cell_type": "code",
   "execution_count": 11,
   "metadata": {},
   "outputs": [],
   "source": [
    "def ticket_fare_distribution(df):\n",
    "    fare_distribution = df['Fare'].plot(kind='hist', bins=20, edgecolor='black')\n",
    "    plt.xlabel('Fare')\n",
    "    plt.title('Ticket Fare Distribution')\n",
    "    plt.show()\n",
    "\n",
    "def average_fare_by_class(df):\n",
    "    average_fare_by_class = df.groupby('Pclass')['Fare'].mean()\n",
    "    return average_fare_by_class\n",
    "\n",
    "def fare_vs_survival(df):\n",
    "    fare_vs_survival = sns.boxplot(x='Survived', y='Fare', data=df)\n",
    "    plt.title('Fare vs. Survival')\n",
    "    plt.show()"
   ]
  },
  {
   "cell_type": "code",
   "execution_count": 12,
   "metadata": {},
   "outputs": [],
   "source": [
    "def passenger_demographics_by_class(df):\n",
    "    class_demographics = df.groupby('Pclass').agg({'Age': 'mean', 'Sex': 'value_counts'})\n",
    "    return class_demographics\n",
    "\n",
    "def survival_rates_by_class_and_gender(df):\n",
    "    survival_rates = df.groupby(['Pclass', 'Sex'])['Survived'].mean() * 100\n",
    "    return survival_rates\n",
    "\n",
    "def fare_analysis_by_class(df):\n",
    "    fare_analysis = sns.boxplot(x='Pclass', y='Fare', data=df)\n",
    "    plt.title('Fare Analysis by Class')\n",
    "    plt.show()"
   ]
  },
  {
   "cell_type": "code",
   "execution_count": 13,
   "metadata": {},
   "outputs": [],
   "source": [
    "def family_relationships_and_survival(df):\n",
    "    df['FamilySize'] = df['SibSp'] + df['Parch'] + 1\n",
    "    family_survival = df.groupby('FamilySize')['Survived'].mean() * 100\n",
    "    return family_survival"
   ]
  },
  {
   "cell_type": "code",
   "execution_count": 14,
   "metadata": {},
   "outputs": [
    {
     "data": {
      "text/html": [
       "<div>\n",
       "<style scoped>\n",
       "    .dataframe tbody tr th:only-of-type {\n",
       "        vertical-align: middle;\n",
       "    }\n",
       "\n",
       "    .dataframe tbody tr th {\n",
       "        vertical-align: top;\n",
       "    }\n",
       "\n",
       "    .dataframe thead th {\n",
       "        text-align: right;\n",
       "    }\n",
       "</style>\n",
       "<table border=\"1\" class=\"dataframe\">\n",
       "  <thead>\n",
       "    <tr style=\"text-align: right;\">\n",
       "      <th></th>\n",
       "      <th>pclass</th>\n",
       "      <th>survived</th>\n",
       "      <th>name</th>\n",
       "      <th>sex</th>\n",
       "      <th>age</th>\n",
       "      <th>sibsp</th>\n",
       "      <th>parch</th>\n",
       "      <th>ticket</th>\n",
       "      <th>fare</th>\n",
       "      <th>cabin</th>\n",
       "      <th>embarked</th>\n",
       "      <th>boat</th>\n",
       "      <th>body</th>\n",
       "      <th>home.dest</th>\n",
       "    </tr>\n",
       "  </thead>\n",
       "  <tbody>\n",
       "    <tr>\n",
       "      <th>0</th>\n",
       "      <td>1.0</td>\n",
       "      <td>1.0</td>\n",
       "      <td>Allen, Miss. Elisabeth Walton</td>\n",
       "      <td>female</td>\n",
       "      <td>29.0000</td>\n",
       "      <td>0.0</td>\n",
       "      <td>0.0</td>\n",
       "      <td>24160</td>\n",
       "      <td>211.3375</td>\n",
       "      <td>B5</td>\n",
       "      <td>S</td>\n",
       "      <td>2</td>\n",
       "      <td>NaN</td>\n",
       "      <td>St Louis, MO</td>\n",
       "    </tr>\n",
       "    <tr>\n",
       "      <th>1</th>\n",
       "      <td>1.0</td>\n",
       "      <td>1.0</td>\n",
       "      <td>Allison, Master. Hudson Trevor</td>\n",
       "      <td>male</td>\n",
       "      <td>0.9167</td>\n",
       "      <td>1.0</td>\n",
       "      <td>2.0</td>\n",
       "      <td>113781</td>\n",
       "      <td>151.5500</td>\n",
       "      <td>C22 C26</td>\n",
       "      <td>S</td>\n",
       "      <td>11</td>\n",
       "      <td>NaN</td>\n",
       "      <td>Montreal, PQ / Chesterville, ON</td>\n",
       "    </tr>\n",
       "    <tr>\n",
       "      <th>2</th>\n",
       "      <td>1.0</td>\n",
       "      <td>0.0</td>\n",
       "      <td>Allison, Miss. Helen Loraine</td>\n",
       "      <td>female</td>\n",
       "      <td>2.0000</td>\n",
       "      <td>1.0</td>\n",
       "      <td>2.0</td>\n",
       "      <td>113781</td>\n",
       "      <td>151.5500</td>\n",
       "      <td>C22 C26</td>\n",
       "      <td>S</td>\n",
       "      <td>NaN</td>\n",
       "      <td>NaN</td>\n",
       "      <td>Montreal, PQ / Chesterville, ON</td>\n",
       "    </tr>\n",
       "    <tr>\n",
       "      <th>3</th>\n",
       "      <td>1.0</td>\n",
       "      <td>0.0</td>\n",
       "      <td>Allison, Mr. Hudson Joshua Creighton</td>\n",
       "      <td>male</td>\n",
       "      <td>30.0000</td>\n",
       "      <td>1.0</td>\n",
       "      <td>2.0</td>\n",
       "      <td>113781</td>\n",
       "      <td>151.5500</td>\n",
       "      <td>C22 C26</td>\n",
       "      <td>S</td>\n",
       "      <td>NaN</td>\n",
       "      <td>135.0</td>\n",
       "      <td>Montreal, PQ / Chesterville, ON</td>\n",
       "    </tr>\n",
       "    <tr>\n",
       "      <th>4</th>\n",
       "      <td>1.0</td>\n",
       "      <td>0.0</td>\n",
       "      <td>Allison, Mrs. Hudson J C (Bessie Waldo Daniels)</td>\n",
       "      <td>female</td>\n",
       "      <td>25.0000</td>\n",
       "      <td>1.0</td>\n",
       "      <td>2.0</td>\n",
       "      <td>113781</td>\n",
       "      <td>151.5500</td>\n",
       "      <td>C22 C26</td>\n",
       "      <td>S</td>\n",
       "      <td>NaN</td>\n",
       "      <td>NaN</td>\n",
       "      <td>Montreal, PQ / Chesterville, ON</td>\n",
       "    </tr>\n",
       "    <tr>\n",
       "      <th>...</th>\n",
       "      <td>...</td>\n",
       "      <td>...</td>\n",
       "      <td>...</td>\n",
       "      <td>...</td>\n",
       "      <td>...</td>\n",
       "      <td>...</td>\n",
       "      <td>...</td>\n",
       "      <td>...</td>\n",
       "      <td>...</td>\n",
       "      <td>...</td>\n",
       "      <td>...</td>\n",
       "      <td>...</td>\n",
       "      <td>...</td>\n",
       "      <td>...</td>\n",
       "    </tr>\n",
       "    <tr>\n",
       "      <th>1305</th>\n",
       "      <td>3.0</td>\n",
       "      <td>0.0</td>\n",
       "      <td>Zabour, Miss. Thamine</td>\n",
       "      <td>female</td>\n",
       "      <td>NaN</td>\n",
       "      <td>1.0</td>\n",
       "      <td>0.0</td>\n",
       "      <td>2665</td>\n",
       "      <td>14.4542</td>\n",
       "      <td>NaN</td>\n",
       "      <td>C</td>\n",
       "      <td>NaN</td>\n",
       "      <td>NaN</td>\n",
       "      <td>NaN</td>\n",
       "    </tr>\n",
       "    <tr>\n",
       "      <th>1306</th>\n",
       "      <td>3.0</td>\n",
       "      <td>0.0</td>\n",
       "      <td>Zakarian, Mr. Mapriededer</td>\n",
       "      <td>male</td>\n",
       "      <td>26.5000</td>\n",
       "      <td>0.0</td>\n",
       "      <td>0.0</td>\n",
       "      <td>2656</td>\n",
       "      <td>7.2250</td>\n",
       "      <td>NaN</td>\n",
       "      <td>C</td>\n",
       "      <td>NaN</td>\n",
       "      <td>304.0</td>\n",
       "      <td>NaN</td>\n",
       "    </tr>\n",
       "    <tr>\n",
       "      <th>1307</th>\n",
       "      <td>3.0</td>\n",
       "      <td>0.0</td>\n",
       "      <td>Zakarian, Mr. Ortin</td>\n",
       "      <td>male</td>\n",
       "      <td>27.0000</td>\n",
       "      <td>0.0</td>\n",
       "      <td>0.0</td>\n",
       "      <td>2670</td>\n",
       "      <td>7.2250</td>\n",
       "      <td>NaN</td>\n",
       "      <td>C</td>\n",
       "      <td>NaN</td>\n",
       "      <td>NaN</td>\n",
       "      <td>NaN</td>\n",
       "    </tr>\n",
       "    <tr>\n",
       "      <th>1308</th>\n",
       "      <td>3.0</td>\n",
       "      <td>0.0</td>\n",
       "      <td>Zimmerman, Mr. Leo</td>\n",
       "      <td>male</td>\n",
       "      <td>29.0000</td>\n",
       "      <td>0.0</td>\n",
       "      <td>0.0</td>\n",
       "      <td>315082</td>\n",
       "      <td>7.8750</td>\n",
       "      <td>NaN</td>\n",
       "      <td>S</td>\n",
       "      <td>NaN</td>\n",
       "      <td>NaN</td>\n",
       "      <td>NaN</td>\n",
       "    </tr>\n",
       "    <tr>\n",
       "      <th>1309</th>\n",
       "      <td>NaN</td>\n",
       "      <td>NaN</td>\n",
       "      <td>NaN</td>\n",
       "      <td>NaN</td>\n",
       "      <td>NaN</td>\n",
       "      <td>NaN</td>\n",
       "      <td>NaN</td>\n",
       "      <td>NaN</td>\n",
       "      <td>NaN</td>\n",
       "      <td>NaN</td>\n",
       "      <td>NaN</td>\n",
       "      <td>NaN</td>\n",
       "      <td>NaN</td>\n",
       "      <td>NaN</td>\n",
       "    </tr>\n",
       "  </tbody>\n",
       "</table>\n",
       "<p>1310 rows × 14 columns</p>\n",
       "</div>"
      ],
      "text/plain": [
       "      pclass  survived                                             name  \\\n",
       "0        1.0       1.0                    Allen, Miss. Elisabeth Walton   \n",
       "1        1.0       1.0                   Allison, Master. Hudson Trevor   \n",
       "2        1.0       0.0                     Allison, Miss. Helen Loraine   \n",
       "3        1.0       0.0             Allison, Mr. Hudson Joshua Creighton   \n",
       "4        1.0       0.0  Allison, Mrs. Hudson J C (Bessie Waldo Daniels)   \n",
       "...      ...       ...                                              ...   \n",
       "1305     3.0       0.0                            Zabour, Miss. Thamine   \n",
       "1306     3.0       0.0                        Zakarian, Mr. Mapriededer   \n",
       "1307     3.0       0.0                              Zakarian, Mr. Ortin   \n",
       "1308     3.0       0.0                               Zimmerman, Mr. Leo   \n",
       "1309     NaN       NaN                                              NaN   \n",
       "\n",
       "         sex      age  sibsp  parch  ticket      fare    cabin embarked boat  \\\n",
       "0     female  29.0000    0.0    0.0   24160  211.3375       B5        S    2   \n",
       "1       male   0.9167    1.0    2.0  113781  151.5500  C22 C26        S   11   \n",
       "2     female   2.0000    1.0    2.0  113781  151.5500  C22 C26        S  NaN   \n",
       "3       male  30.0000    1.0    2.0  113781  151.5500  C22 C26        S  NaN   \n",
       "4     female  25.0000    1.0    2.0  113781  151.5500  C22 C26        S  NaN   \n",
       "...      ...      ...    ...    ...     ...       ...      ...      ...  ...   \n",
       "1305  female      NaN    1.0    0.0    2665   14.4542      NaN        C  NaN   \n",
       "1306    male  26.5000    0.0    0.0    2656    7.2250      NaN        C  NaN   \n",
       "1307    male  27.0000    0.0    0.0    2670    7.2250      NaN        C  NaN   \n",
       "1308    male  29.0000    0.0    0.0  315082    7.8750      NaN        S  NaN   \n",
       "1309     NaN      NaN    NaN    NaN     NaN       NaN      NaN      NaN  NaN   \n",
       "\n",
       "       body                        home.dest  \n",
       "0       NaN                     St Louis, MO  \n",
       "1       NaN  Montreal, PQ / Chesterville, ON  \n",
       "2       NaN  Montreal, PQ / Chesterville, ON  \n",
       "3     135.0  Montreal, PQ / Chesterville, ON  \n",
       "4       NaN  Montreal, PQ / Chesterville, ON  \n",
       "...     ...                              ...  \n",
       "1305    NaN                              NaN  \n",
       "1306  304.0                              NaN  \n",
       "1307    NaN                              NaN  \n",
       "1308    NaN                              NaN  \n",
       "1309    NaN                              NaN  \n",
       "\n",
       "[1310 rows x 14 columns]"
      ]
     },
     "execution_count": 14,
     "metadata": {},
     "output_type": "execute_result"
    }
   ],
   "source": [
    "df = pd.read_csv('titanic3.csv')\n",
    "df"
   ]
  },
  {
   "cell_type": "code",
   "execution_count": 15,
   "metadata": {},
   "outputs": [
    {
     "data": {
      "text/plain": [
       "array([38.16793893])"
      ]
     },
     "execution_count": 15,
     "metadata": {},
     "output_type": "execute_result"
    }
   ],
   "source": [
    "overall_survival_rate(arr)\n"
   ]
  },
  {
   "cell_type": "code",
   "execution_count": 16,
   "metadata": {},
   "outputs": [
    {
     "data": {
      "text/plain": [
       "pclass\n",
       "1.0    61.919505\n",
       "2.0    42.960289\n",
       "3.0    25.528914\n",
       "Name: survived, dtype: float64"
      ]
     },
     "execution_count": 16,
     "metadata": {},
     "output_type": "execute_result"
    }
   ],
   "source": [
    "survival_by_class(df)"
   ]
  },
  {
   "cell_type": "code",
   "execution_count": 17,
   "metadata": {},
   "outputs": [
    {
     "data": {
      "text/plain": [
       "FamilySize\n",
       "1.0     30.253165\n",
       "2.0     53.617021\n",
       "3.0     56.603774\n",
       "4.0     69.767442\n",
       "5.0     27.272727\n",
       "6.0     20.000000\n",
       "7.0     25.000000\n",
       "8.0      0.000000\n",
       "11.0     0.000000\n",
       "Name: survived, dtype: float64"
      ]
     },
     "execution_count": 17,
     "metadata": {},
     "output_type": "execute_result"
    }
   ],
   "source": [
    "survival_by_family_size(df)"
   ]
  },
  {
   "cell_type": "code",
   "execution_count": 18,
   "metadata": {},
   "outputs": [],
   "source": [
    "def survival_rate_by_category(data, category_col):\n",
    "    categories = data[category_col].unique()\n",
    "    survival_rates = []\n",
    "    for category in categories:\n",
    "        total_passengers = len(data[data[category_col] == category])\n",
    "        if total_passengers == 0:\n",
    "            continue\n",
    "        survived_passengers = len(data[(data[category_col] == category) & (data['survived'] == 1)])\n",
    "        survival_rate = survived_passengers / total_passengers\n",
    "        survival_rates.append((category, survival_rate))\n",
    "    return survival_rates"
   ]
  },
  {
   "cell_type": "code",
   "execution_count": 27,
   "metadata": {},
   "outputs": [
    {
     "ename": "AttributeError",
     "evalue": "'numpy.ndarray' object has no attribute 'unique'",
     "output_type": "error",
     "traceback": [
      "\u001b[0;31m---------------------------------------------------------------------------\u001b[0m",
      "\u001b[0;31mAttributeError\u001b[0m                            Traceback (most recent call last)",
      "\u001b[1;32m/home/user/Python_Training/Week-9/05 July/Prods/Assignment/Project_Titanic_Analysis/Analysis_Jupyter/Analysis.ipynb Cell 17\u001b[0m line \u001b[0;36m1\n\u001b[0;32m----> <a href='vscode-notebook-cell://idx-python-training-1720097755391.cluster-nx3nmmkbnfe54q3dd4pfbgilpc.cloudworkstations.dev/home/user/Python_Training/Week-9/05%20July/Prods/Assignment/Project_Titanic_Analysis/Analysis_Jupyter/Analysis.ipynb#X23sdnNjb2RlLXJlbW90ZQ%3D%3D?line=0'>1</a>\u001b[0m survival_rates_sex \u001b[39m=\u001b[39m survival_rate_by_category(arr, \u001b[39m'\u001b[39;49m\u001b[39msex\u001b[39;49m\u001b[39m'\u001b[39;49m)\n\u001b[1;32m      <a href='vscode-notebook-cell://idx-python-training-1720097755391.cluster-nx3nmmkbnfe54q3dd4pfbgilpc.cloudworkstations.dev/home/user/Python_Training/Week-9/05%20July/Prods/Assignment/Project_Titanic_Analysis/Analysis_Jupyter/Analysis.ipynb#X23sdnNjb2RlLXJlbW90ZQ%3D%3D?line=1'>2</a>\u001b[0m survival_rates_sex\n",
      "\u001b[1;32m/home/user/Python_Training/Week-9/05 July/Prods/Assignment/Project_Titanic_Analysis/Analysis_Jupyter/Analysis.ipynb Cell 17\u001b[0m line \u001b[0;36m2\n\u001b[1;32m      <a href='vscode-notebook-cell://idx-python-training-1720097755391.cluster-nx3nmmkbnfe54q3dd4pfbgilpc.cloudworkstations.dev/home/user/Python_Training/Week-9/05%20July/Prods/Assignment/Project_Titanic_Analysis/Analysis_Jupyter/Analysis.ipynb#X23sdnNjb2RlLXJlbW90ZQ%3D%3D?line=0'>1</a>\u001b[0m \u001b[39mdef\u001b[39;00m \u001b[39msurvival_rate_by_category\u001b[39m(data, category_col):\n\u001b[0;32m----> <a href='vscode-notebook-cell://idx-python-training-1720097755391.cluster-nx3nmmkbnfe54q3dd4pfbgilpc.cloudworkstations.dev/home/user/Python_Training/Week-9/05%20July/Prods/Assignment/Project_Titanic_Analysis/Analysis_Jupyter/Analysis.ipynb#X23sdnNjb2RlLXJlbW90ZQ%3D%3D?line=1'>2</a>\u001b[0m     categories \u001b[39m=\u001b[39m data[category_col]\u001b[39m.\u001b[39;49munique()\n\u001b[1;32m      <a href='vscode-notebook-cell://idx-python-training-1720097755391.cluster-nx3nmmkbnfe54q3dd4pfbgilpc.cloudworkstations.dev/home/user/Python_Training/Week-9/05%20July/Prods/Assignment/Project_Titanic_Analysis/Analysis_Jupyter/Analysis.ipynb#X23sdnNjb2RlLXJlbW90ZQ%3D%3D?line=2'>3</a>\u001b[0m     survival_rates \u001b[39m=\u001b[39m []\n\u001b[1;32m      <a href='vscode-notebook-cell://idx-python-training-1720097755391.cluster-nx3nmmkbnfe54q3dd4pfbgilpc.cloudworkstations.dev/home/user/Python_Training/Week-9/05%20July/Prods/Assignment/Project_Titanic_Analysis/Analysis_Jupyter/Analysis.ipynb#X23sdnNjb2RlLXJlbW90ZQ%3D%3D?line=3'>4</a>\u001b[0m     \u001b[39mfor\u001b[39;00m category \u001b[39min\u001b[39;00m categories:\n",
      "\u001b[0;31mAttributeError\u001b[0m: 'numpy.ndarray' object has no attribute 'unique'"
     ]
    }
   ],
   "source": [
    "survival_rates_sex = survival_rate_by_category(arr, 'sex')\n",
    "survival_rates_sex"
   ]
  },
  {
   "cell_type": "code",
   "execution_count": 26,
   "metadata": {},
   "outputs": [
    {
     "data": {
      "text/plain": [
       "[(np.float64(1.0), 0.6191950464396285),\n",
       " (np.float64(2.0), 0.4296028880866426),\n",
       " (np.float64(3.0), 0.2552891396332863)]"
      ]
     },
     "execution_count": 26,
     "metadata": {},
     "output_type": "execute_result"
    }
   ],
   "source": [
    "survival_rate_by_class = survival_rate_by_category(df, 'pclass')\n",
    "survival_rate_by_class"
   ]
  },
  {
   "cell_type": "code",
   "execution_count": 21,
   "metadata": {},
   "outputs": [],
   "source": [
    "def plot_survival_rate(data, category_col):\n",
    "    survival_rates = survival_rate_by_category(data, category_col)\n",
    "    categories, rates = zip(*survival_rates)\n",
    "    plt.figure(figsize=(8, 5))\n",
    "    plt.bar(categories, rates, color='skyblue')\n",
    "    plt.xlabel(category_col.capitalize())\n",
    "    plt.ylabel('Survival Rate')\n",
    "    plt.title(f'Survival Rates by {category_col.capitalize()}')\n",
    "    plt.ylim(0, 1)\n",
    "    plt.grid(axis='y', linestyle='--', alpha=0.7)\n",
    "    plt.show()"
   ]
  },
  {
   "cell_type": "code",
   "execution_count": 22,
   "metadata": {},
   "outputs": [
    {
     "data": {
      "image/png": "[encoded data removed]",
      "text/plain": [
       "<Figure size 800x500 with 1 Axes>"
      ]
     },
     "metadata": {},
     "output_type": "display_data"
    }
   ],
   "source": [
    "plot_survival_rate(df, 'sex')"
   ]
  },
  {
   "cell_type": "code",
   "execution_count": 24,
   "metadata": {},
   "outputs": [
    {
     "data": {
      "image/png": "[encoded data removed]",
      "text/plain": [
       "<Figure size 800x500 with 1 Axes>"
      ]
     },
     "metadata": {},
     "output_type": "display_data"
    }
   ],
   "source": [
    "plot_survival_rate(df, 'pclass')"
   ]
  },
  {
   "cell_type": "code",
   "execution_count": null,
   "metadata": {},
   "outputs": [],
   "source": []
  }
 ],
 "metadata": {
  "kernelspec": {
   "display_name": ".venv",
   "language": "python",
   "name": "python3"
  },
  "language_info": {
   "codemirror_mode": {
    "name": "ipython",
    "version": 3
   },
   "file_extension": ".py",
   "mimetype": "text/x-python",
   "name": "python",
   "nbconvert_exporter": "python",
   "pygments_lexer": "ipython3",
   "version": "3.11.8"
  }
 },
 "nbformat": 4,
 "nbformat_minor": 2
}
