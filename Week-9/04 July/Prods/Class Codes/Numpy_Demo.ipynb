{
 "cells": [
  {
   "cell_type": "code",
   "execution_count": 1,
   "metadata": {},
   "outputs": [
    {
     "name": "stdout",
     "output_type": "stream",
     "text": [
      "Collecting numpy\n",
      "  Downloading numpy-2.0.0-cp311-cp311-manylinux_2_17_x86_64.manylinux2014_x86_64.whl.metadata (60 kB)\n",
      "\u001b[2K     \u001b[90m━━━━━━━━━━━━━━━━━━━━━━━━━━━━━━━━━━━━━━━━\u001b[0m \u001b[32m60.9/60.9 kB\u001b[0m \u001b[31m2.9 MB/s\u001b[0m eta \u001b[36m0:00:00\u001b[0m\n",
      "\u001b[?25hDownloading numpy-2.0.0-cp311-cp311-manylinux_2_17_x86_64.manylinux2014_x86_64.whl (19.3 MB)\n",
      "\u001b[2K   \u001b[90m━━━━━━━━━━━━━━━━━━━━━━━━━━━━━━━━━━━━━━━━\u001b[0m \u001b[32m19.3/19.3 MB\u001b[0m \u001b[31m43.4 MB/s\u001b[0m eta \u001b[36m0:00:00\u001b[0m00:01\u001b[0m00:01\u001b[0m\n",
      "\u001b[?25hInstalling collected packages: numpy\n",
      "Successfully installed numpy-2.0.0\n"
     ]
    }
   ],
   "source": [
    "! pip install numpy"
   ]
  },
  {
   "cell_type": "code",
   "execution_count": 2,
   "metadata": {},
   "outputs": [],
   "source": [
    "import numpy as np"
   ]
  },
  {
   "cell_type": "code",
   "execution_count": 3,
   "metadata": {},
   "outputs": [
    {
     "data": {
      "text/plain": [
       "array([[[ 1,  2,  3],\n",
       "        [ 4,  5,  6],\n",
       "        [ 7,  8,  9]],\n",
       "\n",
       "       [[10, 11, 12],\n",
       "        [13, 14, 15],\n",
       "        [16, 17, 18]],\n",
       "\n",
       "       [[19, 20, 21],\n",
       "        [22, 23, 24],\n",
       "        [25, 26, 27]]], dtype=int32)"
      ]
     },
     "execution_count": 3,
     "metadata": {},
     "output_type": "execute_result"
    }
   ],
   "source": [
    "arr = np.arange(1, 28).reshape(3, 3, 3).astype('int32')\n",
    "arr"
   ]
  },
  {
   "cell_type": "code",
   "execution_count": 4,
   "metadata": {},
   "outputs": [
    {
     "data": {
      "text/plain": [
       "array([[[ 3,  1,  3],\n",
       "        [ 9,  7,  9],\n",
       "        [ 4,  7,  5]],\n",
       "\n",
       "       [[ 8,  8,  8],\n",
       "        [ 5,  8,  2],\n",
       "        [ 6,  7,  3]],\n",
       "\n",
       "       [[ 8,  3,  9],\n",
       "        [ 8,  7,  5],\n",
       "        [ 8,  4, 10]]], dtype=int32)"
      ]
     },
     "execution_count": 4,
     "metadata": {},
     "output_type": "execute_result"
    }
   ],
   "source": [
    "random_arr = np.random.randint(1, 11, size=(3,3,3), dtype='int32')\n",
    "random_arr"
   ]
  },
  {
   "cell_type": "code",
   "execution_count": 5,
   "metadata": {},
   "outputs": [
    {
     "name": "stdout",
     "output_type": "stream",
     "text": [
      "1 2 3 4 5 6 7 8 9 10 11 12 13 14 15 16 17 18 19 20 21 22 23 24 25 26 27 "
     ]
    }
   ],
   "source": [
    "for x in np.nditer(arr):\n",
    "    print(x, end=\" \")"
   ]
  },
  {
   "cell_type": "code",
   "execution_count": 6,
   "metadata": {},
   "outputs": [
    {
     "name": "stdout",
     "output_type": "stream",
     "text": [
      "1 10 19 4 13 22 7 16 25 2 11 20 5 14 23 8 17 26 3 12 21 6 15 24 9 18 27 "
     ]
    }
   ],
   "source": [
    "for x in np.nditer(arr, order=\"F\"):\n",
    "    print(x, end=\" \")"
   ]
  },
  {
   "cell_type": "code",
   "execution_count": 7,
   "metadata": {},
   "outputs": [
    {
     "name": "stdout",
     "output_type": "stream",
     "text": [
      "1 2 3 4 5 6 7 8 9 10 11 12 13 14 15 16 17 18 19 20 21 22 23 24 25 26 27 "
     ]
    }
   ],
   "source": [
    "for x in np.nditer(arr, order=\"C\"):\n",
    "    print(x, end=\" \")"
   ]
  },
  {
   "cell_type": "code",
   "execution_count": 8,
   "metadata": {},
   "outputs": [
    {
     "name": "stdout",
     "output_type": "stream",
     "text": [
      "1 2 3 4 5 6 7 8 9 10 11 12 13 14 15 16 17 18 19 20 21 22 23 24 25 26 27 "
     ]
    }
   ],
   "source": [
    "for x in np.nditer(arr, order=\"A\"):\n",
    "    print(x, end=\" \")"
   ]
  },
  {
   "cell_type": "code",
   "execution_count": 9,
   "metadata": {},
   "outputs": [
    {
     "data": {
      "text/plain": [
       "(3, 3, 3)"
      ]
     },
     "execution_count": 9,
     "metadata": {},
     "output_type": "execute_result"
    }
   ],
   "source": [
    "nd_arr = arr * random_arr\n",
    "nd_arr.shape"
   ]
  },
  {
   "cell_type": "code",
   "execution_count": 10,
   "metadata": {},
   "outputs": [
    {
     "data": {
      "text/plain": [
       "array([[[  3,   2,   9],\n",
       "        [ 36,  35,  54],\n",
       "        [ 28,  56,  45]],\n",
       "\n",
       "       [[ 80,  88,  96],\n",
       "        [ 65, 112,  30],\n",
       "        [ 96, 119,  54]],\n",
       "\n",
       "       [[152,  60, 189],\n",
       "        [176, 161, 120],\n",
       "        [200, 104, 270]]], dtype=int32)"
      ]
     },
     "execution_count": 10,
     "metadata": {},
     "output_type": "execute_result"
    }
   ],
   "source": [
    "nd_arr"
   ]
  },
  {
   "cell_type": "code",
   "execution_count": 11,
   "metadata": {},
   "outputs": [
    {
     "data": {
      "text/plain": [
       "array([[[[ 1],\n",
       "         [ 2],\n",
       "         [ 3]],\n",
       "\n",
       "        [[ 4],\n",
       "         [ 5],\n",
       "         [ 6]],\n",
       "\n",
       "        [[ 7],\n",
       "         [ 8],\n",
       "         [ 9]]],\n",
       "\n",
       "\n",
       "       [[[10],\n",
       "         [11],\n",
       "         [12]],\n",
       "\n",
       "        [[13],\n",
       "         [14],\n",
       "         [15]],\n",
       "\n",
       "        [[16],\n",
       "         [17],\n",
       "         [18]]],\n",
       "\n",
       "\n",
       "       [[[19],\n",
       "         [20],\n",
       "         [21]],\n",
       "\n",
       "        [[22],\n",
       "         [23],\n",
       "         [24]],\n",
       "\n",
       "        [[25],\n",
       "         [26],\n",
       "         [27]]]], dtype=int32)"
      ]
     },
     "execution_count": 11,
     "metadata": {},
     "output_type": "execute_result"
    }
   ],
   "source": [
    "arr = arr.reshape(3,3,3,1)\n",
    "arr"
   ]
  },
  {
   "cell_type": "code",
   "execution_count": 12,
   "metadata": {},
   "outputs": [
    {
     "data": {
      "text/plain": [
       "array([[[[  3,   1,   3],\n",
       "         [ 18,  14,  18],\n",
       "         [ 12,  21,  15]],\n",
       "\n",
       "        [[ 32,  32,  32],\n",
       "         [ 25,  40,  10],\n",
       "         [ 36,  42,  18]],\n",
       "\n",
       "        [[ 56,  21,  63],\n",
       "         [ 64,  56,  40],\n",
       "         [ 72,  36,  90]]],\n",
       "\n",
       "\n",
       "       [[[ 30,  10,  30],\n",
       "         [ 99,  77,  99],\n",
       "         [ 48,  84,  60]],\n",
       "\n",
       "        [[104, 104, 104],\n",
       "         [ 70, 112,  28],\n",
       "         [ 90, 105,  45]],\n",
       "\n",
       "        [[128,  48, 144],\n",
       "         [136, 119,  85],\n",
       "         [144,  72, 180]]],\n",
       "\n",
       "\n",
       "       [[[ 57,  19,  57],\n",
       "         [180, 140, 180],\n",
       "         [ 84, 147, 105]],\n",
       "\n",
       "        [[176, 176, 176],\n",
       "         [115, 184,  46],\n",
       "         [144, 168,  72]],\n",
       "\n",
       "        [[200,  75, 225],\n",
       "         [208, 182, 130],\n",
       "         [216, 108, 270]]]], dtype=int32)"
      ]
     },
     "execution_count": 12,
     "metadata": {},
     "output_type": "execute_result"
    }
   ],
   "source": [
    "new_arr = arr * random_arr\n",
    "new_arr"
   ]
  },
  {
   "cell_type": "code",
   "execution_count": 13,
   "metadata": {},
   "outputs": [],
   "source": [
    "@np.vectorize\n",
    "def myfunc(a, b):\n",
    "    if a > b:\n",
    "        return a - b\n",
    "    else:\n",
    "        return a + b"
   ]
  },
  {
   "cell_type": "code",
   "execution_count": 14,
   "metadata": {},
   "outputs": [
    {
     "data": {
      "text/plain": [
       "array([3, 4, 1, 2])"
      ]
     },
     "execution_count": 14,
     "metadata": {},
     "output_type": "execute_result"
    }
   ],
   "source": [
    "myfunc([1, 2, 3, 4], 2)"
   ]
  }
 ],
 "metadata": {
  "kernelspec": {
   "display_name": ".venv",
   "language": "python",
   "name": "python3"
  },
  "language_info": {
   "codemirror_mode": {
    "name": "ipython",
    "version": 3
   },
   "file_extension": ".py",
   "mimetype": "text/x-python",
   "name": "python",
   "nbconvert_exporter": "python",
   "pygments_lexer": "ipython3",
   "version": "3.11.8"
  }
 },
 "nbformat": 4,
 "nbformat_minor": 2
}
