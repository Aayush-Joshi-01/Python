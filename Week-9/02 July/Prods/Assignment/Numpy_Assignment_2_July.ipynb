{
 "cells": [
  {
   "cell_type": "code",
   "execution_count": 2,
   "metadata": {},
   "outputs": [
    {
     "name": "stdout",
     "output_type": "stream",
     "text": [
      "Requirement already satisfied: numpy in /home/user/Python_Training/.venv/lib/python3.11/site-packages (2.0.0)\n"
     ]
    }
   ],
   "source": [
    "! pip install numpy"
   ]
  },
  {
   "cell_type": "code",
   "execution_count": 3,
   "metadata": {},
   "outputs": [],
   "source": [
    "import numpy as np"
   ]
  },
  {
   "cell_type": "markdown",
   "metadata": {},
   "source": [
    "# Numpy Data Type Practice\n",
    "\n",
    "- Create a 1D array of integers from 1 to 5 with data type int32.\n",
    "\n",
    "- Create a 2D array of shape (3, 3) with data type float64 where all elements are zero.\n",
    "\n",
    "- Create a 3D array of shape (2, 2, 2) with random integers between 0 and 100 with data type int8.\n",
    "\n",
    "- Convert a 1D array of integers to an array of floats.\n",
    "\n",
    "- Create a 2D array of shape (2, 3) with data type float32 and then convert it to int32.\n"
   ]
  },
  {
   "cell_type": "code",
   "execution_count": 4,
   "metadata": {},
   "outputs": [
    {
     "data": {
      "text/plain": [
       "array([1, 2, 3, 4, 5], dtype=int32)"
      ]
     },
     "execution_count": 4,
     "metadata": {},
     "output_type": "execute_result"
    }
   ],
   "source": [
    "arr = np.arange(1,6,dtype=np.int32)\n",
    "arr"
   ]
  },
  {
   "cell_type": "code",
   "execution_count": 5,
   "metadata": {},
   "outputs": [
    {
     "data": {
      "text/plain": [
       "array([[0., 0., 0.],\n",
       "       [0., 0., 0.],\n",
       "       [0., 0., 0.]])"
      ]
     },
     "execution_count": 5,
     "metadata": {},
     "output_type": "execute_result"
    }
   ],
   "source": [
    "arr = np.zeros((3, 3), dtype=np.float64)\n",
    "arr"
   ]
  },
  {
   "cell_type": "code",
   "execution_count": 6,
   "metadata": {},
   "outputs": [
    {
     "data": {
      "text/plain": [
       "array([[[83, 76],\n",
       "        [69, 38]],\n",
       "\n",
       "       [[67, 26],\n",
       "        [93, 27]]], dtype=int8)"
      ]
     },
     "execution_count": 6,
     "metadata": {},
     "output_type": "execute_result"
    }
   ],
   "source": [
    "arr = np.random.randint(0, 100, size=(2, 2, 2), dtype=np.int8)\n",
    "arr"
   ]
  },
  {
   "cell_type": "code",
   "execution_count": 7,
   "metadata": {},
   "outputs": [
    {
     "data": {
      "text/plain": [
       "array([[0, 0],\n",
       "       [0, 0]], dtype=int8)"
      ]
     },
     "execution_count": 7,
     "metadata": {},
     "output_type": "execute_result"
    }
   ],
   "source": [
    "arr_int = np.zeros((2,2),dtype=np.int8)\n",
    "arr_int"
   ]
  },
  {
   "cell_type": "code",
   "execution_count": 8,
   "metadata": {},
   "outputs": [
    {
     "data": {
      "text/plain": [
       "array([[0., 0.],\n",
       "       [0., 0.]], dtype=float32)"
      ]
     },
     "execution_count": 8,
     "metadata": {},
     "output_type": "execute_result"
    }
   ],
   "source": [
    "arr_float = arr_int.astype(np.float32)\n",
    "arr_float"
   ]
  },
  {
   "cell_type": "code",
   "execution_count": 9,
   "metadata": {},
   "outputs": [
    {
     "data": {
      "text/plain": [
       "array([[1, 2, 3],\n",
       "       [4, 5, 6]], dtype=int32)"
      ]
     },
     "execution_count": 9,
     "metadata": {},
     "output_type": "execute_result"
    }
   ],
   "source": [
    "arr_float32 = np.array([[1.87, 2.9, 3.07], [4.5, 5.3, 6.06]], dtype=np.float32)\n",
    "arr_int32 = arr_float32.astype(np.int32)\n",
    "arr_int32\n"
   ]
  },
  {
   "cell_type": "markdown",
   "metadata": {},
   "source": [
    "# Numpy 3-D Array Practice\n",
    "- Create a 3D array of shape (4, 3, 2) with all elements initialized to zero.\n",
    "\n",
    "- Create a 3D array of shape (2, 5, 4) with all elements initialized to one.\n",
    "\n",
    "- Create a 3D array of shape (3, 3, 3) with random integers between 10 and 20."
   ]
  },
  {
   "cell_type": "code",
   "execution_count": 10,
   "metadata": {},
   "outputs": [
    {
     "data": {
      "text/plain": [
       "array([[[0., 0.],\n",
       "        [0., 0.],\n",
       "        [0., 0.]],\n",
       "\n",
       "       [[0., 0.],\n",
       "        [0., 0.],\n",
       "        [0., 0.]],\n",
       "\n",
       "       [[0., 0.],\n",
       "        [0., 0.],\n",
       "        [0., 0.]],\n",
       "\n",
       "       [[0., 0.],\n",
       "        [0., 0.],\n",
       "        [0., 0.]]])"
      ]
     },
     "execution_count": 10,
     "metadata": {},
     "output_type": "execute_result"
    }
   ],
   "source": [
    "arr = np.zeros((4, 3, 2))\n",
    "arr"
   ]
  },
  {
   "cell_type": "code",
   "execution_count": 11,
   "metadata": {},
   "outputs": [
    {
     "data": {
      "text/plain": [
       "array([[[1., 1., 1., 1.],\n",
       "        [1., 1., 1., 1.],\n",
       "        [1., 1., 1., 1.],\n",
       "        [1., 1., 1., 1.],\n",
       "        [1., 1., 1., 1.]],\n",
       "\n",
       "       [[1., 1., 1., 1.],\n",
       "        [1., 1., 1., 1.],\n",
       "        [1., 1., 1., 1.],\n",
       "        [1., 1., 1., 1.],\n",
       "        [1., 1., 1., 1.]]])"
      ]
     },
     "execution_count": 11,
     "metadata": {},
     "output_type": "execute_result"
    }
   ],
   "source": [
    "arr = np.ones((2, 5, 4))\n",
    "arr"
   ]
  },
  {
   "cell_type": "code",
   "execution_count": 12,
   "metadata": {},
   "outputs": [
    {
     "data": {
      "text/plain": [
       "array([[[14, 11, 18],\n",
       "        [15, 18, 17],\n",
       "        [11, 19, 10]],\n",
       "\n",
       "       [[10, 14, 17],\n",
       "        [16, 15, 11],\n",
       "        [19, 19, 10]],\n",
       "\n",
       "       [[10, 11, 16],\n",
       "        [11, 12, 18],\n",
       "        [18, 17, 18]]], dtype=int32)"
      ]
     },
     "execution_count": 12,
     "metadata": {},
     "output_type": "execute_result"
    }
   ],
   "source": [
    "arr = np.random.randint(10, 20, size=(3,3,3), dtype=np.int32)\n",
    "arr"
   ]
  },
  {
   "cell_type": "markdown",
   "metadata": {},
   "source": [
    "1. Create a 3D array of dimensions 3x3x3 with all elements initialized to zero.\n",
    "\n",
    "   ```python\n",
    "   array_3d = np.zeros((3, 3, 3), dtype=int)\n",
    "   ```\n",
    "\n",
    "   Optionally, initialize with some values for practice:\n",
    "\n",
    "   ```python\n",
    "   array_3d = np.array([[[ 1,  2,  3], [ 4,  5,  6], [ 7,  8,  9]],\n",
    "                        [[10, 11, 12], [13, 14, 15], [16, 17, 18]],\n",
    "                        [[19, 20, 21], [22, 23, 24], [25, 26, 27]]])\n",
    "   ```\n",
    "\n",
    "   Iterate over all elements in the 3D array."
   ]
  },
  {
   "cell_type": "code",
   "execution_count": 13,
   "metadata": {},
   "outputs": [
    {
     "data": {
      "text/plain": [
       "array([[[ 1,  2,  3],\n",
       "        [ 4,  5,  6],\n",
       "        [ 7,  8,  9]],\n",
       "\n",
       "       [[10, 11, 12],\n",
       "        [13, 14, 15],\n",
       "        [16, 17, 18]],\n",
       "\n",
       "       [[19, 20, 21],\n",
       "        [22, 23, 24],\n",
       "        [25, 26, 27]]])"
      ]
     },
     "execution_count": 13,
     "metadata": {},
     "output_type": "execute_result"
    }
   ],
   "source": [
    "array_3d = np.zeros((3, 3, 3), dtype=int)\n",
    "array_3d = np.array([[[ 1,  2,  3], [ 4,  5,  6], [ 7,  8,  9]],\n",
    "                        [[10, 11, 12], [13, 14, 15], [16, 17, 18]],\n",
    "                        [[19, 20, 21], [22, 23, 24], [25, 26, 27]]])\n",
    "array_3d"
   ]
  },
  {
   "cell_type": "code",
   "execution_count": 14,
   "metadata": {},
   "outputs": [
    {
     "name": "stdout",
     "output_type": "stream",
     "text": [
      "1 2 3  \n",
      "4 5 6  \n",
      "7 8 9  \n",
      " \n",
      "10 11 12  \n",
      "13 14 15  \n",
      "16 17 18  \n",
      " \n",
      "19 20 21  \n",
      "22 23 24  \n",
      "25 26 27  \n",
      " \n"
     ]
    }
   ],
   "source": [
    "for i in range(3):\n",
    "    for j in range(3):\n",
    "        for k in range(3):\n",
    "            print(array_3d[i][j][k], end=' ')\n",
    "        print(\" \")\n",
    "    print(\" \")"
   ]
  },
  {
   "cell_type": "markdown",
   "metadata": {},
   "source": [
    "2. Create a 3D array of shape (3, 4, 5) filled with random integers between 0 and 20, and print the array.\n",
    "\n",
    "   - Access and print the element at position (2, 3, 4) in the 3D array created above.\n",
    "\n",
    "   - Access and print the entire first row of the second matrix (i.e., when the first-dimension index is 1).\n",
    "\n",
    "   - Add 5 to each element in the 3D array and print the result.\n",
    "\n",
    "   - Multiply each element in the 3D array by 2 and print the result.\n",
    "\n",
    "   - Calculate and print the sum of all elements in the 3D array.\n",
    "\n",
    "   - Calculate and print the mean of the elements along the second axis.\n",
    "\n",
    "   - Create a new array containing only the elements from the original 3D array that are greater than 10.\n",
    "\n",
    "   - Replace all elements in the 3D array that are less than 10 with the value 0 and print the modified array."
   ]
  },
  {
   "cell_type": "code",
   "execution_count": 15,
   "metadata": {},
   "outputs": [
    {
     "data": {
      "text/plain": [
       "array([[[ 7, 15,  2, 15,  4],\n",
       "        [10,  7,  1, 19, 12],\n",
       "        [15, 18, 17, 15, 10],\n",
       "        [14, 19,  5,  2, 12]],\n",
       "\n",
       "       [[ 9,  8,  4,  7,  8],\n",
       "        [19, 12,  8, 15, 19],\n",
       "        [ 6,  4, 15,  3,  5],\n",
       "        [14, 16,  9, 15, 11]],\n",
       "\n",
       "       [[19, 16, 15,  5, 14],\n",
       "        [17, 12, 14, 12, 13],\n",
       "        [ 5,  7, 18,  7,  4],\n",
       "        [ 1, 12,  7, 19, 13]]], dtype=int32)"
      ]
     },
     "execution_count": 15,
     "metadata": {},
     "output_type": "execute_result"
    }
   ],
   "source": [
    "arr = np.random.randint(0, 20, size=(3, 4, 5), dtype=np.int32)\n",
    "arr"
   ]
  },
  {
   "cell_type": "code",
   "execution_count": 17,
   "metadata": {},
   "outputs": [
    {
     "data": {
      "text/plain": [
       "np.int32(13)"
      ]
     },
     "execution_count": 17,
     "metadata": {},
     "output_type": "execute_result"
    }
   ],
   "source": [
    "arr[2, 3, 4]"
   ]
  },
  {
   "cell_type": "code",
   "execution_count": 19,
   "metadata": {},
   "outputs": [
    {
     "data": {
      "text/plain": [
       "array([9, 8, 4, 7, 8], dtype=int32)"
      ]
     },
     "execution_count": 19,
     "metadata": {},
     "output_type": "execute_result"
    }
   ],
   "source": [
    "arr[1,0]"
   ]
  },
  {
   "cell_type": "code",
   "execution_count": 22,
   "metadata": {},
   "outputs": [
    {
     "data": {
      "text/plain": [
       "array([[[17, 25, 12, 25, 14],\n",
       "        [20, 17, 11, 29, 22],\n",
       "        [25, 28, 27, 25, 20],\n",
       "        [24, 29, 15, 12, 22]],\n",
       "\n",
       "       [[19, 18, 14, 17, 18],\n",
       "        [29, 22, 18, 25, 29],\n",
       "        [16, 14, 25, 13, 15],\n",
       "        [24, 26, 19, 25, 21]],\n",
       "\n",
       "       [[29, 26, 25, 15, 24],\n",
       "        [27, 22, 24, 22, 23],\n",
       "        [15, 17, 28, 17, 14],\n",
       "        [11, 22, 17, 29, 23]]], dtype=int32)"
      ]
     },
     "execution_count": 22,
     "metadata": {},
     "output_type": "execute_result"
    }
   ],
   "source": [
    "arr_add = arr + 5\n",
    "arr_add"
   ]
  },
  {
   "cell_type": "code",
   "execution_count": 23,
   "metadata": {},
   "outputs": [
    {
     "data": {
      "text/plain": [
       "array([[[24, 40, 14, 40, 18],\n",
       "        [30, 24, 12, 48, 34],\n",
       "        [40, 46, 44, 40, 30],\n",
       "        [38, 48, 20, 14, 34]],\n",
       "\n",
       "       [[28, 26, 18, 24, 26],\n",
       "        [48, 34, 26, 40, 48],\n",
       "        [22, 18, 40, 16, 20],\n",
       "        [38, 42, 28, 40, 32]],\n",
       "\n",
       "       [[48, 42, 40, 20, 38],\n",
       "        [44, 34, 38, 34, 36],\n",
       "        [20, 24, 46, 24, 18],\n",
       "        [12, 34, 24, 48, 36]]], dtype=int32)"
      ]
     },
     "execution_count": 23,
     "metadata": {},
     "output_type": "execute_result"
    }
   ],
   "source": [
    "arr_mul = arr * 2\n",
    "arr_mul"
   ]
  },
  {
   "cell_type": "code",
   "execution_count": 24,
   "metadata": {},
   "outputs": [
    {
     "data": {
      "text/plain": [
       "np.int64(956)"
      ]
     },
     "execution_count": 24,
     "metadata": {},
     "output_type": "execute_result"
    }
   ],
   "source": [
    "np.sum(arr)"
   ]
  },
  {
   "cell_type": "code",
   "execution_count": 30,
   "metadata": {},
   "outputs": [
    {
     "name": "stdout",
     "output_type": "stream",
     "text": [
      "[[16.5  19.75 11.25 17.75 14.5 ]\n",
      " [17.   15.   14.   15.   15.75]\n",
      " [15.5  16.75 18.5  15.75 16.  ]]\n"
     ]
    }
   ],
   "source": [
    "print(arr.mean(axis=1))"
   ]
  },
  {
   "cell_type": "code",
   "execution_count": 29,
   "metadata": {},
   "outputs": [
    {
     "data": {
      "text/plain": [
       "array([12, 20, 20, 15, 12, 24, 17, 20, 23, 22, 20, 15, 19, 24, 17, 14, 13,\n",
       "       12, 13, 24, 17, 13, 20, 24, 11, 20, 19, 21, 14, 20, 16, 24, 21, 20,\n",
       "       19, 22, 17, 19, 17, 18, 12, 23, 12, 17, 12, 24, 18], dtype=int32)"
      ]
     },
     "execution_count": 29,
     "metadata": {},
     "output_type": "execute_result"
    }
   ],
   "source": [
    "new_array = arr[arr > 10]\n",
    "new_array"
   ]
  },
  {
   "cell_type": "code",
   "execution_count": 32,
   "metadata": {},
   "outputs": [
    {
     "data": {
      "text/plain": [
       "array([[[12, 20,  0, 20,  0],\n",
       "        [15, 12,  0, 24, 17],\n",
       "        [20, 23, 22, 20, 15],\n",
       "        [19, 24, 10,  0, 17]],\n",
       "\n",
       "       [[14, 13,  0, 12, 13],\n",
       "        [24, 17, 13, 20, 24],\n",
       "        [11,  0, 20,  0, 10],\n",
       "        [19, 21, 14, 20, 16]],\n",
       "\n",
       "       [[24, 21, 20, 10, 19],\n",
       "        [22, 17, 19, 17, 18],\n",
       "        [10, 12, 23, 12,  0],\n",
       "        [ 0, 17, 12, 24, 18]]], dtype=int32)"
      ]
     },
     "execution_count": 32,
     "metadata": {},
     "output_type": "execute_result"
    }
   ],
   "source": [
    "arr[arr < 10] = 0\n",
    "arr"
   ]
  }
 ],
 "metadata": {
  "kernelspec": {
   "display_name": ".venv",
   "language": "python",
   "name": "python3"
  },
  "language_info": {
   "codemirror_mode": {
    "name": "ipython",
    "version": 3
   },
   "file_extension": ".py",
   "mimetype": "text/x-python",
   "name": "python",
   "nbconvert_exporter": "python",
   "pygments_lexer": "ipython3",
   "version": "3.11.8"
  }
 },
 "nbformat": 4,
 "nbformat_minor": 2
}
