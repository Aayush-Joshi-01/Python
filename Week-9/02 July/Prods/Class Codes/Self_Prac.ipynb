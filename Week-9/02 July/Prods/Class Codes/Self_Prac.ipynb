{
 "cells": [
  {
   "cell_type": "markdown",
   "metadata": {},
   "source": [
    "# Numpy Data Types"
   ]
  },
  {
   "cell_type": "code",
   "execution_count": 2,
   "metadata": {},
   "outputs": [
    {
     "name": "stdout",
     "output_type": "stream",
     "text": [
      "Requirement already satisfied: numpy in /home/user/Python_Training/.venv/lib/python3.11/site-packages (2.0.0)\n"
     ]
    }
   ],
   "source": [
    "! pip install numpy"
   ]
  },
  {
   "cell_type": "code",
   "execution_count": 3,
   "metadata": {},
   "outputs": [],
   "source": [
    "import numpy as np"
   ]
  },
  {
   "cell_type": "markdown",
   "metadata": {},
   "source": [
    "**Unsigned Integer that has positive part of the range only**"
   ]
  },
  {
   "cell_type": "code",
   "execution_count": 4,
   "metadata": {},
   "outputs": [
    {
     "data": {
      "text/plain": [
       "array([ 1,  2,  3,  4,  5,  6,  7,  8,  9, 10, 11, 12, 13, 14, 15, 16, 17,\n",
       "       18, 19, 20], dtype=uint8)"
      ]
     },
     "execution_count": 4,
     "metadata": {},
     "output_type": "execute_result"
    }
   ],
   "source": [
    "arr = np.arange(1, 21, dtype=np.uint8)\n",
    "arr"
   ]
  },
  {
   "cell_type": "code",
   "execution_count": 5,
   "metadata": {},
   "outputs": [
    {
     "data": {
      "text/plain": [
       "array(['hello', 'world!'], dtype='<U6')"
      ]
     },
     "execution_count": 5,
     "metadata": {},
     "output_type": "execute_result"
    }
   ],
   "source": [
    "np.array([\"hello\", \"world!\"])"
   ]
  },
  {
   "cell_type": "code",
   "execution_count": 6,
   "metadata": {},
   "outputs": [
    {
     "name": "stdout",
     "output_type": "stream",
     "text": [
      " float64(x=0, /)\n",
      "\n",
      "Double-precision floating-point number type, compatible with Python\n",
      ":class:`float` and C ``double``.\n",
      "\n",
      ":Character code: ``'d'``\n",
      ":Canonical name: `numpy.double`\n",
      ":Alias on this platform (Linux x86_64): `numpy.float64`: 64-bit precision floating-point number type: sign bit, 11 bits exponent, 52 bits mantissa.\n",
      "\n",
      "\n",
      "Methods:\n",
      "\n",
      "  all  --  Scalar method identical to the corresponding array attribute.\n",
      "  any  --  Scalar method identical to the corresponding array attribute.\n",
      "  argmax  --  Scalar method identical to the corresponding array attribute.\n",
      "  argmin  --  Scalar method identical to the corresponding array attribute.\n",
      "  argsort  --  Scalar method identical to the corresponding array attribute.\n",
      "  as_integer_ratio  --  double.as_integer_ratio() -> (int, int)\n",
      "  astype  --  Scalar method identical to the corresponding array attribute.\n",
      "  byteswap  --  Scalar method identical to the corresponding array attribute.\n",
      "  choose  --  Scalar method identical to the corresponding array attribute.\n",
      "  clip  --  Scalar method identical to the corresponding array attribute.\n",
      "  compress  --  Scalar method identical to the corresponding array attribute.\n",
      "  conj  --  None\n",
      "  conjugate  --  Scalar method identical to the corresponding array attribute.\n",
      "  copy  --  Scalar method identical to the corresponding array attribute.\n",
      "  cumprod  --  Scalar method identical to the corresponding array attribute.\n",
      "  cumsum  --  Scalar method identical to the corresponding array attribute.\n",
      "  diagonal  --  Scalar method identical to the corresponding array attribute.\n",
      "  dump  --  Scalar method identical to the corresponding array attribute.\n",
      "  dumps  --  Scalar method identical to the corresponding array attribute.\n",
      "  fill  --  Scalar method identical to the corresponding array attribute.\n",
      "  flatten  --  Scalar method identical to the corresponding array attribute.\n",
      "  fromhex  --  Create a floating-point number from a hexadecimal string.\n",
      "  getfield  --  Scalar method identical to the corresponding array attribute.\n",
      "  hex  --  Return a hexadecimal representation of a floating-point number.\n",
      "  is_integer  --  double.is_integer() -> bool\n",
      "  item  --  Scalar method identical to the corresponding array attribute.\n",
      "  max  --  Scalar method identical to the corresponding array attribute.\n",
      "  mean  --  Scalar method identical to the corresponding array attribute.\n",
      "  min  --  Scalar method identical to the corresponding array attribute.\n",
      "  nonzero  --  Scalar method identical to the corresponding array attribute.\n",
      "  prod  --  Scalar method identical to the corresponding array attribute.\n",
      "  put  --  Scalar method identical to the corresponding array attribute.\n",
      "  ravel  --  Scalar method identical to the corresponding array attribute.\n",
      "  repeat  --  Scalar method identical to the corresponding array attribute.\n",
      "  reshape  --  Scalar method identical to the corresponding array attribute.\n",
      "  resize  --  Scalar method identical to the corresponding array attribute.\n",
      "  round  --  Scalar method identical to the corresponding array attribute.\n",
      "  searchsorted  --  Scalar method identical to the corresponding array attribute.\n",
      "  setfield  --  Scalar method identical to the corresponding array attribute.\n",
      "  setflags  --  Scalar method identical to the corresponding array attribute.\n",
      "  sort  --  Scalar method identical to the corresponding array attribute.\n",
      "  squeeze  --  Scalar method identical to the corresponding array attribute.\n",
      "  std  --  Scalar method identical to the corresponding array attribute.\n",
      "  sum  --  Scalar method identical to the corresponding array attribute.\n",
      "  swapaxes  --  Scalar method identical to the corresponding array attribute.\n",
      "  take  --  Scalar method identical to the corresponding array attribute.\n",
      "  tobytes  --  None\n",
      "  tofile  --  Scalar method identical to the corresponding array attribute.\n",
      "  tolist  --  Scalar method identical to the corresponding array attribute.\n",
      "  tostring  --  Scalar method identical to the corresponding array attribute.\n",
      "  trace  --  Scalar method identical to the corresponding array attribute.\n",
      "  transpose  --  Scalar method identical to the corresponding array attribute.\n",
      "  var  --  Scalar method identical to the corresponding array attribute.\n",
      "  view  --  Scalar method identical to the corresponding array attribute.\n"
     ]
    }
   ],
   "source": [
    "np.info(np.float64)"
   ]
  },
  {
   "cell_type": "code",
   "execution_count": 26,
   "metadata": {},
   "outputs": [
    {
     "name": "stdout",
     "output_type": "stream",
     "text": [
      "class:  ndarray\n",
      "shape:  (2, 5)\n",
      "strides:  (40, 8)\n",
      "itemsize:  8\n",
      "aligned:  True\n",
      "contiguous:  True\n",
      "fortran:  False\n",
      "data pointer: 0x1a4fd90\n",
      "byteorder:  little\n",
      "byteswap:  False\n",
      "type: int64\n"
     ]
    }
   ],
   "source": [
    "arr = np.arange(1,11, dtype='i8').reshape(2,5)\n",
    "arr.dtype\n",
    "np.info(arr)"
   ]
  },
  {
   "cell_type": "code",
   "execution_count": 27,
   "metadata": {},
   "outputs": [
    {
     "data": {
      "text/plain": [
       "array([[ 1,  2,  3,  4,  5],\n",
       "       [ 6,  7,  8,  9, 10]])"
      ]
     },
     "execution_count": 27,
     "metadata": {},
     "output_type": "execute_result"
    }
   ],
   "source": [
    "\n",
    "arr"
   ]
  },
  {
   "cell_type": "code",
   "execution_count": null,
   "metadata": {},
   "outputs": [],
   "source": []
  }
 ],
 "metadata": {
  "kernelspec": {
   "display_name": ".venv",
   "language": "python",
   "name": "python3"
  },
  "language_info": {
   "codemirror_mode": {
    "name": "ipython",
    "version": 3
   },
   "file_extension": ".py",
   "mimetype": "text/x-python",
   "name": "python",
   "nbconvert_exporter": "python",
   "pygments_lexer": "ipython3",
   "version": "3.11.8"
  }
 },
 "nbformat": 4,
 "nbformat_minor": 2
}
