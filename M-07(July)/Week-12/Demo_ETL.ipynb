{
 "cells": [
  {
   "cell_type": "code",
   "execution_count": 3,
   "metadata": {},
   "outputs": [
    {
     "name": "stdout",
     "output_type": "stream",
     "text": [
      "Collecting mysql\n",
      "  Downloading mysql-0.0.3-py3-none-any.whl.metadata (746 bytes)\n",
      "Collecting mysqlclient (from mysql)\n",
      "  Downloading mysqlclient-2.2.4-cp312-cp312-win_amd64.whl.metadata (4.6 kB)\n",
      "Downloading mysql-0.0.3-py3-none-any.whl (1.2 kB)\n",
      "Downloading mysqlclient-2.2.4-cp312-cp312-win_amd64.whl (203 kB)\n",
      "   ---------------------------------------- 0.0/203.3 kB ? eta -:--:--\n",
      "   -------------------------------------- - 194.6/203.3 kB 3.9 MB/s eta 0:00:01\n",
      "   ---------------------------------------- 203.3/203.3 kB 4.1 MB/s eta 0:00:00\n",
      "Installing collected packages: mysqlclient, mysql\n",
      "Successfully installed mysql-0.0.3 mysqlclient-2.2.4\n",
      "Collecting mysql-connector-python\n",
      "  Downloading mysql_connector_python-9.0.0-cp312-cp312-win_amd64.whl.metadata (2.0 kB)\n",
      "Downloading mysql_connector_python-9.0.0-cp312-cp312-win_amd64.whl (14.3 MB)\n",
      "   ---------------------------------------- 0.0/14.3 MB ? eta -:--:--\n",
      "   ---------------------------------------- 0.1/14.3 MB 3.6 MB/s eta 0:00:04\n",
      "   - -------------------------------------- 0.5/14.3 MB 4.7 MB/s eta 0:00:03\n",
      "   --- ------------------------------------ 1.1/14.3 MB 6.3 MB/s eta 0:00:03\n",
      "   ---- ----------------------------------- 1.5/14.3 MB 7.6 MB/s eta 0:00:02\n",
      "   ----- ---------------------------------- 2.0/14.3 MB 7.9 MB/s eta 0:00:02\n",
      "   ------ --------------------------------- 2.4/14.3 MB 7.6 MB/s eta 0:00:02\n",
      "   ------- -------------------------------- 2.8/14.3 MB 7.8 MB/s eta 0:00:02\n",
      "   --------- ------------------------------ 3.4/14.3 MB 8.2 MB/s eta 0:00:02\n",
      "   ---------- ----------------------------- 3.9/14.3 MB 8.7 MB/s eta 0:00:02\n",
      "   ----------- ---------------------------- 4.3/14.3 MB 8.3 MB/s eta 0:00:02\n",
      "   ------------- -------------------------- 4.8/14.3 MB 8.5 MB/s eta 0:00:02\n",
      "   -------------- ------------------------- 5.2/14.3 MB 8.7 MB/s eta 0:00:02\n",
      "   --------------- ------------------------ 5.6/14.3 MB 8.5 MB/s eta 0:00:02\n",
      "   ----------------- ---------------------- 6.4/14.3 MB 9.1 MB/s eta 0:00:01\n",
      "   ------------------- -------------------- 7.1/14.3 MB 9.4 MB/s eta 0:00:01\n",
      "   ---------------------- ----------------- 7.9/14.3 MB 9.7 MB/s eta 0:00:01\n",
      "   ------------------------ --------------- 8.7/14.3 MB 10.1 MB/s eta 0:00:01\n",
      "   -------------------------- ------------- 9.4/14.3 MB 10.4 MB/s eta 0:00:01\n",
      "   --------------------------- ------------ 10.0/14.3 MB 10.5 MB/s eta 0:00:01\n",
      "   ---------------------------- ----------- 10.4/14.3 MB 10.9 MB/s eta 0:00:01\n",
      "   ---------------------------- ----------- 10.4/14.3 MB 10.9 MB/s eta 0:00:01\n",
      "   ----------------------------- ---------- 10.4/14.3 MB 9.6 MB/s eta 0:00:01\n",
      "   ----------------------------- ---------- 10.4/14.3 MB 9.6 MB/s eta 0:00:01\n",
      "   ----------------------------- ---------- 10.5/14.3 MB 8.8 MB/s eta 0:00:01\n",
      "   ----------------------------- ---------- 10.6/14.3 MB 8.8 MB/s eta 0:00:01\n",
      "   ------------------------------ --------- 11.0/14.3 MB 8.7 MB/s eta 0:00:01\n",
      "   ------------------------------- -------- 11.2/14.3 MB 8.5 MB/s eta 0:00:01\n",
      "   ------------------------------- -------- 11.4/14.3 MB 8.3 MB/s eta 0:00:01\n",
      "   -------------------------------- ------- 11.5/14.3 MB 8.1 MB/s eta 0:00:01\n",
      "   -------------------------------- ------- 11.6/14.3 MB 7.8 MB/s eta 0:00:01\n",
      "   --------------------------------- ------ 11.8/14.3 MB 7.7 MB/s eta 0:00:01\n",
      "   --------------------------------- ------ 11.9/14.3 MB 7.4 MB/s eta 0:00:01\n",
      "   --------------------------------- ------ 11.9/14.3 MB 7.1 MB/s eta 0:00:01\n",
      "   --------------------------------- ------ 12.1/14.3 MB 7.1 MB/s eta 0:00:01\n",
      "   ---------------------------------- ----- 12.3/14.3 MB 7.0 MB/s eta 0:00:01\n",
      "   ---------------------------------- ----- 12.5/14.3 MB 6.8 MB/s eta 0:00:01\n",
      "   ----------------------------------- ---- 12.6/14.3 MB 6.8 MB/s eta 0:00:01\n",
      "   ----------------------------------- ---- 12.8/14.3 MB 6.6 MB/s eta 0:00:01\n",
      "   ------------------------------------ --- 12.9/14.3 MB 6.6 MB/s eta 0:00:01\n",
      "   ------------------------------------- -- 13.4/14.3 MB 6.5 MB/s eta 0:00:01\n",
      "   -------------------------------------- - 13.7/14.3 MB 6.4 MB/s eta 0:00:01\n",
      "   -------------------------------------- - 14.0/14.3 MB 6.2 MB/s eta 0:00:01\n",
      "   ---------------------------------------  14.2/14.3 MB 6.2 MB/s eta 0:00:01\n",
      "   ---------------------------------------  14.3/14.3 MB 6.1 MB/s eta 0:00:01\n",
      "   ---------------------------------------  14.3/14.3 MB 6.1 MB/s eta 0:00:01\n",
      "   ---------------------------------------- 14.3/14.3 MB 5.8 MB/s eta 0:00:00\n",
      "Installing collected packages: mysql-connector-python\n",
      "Successfully installed mysql-connector-python-9.0.0\n"
     ]
    }
   ],
   "source": [
    "! pip install mysql\n",
    "! pip install mysql-connector-python"
   ]
  },
  {
   "cell_type": "code",
   "execution_count": 4,
   "metadata": {},
   "outputs": [
    {
     "name": "stdout",
     "output_type": "stream",
     "text": [
      "Requirement already satisfied: pymysql in c:\\users\\joshi.aayush\\appdata\\local\\programs\\python\\python312\\lib\\site-packages (1.1.1)\n",
      "Collecting sqlalchemy\n",
      "  Downloading SQLAlchemy-2.0.31-cp312-cp312-win_amd64.whl.metadata (9.9 kB)\n",
      "Requirement already satisfied: typing-extensions>=4.6.0 in c:\\users\\joshi.aayush\\appdata\\local\\programs\\python\\python312\\lib\\site-packages (from sqlalchemy) (4.12.1)\n",
      "Collecting greenlet!=0.4.17 (from sqlalchemy)\n",
      "  Downloading greenlet-3.0.3-cp312-cp312-win_amd64.whl.metadata (3.9 kB)\n",
      "Downloading SQLAlchemy-2.0.31-cp312-cp312-win_amd64.whl (2.1 MB)\n",
      "   ---------------------------------------- 0.0/2.1 MB ? eta -:--:--\n",
      "   - -------------------------------------- 0.1/2.1 MB 2.3 MB/s eta 0:00:01\n",
      "   ---- ----------------------------------- 0.2/2.1 MB 2.8 MB/s eta 0:00:01\n",
      "   ----------- ---------------------------- 0.6/2.1 MB 4.6 MB/s eta 0:00:01\n",
      "   ------------------------- -------------- 1.3/2.1 MB 7.6 MB/s eta 0:00:01\n",
      "   ---------------------------------------  2.1/2.1 MB 8.8 MB/s eta 0:00:01\n",
      "   ---------------------------------------- 2.1/2.1 MB 7.8 MB/s eta 0:00:00\n",
      "Downloading greenlet-3.0.3-cp312-cp312-win_amd64.whl (293 kB)\n",
      "   ---------------------------------------- 0.0/293.6 kB ? eta -:--:--\n",
      "   ---------------------------------------- 293.6/293.6 kB 8.9 MB/s eta 0:00:00\n",
      "Installing collected packages: greenlet, sqlalchemy\n",
      "Successfully installed greenlet-3.0.3 sqlalchemy-2.0.31\n"
     ]
    }
   ],
   "source": [
    "! pip install pymysql\n",
    "! pip install sqlalchemy"
   ]
  },
  {
   "cell_type": "code",
   "execution_count": null,
   "metadata": {},
   "outputs": [],
   "source": []
  }
 ],
 "metadata": {
  "kernelspec": {
   "display_name": ".venv",
   "language": "python",
   "name": "python3"
  },
  "language_info": {
   "codemirror_mode": {
    "name": "ipython",
    "version": 3
   },
   "file_extension": ".py",
   "mimetype": "text/x-python",
   "name": "python",
   "nbconvert_exporter": "python",
   "pygments_lexer": "ipython3",
   "version": "3.12.3"
  }
 },
 "nbformat": 4,
 "nbformat_minor": 2
}
