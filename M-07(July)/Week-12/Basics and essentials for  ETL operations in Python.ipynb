{
 "cells": [
  {
   "cell_type": "markdown",
   "metadata": {},
   "source": [
    "# Excercise:"
   ]
  },
  {
   "cell_type": "code",
   "execution_count": 1,
   "metadata": {},
   "outputs": [
    {
     "name": "stdout",
     "output_type": "stream",
     "text": [
      "Requirement already satisfied: pandas in d:\\python_training\\m-07(july)\\week-12\\.venv\\lib\\site-packages (2.2.2)\n",
      "Requirement already satisfied: numpy>=1.26.0 in d:\\python_training\\m-07(july)\\week-12\\.venv\\lib\\site-packages (from pandas) (2.0.1)\n",
      "Requirement already satisfied: python-dateutil>=2.8.2 in d:\\python_training\\m-07(july)\\week-12\\.venv\\lib\\site-packages (from pandas) (2.9.0.post0)\n",
      "Requirement already satisfied: pytz>=2020.1 in d:\\python_training\\m-07(july)\\week-12\\.venv\\lib\\site-packages (from pandas) (2024.1)\n",
      "Requirement already satisfied: tzdata>=2022.7 in d:\\python_training\\m-07(july)\\week-12\\.venv\\lib\\site-packages (from pandas) (2024.1)\n",
      "Requirement already satisfied: six>=1.5 in d:\\python_training\\m-07(july)\\week-12\\.venv\\lib\\site-packages (from python-dateutil>=2.8.2->pandas) (1.16.0)\n",
      "Requirement already satisfied: sqlalchemy in d:\\python_training\\m-07(july)\\week-12\\.venv\\lib\\site-packages (2.0.31)\n",
      "Requirement already satisfied: typing-extensions>=4.6.0 in d:\\python_training\\m-07(july)\\week-12\\.venv\\lib\\site-packages (from sqlalchemy) (4.12.2)\n",
      "Requirement already satisfied: greenlet!=0.4.17 in d:\\python_training\\m-07(july)\\week-12\\.venv\\lib\\site-packages (from sqlalchemy) (3.0.3)\n"
     ]
    }
   ],
   "source": [
    "! pip install pandas\n",
    "! pip install sqlalchemy"
   ]
  },
  {
   "cell_type": "markdown",
   "metadata": {},
   "source": [
    "## Query HR Database in Python and get the desired result set and save it in new table in DB"
   ]
  },
  {
   "cell_type": "code",
   "execution_count": 13,
   "metadata": {},
   "outputs": [],
   "source": [
    "import pandas as pd\n",
    "from sqlalchemy import create_engine\n",
    "\n",
    "username = 'root'\n",
    "password = 'root'\n",
    "host = 'localhost'\n",
    "database = 'hr'\n",
    "connection_string = f\"mysql+pymysql://{username}:{password}@{host}/{database}\"\n",
    "\n",
    "engine = create_engine(connection_string)\n",
    "query = \"SELECT * FROM employees\"\n",
    "\n",
    "df = pd.read_sql_query(query, engine)"
   ]
  },
  {
   "cell_type": "markdown",
   "metadata": {},
   "source": [
    "### Provide the names of all the employees whose salary is less than 6000"
   ]
  },
  {
   "cell_type": "code",
   "execution_count": 14,
   "metadata": {},
   "outputs": [
    {
     "data": {
      "text/plain": [
       "50"
      ]
     },
     "execution_count": 14,
     "metadata": {},
     "output_type": "execute_result"
    }
   ],
   "source": [
    "query = \"SELECT first_name, last_name FROM employees WHERE salary < 6000;\"\n",
    "\n",
    "df = pd.read_sql_query(query, engine)\n",
    "df.to_sql(name='less_than_6000', con=engine, if_exists='replace', index=False)"
   ]
  },
  {
   "cell_type": "markdown",
   "metadata": {},
   "source": [
    "### Findthe number of IT-Programmers whose salary is greater than 5000."
   ]
  },
  {
   "cell_type": "code",
   "execution_count": 15,
   "metadata": {},
   "outputs": [
    {
     "data": {
      "text/plain": [
       "1"
      ]
     },
     "execution_count": 15,
     "metadata": {},
     "output_type": "execute_result"
    }
   ],
   "source": [
    "query = \"SELECT COUNT(*) FROM employees WHERE job_id = 'IT_PROG' AND salary > 5000\"\n",
    "\n",
    "df = pd.read_sql_query(query, engine)\n",
    "df.to_sql(name='greater_than_500_itprog', con=engine, if_exists='replace', index=False)"
   ]
  },
  {
   "cell_type": "markdown",
   "metadata": {},
   "source": [
    "### Increase the salary of employees whose annualy salary is between 16000 and 25000 by 50%."
   ]
  },
  {
   "cell_type": "code",
   "execution_count": 16,
   "metadata": {},
   "outputs": [],
   "source": [
    "from sqlalchemy import text\n",
    "\n",
    "query = text(\"UPDATE employees SET salary = salary * 1.5 WHERE salary BETWEEN 16000 AND 25000\")\n",
    "with engine.connect() as conn:\n",
    "    conn.execute(query)"
   ]
  },
  {
   "cell_type": "markdown",
   "metadata": {},
   "source": [
    "### Provide thefullname of employees who don’t get comission."
   ]
  },
  {
   "cell_type": "code",
   "execution_count": 18,
   "metadata": {},
   "outputs": [
    {
     "data": {
      "text/plain": [
       "72"
      ]
     },
     "execution_count": 18,
     "metadata": {},
     "output_type": "execute_result"
    }
   ],
   "source": [
    "query = \"SELECT first_name, last_name FROM employees WHERE commission_pct IS NULL\"\n",
    "\n",
    "df = pd.read_sql_query(query, engine)\n",
    "df.to_sql(name='dont_get_commission', con=engine, if_exists='replace', index=False)"
   ]
  },
  {
   "cell_type": "markdown",
   "metadata": {},
   "source": [
    "### Analyze the salary vs experience level."
   ]
  },
  {
   "cell_type": "code",
   "execution_count": 21,
   "metadata": {},
   "outputs": [
    {
     "data": {
      "text/plain": [
       "12"
      ]
     },
     "execution_count": 21,
     "metadata": {},
     "output_type": "execute_result"
    }
   ],
   "source": [
    "query = \"\"\"SELECT \n",
    "  TIMESTAMPDIFF(YEAR, hire_date, CURRENT_DATE) AS experience_level,\n",
    "  AVG(salary) AS average_salary\n",
    "FROM \n",
    "  employees\n",
    "GROUP BY \n",
    "  TIMESTAMPDIFF(YEAR, hire_date, CURRENT_DATE)\n",
    "ORDER BY \n",
    "  experience_level;\"\"\"\n",
    "\n",
    "df = pd.read_sql_query(query, engine)\n",
    "df.to_sql(name='sal_vs_exp', con=engine, if_exists='replace', index=False)"
   ]
  }
 ],
 "metadata": {
  "kernelspec": {
   "display_name": "Python 3 (ipykernel)",
   "language": "python",
   "name": "python3"
  },
  "language_info": {
   "codemirror_mode": {
    "name": "ipython",
    "version": 3
   },
   "file_extension": ".py",
   "mimetype": "text/x-python",
   "name": "python",
   "nbconvert_exporter": "python",
   "pygments_lexer": "ipython3",
   "version": "3.12.3"
  }
 },
 "nbformat": 4,
 "nbformat_minor": 4
}
