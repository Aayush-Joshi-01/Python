{
 "cells": [
  {
   "cell_type": "code",
   "execution_count": 1,
   "metadata": {},
   "outputs": [
    {
     "name": "stdout",
     "output_type": "stream",
     "text": [
      "Requirement already satisfied: numpy in /home/user/Python_Training/.venv/lib/python3.11/site-packages (2.0.0)\n"
     ]
    }
   ],
   "source": [
    "! pip install numpy"
   ]
  },
  {
   "cell_type": "code",
   "execution_count": 2,
   "metadata": {},
   "outputs": [],
   "source": [
    "import numpy as np"
   ]
  },
  {
   "cell_type": "markdown",
   "metadata": {},
   "source": [
    "# Numpy Data Type Practice\n",
    "\n",
    "- Create a 1D array of integers from 1 to 5 with data type int32.\n",
    "\n",
    "- Create a 2D array of shape (3, 3) with data type float64 where all elements are zero.\n",
    "\n",
    "- Create a 3D array of shape (2, 2, 2) with random integers between 0 and 100 with data type int8.\n",
    "\n",
    "- Convert a 1D array of integers to an array of floats.\n",
    "\n",
    "- Create a 2D array of shape (2, 3) with data type float32 and then convert it to int32.\n"
   ]
  },
  {
   "cell_type": "code",
   "execution_count": 3,
   "metadata": {},
   "outputs": [
    {
     "data": {
      "text/plain": [
       "array([1, 2, 3, 4, 5], dtype=int32)"
      ]
     },
     "execution_count": 3,
     "metadata": {},
     "output_type": "execute_result"
    }
   ],
   "source": [
    "arr = np.arange(1,6,dtype=np.int32)\n",
    "arr"
   ]
  },
  {
   "cell_type": "code",
   "execution_count": 4,
   "metadata": {},
   "outputs": [
    {
     "data": {
      "text/plain": [
       "array([[0., 0., 0.],\n",
       "       [0., 0., 0.],\n",
       "       [0., 0., 0.]])"
      ]
     },
     "execution_count": 4,
     "metadata": {},
     "output_type": "execute_result"
    }
   ],
   "source": [
    "arr = np.zeros((3, 3), dtype=np.float64)\n",
    "arr"
   ]
  },
  {
   "cell_type": "code",
   "execution_count": 5,
   "metadata": {},
   "outputs": [
    {
     "data": {
      "text/plain": [
       "array([[[39, 86],\n",
       "        [99, 65]],\n",
       "\n",
       "       [[44, 21],\n",
       "        [75, 81]]], dtype=int8)"
      ]
     },
     "execution_count": 5,
     "metadata": {},
     "output_type": "execute_result"
    }
   ],
   "source": [
    "arr = np.random.randint(0, 100, size=(2, 2, 2), dtype=np.int8)\n",
    "arr"
   ]
  },
  {
   "cell_type": "code",
   "execution_count": 6,
   "metadata": {},
   "outputs": [
    {
     "data": {
      "text/plain": [
       "array([[0, 0],\n",
       "       [0, 0]], dtype=int8)"
      ]
     },
     "execution_count": 6,
     "metadata": {},
     "output_type": "execute_result"
    }
   ],
   "source": [
    "arr_int = np.zeros((2,2),dtype=np.int8)\n",
    "arr_int"
   ]
  },
  {
   "cell_type": "code",
   "execution_count": 7,
   "metadata": {},
   "outputs": [
    {
     "data": {
      "text/plain": [
       "array([[0., 0.],\n",
       "       [0., 0.]], dtype=float32)"
      ]
     },
     "execution_count": 7,
     "metadata": {},
     "output_type": "execute_result"
    }
   ],
   "source": [
    "arr_float = arr_int.astype(np.float32)\n",
    "arr_float"
   ]
  },
  {
   "cell_type": "code",
   "execution_count": 8,
   "metadata": {},
   "outputs": [
    {
     "data": {
      "text/plain": [
       "array([[1, 2, 3],\n",
       "       [4, 5, 6]], dtype=int32)"
      ]
     },
     "execution_count": 8,
     "metadata": {},
     "output_type": "execute_result"
    }
   ],
   "source": [
    "arr_float32 = np.array([[1.87, 2.9, 3.07], [4.5, 5.3, 6.06]], dtype=np.float32)\n",
    "arr_int32 = arr_float32.astype(np.int32)\n",
    "arr_int32\n"
   ]
  },
  {
   "cell_type": "markdown",
   "metadata": {},
   "source": [
    "# Numpy 3-D Array Practice\n",
    "- Create a 3D array of shape (4, 3, 2) with all elements initialized to zero.\n",
    "\n",
    "- Create a 3D array of shape (2, 5, 4) with all elements initialized to one.\n",
    "\n",
    "- Create a 3D array of shape (3, 3, 3) with random integers between 10 and 20."
   ]
  },
  {
   "cell_type": "code",
   "execution_count": 9,
   "metadata": {},
   "outputs": [
    {
     "data": {
      "text/plain": [
       "array([[[0., 0.],\n",
       "        [0., 0.],\n",
       "        [0., 0.]],\n",
       "\n",
       "       [[0., 0.],\n",
       "        [0., 0.],\n",
       "        [0., 0.]],\n",
       "\n",
       "       [[0., 0.],\n",
       "        [0., 0.],\n",
       "        [0., 0.]],\n",
       "\n",
       "       [[0., 0.],\n",
       "        [0., 0.],\n",
       "        [0., 0.]]])"
      ]
     },
     "execution_count": 9,
     "metadata": {},
     "output_type": "execute_result"
    }
   ],
   "source": [
    "arr = np.zeros((4, 3, 2))\n",
    "arr"
   ]
  },
  {
   "cell_type": "code",
   "execution_count": 10,
   "metadata": {},
   "outputs": [
    {
     "data": {
      "text/plain": [
       "array([[[1., 1., 1., 1.],\n",
       "        [1., 1., 1., 1.],\n",
       "        [1., 1., 1., 1.],\n",
       "        [1., 1., 1., 1.],\n",
       "        [1., 1., 1., 1.]],\n",
       "\n",
       "       [[1., 1., 1., 1.],\n",
       "        [1., 1., 1., 1.],\n",
       "        [1., 1., 1., 1.],\n",
       "        [1., 1., 1., 1.],\n",
       "        [1., 1., 1., 1.]]])"
      ]
     },
     "execution_count": 10,
     "metadata": {},
     "output_type": "execute_result"
    }
   ],
   "source": [
    "arr = np.ones((2, 5, 4))\n",
    "arr"
   ]
  },
  {
   "cell_type": "code",
   "execution_count": 11,
   "metadata": {},
   "outputs": [
    {
     "data": {
      "text/plain": [
       "array([[[17, 12, 16],\n",
       "        [19, 15, 13],\n",
       "        [14, 10, 19]],\n",
       "\n",
       "       [[15, 10, 18],\n",
       "        [16, 13, 10],\n",
       "        [19, 15, 16]],\n",
       "\n",
       "       [[14, 12, 15],\n",
       "        [17, 14, 11],\n",
       "        [17, 17, 12]]], dtype=int32)"
      ]
     },
     "execution_count": 11,
     "metadata": {},
     "output_type": "execute_result"
    }
   ],
   "source": [
    "arr = np.random.randint(10, 20, size=(3,3,3), dtype=np.int32)\n",
    "arr"
   ]
  },
  {
   "cell_type": "markdown",
   "metadata": {},
   "source": [
    "1. Create a 3D array of dimensions 3x3x3 with all elements initialized to zero.\n",
    "\n",
    "   ```python\n",
    "   array_3d = np.zeros((3, 3, 3), dtype=int)\n",
    "   ```\n",
    "\n",
    "   Optionally, initialize with some values for practice:\n",
    "\n",
    "   ```python\n",
    "   array_3d = np.array([[[ 1,  2,  3], [ 4,  5,  6], [ 7,  8,  9]],\n",
    "                        [[10, 11, 12], [13, 14, 15], [16, 17, 18]],\n",
    "                        [[19, 20, 21], [22, 23, 24], [25, 26, 27]]])\n",
    "   ```\n",
    "\n",
    "   Iterate over all elements in the 3D array."
   ]
  },
  {
   "cell_type": "code",
   "execution_count": 23,
   "metadata": {},
   "outputs": [
    {
     "data": {
      "text/plain": [
       "array([[[0, 0, 0],\n",
       "        [0, 0, 0],\n",
       "        [0, 0, 0]],\n",
       "\n",
       "       [[0, 0, 0],\n",
       "        [0, 0, 0],\n",
       "        [0, 0, 0]],\n",
       "\n",
       "       [[0, 0, 0],\n",
       "        [0, 0, 0],\n",
       "        [0, 0, 0]]])"
      ]
     },
     "execution_count": 23,
     "metadata": {},
     "output_type": "execute_result"
    }
   ],
   "source": [
    "array_3d = np.zeros((3, 3, 3), dtype=int)\n",
    "array_3d"
   ]
  },
  {
   "cell_type": "code",
   "execution_count": 24,
   "metadata": {},
   "outputs": [
    {
     "data": {
      "text/plain": [
       "array([[[ 1,  2,  3],\n",
       "        [ 4,  5,  6],\n",
       "        [ 7,  8,  9]],\n",
       "\n",
       "       [[10, 11, 12],\n",
       "        [13, 14, 15],\n",
       "        [16, 17, 18]],\n",
       "\n",
       "       [[19, 20, 21],\n",
       "        [22, 23, 24],\n",
       "        [25, 26, 27]]])"
      ]
     },
     "execution_count": 24,
     "metadata": {},
     "output_type": "execute_result"
    }
   ],
   "source": [
    "array_3d = np.array([[[ 1,  2,  3], [ 4,  5,  6], [ 7,  8,  9]],\n",
    "                        [[10, 11, 12], [13, 14, 15], [16, 17, 18]],\n",
    "                        [[19, 20, 21], [22, 23, 24], [25, 26, 27]]])\n",
    "array_3d"
   ]
  },
  {
   "cell_type": "code",
   "execution_count": 13,
   "metadata": {},
   "outputs": [
    {
     "name": "stdout",
     "output_type": "stream",
     "text": [
      "1 2 3  \n",
      "4 5 6  \n",
      "7 8 9  \n",
      " \n",
      "10 11 12  \n",
      "13 14 15  \n",
      "16 17 18  \n",
      " \n",
      "19 20 21  \n",
      "22 23 24  \n",
      "25 26 27  \n",
      " \n"
     ]
    }
   ],
   "source": [
    "for i in range(3):\n",
    "    for j in range(3):\n",
    "        for k in range(3):\n",
    "            print(array_3d[i][j][k], end=' ')\n",
    "        print(\" \")\n",
    "    print(\" \")"
   ]
  },
  {
   "cell_type": "markdown",
   "metadata": {},
   "source": [
    "2. Create a 3D array of shape (3, 4, 5) filled with random integers between 0 and 20, and print the array.\n",
    "\n",
    "   - Access and print the element at position (2, 3, 4) in the 3D array created above.\n",
    "\n",
    "   - Access and print the entire first row of the second matrix (i.e., when the first-dimension index is 1).\n",
    "\n",
    "   - Add 5 to each element in the 3D array and print the result.\n",
    "\n",
    "   - Multiply each element in the 3D array by 2 and print the result.\n",
    "\n",
    "   - Calculate and print the sum of all elements in the 3D array.\n",
    "\n",
    "   - Calculate and print the mean of the elements along the second axis.\n",
    "\n",
    "   - Create a new array containing only the elements from the original 3D array that are greater than 10.\n",
    "\n",
    "   - Replace all elements in the 3D array that are less than 10 with the value 0 and print the modified array."
   ]
  },
  {
   "cell_type": "code",
   "execution_count": 14,
   "metadata": {},
   "outputs": [
    {
     "data": {
      "text/plain": [
       "array([[[ 7, 16,  3, 11,  9],\n",
       "        [ 0,  5,  0, 17,  8],\n",
       "        [ 0, 13,  8, 12,  1],\n",
       "        [ 1, 19, 10,  2,  7]],\n",
       "\n",
       "       [[ 0, 15, 12,  3,  7],\n",
       "        [10,  2,  9,  4,  2],\n",
       "        [ 4, 11, 18, 17,  6],\n",
       "        [ 7,  1,  8,  8, 15]],\n",
       "\n",
       "       [[ 5,  5,  5, 14,  8],\n",
       "        [14, 18,  7, 18,  6],\n",
       "        [ 2,  8, 17,  2, 18],\n",
       "        [ 7,  1,  9, 19,  5]]], dtype=int32)"
      ]
     },
     "execution_count": 14,
     "metadata": {},
     "output_type": "execute_result"
    }
   ],
   "source": [
    "arr = np.random.randint(0, 20, size=(3, 4, 5), dtype=np.int32)\n",
    "arr"
   ]
  },
  {
   "cell_type": "code",
   "execution_count": 15,
   "metadata": {},
   "outputs": [
    {
     "data": {
      "text/plain": [
       "np.int32(5)"
      ]
     },
     "execution_count": 15,
     "metadata": {},
     "output_type": "execute_result"
    }
   ],
   "source": [
    "arr[2, 3, 4]"
   ]
  },
  {
   "cell_type": "code",
   "execution_count": 16,
   "metadata": {},
   "outputs": [
    {
     "data": {
      "text/plain": [
       "array([ 0, 15, 12,  3,  7], dtype=int32)"
      ]
     },
     "execution_count": 16,
     "metadata": {},
     "output_type": "execute_result"
    }
   ],
   "source": [
    "arr[1,0]"
   ]
  },
  {
   "cell_type": "code",
   "execution_count": 17,
   "metadata": {},
   "outputs": [
    {
     "data": {
      "text/plain": [
       "array([[[12, 21,  8, 16, 14],\n",
       "        [ 5, 10,  5, 22, 13],\n",
       "        [ 5, 18, 13, 17,  6],\n",
       "        [ 6, 24, 15,  7, 12]],\n",
       "\n",
       "       [[ 5, 20, 17,  8, 12],\n",
       "        [15,  7, 14,  9,  7],\n",
       "        [ 9, 16, 23, 22, 11],\n",
       "        [12,  6, 13, 13, 20]],\n",
       "\n",
       "       [[10, 10, 10, 19, 13],\n",
       "        [19, 23, 12, 23, 11],\n",
       "        [ 7, 13, 22,  7, 23],\n",
       "        [12,  6, 14, 24, 10]]], dtype=int32)"
      ]
     },
     "execution_count": 17,
     "metadata": {},
     "output_type": "execute_result"
    }
   ],
   "source": [
    "arr_add = arr + 5\n",
    "arr_add"
   ]
  },
  {
   "cell_type": "code",
   "execution_count": 18,
   "metadata": {},
   "outputs": [
    {
     "data": {
      "text/plain": [
       "array([[[14, 32,  6, 22, 18],\n",
       "        [ 0, 10,  0, 34, 16],\n",
       "        [ 0, 26, 16, 24,  2],\n",
       "        [ 2, 38, 20,  4, 14]],\n",
       "\n",
       "       [[ 0, 30, 24,  6, 14],\n",
       "        [20,  4, 18,  8,  4],\n",
       "        [ 8, 22, 36, 34, 12],\n",
       "        [14,  2, 16, 16, 30]],\n",
       "\n",
       "       [[10, 10, 10, 28, 16],\n",
       "        [28, 36, 14, 36, 12],\n",
       "        [ 4, 16, 34,  4, 36],\n",
       "        [14,  2, 18, 38, 10]]], dtype=int32)"
      ]
     },
     "execution_count": 18,
     "metadata": {},
     "output_type": "execute_result"
    }
   ],
   "source": [
    "arr_mul = arr * 2\n",
    "arr_mul"
   ]
  },
  {
   "cell_type": "code",
   "execution_count": 19,
   "metadata": {},
   "outputs": [
    {
     "data": {
      "text/plain": [
       "np.int64(496)"
      ]
     },
     "execution_count": 19,
     "metadata": {},
     "output_type": "execute_result"
    }
   ],
   "source": [
    "np.sum(arr)"
   ]
  },
  {
   "cell_type": "code",
   "execution_count": 20,
   "metadata": {},
   "outputs": [
    {
     "name": "stdout",
     "output_type": "stream",
     "text": [
      "[[ 2.   13.25  5.25 10.5   6.25]\n",
      " [ 5.25  7.25 11.75  8.    7.5 ]\n",
      " [ 7.    8.    9.5  13.25  9.25]]\n"
     ]
    }
   ],
   "source": [
    "print(arr.mean(axis=1))"
   ]
  },
  {
   "cell_type": "code",
   "execution_count": 21,
   "metadata": {},
   "outputs": [
    {
     "data": {
      "text/plain": [
       "array([16, 11, 17, 13, 12, 19, 15, 12, 11, 18, 17, 15, 14, 14, 18, 18, 17,\n",
       "       18, 19], dtype=int32)"
      ]
     },
     "execution_count": 21,
     "metadata": {},
     "output_type": "execute_result"
    }
   ],
   "source": [
    "new_array = arr[arr > 10]\n",
    "new_array"
   ]
  },
  {
   "cell_type": "code",
   "execution_count": 22,
   "metadata": {},
   "outputs": [
    {
     "data": {
      "text/plain": [
       "array([[[ 0, 16,  0, 11,  0],\n",
       "        [ 0,  0,  0, 17,  0],\n",
       "        [ 0, 13,  0, 12,  0],\n",
       "        [ 0, 19, 10,  0,  0]],\n",
       "\n",
       "       [[ 0, 15, 12,  0,  0],\n",
       "        [10,  0,  0,  0,  0],\n",
       "        [ 0, 11, 18, 17,  0],\n",
       "        [ 0,  0,  0,  0, 15]],\n",
       "\n",
       "       [[ 0,  0,  0, 14,  0],\n",
       "        [14, 18,  0, 18,  0],\n",
       "        [ 0,  0, 17,  0, 18],\n",
       "        [ 0,  0,  0, 19,  0]]], dtype=int32)"
      ]
     },
     "execution_count": 22,
     "metadata": {},
     "output_type": "execute_result"
    }
   ],
   "source": [
    "arr[arr < 10] = 0\n",
    "arr"
   ]
  }
 ],
 "metadata": {
  "kernelspec": {
   "display_name": ".venv",
   "language": "python",
   "name": "python3"
  },
  "language_info": {
   "codemirror_mode": {
    "name": "ipython",
    "version": 3
   },
   "file_extension": ".py",
   "mimetype": "text/x-python",
   "name": "python",
   "nbconvert_exporter": "python",
   "pygments_lexer": "ipython3",
   "version": "3.11.8"
  }
 },
 "nbformat": 4,
 "nbformat_minor": 2
}
