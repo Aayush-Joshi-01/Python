{
 "cells": [
  {
   "cell_type": "code",
   "execution_count": 1,
   "metadata": {},
   "outputs": [],
   "source": [
    "import pandas as pd"
   ]
  },
  {
   "cell_type": "code",
   "execution_count": 2,
   "metadata": {},
   "outputs": [
    {
     "name": "stdout",
     "output_type": "stream",
     "text": [
      "Requirement already satisfied: tqdm in /home/user/Python_Training/.venv/lib/python3.11/site-packages (4.66.4)\n"
     ]
    }
   ],
   "source": [
    "! pip install tqdm"
   ]
  },
  {
   "cell_type": "code",
   "execution_count": 5,
   "metadata": {},
   "outputs": [],
   "source": [
    "import pandas as pd\n",
    "from tqdm import tqdm\n",
    "\n",
    "class DataLoader:\n",
    "    def __init__(self, file_path='/home/user/Python_Training/Assets/Data/fitness_tracker_dataset.csv'):\n",
    "        self.file_path = file_path\n",
    "\n",
    "    def load_data(self):\n",
    "        try:\n",
    "            # Get the number of rows in the file\n",
    "            with open(self.file_path, 'r') as f:\n",
    "                total_rows = sum(1 for line in f) - 1  # Subtract 1 for header\n",
    "\n",
    "            # Load CSV into pandas DataFrame with progress bar\n",
    "            df = pd.read_csv(self.file_path, chunksize=1000)  # Adjust chunksize as needed\n",
    "            chunks = []\n",
    "            for chunk in tqdm(df, total=total_rows // 1000, desc=\"Loading data\"):  # Adjust total based on chunksize\n",
    "                chunks.append(chunk)\n",
    "\n",
    "            df = pd.concat(chunks, ignore_index=True)\n",
    "            print(f\"Data loaded successfully from {self.file_path}\")\n",
    "            return df\n",
    "\n",
    "        except FileNotFoundError:\n",
    "            print(f\"Error: File not found at {self.file_path}\")\n",
    "            return None\n",
    "        except Exception as e:\n",
    "            print(f\"Error loading data: {str(e)}\")\n",
    "            return None\n"
   ]
  },
  {
   "cell_type": "code",
   "execution_count": 6,
   "metadata": {},
   "outputs": [
    {
     "name": "stderr",
     "output_type": "stream",
     "text": [
      "Loading data: 100%|██████████| 1000/1000 [00:03<00:00, 317.85it/s]\n"
     ]
    },
    {
     "name": "stdout",
     "output_type": "stream",
     "text": [
      "Data loaded successfully from /home/user/Python_Training/Assets/Data/fitness_tracker_dataset.csv\n",
      "   user_id        date  steps  calories_burned  distance_km  active_minutes  \\\n",
      "0      468  2023-01-01   4530          2543.02        16.10             613   \n",
      "1      879  2023-01-01  11613          1720.76         8.10             352   \n",
      "2      152  2023-01-01  27335          1706.35         3.57             236   \n",
      "3      311  2023-01-01  13459          2912.38         6.41            1329   \n",
      "4      759  2023-01-01  15378          3344.51        17.88              52   \n",
      "\n",
      "   sleep_hours  heart_rate_avg workout_type weather_conditions location  \\\n",
      "0          1.5             176      Walking              Clear     Park   \n",
      "1          6.3             128      Cycling                Fog     Park   \n",
      "2          6.7             134         Yoga               Snow     Park   \n",
      "3         11.6             116     Swimming               Rain   Office   \n",
      "4          7.4              84     Swimming               Rain   Office   \n",
      "\n",
      "      mood  \n",
      "0    Tired  \n",
      "1    Happy  \n",
      "2  Neutral  \n",
      "3    Tired  \n",
      "4  Neutral  \n",
      "        user_id        date  steps  calories_burned  distance_km  \\\n",
      "999995      294  2025-09-26  21883          1711.42         4.62   \n",
      "999996      114  2025-09-26  15451          3961.63         1.93   \n",
      "999997       85  2025-09-26  17912          3604.77         5.81   \n",
      "999998      109  2025-09-26  10072          2724.34         7.42   \n",
      "999999      893  2025-09-26  29516          3713.99         6.70   \n",
      "\n",
      "        active_minutes  sleep_hours  heart_rate_avg workout_type  \\\n",
      "999995             124          7.9             174      Running   \n",
      "999996            1316          7.4             161      Cycling   \n",
      "999997             187          7.1              74     Swimming   \n",
      "999998            1203          6.0              74     Swimming   \n",
      "999999             421          5.2             116         Yoga   \n",
      "\n",
      "       weather_conditions location     mood  \n",
      "999995                Fog    Other    Tired  \n",
      "999996              Clear     Park    Tired  \n",
      "999997                Fog      Gym  Neutral  \n",
      "999998               Snow      Gym    Tired  \n",
      "999999              Clear     Home    Tired  \n"
     ]
    }
   ],
   "source": [
    "loader = DataLoader()\n",
    "data = loader.load_data()\n",
    "if data is not None:\n",
    "    print(data.head())\n",
    "    print(data.tail())"
   ]
  },
  {
   "cell_type": "code",
   "execution_count": null,
   "metadata": {},
   "outputs": [],
   "source": []
  }
 ],
 "metadata": {
  "kernelspec": {
   "display_name": ".venv",
   "language": "python",
   "name": "python3"
  },
  "language_info": {
   "codemirror_mode": {
    "name": "ipython",
    "version": 3
   },
   "file_extension": ".py",
   "mimetype": "text/x-python",
   "name": "python",
   "nbconvert_exporter": "python",
   "pygments_lexer": "ipython3",
   "version": "3.11.8"
  }
 },
 "nbformat": 4,
 "nbformat_minor": 2
}
