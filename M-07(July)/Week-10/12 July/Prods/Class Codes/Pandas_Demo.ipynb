{
 "cells": [
  {
   "cell_type": "code",
   "execution_count": 1,
   "metadata": {},
   "outputs": [],
   "source": [
    "import pandas as pd"
   ]
  },
  {
   "cell_type": "code",
   "execution_count": 2,
   "metadata": {},
   "outputs": [
    {
     "name": "stdout",
     "output_type": "stream",
     "text": [
      "Requirement already satisfied: tqdm in /home/user/Python_Training/.venv/lib/python3.11/site-packages (4.66.4)\n"
     ]
    }
   ],
   "source": [
    "! pip install tqdm"
   ]
  },
  {
   "cell_type": "code",
   "execution_count": null,
   "metadata": {},
   "outputs": [],
   "source": [
    "import pandas as pd\n",
    "from tqdm import tqdm\n",
    "\n",
    "class DataLoader:\n",
    "    def __init__(self, file_path='/home/user/Python_Training/Assets/Data/fitness_tracker_dataset.csv'):\n",
    "        self.file_path = file_path\n",
    "\n",
    "    def load_data(self):\n",
    "        try:\n",
    "            # Get the number of rows in the file\n",
    "            with open(self.file_path, 'r') as f:\n",
    "                total_rows = sum(1 for line in f) - 1  # Subtract 1 for header\n",
    "\n",
    "            # Load CSV into pandas DataFrame with progress bar\n",
    "            df = pd.read_csv(self.file_path, chunksize=100)  # Adjust chunksize as needed\n",
    "            chunks = []\n",
    "            for chunk in tqdm(df, total=total_rows // 100, desc=\"Loading data\"):  # Adjust total based on chunksize\n",
    "                chunks.append(chunk)\n",
    "\n",
    "            df = pd.concat(chunks, ignore_index=True)\n",
    "            print(f\"Data loaded successfully from {self.file_path}\")\n",
    "            return df\n",
    "\n",
    "        except FileNotFoundError:\n",
    "            print(f\"Error: File not found at {self.file_path}\")\n",
    "            return None\n",
    "        except Exception as e:\n",
    "            print(f\"Error loading data: {str(e)}\")\n",
    "            return None\n"
   ]
  },
  {
   "cell_type": "code",
   "execution_count": 2,
   "metadata": {},
   "outputs": [
    {
     "name": "stderr",
     "output_type": "stream",
     "text": [
      "Loading data: 100%|██████████| 10000/10000 [00:16<00:00, 600.10it/s]\n"
     ]
    }
   ],
   "source": [
    "loader = DataLoader()\n",
    "data = loader.load_data()\n",
    "if data is not None:\n",
    "    print(data.head())\n",
    "    print(data.tail())"
   ]
  },
  {
   "cell_type": "code",
   "execution_count": null,
   "metadata": {},
   "outputs": [],
   "source": []
  }
 ],
 "metadata": {
  "kernelspec": {
   "display_name": ".venv",
   "language": "python",
   "name": "python3"
  },
  "language_info": {
   "codemirror_mode": {
    "name": "ipython",
    "version": 3
   },
   "file_extension": ".py",
   "mimetype": "text/x-python",
   "name": "python",
   "nbconvert_exporter": "python",
   "pygments_lexer": "ipython3",
   "version": "3.12.3"
  }
 },
 "nbformat": 4,
 "nbformat_minor": 2
}
